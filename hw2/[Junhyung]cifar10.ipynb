{
  "nbformat": 4,
  "nbformat_minor": 0,
  "metadata": {
    "colab": {
      "name": "[Junhyung]cifar10.ipynb",
      "provenance": [],
      "toc_visible": true
    },
    "kernelspec": {
      "name": "python3",
      "display_name": "Python 3"
    },
    "accelerator": "GPU"
  },
  "cells": [
    {
      "cell_type": "markdown",
      "metadata": {
        "id": "67du5hoorE-C",
        "colab_type": "text"
      },
      "source": [
        "# DATASET downlaod & unzip"
      ]
    },
    {
      "cell_type": "code",
      "metadata": {
        "id": "MR-8FLqPj1lO",
        "colab_type": "code",
        "colab": {
          "base_uri": "https://localhost:8080/",
          "height": 223
        },
        "outputId": "2aea496a-e53f-4664-81f2-74e72c6f3310"
      },
      "source": [
        "!wget 'https://www.cs.toronto.edu/~kriz/cifar-10-python.tar.gz'"
      ],
      "execution_count": 72,
      "outputs": [
        {
          "output_type": "stream",
          "text": [
            "--2020-08-05 00:10:13--  https://www.cs.toronto.edu/~kriz/cifar-10-python.tar.gz\n",
            "Resolving www.cs.toronto.edu (www.cs.toronto.edu)... 128.100.3.30\n",
            "Connecting to www.cs.toronto.edu (www.cs.toronto.edu)|128.100.3.30|:443... connected.\n",
            "HTTP request sent, awaiting response... 200 OK\n",
            "Length: 170498071 (163M) [application/x-gzip]\n",
            "Saving to: ‘cifar-10-python.tar.gz.1’\n",
            "\n",
            "cifar-10-python.tar 100%[===================>] 162.60M  52.3MB/s    in 3.4s    \n",
            "\n",
            "2020-08-05 00:10:17 (47.6 MB/s) - ‘cifar-10-python.tar.gz.1’ saved [170498071/170498071]\n",
            "\n"
          ],
          "name": "stdout"
        }
      ]
    },
    {
      "cell_type": "code",
      "metadata": {
        "id": "twLcBvIhj49Y",
        "colab_type": "code",
        "colab": {}
      },
      "source": [
        " import tarfile\n",
        "\n",
        " tarfile.open('cifar-10-python.tar.gz', 'r:gz').extractall()"
      ],
      "execution_count": 73,
      "outputs": []
    },
    {
      "cell_type": "code",
      "metadata": {
        "id": "Rv3C6KHumC4E",
        "colab_type": "code",
        "colab": {}
      },
      "source": [
        "def unpickle(file):\n",
        "    import pickle\n",
        "    with open(file, 'rb') as fo:\n",
        "        dict = pickle.load(fo, encoding='bytes')\n",
        "    return dict"
      ],
      "execution_count": 74,
      "outputs": []
    },
    {
      "cell_type": "code",
      "metadata": {
        "id": "jV4h2lg_mUTV",
        "colab_type": "code",
        "colab": {}
      },
      "source": [
        "batch_meta = unpickle('cifar-10-batches-py/batches.meta')"
      ],
      "execution_count": 75,
      "outputs": []
    },
    {
      "cell_type": "code",
      "metadata": {
        "id": "SVeOKM7qmYT-",
        "colab_type": "code",
        "colab": {
          "base_uri": "https://localhost:8080/",
          "height": 36
        },
        "outputId": "702aecbb-3401-42f1-c1e3-d6ec145fe2f7"
      },
      "source": [
        "print(batch_meta.keys())"
      ],
      "execution_count": 76,
      "outputs": [
        {
          "output_type": "stream",
          "text": [
            "dict_keys([b'num_cases_per_batch', b'label_names', b'num_vis'])\n"
          ],
          "name": "stdout"
        }
      ]
    },
    {
      "cell_type": "code",
      "metadata": {
        "id": "OIdK4BrHnGdt",
        "colab_type": "code",
        "colab": {
          "base_uri": "https://localhost:8080/",
          "height": 36
        },
        "outputId": "8e865a3a-c167-43b0-b2be-5a5bc0a37a86"
      },
      "source": [
        "print(batch_meta[b'label_names'])"
      ],
      "execution_count": 77,
      "outputs": [
        {
          "output_type": "stream",
          "text": [
            "[b'airplane', b'automobile', b'bird', b'cat', b'deer', b'dog', b'frog', b'horse', b'ship', b'truck']\n"
          ],
          "name": "stdout"
        }
      ]
    },
    {
      "cell_type": "code",
      "metadata": {
        "id": "qZWdthlYneMl",
        "colab_type": "code",
        "colab": {}
      },
      "source": [
        "import os\n",
        "\n",
        "file_name = ['data_batch_1', 'data_batch_2', 'data_batch_3', 'data_batch_4', 'data_batch_5']\n",
        "label_tr = []\n",
        "img_tr = []\n",
        "data_path = 'cifar-10-batches-py'\n",
        "for i in file_name:\n",
        "    i = unpickle(os.path.join(data_path, i))\n",
        "    for a in i[b'labels']:\n",
        "        label_tr.append(a)\n",
        "    for b in i[b'data']:\n",
        "        img_tr.append(b)\n",
        "\n",
        "label_test = []\n",
        "img_test = []\n",
        "test_name = ['test_batch']\n",
        "for i in test_name:\n",
        "    i = unpickle(os.path.join(data_path, i))\n",
        "    for a in i[b'labels']:\n",
        "        label_test.append(a)\n",
        "    for b in i[b'data']:\n",
        "        img_test.append(b)"
      ],
      "execution_count": 78,
      "outputs": []
    },
    {
      "cell_type": "code",
      "metadata": {
        "id": "Vc5YQ9VVuTsk",
        "colab_type": "code",
        "colab": {
          "base_uri": "https://localhost:8080/",
          "height": 129
        },
        "outputId": "aeb2309e-9bfb-4f00-d3b6-93b227cb21c6"
      },
      "source": [
        "import random\n",
        "\n",
        "\n",
        "label_val = []\n",
        "img_val = []\n",
        "for _ in range(int(len(label_tr)*0.2)):\n",
        "    index = random.choice(range(1, len(label_tr)))\n",
        "    label_val.append(label_tr[index])\n",
        "    img_val.append(img_tr[index])\n",
        "    del label_tr[index]\n",
        "    del img_tr[index]    \n",
        "\n",
        "print(len(label_tr))\n",
        "print(len(img_tr))\n",
        "print(len(label_val))\n",
        "print(len(img_val))\n",
        "print(len(label_test))\n",
        "print(len(img_test))"
      ],
      "execution_count": 79,
      "outputs": [
        {
          "output_type": "stream",
          "text": [
            "40000\n",
            "40000\n",
            "10000\n",
            "10000\n",
            "10000\n",
            "10000\n"
          ],
          "name": "stdout"
        }
      ]
    },
    {
      "cell_type": "code",
      "metadata": {
        "id": "_dFBMy4-w6Sp",
        "colab_type": "code",
        "colab": {
          "base_uri": "https://localhost:8080/",
          "height": 55
        },
        "outputId": "4269e910-c22d-42e5-9219-c9bb50662828"
      },
      "source": [
        "print(img_tr[0].shape)\n",
        "print(type(label_tr[0]))"
      ],
      "execution_count": 80,
      "outputs": [
        {
          "output_type": "stream",
          "text": [
            "(3072,)\n",
            "<class 'int'>\n"
          ],
          "name": "stdout"
        }
      ]
    },
    {
      "cell_type": "code",
      "metadata": {
        "id": "r_OlW6c1xs0o",
        "colab_type": "code",
        "colab": {
          "base_uri": "https://localhost:8080/",
          "height": 285
        },
        "outputId": "81c8a0df-5539-40d7-b260-3a98ae881511"
      },
      "source": [
        "from matplotlib.pyplot import imshow\n",
        "from PIL import Image\n",
        "\n",
        "%matplotlib inline\n",
        "imshow(img_tr[2].reshape(3, 32, 32).transpose(1, 2, 0))"
      ],
      "execution_count": 97,
      "outputs": [
        {
          "output_type": "execute_result",
          "data": {
            "text/plain": [
              "<matplotlib.image.AxesImage at 0x7f555cc63ac8>"
            ]
          },
          "metadata": {
            "tags": []
          },
          "execution_count": 97
        },
        {
          "output_type": "display_data",
          "data": {
            "image/png": "[encoded data removed]",
            "text/plain": [
              "<Figure size 432x288 with 1 Axes>"
            ]
          },
          "metadata": {
            "tags": [],
            "needs_background": "light"
          }
        }
      ]
    },
    {
      "cell_type": "markdown",
      "metadata": {
        "id": "uvY6Nx5VtXSW",
        "colab_type": "text"
      },
      "source": [
        "# Dataset & Dataloader"
      ]
    },
    {
      "cell_type": "code",
      "metadata": {
        "id": "KuL4ZT_Qo9nt",
        "colab_type": "code",
        "colab": {}
      },
      "source": [
        "import numpy as np\n",
        "from torch.utils.data import Dataset, DataLoader\n",
        "\n",
        "class Cifar10_DataSet(Dataset):\n",
        "    def __init__(self, labels, imgs):\n",
        "        self.labels = labels\n",
        "        self.imgs = imgs\n",
        "    \n",
        "    def __len__(self):\n",
        "        return len(self.imgs)\n",
        "\n",
        "    def __getitem__(self, index):\n",
        "        img = np.asarray(self.imgs[index])\n",
        "        img = img.reshape(3, 32, 32)\n",
        "        label = np.asarray(self.labels[index])\n",
        "\n",
        "        return torch.from_numpy(img), torch.from_numpy(label)"
      ],
      "execution_count": 126,
      "outputs": []
    },
    {
      "cell_type": "code",
      "metadata": {
        "id": "6HL8ZHZs4BJl",
        "colab_type": "code",
        "colab": {}
      },
      "source": [
        "#TODO: dataset transformer & augmentation 만들기\n",
        "from torchvision.transforms import Normalize\n",
        "transforms = Normalize((0.5, 0.5, 0.5), (0.5, 0.5, 0.5))"
      ],
      "execution_count": 127,
      "outputs": []
    },
    {
      "cell_type": "code",
      "metadata": {
        "id": "tS8nwiqYq0bF",
        "colab_type": "code",
        "colab": {}
      },
      "source": [
        "dataset_tr = Cifar10_DataSet(label_tr, img_tr)\n",
        "dataset_val = Cifar10_DataSet(label_val, img_val)\n",
        "dataset_test = Cifar10_DataSet(label_test, img_test)"
      ],
      "execution_count": 128,
      "outputs": []
    },
    {
      "cell_type": "code",
      "metadata": {
        "id": "aAjYrSLVy46q",
        "colab_type": "code",
        "colab": {}
      },
      "source": [
        "tr_dataloader = DataLoader(dataset_tr, batch_size=512, shuffle=True)\n",
        "val_dataloader = DataLoader(dataset_val, batch_size=512, shuffle=True)\n",
        "test_dataloader = DataLoader(dataset_test, batch_size=512, shuffle=False)"
      ],
      "execution_count": 129,
      "outputs": []
    },
    {
      "cell_type": "markdown",
      "metadata": {
        "id": "-TMRPTmK4GQV",
        "colab_type": "text"
      },
      "source": [
        "# Model & Training"
      ]
    },
    {
      "cell_type": "code",
      "metadata": {
        "id": "MojDZVlAzAN4",
        "colab_type": "code",
        "colab": {}
      },
      "source": [
        "import torch.nn as nn\n",
        "import torch.nn.functional as F\n",
        "\n",
        "class Model(nn.Module):\n",
        "    def __init__(self):\n",
        "        super(Model, self).__init__()\n",
        "        self.conv1 = nn.Conv2d(3, 64, 5)\n",
        "        self.conv2 = nn.Conv2d(64, 64, 3)\n",
        "        self.conv3 = nn.Conv2d(64, 24, 3)\n",
        "        self.pool = nn.MaxPool2d(2, 2)\n",
        "        self.fc1 = nn.Linear(24 * 4 * 4, 10)\n",
        "\n",
        "    def forward(self, x):\n",
        "        x = self.pool(F.relu(self.conv1(x.float())))  # output = 64, 28/2, 28/2\n",
        "        x = self.pool(F.relu(self.conv2(x)))  # output = 64, 12/2, 12/2\n",
        "        x = F.relu(self.conv3(x))  # output = 24, 4, 4\n",
        "        x = x.view(-1, 24 * 4 * 4)\n",
        "        x = F.softmax(self.fc1(x), dim=1)\n",
        "        return x"
      ],
      "execution_count": 146,
      "outputs": []
    },
    {
      "cell_type": "code",
      "metadata": {
        "id": "Armd3vBJ3beL",
        "colab_type": "code",
        "colab": {
          "base_uri": "https://localhost:8080/",
          "height": 36
        },
        "outputId": "9a48065a-3a8c-4f59-a3e9-ce18cf7e189c"
      },
      "source": [
        "import torch\n",
        "print(torch.cuda.is_available)\n",
        "device = torch.device(\"cuda:0\")"
      ],
      "execution_count": 147,
      "outputs": [
        {
          "output_type": "stream",
          "text": [
            "<function is_available at 0x7f55664a9488>\n"
          ],
          "name": "stdout"
        }
      ]
    },
    {
      "cell_type": "code",
      "metadata": {
        "id": "rgdAmvxW24xY",
        "colab_type": "code",
        "colab": {
          "base_uri": "https://localhost:8080/",
          "height": 1000
        },
        "outputId": "8ac6454f-2f3b-4d58-9489-d46984f1bbae"
      },
      "source": [
        "import torch\n",
        "import torch.optim as optim\n",
        "# import queue\n",
        "\n",
        "model = Model()\n",
        "model = model.to(device)\n",
        "optimizer = optim.Adam(model.parameters(), lr=0.0001)\n",
        "criterion = nn.CrossEntropyLoss()\n",
        "\n",
        "count = 0\n",
        "val_loss_que = []\n",
        "for epoch in range(1000):\n",
        "    train_loss = 0\n",
        "    for i, (inputs, labels) in enumerate(tr_dataloader, 0):\n",
        "        inputs, labels = inputs.to(device), labels.to(device)\n",
        "\n",
        "        optimizer.zero_grad()\n",
        "        outputs = model(inputs)\n",
        "\n",
        "        loss = criterion(outputs, labels)\n",
        "        loss.backward()\n",
        "\n",
        "        train_loss += loss.item()\n",
        "\n",
        "        optimizer.step()\n",
        "\n",
        "    val_loss = 0\n",
        "    for i, data in enumerate(val_dataloader, 0):\n",
        "        inputs, labels = inputs.to(device), labels.to(device)\n",
        "        \n",
        "        outputs = model(inputs)\n",
        "        \n",
        "        loss = criterion(outputs, labels)\n",
        "        val_loss += loss.item()\n",
        "\n",
        "    train_loss /= len(tr_dataloader)\n",
        "    val_loss /= len(val_dataloader)\n",
        "    val_loss_que.append(val_loss)\n",
        "    \n",
        "    if epoch+1 >= 20:\n",
        "        # print(len(val_loss_que))\n",
        "        pre_val = sum(val_loss_que)/20\n",
        "        if pre_val <= val_loss:\n",
        "            count += 1\n",
        "            if count ==5:\n",
        "                print('early stopping')\n",
        "                break    \n",
        "        else:\n",
        "            count = 0\n",
        "\n",
        "        del val_loss_que[0]\n",
        "        print('[{} epoch] tr_loss: {:.4f}  val_loss: {:.4f}  pre_mean val_loss:  {:.4f}  early stopping ccount:  {}'.format(epoch + 1, train_loss, val_loss, pre_val, count))\n",
        "    else:\n",
        "        print('[{} epoch] tr_loss: {:.4f}  val_loss: {:.4f}'.format(epoch + 1, train_loss, val_loss))\n",
        "        \n",
        "    "
      ],
      "execution_count": 174,
      "outputs": [
        {
          "output_type": "stream",
          "text": [
            "[1 epoch] tr_loss: 2.2834  val_loss: 2.2271\n",
            "[2 epoch] tr_loss: 2.2372  val_loss: 2.1905\n",
            "[3 epoch] tr_loss: 2.1669  val_loss: 2.1187\n",
            "[4 epoch] tr_loss: 2.1028  val_loss: 2.0704\n",
            "[5 epoch] tr_loss: 2.0450  val_loss: 1.9928\n",
            "[6 epoch] tr_loss: 2.0229  val_loss: 1.9127\n",
            "[7 epoch] tr_loss: 2.0066  val_loss: 1.9503\n",
            "[8 epoch] tr_loss: 1.9898  val_loss: 1.9615\n",
            "[9 epoch] tr_loss: 1.9740  val_loss: 1.8243\n",
            "[10 epoch] tr_loss: 1.9671  val_loss: 1.9565\n",
            "[11 epoch] tr_loss: 1.9535  val_loss: 1.9442\n",
            "[12 epoch] tr_loss: 1.9444  val_loss: 1.8198\n",
            "[13 epoch] tr_loss: 1.9388  val_loss: 1.9298\n",
            "[14 epoch] tr_loss: 1.9307  val_loss: 1.9394\n",
            "[15 epoch] tr_loss: 1.9274  val_loss: 1.9210\n",
            "[16 epoch] tr_loss: 1.9186  val_loss: 1.8816\n",
            "[17 epoch] tr_loss: 1.9171  val_loss: 1.8614\n",
            "[18 epoch] tr_loss: 1.9110  val_loss: 1.8717\n",
            "[19 epoch] tr_loss: 1.9079  val_loss: 1.8403\n",
            "[20 epoch] tr_loss: 1.9015  val_loss: 1.8438  pre_mean val_loss:  1.9529  early stopping ccount:  0\n",
            "[21 epoch] tr_loss: 1.8991  val_loss: 1.7925  pre_mean val_loss:  1.9312  early stopping ccount:  0\n",
            "[22 epoch] tr_loss: 1.8942  val_loss: 1.8365  pre_mean val_loss:  1.9135  early stopping ccount:  0\n",
            "[23 epoch] tr_loss: 1.8908  val_loss: 1.9171  pre_mean val_loss:  1.9034  early stopping ccount:  1\n",
            "[24 epoch] tr_loss: 1.8905  val_loss: 1.8205  pre_mean val_loss:  1.8909  early stopping ccount:  0\n",
            "[25 epoch] tr_loss: 1.8808  val_loss: 1.7697  pre_mean val_loss:  1.8797  early stopping ccount:  0\n",
            "[26 epoch] tr_loss: 1.8812  val_loss: 1.8470  pre_mean val_loss:  1.8764  early stopping ccount:  0\n",
            "[27 epoch] tr_loss: 1.8771  val_loss: 1.8451  pre_mean val_loss:  1.8712  early stopping ccount:  0\n",
            "[28 epoch] tr_loss: 1.8770  val_loss: 1.9987  pre_mean val_loss:  1.8730  early stopping ccount:  1\n",
            "[29 epoch] tr_loss: 1.8724  val_loss: 1.8912  pre_mean val_loss:  1.8764  early stopping ccount:  2\n",
            "[30 epoch] tr_loss: 1.8688  val_loss: 1.8675  pre_mean val_loss:  1.8719  early stopping ccount:  0\n",
            "[31 epoch] tr_loss: 1.8643  val_loss: 1.7647  pre_mean val_loss:  1.8630  early stopping ccount:  0\n",
            "[32 epoch] tr_loss: 1.8625  val_loss: 1.8271  pre_mean val_loss:  1.8633  early stopping ccount:  0\n",
            "[33 epoch] tr_loss: 1.8580  val_loss: 1.8067  pre_mean val_loss:  1.8572  early stopping ccount:  0\n",
            "[34 epoch] tr_loss: 1.8584  val_loss: 1.8852  pre_mean val_loss:  1.8545  early stopping ccount:  1\n",
            "[35 epoch] tr_loss: 1.8548  val_loss: 1.7260  pre_mean val_loss:  1.8447  early stopping ccount:  0\n",
            "[36 epoch] tr_loss: 1.8517  val_loss: 1.7195  pre_mean val_loss:  1.8366  early stopping ccount:  0\n",
            "[37 epoch] tr_loss: 1.8532  val_loss: 1.9215  pre_mean val_loss:  1.8396  early stopping ccount:  1\n",
            "[38 epoch] tr_loss: 1.8495  val_loss: 1.6971  pre_mean val_loss:  1.8309  early stopping ccount:  0\n",
            "[39 epoch] tr_loss: 1.8454  val_loss: 1.8691  pre_mean val_loss:  1.8323  early stopping ccount:  1\n",
            "[40 epoch] tr_loss: 1.8432  val_loss: 1.8354  pre_mean val_loss:  1.8319  early stopping ccount:  2\n",
            "[41 epoch] tr_loss: 1.8384  val_loss: 1.7655  pre_mean val_loss:  1.8306  early stopping ccount:  0\n",
            "[42 epoch] tr_loss: 1.8366  val_loss: 1.8672  pre_mean val_loss:  1.8321  early stopping ccount:  1\n",
            "[43 epoch] tr_loss: 1.8347  val_loss: 1.7374  pre_mean val_loss:  1.8231  early stopping ccount:  0\n",
            "[44 epoch] tr_loss: 1.8341  val_loss: 1.8096  pre_mean val_loss:  1.8226  early stopping ccount:  0\n",
            "[45 epoch] tr_loss: 1.8353  val_loss: 1.7601  pre_mean val_loss:  1.8221  early stopping ccount:  0\n",
            "[46 epoch] tr_loss: 1.8302  val_loss: 1.8185  pre_mean val_loss:  1.8207  early stopping ccount:  0\n",
            "[47 epoch] tr_loss: 1.8295  val_loss: 1.7801  pre_mean val_loss:  1.8174  early stopping ccount:  0\n",
            "[48 epoch] tr_loss: 1.8306  val_loss: 1.8056  pre_mean val_loss:  1.8077  early stopping ccount:  0\n",
            "[49 epoch] tr_loss: 1.8311  val_loss: 1.8297  pre_mean val_loss:  1.8047  early stopping ccount:  1\n",
            "[50 epoch] tr_loss: 1.8205  val_loss: 1.7306  pre_mean val_loss:  1.7978  early stopping ccount:  0\n",
            "[51 epoch] tr_loss: 1.8239  val_loss: 1.8266  pre_mean val_loss:  1.8009  early stopping ccount:  1\n",
            "[52 epoch] tr_loss: 1.8191  val_loss: 1.8180  pre_mean val_loss:  1.8005  early stopping ccount:  2\n",
            "[53 epoch] tr_loss: 1.8174  val_loss: 1.7809  pre_mean val_loss:  1.7992  early stopping ccount:  0\n",
            "[54 epoch] tr_loss: 1.8148  val_loss: 1.6755  pre_mean val_loss:  1.7887  early stopping ccount:  0\n",
            "[55 epoch] tr_loss: 1.8154  val_loss: 1.7879  pre_mean val_loss:  1.7918  early stopping ccount:  0\n",
            "[56 epoch] tr_loss: 1.8122  val_loss: 1.7218  pre_mean val_loss:  1.7919  early stopping ccount:  0\n",
            "[57 epoch] tr_loss: 1.8146  val_loss: 1.8243  pre_mean val_loss:  1.7870  early stopping ccount:  1\n",
            "[58 epoch] tr_loss: 1.8118  val_loss: 1.7773  pre_mean val_loss:  1.7911  early stopping ccount:  0\n",
            "[59 epoch] tr_loss: 1.8111  val_loss: 1.8251  pre_mean val_loss:  1.7889  early stopping ccount:  1\n",
            "[60 epoch] tr_loss: 1.8063  val_loss: 1.7637  pre_mean val_loss:  1.7853  early stopping ccount:  0\n",
            "[61 epoch] tr_loss: 1.8037  val_loss: 1.7892  pre_mean val_loss:  1.7865  early stopping ccount:  1\n",
            "[62 epoch] tr_loss: 1.8014  val_loss: 1.8940  pre_mean val_loss:  1.7878  early stopping ccount:  2\n",
            "[63 epoch] tr_loss: 1.7989  val_loss: 1.6882  pre_mean val_loss:  1.7853  early stopping ccount:  0\n",
            "[64 epoch] tr_loss: 1.8039  val_loss: 1.8661  pre_mean val_loss:  1.7882  early stopping ccount:  1\n",
            "[65 epoch] tr_loss: 1.7982  val_loss: 1.8015  pre_mean val_loss:  1.7902  early stopping ccount:  2\n",
            "[66 epoch] tr_loss: 1.7983  val_loss: 1.7063  pre_mean val_loss:  1.7846  early stopping ccount:  0\n",
            "[67 epoch] tr_loss: 1.7978  val_loss: 1.8299  pre_mean val_loss:  1.7871  early stopping ccount:  1\n",
            "[68 epoch] tr_loss: 1.7962  val_loss: 1.7673  pre_mean val_loss:  1.7852  early stopping ccount:  0\n",
            "[69 epoch] tr_loss: 1.7944  val_loss: 1.7746  pre_mean val_loss:  1.7824  early stopping ccount:  0\n",
            "[70 epoch] tr_loss: 1.7933  val_loss: 1.7953  pre_mean val_loss:  1.7857  early stopping ccount:  1\n",
            "[71 epoch] tr_loss: 1.7934  val_loss: 1.7974  pre_mean val_loss:  1.7842  early stopping ccount:  2\n",
            "[72 epoch] tr_loss: 1.7901  val_loss: 1.7320  pre_mean val_loss:  1.7799  early stopping ccount:  0\n",
            "[73 epoch] tr_loss: 1.7897  val_loss: 1.7870  pre_mean val_loss:  1.7802  early stopping ccount:  1\n",
            "[74 epoch] tr_loss: 1.7862  val_loss: 1.7153  pre_mean val_loss:  1.7822  early stopping ccount:  0\n",
            "[75 epoch] tr_loss: 1.7844  val_loss: 1.8075  pre_mean val_loss:  1.7832  early stopping ccount:  1\n",
            "[76 epoch] tr_loss: 1.7823  val_loss: 1.6309  pre_mean val_loss:  1.7786  early stopping ccount:  0\n",
            "[77 epoch] tr_loss: 1.7835  val_loss: 1.7521  pre_mean val_loss:  1.7750  early stopping ccount:  0\n",
            "[78 epoch] tr_loss: 1.7858  val_loss: 1.8575  pre_mean val_loss:  1.7790  early stopping ccount:  1\n",
            "[79 epoch] tr_loss: 1.7793  val_loss: 1.7044  pre_mean val_loss:  1.7730  early stopping ccount:  0\n",
            "[80 epoch] tr_loss: 1.7822  val_loss: 1.8247  pre_mean val_loss:  1.7761  early stopping ccount:  1\n",
            "[81 epoch] tr_loss: 1.7801  val_loss: 1.7984  pre_mean val_loss:  1.7765  early stopping ccount:  2\n",
            "[82 epoch] tr_loss: 1.7778  val_loss: 1.7126  pre_mean val_loss:  1.7675  early stopping ccount:  0\n",
            "[83 epoch] tr_loss: 1.7805  val_loss: 1.7329  pre_mean val_loss:  1.7697  early stopping ccount:  0\n",
            "[84 epoch] tr_loss: 1.7768  val_loss: 1.8018  pre_mean val_loss:  1.7665  early stopping ccount:  1\n",
            "[85 epoch] tr_loss: 1.7754  val_loss: 1.8542  pre_mean val_loss:  1.7691  early stopping ccount:  2\n",
            "[86 epoch] tr_loss: 1.7738  val_loss: 1.7642  pre_mean val_loss:  1.7720  early stopping ccount:  0\n",
            "[87 epoch] tr_loss: 1.7786  val_loss: 1.6818  pre_mean val_loss:  1.7646  early stopping ccount:  0\n",
            "[88 epoch] tr_loss: 1.7744  val_loss: 1.7775  pre_mean val_loss:  1.7651  early stopping ccount:  1\n",
            "[89 epoch] tr_loss: 1.7740  val_loss: 1.7492  pre_mean val_loss:  1.7638  early stopping ccount:  0\n",
            "[90 epoch] tr_loss: 1.7683  val_loss: 1.7288  pre_mean val_loss:  1.7605  early stopping ccount:  0\n",
            "[91 epoch] tr_loss: 1.7681  val_loss: 1.7656  pre_mean val_loss:  1.7589  early stopping ccount:  1\n",
            "[92 epoch] tr_loss: 1.7676  val_loss: 1.7515  pre_mean val_loss:  1.7599  early stopping ccount:  0\n",
            "[93 epoch] tr_loss: 1.7651  val_loss: 1.7132  pre_mean val_loss:  1.7562  early stopping ccount:  0\n",
            "[94 epoch] tr_loss: 1.7681  val_loss: 1.8796  pre_mean val_loss:  1.7644  early stopping ccount:  1\n",
            "[95 epoch] tr_loss: 1.7671  val_loss: 1.7444  pre_mean val_loss:  1.7613  early stopping ccount:  0\n",
            "[96 epoch] tr_loss: 1.7660  val_loss: 1.7525  pre_mean val_loss:  1.7673  early stopping ccount:  0\n",
            "[97 epoch] tr_loss: 1.7635  val_loss: 1.7606  pre_mean val_loss:  1.7678  early stopping ccount:  0\n",
            "[98 epoch] tr_loss: 1.7616  val_loss: 1.7786  pre_mean val_loss:  1.7638  early stopping ccount:  1\n",
            "[99 epoch] tr_loss: 1.7605  val_loss: 1.7573  pre_mean val_loss:  1.7665  early stopping ccount:  0\n",
            "[100 epoch] tr_loss: 1.7619  val_loss: 1.7433  pre_mean val_loss:  1.7624  early stopping ccount:  0\n",
            "[101 epoch] tr_loss: 1.7600  val_loss: 1.7137  pre_mean val_loss:  1.7582  early stopping ccount:  0\n",
            "[102 epoch] tr_loss: 1.7585  val_loss: 1.6051  pre_mean val_loss:  1.7528  early stopping ccount:  0\n",
            "[103 epoch] tr_loss: 1.7586  val_loss: 1.8166  pre_mean val_loss:  1.7570  early stopping ccount:  1\n",
            "[104 epoch] tr_loss: 1.7558  val_loss: 1.7030  pre_mean val_loss:  1.7520  early stopping ccount:  0\n",
            "[105 epoch] tr_loss: 1.7557  val_loss: 1.6940  pre_mean val_loss:  1.7440  early stopping ccount:  0\n",
            "[106 epoch] tr_loss: 1.7557  val_loss: 1.8316  pre_mean val_loss:  1.7474  early stopping ccount:  1\n",
            "[107 epoch] tr_loss: 1.7543  val_loss: 1.7147  pre_mean val_loss:  1.7490  early stopping ccount:  0\n",
            "[108 epoch] tr_loss: 1.7531  val_loss: 1.6878  pre_mean val_loss:  1.7446  early stopping ccount:  0\n",
            "[109 epoch] tr_loss: 1.7536  val_loss: 1.7783  pre_mean val_loss:  1.7460  early stopping ccount:  1\n",
            "[110 epoch] tr_loss: 1.7502  val_loss: 1.7059  pre_mean val_loss:  1.7449  early stopping ccount:  0\n",
            "[111 epoch] tr_loss: 1.7501  val_loss: 1.7626  pre_mean val_loss:  1.7447  early stopping ccount:  1\n",
            "[112 epoch] tr_loss: 1.7490  val_loss: 1.7313  pre_mean val_loss:  1.7437  early stopping ccount:  0\n",
            "[113 epoch] tr_loss: 1.7495  val_loss: 1.7254  pre_mean val_loss:  1.7443  early stopping ccount:  0\n",
            "[114 epoch] tr_loss: 1.7500  val_loss: 1.7129  pre_mean val_loss:  1.7360  early stopping ccount:  0\n",
            "[115 epoch] tr_loss: 1.7522  val_loss: 1.8018  pre_mean val_loss:  1.7388  early stopping ccount:  1\n",
            "[116 epoch] tr_loss: 1.7483  val_loss: 1.6759  pre_mean val_loss:  1.7350  early stopping ccount:  0\n",
            "[117 epoch] tr_loss: 1.7463  val_loss: 1.7817  pre_mean val_loss:  1.7361  early stopping ccount:  1\n",
            "[118 epoch] tr_loss: 1.7476  val_loss: 1.7530  pre_mean val_loss:  1.7348  early stopping ccount:  2\n",
            "[119 epoch] tr_loss: 1.7439  val_loss: 1.7851  pre_mean val_loss:  1.7362  early stopping ccount:  3\n",
            "[120 epoch] tr_loss: 1.7431  val_loss: 1.7118  pre_mean val_loss:  1.7346  early stopping ccount:  0\n",
            "[121 epoch] tr_loss: 1.7429  val_loss: 1.7171  pre_mean val_loss:  1.7348  early stopping ccount:  0\n",
            "[122 epoch] tr_loss: 1.7467  val_loss: 1.7605  pre_mean val_loss:  1.7426  early stopping ccount:  1\n",
            "[123 epoch] tr_loss: 1.7444  val_loss: 1.7615  pre_mean val_loss:  1.7398  early stopping ccount:  2\n",
            "[124 epoch] tr_loss: 1.7451  val_loss: 1.7168  pre_mean val_loss:  1.7405  early stopping ccount:  0\n",
            "[125 epoch] tr_loss: 1.7412  val_loss: 1.6913  pre_mean val_loss:  1.7404  early stopping ccount:  0\n",
            "[126 epoch] tr_loss: 1.7403  val_loss: 1.7281  pre_mean val_loss:  1.7352  early stopping ccount:  0\n",
            "[127 epoch] tr_loss: 1.7392  val_loss: 1.7270  pre_mean val_loss:  1.7358  early stopping ccount:  0\n",
            "[128 epoch] tr_loss: 1.7429  val_loss: 1.8188  pre_mean val_loss:  1.7423  early stopping ccount:  1\n",
            "[129 epoch] tr_loss: 1.7392  val_loss: 1.7047  pre_mean val_loss:  1.7387  early stopping ccount:  0\n",
            "[130 epoch] tr_loss: 1.7364  val_loss: 1.6407  pre_mean val_loss:  1.7354  early stopping ccount:  0\n",
            "[131 epoch] tr_loss: 1.7383  val_loss: 1.7148  pre_mean val_loss:  1.7330  early stopping ccount:  0\n",
            "[132 epoch] tr_loss: 1.7375  val_loss: 1.7180  pre_mean val_loss:  1.7324  early stopping ccount:  0\n",
            "[133 epoch] tr_loss: 1.7347  val_loss: 1.7620  pre_mean val_loss:  1.7342  early stopping ccount:  1\n",
            "[134 epoch] tr_loss: 1.7350  val_loss: 1.6968  pre_mean val_loss:  1.7334  early stopping ccount:  0\n",
            "[135 epoch] tr_loss: 1.7317  val_loss: 1.6719  pre_mean val_loss:  1.7269  early stopping ccount:  0\n",
            "[136 epoch] tr_loss: 1.7320  val_loss: 1.6184  pre_mean val_loss:  1.7240  early stopping ccount:  0\n",
            "[137 epoch] tr_loss: 1.7328  val_loss: 1.6838  pre_mean val_loss:  1.7191  early stopping ccount:  0\n",
            "[138 epoch] tr_loss: 1.7338  val_loss: 1.7612  pre_mean val_loss:  1.7195  early stopping ccount:  1\n",
            "[139 epoch] tr_loss: 1.7325  val_loss: 1.7326  pre_mean val_loss:  1.7169  early stopping ccount:  2\n",
            "[140 epoch] tr_loss: 1.7324  val_loss: 1.7085  pre_mean val_loss:  1.7167  early stopping ccount:  0\n",
            "[141 epoch] tr_loss: 1.7297  val_loss: 1.6543  pre_mean val_loss:  1.7136  early stopping ccount:  0\n",
            "[142 epoch] tr_loss: 1.7303  val_loss: 1.6556  pre_mean val_loss:  1.7083  early stopping ccount:  0\n",
            "[143 epoch] tr_loss: 1.7296  val_loss: 1.7306  pre_mean val_loss:  1.7068  early stopping ccount:  1\n",
            "[144 epoch] tr_loss: 1.7271  val_loss: 1.6366  pre_mean val_loss:  1.7028  early stopping ccount:  0\n",
            "[145 epoch] tr_loss: 1.7301  val_loss: 1.6803  pre_mean val_loss:  1.7022  early stopping ccount:  0\n",
            "[146 epoch] tr_loss: 1.7319  val_loss: 1.7000  pre_mean val_loss:  1.7008  early stopping ccount:  0\n",
            "[147 epoch] tr_loss: 1.7287  val_loss: 1.7576  pre_mean val_loss:  1.7024  early stopping ccount:  1\n",
            "[148 epoch] tr_loss: 1.7259  val_loss: 1.6061  pre_mean val_loss:  1.6917  early stopping ccount:  0\n",
            "[149 epoch] tr_loss: 1.7315  val_loss: 1.8528  pre_mean val_loss:  1.6991  early stopping ccount:  1\n",
            "[150 epoch] tr_loss: 1.7275  val_loss: 1.7196  pre_mean val_loss:  1.7031  early stopping ccount:  2\n",
            "[151 epoch] tr_loss: 1.7289  val_loss: 1.6826  pre_mean val_loss:  1.7015  early stopping ccount:  0\n",
            "[152 epoch] tr_loss: 1.7235  val_loss: 1.6713  pre_mean val_loss:  1.6991  early stopping ccount:  0\n",
            "[153 epoch] tr_loss: 1.7267  val_loss: 1.7584  pre_mean val_loss:  1.6989  early stopping ccount:  1\n",
            "[154 epoch] tr_loss: 1.7274  val_loss: 1.7518  pre_mean val_loss:  1.7017  early stopping ccount:  2\n",
            "[155 epoch] tr_loss: 1.7269  val_loss: 1.7734  pre_mean val_loss:  1.7068  early stopping ccount:  3\n",
            "[156 epoch] tr_loss: 1.7221  val_loss: 1.6255  pre_mean val_loss:  1.7071  early stopping ccount:  0\n",
            "[157 epoch] tr_loss: 1.7243  val_loss: 1.7082  pre_mean val_loss:  1.7084  early stopping ccount:  0\n",
            "[158 epoch] tr_loss: 1.7241  val_loss: 1.7486  pre_mean val_loss:  1.7077  early stopping ccount:  1\n",
            "[159 epoch] tr_loss: 1.7212  val_loss: 1.5884  pre_mean val_loss:  1.7005  early stopping ccount:  0\n",
            "[160 epoch] tr_loss: 1.7205  val_loss: 1.7303  pre_mean val_loss:  1.7016  early stopping ccount:  1\n",
            "[161 epoch] tr_loss: 1.7226  val_loss: 1.6797  pre_mean val_loss:  1.7029  early stopping ccount:  0\n",
            "[162 epoch] tr_loss: 1.7219  val_loss: 1.7169  pre_mean val_loss:  1.7059  early stopping ccount:  1\n",
            "[163 epoch] tr_loss: 1.7249  val_loss: 1.7307  pre_mean val_loss:  1.7059  early stopping ccount:  2\n",
            "[164 epoch] tr_loss: 1.7187  val_loss: 1.6361  pre_mean val_loss:  1.7059  early stopping ccount:  0\n",
            "[165 epoch] tr_loss: 1.7210  val_loss: 1.7138  pre_mean val_loss:  1.7076  early stopping ccount:  1\n",
            "[166 epoch] tr_loss: 1.7211  val_loss: 1.7081  pre_mean val_loss:  1.7080  early stopping ccount:  2\n",
            "[167 epoch] tr_loss: 1.7199  val_loss: 1.6596  pre_mean val_loss:  1.7031  early stopping ccount:  0\n",
            "[168 epoch] tr_loss: 1.7224  val_loss: 1.6256  pre_mean val_loss:  1.7041  early stopping ccount:  0\n",
            "[169 epoch] tr_loss: 1.7181  val_loss: 1.7402  pre_mean val_loss:  1.6984  early stopping ccount:  1\n",
            "[170 epoch] tr_loss: 1.7158  val_loss: 1.7159  pre_mean val_loss:  1.6983  early stopping ccount:  2\n",
            "[171 epoch] tr_loss: 1.7156  val_loss: 1.6554  pre_mean val_loss:  1.6969  early stopping ccount:  0\n",
            "[172 epoch] tr_loss: 1.7187  val_loss: 1.7559  pre_mean val_loss:  1.7011  early stopping ccount:  1\n",
            "[173 epoch] tr_loss: 1.7184  val_loss: 1.7124  pre_mean val_loss:  1.6988  early stopping ccount:  2\n",
            "[174 epoch] tr_loss: 1.7132  val_loss: 1.6556  pre_mean val_loss:  1.6940  early stopping ccount:  0\n",
            "[175 epoch] tr_loss: 1.7137  val_loss: 1.7288  pre_mean val_loss:  1.6918  early stopping ccount:  1\n",
            "[176 epoch] tr_loss: 1.7139  val_loss: 1.5875  pre_mean val_loss:  1.6899  early stopping ccount:  0\n",
            "[177 epoch] tr_loss: 1.7150  val_loss: 1.7258  pre_mean val_loss:  1.6908  early stopping ccount:  1\n",
            "[178 epoch] tr_loss: 1.7146  val_loss: 1.6926  pre_mean val_loss:  1.6880  early stopping ccount:  2\n",
            "[179 epoch] tr_loss: 1.7126  val_loss: 1.6984  pre_mean val_loss:  1.6935  early stopping ccount:  3\n",
            "[180 epoch] tr_loss: 1.7123  val_loss: 1.6673  pre_mean val_loss:  1.6903  early stopping ccount:  0\n",
            "[181 epoch] tr_loss: 1.7131  val_loss: 1.7221  pre_mean val_loss:  1.6924  early stopping ccount:  1\n",
            "[182 epoch] tr_loss: 1.7112  val_loss: 1.6531  pre_mean val_loss:  1.6892  early stopping ccount:  0\n",
            "[183 epoch] tr_loss: 1.7160  val_loss: 1.6661  pre_mean val_loss:  1.6860  early stopping ccount:  0\n",
            "[184 epoch] tr_loss: 1.7136  val_loss: 1.5868  pre_mean val_loss:  1.6835  early stopping ccount:  0\n",
            "[185 epoch] tr_loss: 1.7093  val_loss: 1.6365  pre_mean val_loss:  1.6797  early stopping ccount:  0\n",
            "[186 epoch] tr_loss: 1.7110  val_loss: 1.6718  pre_mean val_loss:  1.6779  early stopping ccount:  0\n",
            "[187 epoch] tr_loss: 1.7109  val_loss: 1.6984  pre_mean val_loss:  1.6798  early stopping ccount:  1\n",
            "[188 epoch] tr_loss: 1.7106  val_loss: 1.7271  pre_mean val_loss:  1.6849  early stopping ccount:  2\n",
            "[189 epoch] tr_loss: 1.7094  val_loss: 1.6510  pre_mean val_loss:  1.6804  early stopping ccount:  0\n",
            "[190 epoch] tr_loss: 1.7113  val_loss: 1.6999  pre_mean val_loss:  1.6796  early stopping ccount:  1\n",
            "[191 epoch] tr_loss: 1.7088  val_loss: 1.6806  pre_mean val_loss:  1.6809  early stopping ccount:  0\n",
            "[192 epoch] tr_loss: 1.7103  val_loss: 1.6648  pre_mean val_loss:  1.6763  early stopping ccount:  0\n",
            "[193 epoch] tr_loss: 1.7092  val_loss: 1.7620  pre_mean val_loss:  1.6788  early stopping ccount:  1\n",
            "[194 epoch] tr_loss: 1.7089  val_loss: 1.7437  pre_mean val_loss:  1.6832  early stopping ccount:  2\n",
            "[195 epoch] tr_loss: 1.7093  val_loss: 1.7736  pre_mean val_loss:  1.6855  early stopping ccount:  3\n",
            "[196 epoch] tr_loss: 1.7063  val_loss: 1.6670  pre_mean val_loss:  1.6894  early stopping ccount:  0\n",
            "[197 epoch] tr_loss: 1.7058  val_loss: 1.6984  pre_mean val_loss:  1.6881  early stopping ccount:  1\n",
            "[198 epoch] tr_loss: 1.7088  val_loss: 1.8481  pre_mean val_loss:  1.6958  early stopping ccount:  2\n",
            "[199 epoch] tr_loss: 1.7069  val_loss: 1.6334  pre_mean val_loss:  1.6926  early stopping ccount:  0\n",
            "[200 epoch] tr_loss: 1.7055  val_loss: 1.7016  pre_mean val_loss:  1.6943  early stopping ccount:  1\n",
            "[201 epoch] tr_loss: 1.7084  val_loss: 1.7673  pre_mean val_loss:  1.6966  early stopping ccount:  2\n",
            "[202 epoch] tr_loss: 1.7216  val_loss: 1.7151  pre_mean val_loss:  1.6997  early stopping ccount:  3\n",
            "[203 epoch] tr_loss: 1.7111  val_loss: 1.6961  pre_mean val_loss:  1.7012  early stopping ccount:  0\n",
            "[204 epoch] tr_loss: 1.7079  val_loss: 1.7573  pre_mean val_loss:  1.7097  early stopping ccount:  1\n",
            "[205 epoch] tr_loss: 1.7110  val_loss: 1.6477  pre_mean val_loss:  1.7103  early stopping ccount:  0\n",
            "[206 epoch] tr_loss: 1.7039  val_loss: 1.7113  pre_mean val_loss:  1.7122  early stopping ccount:  0\n",
            "[207 epoch] tr_loss: 1.6951  val_loss: 1.6252  pre_mean val_loss:  1.7086  early stopping ccount:  0\n",
            "[208 epoch] tr_loss: 1.6866  val_loss: 1.6410  pre_mean val_loss:  1.7043  early stopping ccount:  0\n",
            "[209 epoch] tr_loss: 1.6832  val_loss: 1.6647  pre_mean val_loss:  1.7049  early stopping ccount:  0\n",
            "[210 epoch] tr_loss: 1.6787  val_loss: 1.7015  pre_mean val_loss:  1.7050  early stopping ccount:  0\n",
            "[211 epoch] tr_loss: 1.6760  val_loss: 1.6379  pre_mean val_loss:  1.7029  early stopping ccount:  0\n",
            "[212 epoch] tr_loss: 1.6723  val_loss: 1.6327  pre_mean val_loss:  1.7013  early stopping ccount:  0\n",
            "[213 epoch] tr_loss: 1.6713  val_loss: 1.6099  pre_mean val_loss:  1.6937  early stopping ccount:  0\n",
            "[214 epoch] tr_loss: 1.6685  val_loss: 1.6505  pre_mean val_loss:  1.6890  early stopping ccount:  0\n",
            "[215 epoch] tr_loss: 1.6660  val_loss: 1.6207  pre_mean val_loss:  1.6814  early stopping ccount:  0\n",
            "[216 epoch] tr_loss: 1.6647  val_loss: 1.5870  pre_mean val_loss:  1.6774  early stopping ccount:  0\n",
            "[217 epoch] tr_loss: 1.6659  val_loss: 1.6367  pre_mean val_loss:  1.6743  early stopping ccount:  0\n",
            "[218 epoch] tr_loss: 1.6671  val_loss: 1.5458  pre_mean val_loss:  1.6592  early stopping ccount:  0\n",
            "[219 epoch] tr_loss: 1.6647  val_loss: 1.6282  pre_mean val_loss:  1.6589  early stopping ccount:  0\n",
            "[220 epoch] tr_loss: 1.6614  val_loss: 1.6498  pre_mean val_loss:  1.6563  early stopping ccount:  0\n",
            "[221 epoch] tr_loss: 1.6610  val_loss: 1.6829  pre_mean val_loss:  1.6521  early stopping ccount:  1\n",
            "[222 epoch] tr_loss: 1.6608  val_loss: 1.7516  pre_mean val_loss:  1.6539  early stopping ccount:  2\n",
            "[223 epoch] tr_loss: 1.6584  val_loss: 1.5823  pre_mean val_loss:  1.6482  early stopping ccount:  0\n",
            "[224 epoch] tr_loss: 1.6631  val_loss: 1.6747  pre_mean val_loss:  1.6441  early stopping ccount:  1\n",
            "[225 epoch] tr_loss: 1.6576  val_loss: 1.7278  pre_mean val_loss:  1.6481  early stopping ccount:  2\n",
            "[226 epoch] tr_loss: 1.6590  val_loss: 1.7286  pre_mean val_loss:  1.6490  early stopping ccount:  3\n",
            "[227 epoch] tr_loss: 1.6565  val_loss: 1.5914  pre_mean val_loss:  1.6473  early stopping ccount:  0\n",
            "[228 epoch] tr_loss: 1.6545  val_loss: 1.6448  pre_mean val_loss:  1.6475  early stopping ccount:  0\n",
            "[229 epoch] tr_loss: 1.6544  val_loss: 1.7489  pre_mean val_loss:  1.6517  early stopping ccount:  1\n",
            "[230 epoch] tr_loss: 1.6537  val_loss: 1.6449  pre_mean val_loss:  1.6489  early stopping ccount:  0\n",
            "[231 epoch] tr_loss: 1.6530  val_loss: 1.6184  pre_mean val_loss:  1.6479  early stopping ccount:  0\n",
            "[232 epoch] tr_loss: 1.6547  val_loss: 1.7283  pre_mean val_loss:  1.6527  early stopping ccount:  1\n",
            "[233 epoch] tr_loss: 1.6516  val_loss: 1.6841  pre_mean val_loss:  1.6564  early stopping ccount:  2\n",
            "[234 epoch] tr_loss: 1.6523  val_loss: 1.6469  pre_mean val_loss:  1.6562  early stopping ccount:  0\n",
            "[235 epoch] tr_loss: 1.6545  val_loss: 1.7568  pre_mean val_loss:  1.6630  early stopping ccount:  1\n",
            "[236 epoch] tr_loss: 1.6544  val_loss: 1.6481  pre_mean val_loss:  1.6661  early stopping ccount:  0\n",
            "[237 epoch] tr_loss: 1.6523  val_loss: 1.7192  pre_mean val_loss:  1.6702  early stopping ccount:  1\n",
            "[238 epoch] tr_loss: 1.6500  val_loss: 1.6092  pre_mean val_loss:  1.6734  early stopping ccount:  0\n",
            "[239 epoch] tr_loss: 1.6483  val_loss: 1.6218  pre_mean val_loss:  1.6730  early stopping ccount:  0\n",
            "[240 epoch] tr_loss: 1.6508  val_loss: 1.6248  pre_mean val_loss:  1.6718  early stopping ccount:  0\n",
            "[241 epoch] tr_loss: 1.6485  val_loss: 1.6189  pre_mean val_loss:  1.6686  early stopping ccount:  0\n",
            "[242 epoch] tr_loss: 1.6496  val_loss: 1.6982  pre_mean val_loss:  1.6659  early stopping ccount:  1\n",
            "[243 epoch] tr_loss: 1.6470  val_loss: 1.5584  pre_mean val_loss:  1.6647  early stopping ccount:  0\n",
            "[244 epoch] tr_loss: 1.6465  val_loss: 1.6732  pre_mean val_loss:  1.6646  early stopping ccount:  1\n",
            "[245 epoch] tr_loss: 1.6492  val_loss: 1.5931  pre_mean val_loss:  1.6579  early stopping ccount:  0\n",
            "[246 epoch] tr_loss: 1.6451  val_loss: 1.6192  pre_mean val_loss:  1.6524  early stopping ccount:  0\n",
            "[247 epoch] tr_loss: 1.6443  val_loss: 1.6453  pre_mean val_loss:  1.6551  early stopping ccount:  0\n",
            "[248 epoch] tr_loss: 1.6481  val_loss: 1.5897  pre_mean val_loss:  1.6524  early stopping ccount:  0\n",
            "[249 epoch] tr_loss: 1.6464  val_loss: 1.7271  pre_mean val_loss:  1.6513  early stopping ccount:  1\n",
            "[250 epoch] tr_loss: 1.6436  val_loss: 1.5445  pre_mean val_loss:  1.6463  early stopping ccount:  0\n",
            "[251 epoch] tr_loss: 1.6427  val_loss: 1.6027  pre_mean val_loss:  1.6455  early stopping ccount:  0\n",
            "[252 epoch] tr_loss: 1.6433  val_loss: 1.6574  pre_mean val_loss:  1.6419  early stopping ccount:  1\n",
            "[253 epoch] tr_loss: 1.6458  val_loss: 1.6529  pre_mean val_loss:  1.6404  early stopping ccount:  2\n",
            "[254 epoch] tr_loss: 1.6457  val_loss: 1.6819  pre_mean val_loss:  1.6421  early stopping ccount:  3\n",
            "[255 epoch] tr_loss: 1.6397  val_loss: 1.6344  pre_mean val_loss:  1.6360  early stopping ccount:  0\n",
            "[256 epoch] tr_loss: 1.6429  val_loss: 1.6825  pre_mean val_loss:  1.6377  early stopping ccount:  1\n",
            "[257 epoch] tr_loss: 1.6418  val_loss: 1.5893  pre_mean val_loss:  1.6312  early stopping ccount:  0\n",
            "[258 epoch] tr_loss: 1.6397  val_loss: 1.6075  pre_mean val_loss:  1.6311  early stopping ccount:  0\n",
            "[259 epoch] tr_loss: 1.6392  val_loss: 1.6070  pre_mean val_loss:  1.6304  early stopping ccount:  0\n",
            "[260 epoch] tr_loss: 1.6385  val_loss: 1.5583  pre_mean val_loss:  1.6271  early stopping ccount:  0\n",
            "[261 epoch] tr_loss: 1.6386  val_loss: 1.5906  pre_mean val_loss:  1.6257  early stopping ccount:  0\n",
            "[262 epoch] tr_loss: 1.6375  val_loss: 1.6319  pre_mean val_loss:  1.6224  early stopping ccount:  1\n",
            "[263 epoch] tr_loss: 1.6365  val_loss: 1.6196  pre_mean val_loss:  1.6254  early stopping ccount:  0\n",
            "[264 epoch] tr_loss: 1.6427  val_loss: 1.6988  pre_mean val_loss:  1.6267  early stopping ccount:  1\n",
            "[265 epoch] tr_loss: 1.6381  val_loss: 1.6851  pre_mean val_loss:  1.6313  early stopping ccount:  2\n",
            "[266 epoch] tr_loss: 1.6396  val_loss: 1.7340  pre_mean val_loss:  1.6370  early stopping ccount:  3\n",
            "[267 epoch] tr_loss: 1.6418  val_loss: 1.7097  pre_mean val_loss:  1.6402  early stopping ccount:  4\n",
            "early stopping\n"
          ],
          "name": "stdout"
        }
      ]
    },
    {
      "cell_type": "markdown",
      "metadata": {
        "id": "lLX9MeWXmbJp",
        "colab_type": "text"
      },
      "source": [
        "# Evaluation"
      ]
    },
    {
      "cell_type": "code",
      "metadata": {
        "id": "0uy7RmwD274-",
        "colab_type": "code",
        "colab": {
          "base_uri": "https://localhost:8080/",
          "height": 55
        },
        "outputId": "919697a8-eb4a-482e-d032-4d84fddefc55"
      },
      "source": [
        "# from Jeongho_Kim's HW2\n",
        "# : https://github.com/cutz-j/Deeplearning/blob/master/hw2/%5BJeongho_Kim%5DCIFAR_10.ipynb\n",
        "def top5acc(y_pred, y_val):\n",
        "    np_y_pred = y_pred.cpu().numpy()\n",
        "    np_y_val = y_val.cpu().numpy()\n",
        "    correct = 0\n",
        "    for i in range(np_y_pred.shape[0]):\n",
        "        if np_y_val[i] in np.argsort(np_y_pred[i])[-5:]:\n",
        "            correct +=1 \n",
        "    return correct\n",
        "\n",
        "\n",
        "total = 0\n",
        "correct_1 = 0\n",
        "correct_5 = 0\n",
        "\n",
        "with torch.no_grad():\n",
        "    for i, (inputs, labels) in enumerate(test_dataloader, 0):\n",
        "        inputs, labels = inputs.to(device), labels.to(device)\n",
        "        \n",
        "        outputs = model(inputs)\n",
        "        _, predicted_1 = torch.max(outputs.data, 1)\n",
        "        # _, predicted_5 = torch.topk(outputs.data, 5)\n",
        "        # _, predicted_5 = torch.max(outputs.data, 5)\n",
        "\n",
        "        total += labels.size(0)\n",
        "        correct_1 += (labels.data == predicted_1).sum().item()\n",
        "        correct_5 += top5acc(outputs.data, labels.data)\n",
        "        \n",
        "print('top1 accuracy: {:.1f}'.format(correct_1/total*100))\n",
        "print('top5 accuracy: {:.1f}'.format(correct_5/total*100))"
      ],
      "execution_count": 175,
      "outputs": [
        {
          "output_type": "stream",
          "text": [
            "top1 accuracy: 65.3\n",
            "top5 accuracy: 95.9\n"
          ],
          "name": "stdout"
        }
      ]
    },
    {
      "cell_type": "code",
      "metadata": {
        "id": "5b13FT6Ph3vM",
        "colab_type": "code",
        "colab": {}
      },
      "source": [
        ""
      ],
      "execution_count": null,
      "outputs": []
    }
  ]
}