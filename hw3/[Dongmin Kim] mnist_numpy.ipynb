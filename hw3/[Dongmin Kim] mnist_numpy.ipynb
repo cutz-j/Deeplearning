{
  "nbformat": 4,
  "nbformat_minor": 0,
  "metadata": {
    "colab": {
      "name": "mnist_from_numpy.ipynb",
      "provenance": [],
      "collapsed_sections": [],
      "toc_visible": true
    },
    "kernelspec": {
      "name": "python3",
      "display_name": "Python 3"
    }
  },
  "cells": [
    {
      "cell_type": "markdown",
      "metadata": {
        "id": "xRDHjDF1crLJ",
        "colab_type": "text"
      },
      "source": [
        "# MNIST FROM PURE NUMPY\n",
        "\n",
        "Dongmin kim"
      ]
    },
    {
      "cell_type": "markdown",
      "metadata": {
        "id": "JHWwMzdWeex4",
        "colab_type": "text"
      },
      "source": [
        "## Set Hyperparameters"
      ]
    },
    {
      "cell_type": "code",
      "metadata": {
        "id": "YLD9yQ0tei25",
        "colab_type": "code",
        "colab": {}
      },
      "source": [
        "VALIDATION_RATIO = 0.2\n",
        "BATCH_SIZE = 100\n",
        "LEARNING_RATE = 1e-5\n",
        "EPOCHS = 100"
      ],
      "execution_count": 1,
      "outputs": []
    },
    {
      "cell_type": "markdown",
      "metadata": {
        "id": "BB0ZEdydNTWl",
        "colab_type": "text"
      },
      "source": [
        "\n",
        "\n",
        "## Load Dataset\n",
        "\n",
        "Download 4 files from:\n",
        "http://yann.lecun.com/exdb/mnist/"
      ]
    },
    {
      "cell_type": "code",
      "metadata": {
        "id": "nnLlsZxbN0X6",
        "colab_type": "code",
        "colab": {}
      },
      "source": [
        "import os"
      ],
      "execution_count": 2,
      "outputs": []
    },
    {
      "cell_type": "code",
      "metadata": {
        "id": "A9iSMdEmMiep",
        "colab_type": "code",
        "colab": {
          "base_uri": "https://localhost:8080/",
          "height": 119
        },
        "outputId": "a7ffd65a-d1af-4cf6-d18e-f41cfd019872"
      },
      "source": [
        "path = \"/content/drive/My Drive/Colab Notebooks/mnist_from_scratch\"\n",
        "os.listdir(path)"
      ],
      "execution_count": 3,
      "outputs": [
        {
          "output_type": "execute_result",
          "data": {
            "text/plain": [
              "['t10k-labels-idx1-ubyte',\n",
              " 't10k-images-idx3-ubyte',\n",
              " 'train-labels-idx1-ubyte',\n",
              " 'train-images-idx3-ubyte',\n",
              " 'mnist_from_scratch.ipynb',\n",
              " 'mnist_from_numpy.ipynb']"
            ]
          },
          "metadata": {
            "tags": []
          },
          "execution_count": 3
        }
      ]
    },
    {
      "cell_type": "code",
      "metadata": {
        "id": "NJv1CoxvV64i",
        "colab_type": "code",
        "colab": {}
      },
      "source": [
        "# locate files\n",
        "train_image_source = os.path.join(path, \"train-images-idx3-ubyte\")\n",
        "train_label_source = os.path.join(path, \"train-labels-idx1-ubyte\")\n",
        "test_image_source = os.path.join(path, \"t10k-images-idx3-ubyte\")\n",
        "test_label_source = os.path.join(path, \"t10k-labels-idx1-ubyte\")"
      ],
      "execution_count": 4,
      "outputs": []
    },
    {
      "cell_type": "code",
      "metadata": {
        "id": "0M37piwsaaTJ",
        "colab_type": "code",
        "colab": {}
      },
      "source": [
        "import numpy as np\n",
        "import struct\n",
        "from array import array\n",
        "import matplotlib.pyplot as plt\n",
        "\n",
        "# Mnist Loader Module\n",
        "class MnistDataloader(object):\n",
        "  def __init__(self, training_images_filepath, training_labels_filepath,\n",
        "                test_images_filepath, test_labels_filepath):\n",
        "      self.training_images_filepath = training_images_filepath\n",
        "      self.training_labels_filepath = training_labels_filepath\n",
        "      self.test_images_filepath = test_images_filepath\n",
        "      self.test_labels_filepath = test_labels_filepath\n",
        "\n",
        "  def get_file_stat(self, source, is_img, desc = None):\n",
        "    print(\"==\", desc, \"==\")\n",
        "    total = os.path.getsize(source)\n",
        "    header = 16 if is_img else 8\n",
        "    data_size = total - header\n",
        "    data_cnt = data_size // 784 if is_img else data_size\n",
        "    print(\"TOTAL SIZE: \", total)\n",
        "    print(\"HEADER: \", header)\n",
        "    print(\"DATA SIZE: \", data_size)\n",
        "    print(\"DATA COUNT: \", data_cnt)\n",
        "    return data_cnt\n",
        "\n",
        "  def read_images_labels(self, images_filepath, labels_filepath):\n",
        "    '''\n",
        "      Read images, labels\n",
        "    '''\n",
        "    # labels\n",
        "    labels = []\n",
        "\n",
        "    '''\n",
        "    http://yann.lecun.com/exdb/mnist/, file formats for mnist\n",
        "    [offset] [type]          [value]          [description]\n",
        "    0000     32 bit integer  0x00000801(2049) magic number (MSB first)\n",
        "    0004     32 bit integer  60000            number of items\n",
        "    0008     unsigned byte   ??               label\n",
        "    0009     unsigned byte   ??               label\n",
        "    ........\n",
        "    xxxx     unsigned byte   ??               label\n",
        "    '''\n",
        "    with open(labels_filepath, 'rb') as file:\n",
        "        magic, size = struct.unpack(\">II\", file.read(8)) # in Big Endian, read two unsigned ints\n",
        "        if magic != 2049:\n",
        "            raise ValueError('Expected 2049, got {}'.format(magic))\n",
        "        labels = array(\"B\", file.read())\n",
        "\n",
        "    #images\n",
        "    '''\n",
        "    http://yann.lecun.com/exdb/mnist/, file formats for mnist\n",
        "    [offset] [type]          [value]          [description]\n",
        "      0000     32 bit integer  0x00000803(2051) magic number\n",
        "      0004     32 bit integer  60000            number of images\n",
        "      0008     32 bit integer  28               number of rows\n",
        "      0012     32 bit integer  28               number of columns\n",
        "      0016     unsigned byte   ??               pixel\n",
        "      0017     unsigned byte   ??               pixel\n",
        "      ........\n",
        "      xxxx     unsigned byte   ??               pixel\n",
        "    '''\n",
        "    with open(images_filepath, 'rb') as file:\n",
        "      magic, size, rows, cols = struct.unpack(\">IIII\", file.read(16)) # in Big Endian, read four unsigned ints\n",
        "      if magic != 2051:\n",
        "          raise ValueError('Expected 2051, got {}'.format(magic))\n",
        "      image_data = array(\"B\", file.read())        \n",
        "    \n",
        "    images = []\n",
        "    for i in range(size):\n",
        "      imsize = rows * cols\n",
        "      img = np.array(image_data[i * imsize : (i + 1) * imsize])\n",
        "      img = img.reshape(28, 28, 1)\n",
        "      img = np.transpose(img, (2, 0, 1))\n",
        "      images.append(img)\n",
        "    \n",
        "    '''\n",
        "      To numpy\n",
        "    '''\n",
        "    images = np.array(images)\n",
        "    labels = np.eye(10)[np.array(labels).reshape(-1)] # one hot\n",
        "                \n",
        "    return images, labels\n",
        "          \n",
        "  def load_data(self, validation_ratio = 0):\n",
        "    '''\n",
        "        Sanity Checks\n",
        "    '''\n",
        "    tr_im_cnt = self.get_file_stat(self.training_images_filepath, 1, \"TRAIN_IMAGE\")\n",
        "    tr_lb_cnt = self.get_file_stat(self.training_labels_filepath, 0, \"TRAIN_LABEL\")\n",
        "    assert(tr_im_cnt == tr_lb_cnt) # check if the number of images equals the number labels\n",
        "\n",
        "    te_im_cnt = self.get_file_stat(self.test_images_filepath, 1, \"TEST_IMAGE\")\n",
        "    te_lb_cnt = self.get_file_stat(self.test_labels_filepath, 0, \"TEST_LABEL\")\n",
        "    assert(te_im_cnt == te_lb_cnt) # check if the number of images equals the number labels\n",
        "    \n",
        "    '''\n",
        "      load data\n",
        "    '''\n",
        "    x_train, y_train = self.read_images_labels(self.training_images_filepath, self.training_labels_filepath)\n",
        "    x_test, y_test = self.read_images_labels(self.test_images_filepath, self.test_labels_filepath)\n",
        "\n",
        "    '''\n",
        "      train/validation split\n",
        "    '''\n",
        "    assert(validation_ratio >= 0 and validation_ratio <= 1)\n",
        "\n",
        "    if validation_ratio == 0:\n",
        "      return (x_train, y_train),(x_test, y_test)\n",
        "    else:\n",
        "      val_length = int(len(x_train) * VALIDATION_RATIO)\n",
        "      x_validation = x_train[:val_length]\n",
        "      x_train = x_train[val_length:]\n",
        "      y_validation = y_train[:val_length]\n",
        "      y_train = y_train[val_length:]\n",
        "      return (x_train, y_train),(x_test, y_test), (x_validation, y_validation)"
      ],
      "execution_count": 5,
      "outputs": []
    },
    {
      "cell_type": "code",
      "metadata": {
        "id": "EGNoCZ6pawSG",
        "colab_type": "code",
        "colab": {
          "base_uri": "https://localhost:8080/",
          "height": 357
        },
        "outputId": "9c5f76ac-cba7-42ff-86ea-cf3f620f2a36"
      },
      "source": [
        "mnist_dataloader = MnistDataloader(train_image_source, train_label_source, test_image_source, test_label_source)\n",
        "(x_train, y_train), (x_test, y_test), (x_validation, y_validation) = mnist_dataloader.load_data(validation_ratio = VALIDATION_RATIO)"
      ],
      "execution_count": 6,
      "outputs": [
        {
          "output_type": "stream",
          "text": [
            "== TRAIN_IMAGE ==\n",
            "TOTAL SIZE:  47040016\n",
            "HEADER:  16\n",
            "DATA SIZE:  47040000\n",
            "DATA COUNT:  60000\n",
            "== TRAIN_LABEL ==\n",
            "TOTAL SIZE:  60008\n",
            "HEADER:  8\n",
            "DATA SIZE:  60000\n",
            "DATA COUNT:  60000\n",
            "== TEST_IMAGE ==\n",
            "TOTAL SIZE:  7840016\n",
            "HEADER:  16\n",
            "DATA SIZE:  7840000\n",
            "DATA COUNT:  10000\n",
            "== TEST_LABEL ==\n",
            "TOTAL SIZE:  10008\n",
            "HEADER:  8\n",
            "DATA SIZE:  10000\n",
            "DATA COUNT:  10000\n"
          ],
          "name": "stdout"
        }
      ]
    },
    {
      "cell_type": "code",
      "metadata": {
        "id": "Ui8eMJQEeSk7",
        "colab_type": "code",
        "colab": {
          "base_uri": "https://localhost:8080/",
          "height": 119
        },
        "outputId": "651cd760-80d7-4230-8678-d6c017b3e33b"
      },
      "source": [
        "print(np.shape(x_train))\n",
        "print(np.shape(y_train))\n",
        "print(np.shape(x_validation))\n",
        "print(np.shape(y_validation))\n",
        "print(np.shape(x_test))\n",
        "print(np.shape(y_test))"
      ],
      "execution_count": 7,
      "outputs": [
        {
          "output_type": "stream",
          "text": [
            "(48000, 1, 28, 28)\n",
            "(48000, 10)\n",
            "(12000, 1, 28, 28)\n",
            "(12000, 10)\n",
            "(10000, 1, 28, 28)\n",
            "(10000, 10)\n"
          ],
          "name": "stdout"
        }
      ]
    },
    {
      "cell_type": "code",
      "metadata": {
        "id": "weKKKnb6bA5r",
        "colab_type": "code",
        "colab": {
          "base_uri": "https://localhost:8080/",
          "height": 282
        },
        "outputId": "8831ee42-7301-47d8-9ca2-f50c9a8cbadb"
      },
      "source": [
        "plt.imshow(x_train[0].reshape(28, 28))\n",
        "plt.show()\n",
        "print(y_train[0])"
      ],
      "execution_count": 8,
      "outputs": [
        {
          "output_type": "display_data",
          "data": {
            "image/png": "[encoded data removed]",
            "text/plain": [
              "<Figure size 432x288 with 1 Axes>"
            ]
          },
          "metadata": {
            "tags": [],
            "needs_background": "light"
          }
        },
        {
          "output_type": "stream",
          "text": [
            "[0. 0. 0. 0. 0. 0. 0. 1. 0. 0.]\n"
          ],
          "name": "stdout"
        }
      ]
    },
    {
      "cell_type": "markdown",
      "metadata": {
        "id": "9TUHZ_uXWW7b",
        "colab_type": "text"
      },
      "source": [
        "## Modeling"
      ]
    },
    {
      "cell_type": "code",
      "metadata": {
        "id": "0CeT4wIH5pBU",
        "colab_type": "code",
        "colab": {}
      },
      "source": [
        "def im2col(input_data, filter_h, filter_w, stride=1, pad=0):\n",
        "\n",
        "  N, C, H, W = input_data.shape\n",
        "  out_h = (H + 2*pad - filter_h)//stride + 1\n",
        "  out_w = (W + 2*pad - filter_w)//stride + 1\n",
        "\n",
        "  img = np.pad(input_data, [(0,0), (0,0), (pad, pad), (pad, pad)], 'constant')\n",
        "  col = np.zeros((N, C, filter_h, filter_w, out_h, out_w))\n",
        "  for y in range(filter_h):\n",
        "      y_max = y + stride*out_h\n",
        "      for x in range(filter_w):\n",
        "          x_max = x + stride*out_w\n",
        "          col[:, :, y, x, :, :] = img[:, :, y:y_max:stride, x:x_max:stride]\n",
        "\n",
        "  col = col.transpose(0, 4, 5, 1, 2, 3).reshape(N*out_h*out_w, -1)\n",
        "  return col\n",
        "\n",
        "\n",
        "def col2im(col, input_shape, filter_h, filter_w, stride=1, pad=0):\n",
        "\n",
        "  N, C, H, W = input_shape\n",
        "  out_h = (H + 2*pad - filter_h)//stride + 1\n",
        "  out_w = (W + 2*pad - filter_w)//stride + 1\n",
        "  col = col.reshape(N, out_h, out_w, C, filter_h, filter_w).transpose(0, 3, 4, 5, 1, 2)\n",
        "\n",
        "  img = np.zeros((N, C, H + 2*pad + stride - 1, W + 2*pad + stride - 1))\n",
        "  for y in range(filter_h):\n",
        "      y_max = y + stride*out_h\n",
        "      for x in range(filter_w):\n",
        "          x_max = x + stride*out_w\n",
        "          img[:, :, y:y_max:stride, x:x_max:stride] += col[:, :, y, x, :, :]\n",
        "\n",
        "  return img[:, :, pad:H + pad, pad:W + pad]"
      ],
      "execution_count": 9,
      "outputs": []
    },
    {
      "cell_type": "markdown",
      "metadata": {
        "id": "Jr7WJHpNyQDj",
        "colab_type": "text"
      },
      "source": [
        "### Dense"
      ]
    },
    {
      "cell_type": "code",
      "metadata": {
        "id": "t4Q-mwlJwL7R",
        "colab_type": "code",
        "colab": {}
      },
      "source": [
        "class Dense:\n",
        "  def __init__(self, W, b):\n",
        "    self.W = W\n",
        "    self.b = b\n",
        "    self.x = None\n",
        "    self.original_x_shape = None\n",
        "    self.dW = None\n",
        "    self.db = None\n",
        "  \n",
        "  def forward(self, x):\n",
        "    self.original_x_shape = x.shape\n",
        "    #print(\"x shape:\", x.shape)\n",
        "    x = x.reshape(x.shape[0], -1) # dense input\n",
        "    self.x = x\n",
        "    out = np.dot(self.x, self.W) + self.b\n",
        "    return out\n",
        "  \n",
        "  def backward(self, dout):\n",
        "    dx = np.dot(dout, self.W.T)\n",
        "    self.dW = np.dot(self.x.T, dout)\n",
        "    self.db = np.sum(dout, axis = 0)\n",
        "    dx = dx.reshape(*self.original_x_shape)\n",
        "    return dx"
      ],
      "execution_count": 10,
      "outputs": []
    },
    {
      "cell_type": "markdown",
      "metadata": {
        "id": "rGEOPWt6098n",
        "colab_type": "text"
      },
      "source": [
        "### Convolution Layer"
      ]
    },
    {
      "cell_type": "code",
      "metadata": {
        "id": "N2ozK0rN09MC",
        "colab_type": "code",
        "colab": {}
      },
      "source": [
        "class Convolution:\n",
        "  def __init__(self, W, b, stride = 1, pad = 0):\n",
        "    self.W = W\n",
        "    self.b = b\n",
        "    self.stride = stride\n",
        "    self.pad = pad\n",
        "\n",
        "    self.x = None\n",
        "    self.col = None\n",
        "    self.col_W = None\n",
        "\n",
        "    self.dW = None\n",
        "    self.db = None\n",
        "\n",
        "  def forward(self, x):\n",
        "    FN, C, FH, FW = self.W.shape\n",
        "    N, C, H, W = x.shape\n",
        "    out_h = int(1 + (H + 2 * self.pad - FH) / self.stride)\n",
        "    out_w = int(1 + (W + 2 * self.pad - FW) / self.stride)\n",
        "\n",
        "    col = im2col(x, FH, FW, self.stride, self.pad)\n",
        "    col_W = self.W.reshape(FN, -1).T\n",
        "    out = np.dot(col, col_W) + self.b\n",
        "    out = out.reshape(N, out_h, out_w, -1).transpose(0, 3, 1, 2)\n",
        "\n",
        "    self.x = x\n",
        "    self.col = col\n",
        "    self.col_W = col_W\n",
        "\n",
        "    return out\n",
        "\n",
        "  def backward(self, dout):\n",
        "    FN, C, FH, FW = self.W.shape\n",
        "    dout = dout.transpose(0,2,3,1).reshape(-1, FN)\n",
        "\n",
        "    self.db = np.sum(dout, axis=0)\n",
        "    self.dW = np.dot(self.col.T, dout)\n",
        "    self.dW = self.dW.transpose(1, 0).reshape(FN, C, FH, FW)\n",
        "\n",
        "    dcol = np.dot(dout, self.col_W.T)\n",
        "    dx = col2im(dcol, self.x.shape, FH, FW, self.stride, self.pad)\n",
        "\n",
        "    return dx"
      ],
      "execution_count": 11,
      "outputs": []
    },
    {
      "cell_type": "markdown",
      "metadata": {
        "id": "9rx1UFF3W0uY",
        "colab_type": "text"
      },
      "source": [
        "### Pooling"
      ]
    },
    {
      "cell_type": "code",
      "metadata": {
        "id": "KBpgp_Rc5tH6",
        "colab_type": "code",
        "colab": {}
      },
      "source": [
        "class Pooling:\n",
        "  def __init__(self, pool_h, pool_w, stride = 1, pad = 0):\n",
        "    self.pool_h = pool_h\n",
        "    self.pool_w = pool_w\n",
        "    self.stride = stride\n",
        "    self.pad = pad\n",
        "    self.x = None\n",
        "    self.arg_max = None\n",
        "\n",
        "  def forward(self, x):\n",
        "    N, C, H, W = x.shape\n",
        "    out_h = int(1 + (H - self.pool_h) / self.stride)\n",
        "    out_w = int(1 + (W - self.pool_w) / self.stride)\n",
        "\n",
        "    col = im2col(x, self.pool_h, self.pool_w, self.stride, self.pad)\n",
        "    col = col.reshape(-1, self.pool_h * self.pool_w)\n",
        "\n",
        "    arg_max = np.argmax(col, axis = 1)\n",
        "\n",
        "    out = np.max(col, axis = 1)\n",
        "    out = out.reshape(N, out_h, out_w, C).transpose(0, 3, 1, 2)\n",
        "    self.x = x\n",
        "    self.arg_max = arg_max\n",
        "    return out\n",
        "\n",
        "  def backward(self, dout):\n",
        "    dout = dout.transpose(0, 2, 3, 1)\n",
        "    \n",
        "    pool_size = self.pool_h * self.pool_w\n",
        "    dmax = np.zeros((dout.size, pool_size))\n",
        "    dmax[np.arange(self.arg_max.size), self.arg_max.flatten()] = dout.flatten()\n",
        "    dmax = dmax.reshape(dout.shape + (pool_size,)) \n",
        "    \n",
        "    dcol = dmax.reshape(dmax.shape[0] * dmax.shape[1] * dmax.shape[2], -1)\n",
        "    dx = col2im(dcol, self.x.shape, self.pool_h, self.pool_w, self.stride, self.pad)\n",
        "    \n",
        "    return dx"
      ],
      "execution_count": 12,
      "outputs": []
    },
    {
      "cell_type": "markdown",
      "metadata": {
        "id": "HOcx5jfsv0aS",
        "colab_type": "text"
      },
      "source": [
        "### Activations"
      ]
    },
    {
      "cell_type": "code",
      "metadata": {
        "id": "Y5sC9lTIynod",
        "colab_type": "code",
        "colab": {}
      },
      "source": [
        "class Sigmoid:\n",
        "  def __init__(self):\n",
        "    self.out = None\n",
        "\n",
        "  def forward(self, x):\n",
        "    out = 1 / (1 + np.exp(-x))\n",
        "    self.out = out\n",
        "    return out\n",
        "\n",
        "  def backward(self, dout):\n",
        "    dx = dout * (1.0 - self.out) * self.out\n",
        "    return dx"
      ],
      "execution_count": 13,
      "outputs": []
    },
    {
      "cell_type": "code",
      "metadata": {
        "id": "79JV72-fyuM2",
        "colab_type": "code",
        "colab": {}
      },
      "source": [
        "class Relu:\n",
        "  def __init__(self):\n",
        "    self.mask = None\n",
        "\n",
        "  def forward(self, x):\n",
        "    self.mask = (x <= 0)\n",
        "    out = x.copy()\n",
        "    out[self.mask] = 0\n",
        "    return out\n",
        "\n",
        "  def backward(self, dout):\n",
        "    dout[self.mask] = 0\n",
        "    dx = dout\n",
        "    return dx"
      ],
      "execution_count": 14,
      "outputs": []
    },
    {
      "cell_type": "code",
      "metadata": {
        "id": "9SQS3Whuyrfn",
        "colab_type": "code",
        "colab": {}
      },
      "source": [
        "class Softmax:\n",
        "  def __init__(self):\n",
        "    self.loss = None\n",
        "    self.y = None\n",
        "    self.t = None\n",
        "\n",
        "  def forward(self, x, t):\n",
        "    self.t = t\n",
        "    self.y = self.softmax(x)\n",
        "    self.loss = self.cross_entropy(self.y, self.t)\n",
        "    return self.loss\n",
        "\n",
        "  def backward(self, dout = 1):\n",
        "    batch_size = self.t.shape[0]\n",
        "    dx = (self.y - self.t) / batch_size\n",
        "    return dx\n",
        "\n",
        "  def softmax(self, x):\n",
        "    if x.ndim == 2:\n",
        "      x = x.T\n",
        "      x = x - np.max(x, axis = 0)\n",
        "      y = np.exp(x) / np.sum(np.exp(x), axis = 0)\n",
        "      return y.T\n",
        "    x = x - np.max(x)\n",
        "    return np.exp(x) / np.sum(np.exp(x))\n",
        "    \n",
        "  def cross_entropy(self, y, t):\n",
        "    if y.ndim == 1:\n",
        "      t = t.reshape(1, t.size)\n",
        "      y = y.reshape(1, y.size)\n",
        "\n",
        "    if t.size == y.size:\n",
        "      t = t.argmax(axis = 1)\n",
        "\n",
        "    batch_size = y.shape[0]\n",
        "    return -np.sum(np.log(y[np.arange(batch_size), t] + 1e-7)) / batch_size\n"
      ],
      "execution_count": 15,
      "outputs": []
    },
    {
      "cell_type": "markdown",
      "metadata": {
        "id": "AiksBBpLWgxe",
        "colab_type": "text"
      },
      "source": [
        "## Model Setup"
      ]
    },
    {
      "cell_type": "code",
      "metadata": {
        "id": "SmuHsQ6M7Cyp",
        "colab_type": "code",
        "colab": {}
      },
      "source": [
        "from collections import OrderedDict\n",
        "\n",
        "class MnistModel:\n",
        "  def __init__(self, input_dim = (1, 28, 28),\n",
        "               conv_param = {'filter_num': 30, 'filter_size': 5, 'pad': 0, 'stride': 1},\n",
        "               hidden_size = 100, output_size = 10, weight_init_std = 0.01,\n",
        "               batch_size = BATCH_SIZE, epochs = EPOCHS,\n",
        "               ):\n",
        "    filter_num = conv_param['filter_num']\n",
        "    filter_size = conv_param['filter_size']\n",
        "    filter_pad = conv_param['pad']\n",
        "    filter_stride = conv_param['stride']\n",
        "    input_size = input_dim[1]\n",
        "    conv_output_size = (input_size - filter_size + 2 * filter_pad) / filter_stride + 1\n",
        "    pool_output_size = int(filter_num * (conv_output_size / 2) * (conv_output_size / 2))\n",
        "\n",
        "    # hyperparameters\n",
        "    self.batch_size = batch_size\n",
        "    self.epochs = epochs\n",
        "\n",
        "    # parameters\n",
        "    self.params = {}\n",
        "    self.params['W1'] = weight_init_std * np.random.randn(filter_num, input_dim[0], filter_size, filter_size)\n",
        "    self.params['b1'] = np.zeros(filter_num)\n",
        "    self.params['W2'] = weight_init_std * np.random.randn(pool_output_size, hidden_size)\n",
        "    self.params['b2'] = np.zeros(hidden_size)\n",
        "    self.params['W3'] = weight_init_std * np.random.randn(hidden_size, output_size)\n",
        "    self.params['b3'] = np.zeros(output_size)\n",
        "    \n",
        "    # layers\n",
        "    self.layers = OrderedDict()\n",
        "    self.layers['Conv1'] = Convolution(self.params['W1'], self.params['b1'], conv_param['stride'], conv_param['pad'])\n",
        "    self.layers['Relu1'] = Relu()\n",
        "    self.layers['Pool1'] = Pooling(pool_h = 2, pool_w = 2, stride = 2)\n",
        "    self.layers['Dense1'] = Dense(self.params['W2'], self.params['b2'])\n",
        "    self.layers['Dense2'] = Dense(self.params['W3'], self.params['b3'])\n",
        "    self.last_layer = Softmax()\n",
        "\n",
        "    # adam optimizers\n",
        "    self.m, self.v = {}, {}\n",
        "    for key, val in self.params.items():\n",
        "      self.m[key] = np.zeros_like(val)\n",
        "      self.v[key] = np.zeros_like(val)\n",
        "\n",
        "    self.iter = 1\n",
        "\n",
        "  def train(self, x_train, y_train, x_validation, y_validation):\n",
        "    train_loss_list = []\n",
        "    train_accuracy_list = []\n",
        "    validation_loss_list = []\n",
        "    validation_accuracy_list = []\n",
        "    train_size = np.shape(x_train)[0]\n",
        "    batch_num = train_size // self.batch_size\n",
        "\n",
        "    print(\"=== START TRAINING ===\")\n",
        "    for epoch in range(1, self.epochs+1):\n",
        "      train_accuracy = 0\n",
        "      train_loss = 0\n",
        "      progress = 0\n",
        "      print(\"EPOCH {} / {} | \".format(epoch, self.epochs), end = \"\")\n",
        "      for batch in range(batch_num):\n",
        "        x_batch = x_train[batch * self.batch_size: (batch+1) * self.batch_size]\n",
        "        y_batch = y_train[batch * self.batch_size: (batch+1) * self.batch_size]\n",
        "\n",
        "        grads = self.gradient(x_batch, y_batch)\n",
        "      \n",
        "        lr_t = LEARNING_RATE * np.sqrt(1.0 - 0.999 ** self.iter) / (1.0 - 0.9 ** self.iter)\n",
        "        for key in (\"W1\", \"b1\", \"W2\", \"b2\", \"W3\", \"b3\"):\n",
        "          self.m[key] += (1 - 0.9) * (grads[key] - self.m[key])\n",
        "          self.v[key] += (1 - 0.999) * (grads[key]**2 - self.v[key])\n",
        "          self.params[key] -= lr_t * self.m[key] / (np.sqrt(self.v[key]) + 1e-7)\n",
        "\n",
        "        train_accuracy += self.accuracy(x_batch, y_batch)\n",
        "        train_loss += self.loss(x_batch, y_batch)\n",
        "        \n",
        "        if batch/batch_num > progress:\n",
        "          print(\"=\", end = \"\")\n",
        "          progress += 0.025 # check every 2.5 %\n",
        "\n",
        "      print(\" | \", end = \"\")\n",
        "\n",
        "      # train accuracy\n",
        "      train_accuracy = train_accuracy / batch_num\n",
        "      train_loss = train_loss / batch_num\n",
        "      train_loss_list.append(train_loss)\n",
        "      train_accuracy_list.append(train_accuracy)\n",
        "      \n",
        "      # validation accuracy\n",
        "      validation_loss = self.loss(x_validation, y_validation)\n",
        "      validation_accuracy = self.accuracy(x_validation, y_validation)\n",
        "      validation_loss_list.append(validation_loss)\n",
        "      validation_accuracy_list.append(validation_accuracy)\n",
        "      print(\"train_acc: {:8.5f} train_loss: {:8.5f} | val_acc: {:8.5f} val_loss : {:8.5f}\".format(train_accuracy, train_loss, validation_accuracy, validation_loss))\n",
        "\n",
        "    history = {\"train_acc\": train_accuracy_list, \n",
        "               \"train_loss\": train_loss_list, \n",
        "               \"val_acc\": validation_accuracy_list, \n",
        "               \"val_loss\": validation_loss_list,\n",
        "               }\n",
        "    return history\n",
        "    \n",
        "  def predict(self, x):\n",
        "    for layer in self.layers.values():\n",
        "      #print(layer, x.shape)\n",
        "      x = layer.forward(x)\n",
        "    return x\n",
        "\n",
        "  def loss(self, x, t):\n",
        "    y = self.predict(x)\n",
        "    return self.last_layer.forward(y, t)\n",
        "\n",
        "  def gradient(self, x, t):\n",
        "    self.loss(x, t)\n",
        "    dout = 1\n",
        "    dout = self.last_layer.backward(dout)\n",
        "    layers = list(self.layers.values())\n",
        "    layers.reverse()\n",
        "    for layer in layers:\n",
        "      dout = layer.backward(dout)\n",
        "\n",
        "    grads = {}\n",
        "    grads['W1'] = self.layers['Conv1'].dW\n",
        "    grads['b1'] = self.layers['Conv1'].db\n",
        "    grads['W2'] = self.layers['Dense1'].dW\n",
        "    grads['b2'] = self.layers['Dense1'].db\n",
        "    grads['W3'] = self.layers['Dense2'].dW\n",
        "    grads['b3'] = self.layers['Dense2'].db\n",
        "\n",
        "    return grads\n",
        "\n",
        "  def accuracy(self, x, t, batch_size=100):\n",
        "    if t.ndim != 1: t = np.argmax(t, axis=1)\n",
        "\n",
        "    acc = 0.0\n",
        "\n",
        "    for i in range(int(x.shape[0] / batch_size)):\n",
        "      tx = x[i * batch_size:(i + 1) * batch_size]\n",
        "      tt = t[i * batch_size:(i + 1) * batch_size]\n",
        "      y = self.predict(tx)\n",
        "      y = np.argmax(y, axis=1)\n",
        "      acc += np.sum(y == tt)\n",
        "\n",
        "    return acc / x.shape[0]"
      ],
      "execution_count": 16,
      "outputs": []
    },
    {
      "cell_type": "markdown",
      "metadata": {
        "id": "9CQdTz3Bh2tV",
        "colab_type": "text"
      },
      "source": [
        "## Training"
      ]
    },
    {
      "cell_type": "code",
      "metadata": {
        "id": "wME4WDWH5XiW",
        "colab_type": "code",
        "colab": {}
      },
      "source": [
        "import warnings\n",
        "warnings.filterwarnings('ignore')"
      ],
      "execution_count": 17,
      "outputs": []
    },
    {
      "cell_type": "code",
      "metadata": {
        "id": "Kgfo6tXjh2Ab",
        "colab_type": "code",
        "colab": {}
      },
      "source": [
        "model = MnistModel()"
      ],
      "execution_count": 18,
      "outputs": []
    },
    {
      "cell_type": "code",
      "metadata": {
        "id": "nX84Gnwhhxq1",
        "colab_type": "code",
        "colab": {
          "base_uri": "https://localhost:8080/",
          "height": 1000
        },
        "outputId": "9fe5d3d1-7a92-40fb-bda7-61a1855b9fb8"
      },
      "source": [
        "history = model.train(x_train, y_train, x_validation, y_validation)"
      ],
      "execution_count": 19,
      "outputs": [
        {
          "output_type": "stream",
          "text": [
            "=== START TRAINING ===\n",
            "EPOCH 1 / 100 | ======================================== | train_acc:  0.79825 train_loss:  0.85136 | val_acc:  0.87917 val_loss :  0.46777\n",
            "EPOCH 2 / 100 | ======================================== | train_acc:  0.89042 train_loss:  0.41551 | val_acc:  0.90275 val_loss :  0.35930\n",
            "EPOCH 3 / 100 | ======================================== | train_acc:  0.90481 train_loss:  0.34488 | val_acc:  0.91333 val_loss :  0.31569\n",
            "EPOCH 4 / 100 | ======================================== | train_acc:  0.91317 train_loss:  0.30946 | val_acc:  0.91958 val_loss :  0.28972\n",
            "EPOCH 5 / 100 | ======================================== | train_acc:  0.91942 train_loss:  0.28587 | val_acc:  0.92417 val_loss :  0.27109\n",
            "EPOCH 6 / 100 | ======================================== | train_acc:  0.92438 train_loss:  0.26776 | val_acc:  0.92858 val_loss :  0.25623\n",
            "EPOCH 7 / 100 | ======================================== | train_acc:  0.92856 train_loss:  0.25270 | val_acc:  0.93225 val_loss :  0.24362\n",
            "EPOCH 8 / 100 | ======================================== | train_acc:  0.93225 train_loss:  0.23957 | val_acc:  0.93450 val_loss :  0.23250\n",
            "EPOCH 9 / 100 | ======================================== | train_acc:  0.93558 train_loss:  0.22780 | val_acc:  0.93775 val_loss :  0.22246\n",
            "EPOCH 10 / 100 | ======================================== | train_acc:  0.93813 train_loss:  0.21707 | val_acc:  0.94058 val_loss :  0.21327\n",
            "EPOCH 11 / 100 | ======================================== | train_acc:  0.94081 train_loss:  0.20716 | val_acc:  0.94375 val_loss :  0.20476\n",
            "EPOCH 12 / 100 | ======================================== | train_acc:  0.94352 train_loss:  0.19796 | val_acc:  0.94608 val_loss :  0.19686\n",
            "EPOCH 13 / 100 | ======================================== | train_acc:  0.94567 train_loss:  0.18939 | val_acc:  0.94800 val_loss :  0.18948\n",
            "EPOCH 14 / 100 | ======================================== | train_acc:  0.94825 train_loss:  0.18139 | val_acc:  0.95000 val_loss :  0.18257\n",
            "EPOCH 15 / 100 | ======================================== | train_acc:  0.94994 train_loss:  0.17390 | val_acc:  0.95092 val_loss :  0.17608\n",
            "EPOCH 16 / 100 | ======================================== | train_acc:  0.95196 train_loss:  0.16688 | val_acc:  0.95283 val_loss :  0.17000\n",
            "EPOCH 17 / 100 | ======================================== | train_acc:  0.95410 train_loss:  0.16029 | val_acc:  0.95433 val_loss :  0.16429\n",
            "EPOCH 18 / 100 | ======================================== | train_acc:  0.95613 train_loss:  0.15411 | val_acc:  0.95533 val_loss :  0.15891\n",
            "EPOCH 19 / 100 | ======================================== | train_acc:  0.95798 train_loss:  0.14831 | val_acc:  0.95742 val_loss :  0.15386\n",
            "EPOCH 20 / 100 | ======================================== | train_acc:  0.95969 train_loss:  0.14286 | val_acc:  0.95842 val_loss :  0.14909\n",
            "EPOCH 21 / 100 | ======================================== | train_acc:  0.96154 train_loss:  0.13773 | val_acc:  0.95967 val_loss :  0.14461\n",
            "EPOCH 22 / 100 | ======================================== | train_acc:  0.96273 train_loss:  0.13290 | val_acc:  0.96067 val_loss :  0.14038\n",
            "EPOCH 23 / 100 | ======================================== | train_acc:  0.96404 train_loss:  0.12836 | val_acc:  0.96150 val_loss :  0.13641\n",
            "EPOCH 24 / 100 | ======================================== | train_acc:  0.96527 train_loss:  0.12409 | val_acc:  0.96225 val_loss :  0.13267\n",
            "EPOCH 25 / 100 | ======================================== | train_acc:  0.96648 train_loss:  0.12006 | val_acc:  0.96333 val_loss :  0.12915\n",
            "EPOCH 26 / 100 | ======================================== | train_acc:  0.96773 train_loss:  0.11627 | val_acc:  0.96392 val_loss :  0.12584\n",
            "EPOCH 27 / 100 | ======================================== | train_acc:  0.96890 train_loss:  0.11269 | val_acc:  0.96533 val_loss :  0.12271\n",
            "EPOCH 28 / 100 | ======================================== | train_acc:  0.96960 train_loss:  0.10931 | val_acc:  0.96633 val_loss :  0.11977\n",
            "EPOCH 29 / 100 | ======================================== | train_acc:  0.97083 train_loss:  0.10612 | val_acc:  0.96700 val_loss :  0.11699\n",
            "EPOCH 30 / 100 | ======================================== | train_acc:  0.97167 train_loss:  0.10311 | val_acc:  0.96717 val_loss :  0.11437\n",
            "EPOCH 31 / 100 | ======================================== | train_acc:  0.97260 train_loss:  0.10025 | val_acc:  0.96742 val_loss :  0.11190\n",
            "EPOCH 32 / 100 | ======================================== | train_acc:  0.97323 train_loss:  0.09755 | val_acc:  0.96833 val_loss :  0.10956\n",
            "EPOCH 33 / 100 | ======================================== | train_acc:  0.97408 train_loss:  0.09499 | val_acc:  0.96883 val_loss :  0.10735\n",
            "EPOCH 34 / 100 | ======================================== | train_acc:  0.97469 train_loss:  0.09255 | val_acc:  0.96958 val_loss :  0.10526\n",
            "EPOCH 35 / 100 | ======================================== | train_acc:  0.97544 train_loss:  0.09024 | val_acc:  0.97017 val_loss :  0.10328\n",
            "EPOCH 36 / 100 | ======================================== | train_acc:  0.97600 train_loss:  0.08803 | val_acc:  0.97092 val_loss :  0.10140\n",
            "EPOCH 37 / 100 | ======================================== | train_acc:  0.97696 train_loss:  0.08593 | val_acc:  0.97192 val_loss :  0.09961\n",
            "EPOCH 38 / 100 | ======================================== | train_acc:  0.97752 train_loss:  0.08393 | val_acc:  0.97208 val_loss :  0.09791\n",
            "EPOCH 39 / 100 | ======================================== | train_acc:  0.97810 train_loss:  0.08202 | val_acc:  0.97258 val_loss :  0.09630\n",
            "EPOCH 40 / 100 | ======================================== | train_acc:  0.97854 train_loss:  0.08019 | val_acc:  0.97325 val_loss :  0.09476\n",
            "EPOCH 41 / 100 | ======================================== | train_acc:  0.97883 train_loss:  0.07844 | val_acc:  0.97375 val_loss :  0.09330\n",
            "EPOCH 42 / 100 | ======================================== | train_acc:  0.97927 train_loss:  0.07677 | val_acc:  0.97450 val_loss :  0.09191\n",
            "EPOCH 43 / 100 | ======================================== | train_acc:  0.97973 train_loss:  0.07517 | val_acc:  0.97475 val_loss :  0.09058\n",
            "EPOCH 44 / 100 | ======================================== | train_acc:  0.98017 train_loss:  0.07363 | val_acc:  0.97517 val_loss :  0.08932\n",
            "EPOCH 45 / 100 | ======================================== | train_acc:  0.98044 train_loss:  0.07216 | val_acc:  0.97558 val_loss :  0.08811\n",
            "EPOCH 46 / 100 | ======================================== | train_acc:  0.98067 train_loss:  0.07074 | val_acc:  0.97575 val_loss :  0.08695\n",
            "EPOCH 47 / 100 | ======================================== | train_acc:  0.98108 train_loss:  0.06938 | val_acc:  0.97608 val_loss :  0.08585\n",
            "EPOCH 48 / 100 | ======================================== | train_acc:  0.98148 train_loss:  0.06807 | val_acc:  0.97633 val_loss :  0.08480\n",
            "EPOCH 49 / 100 | ======================================== | train_acc:  0.98198 train_loss:  0.06680 | val_acc:  0.97650 val_loss :  0.08379\n",
            "EPOCH 50 / 100 | ======================================== | train_acc:  0.98229 train_loss:  0.06559 | val_acc:  0.97675 val_loss :  0.08282\n",
            "EPOCH 51 / 100 | ======================================== | train_acc:  0.98250 train_loss:  0.06441 | val_acc:  0.97700 val_loss :  0.08189\n",
            "EPOCH 52 / 100 | ======================================== | train_acc:  0.98285 train_loss:  0.06328 | val_acc:  0.97733 val_loss :  0.08100\n",
            "EPOCH 53 / 100 | ======================================== | train_acc:  0.98317 train_loss:  0.06218 | val_acc:  0.97758 val_loss :  0.08015\n",
            "EPOCH 54 / 100 | ======================================== | train_acc:  0.98340 train_loss:  0.06112 | val_acc:  0.97800 val_loss :  0.07933\n",
            "EPOCH 55 / 100 | ======================================== | train_acc:  0.98367 train_loss:  0.06010 | val_acc:  0.97808 val_loss :  0.07854\n",
            "EPOCH 56 / 100 | ======================================== | train_acc:  0.98404 train_loss:  0.05911 | val_acc:  0.97833 val_loss :  0.07779\n",
            "EPOCH 57 / 100 | ======================================== | train_acc:  0.98419 train_loss:  0.05815 | val_acc:  0.97842 val_loss :  0.07707\n",
            "EPOCH 58 / 100 | ======================================== | train_acc:  0.98446 train_loss:  0.05722 | val_acc:  0.97858 val_loss :  0.07637\n",
            "EPOCH 59 / 100 | ======================================== | train_acc:  0.98469 train_loss:  0.05632 | val_acc:  0.97867 val_loss :  0.07570\n",
            "EPOCH 60 / 100 | ======================================== | train_acc:  0.98498 train_loss:  0.05545 | val_acc:  0.97883 val_loss :  0.07506\n",
            "EPOCH 61 / 100 | ======================================== | train_acc:  0.98513 train_loss:  0.05460 | val_acc:  0.97867 val_loss :  0.07444\n",
            "EPOCH 62 / 100 | ======================================== | train_acc:  0.98535 train_loss:  0.05378 | val_acc:  0.97900 val_loss :  0.07385\n",
            "EPOCH 63 / 100 | ======================================== | train_acc:  0.98552 train_loss:  0.05298 | val_acc:  0.97917 val_loss :  0.07328\n",
            "EPOCH 64 / 100 | ======================================== | train_acc:  0.98571 train_loss:  0.05220 | val_acc:  0.97917 val_loss :  0.07273\n",
            "EPOCH 65 / 100 | ======================================== | train_acc:  0.98579 train_loss:  0.05145 | val_acc:  0.97933 val_loss :  0.07220\n",
            "EPOCH 66 / 100 | ======================================== | train_acc:  0.98602 train_loss:  0.05071 | val_acc:  0.97942 val_loss :  0.07168\n",
            "EPOCH 67 / 100 | ======================================== | train_acc:  0.98619 train_loss:  0.05000 | val_acc:  0.97950 val_loss :  0.07119\n",
            "EPOCH 68 / 100 | ======================================== | train_acc:  0.98633 train_loss:  0.04930 | val_acc:  0.97950 val_loss :  0.07071\n",
            "EPOCH 69 / 100 | ======================================== | train_acc:  0.98650 train_loss:  0.04862 | val_acc:  0.97950 val_loss :  0.07025\n",
            "EPOCH 70 / 100 | ======================================== | train_acc:  0.98683 train_loss:  0.04796 | val_acc:  0.97942 val_loss :  0.06981\n",
            "EPOCH 71 / 100 | ======================================== | train_acc:  0.98702 train_loss:  0.04731 | val_acc:  0.97950 val_loss :  0.06938\n",
            "EPOCH 72 / 100 | ======================================== | train_acc:  0.98727 train_loss:  0.04668 | val_acc:  0.97983 val_loss :  0.06896\n",
            "EPOCH 73 / 100 | ======================================== | train_acc:  0.98746 train_loss:  0.04607 | val_acc:  0.97975 val_loss :  0.06856\n",
            "EPOCH 74 / 100 | ======================================== | train_acc:  0.98767 train_loss:  0.04547 | val_acc:  0.97992 val_loss :  0.06818\n",
            "EPOCH 75 / 100 | ======================================== | train_acc:  0.98781 train_loss:  0.04488 | val_acc:  0.98017 val_loss :  0.06780\n",
            "EPOCH 76 / 100 | ======================================== | train_acc:  0.98796 train_loss:  0.04431 | val_acc:  0.98042 val_loss :  0.06744\n",
            "EPOCH 77 / 100 | ======================================== | train_acc:  0.98804 train_loss:  0.04375 | val_acc:  0.98042 val_loss :  0.06709\n",
            "EPOCH 78 / 100 | ======================================== | train_acc:  0.98823 train_loss:  0.04320 | val_acc:  0.98058 val_loss :  0.06675\n",
            "EPOCH 79 / 100 | ======================================== | train_acc:  0.98831 train_loss:  0.04266 | val_acc:  0.98075 val_loss :  0.06643\n",
            "EPOCH 80 / 100 | ======================================== | train_acc:  0.98846 train_loss:  0.04214 | val_acc:  0.98075 val_loss :  0.06611\n",
            "EPOCH 81 / 100 | ======================================== | train_acc:  0.98854 train_loss:  0.04162 | val_acc:  0.98067 val_loss :  0.06581\n",
            "EPOCH 82 / 100 | ======================================== | train_acc:  0.98871 train_loss:  0.04112 | val_acc:  0.98075 val_loss :  0.06551\n",
            "EPOCH 83 / 100 | ======================================== | train_acc:  0.98877 train_loss:  0.04062 | val_acc:  0.98083 val_loss :  0.06522\n",
            "EPOCH 84 / 100 | ======================================== | train_acc:  0.98900 train_loss:  0.04014 | val_acc:  0.98092 val_loss :  0.06495\n",
            "EPOCH 85 / 100 | ======================================== | train_acc:  0.98908 train_loss:  0.03967 | val_acc:  0.98100 val_loss :  0.06468\n",
            "EPOCH 86 / 100 | ======================================== | train_acc:  0.98927 train_loss:  0.03920 | val_acc:  0.98100 val_loss :  0.06442\n",
            "EPOCH 87 / 100 | ======================================== | train_acc:  0.98946 train_loss:  0.03874 | val_acc:  0.98100 val_loss :  0.06417\n",
            "EPOCH 88 / 100 | ======================================== | train_acc:  0.98960 train_loss:  0.03830 | val_acc:  0.98108 val_loss :  0.06393\n",
            "EPOCH 89 / 100 | ======================================== | train_acc:  0.98971 train_loss:  0.03786 | val_acc:  0.98108 val_loss :  0.06369\n",
            "EPOCH 90 / 100 | ======================================== | train_acc:  0.98996 train_loss:  0.03743 | val_acc:  0.98108 val_loss :  0.06346\n",
            "EPOCH 91 / 100 | ======================================== | train_acc:  0.99013 train_loss:  0.03700 | val_acc:  0.98117 val_loss :  0.06324\n",
            "EPOCH 92 / 100 | ======================================== | train_acc:  0.99021 train_loss:  0.03659 | val_acc:  0.98125 val_loss :  0.06303\n",
            "EPOCH 93 / 100 | ======================================== | train_acc:  0.99027 train_loss:  0.03618 | val_acc:  0.98117 val_loss :  0.06283\n",
            "EPOCH 94 / 100 | ======================================== | train_acc:  0.99035 train_loss:  0.03578 | val_acc:  0.98125 val_loss :  0.06263\n",
            "EPOCH 95 / 100 | ======================================== | train_acc:  0.99054 train_loss:  0.03538 | val_acc:  0.98125 val_loss :  0.06244\n",
            "EPOCH 96 / 100 | ======================================== | train_acc:  0.99063 train_loss:  0.03499 | val_acc:  0.98133 val_loss :  0.06225\n",
            "EPOCH 97 / 100 | ======================================== | train_acc:  0.99077 train_loss:  0.03461 | val_acc:  0.98133 val_loss :  0.06207\n",
            "EPOCH 98 / 100 | ======================================== | train_acc:  0.99085 train_loss:  0.03424 | val_acc:  0.98142 val_loss :  0.06190\n",
            "EPOCH 99 / 100 | ======================================== | train_acc:  0.99092 train_loss:  0.03387 | val_acc:  0.98158 val_loss :  0.06173\n",
            "EPOCH 100 / 100 | ======================================== | train_acc:  0.99104 train_loss:  0.03350 | val_acc:  0.98175 val_loss :  0.06157\n"
          ],
          "name": "stdout"
        }
      ]
    },
    {
      "cell_type": "markdown",
      "metadata": {
        "id": "9NNCYQqPpuVD",
        "colab_type": "text"
      },
      "source": [
        "### Plot Training History"
      ]
    },
    {
      "cell_type": "code",
      "metadata": {
        "id": "Vo3d-MoKpVvM",
        "colab_type": "code",
        "colab": {
          "base_uri": "https://localhost:8080/",
          "height": 283
        },
        "outputId": "b12f7191-496a-4d26-88e9-d1a99caa1d47"
      },
      "source": [
        "# accuracy\n",
        "plt.plot(history['train_acc'])\n",
        "plt.plot(history['val_acc'])\n",
        "plt.ylabel('accuracy')\n",
        "plt.xlabel('epoch')\n",
        "plt.legend(['training', 'validation'])\n",
        "plt.show()"
      ],
      "execution_count": 20,
      "outputs": [
        {
          "output_type": "display_data",
          "data": {
            "image/png": "[encoded data removed]",
            "text/plain": [
              "<Figure size 432x288 with 1 Axes>"
            ]
          },
          "metadata": {
            "tags": [],
            "needs_background": "light"
          }
        }
      ]
    },
    {
      "cell_type": "code",
      "metadata": {
        "id": "FzGMetJtpVo4",
        "colab_type": "code",
        "colab": {
          "base_uri": "https://localhost:8080/",
          "height": 279
        },
        "outputId": "7b1175e4-93df-4223-dc2f-7717435969e3"
      },
      "source": [
        "# loss\n",
        "plt.plot(history['train_loss'])\n",
        "plt.plot(history['val_loss'])\n",
        "plt.ylabel('loss')\n",
        "plt.xlabel('epoch')\n",
        "plt.legend(['training', 'validation'])\n",
        "plt.show()"
      ],
      "execution_count": 21,
      "outputs": [
        {
          "output_type": "display_data",
          "data": {
            "image/png": "[encoded data removed]",
            "text/plain": [
              "<Figure size 432x288 with 1 Axes>"
            ]
          },
          "metadata": {
            "tags": [],
            "needs_background": "light"
          }
        }
      ]
    },
    {
      "cell_type": "markdown",
      "metadata": {
        "id": "J22Prq50R8fb",
        "colab_type": "text"
      },
      "source": [
        "## Model Evaluation with Test Dataset"
      ]
    },
    {
      "cell_type": "code",
      "metadata": {
        "id": "EF9fw13ry-q7",
        "colab_type": "code",
        "colab": {
          "base_uri": "https://localhost:8080/",
          "height": 51
        },
        "outputId": "911e1d05-628d-4baf-daf1-4beed3d9b1a6"
      },
      "source": [
        "print(\"=== EVALUATE MODEL ===\")\n",
        "test_acc = model.accuracy(x_test, y_test)\n",
        "print(\"TEST ACCURACY : {}\".format(test_acc))"
      ],
      "execution_count": 22,
      "outputs": [
        {
          "output_type": "stream",
          "text": [
            "=== EVALUATE MODEL ===\n",
            "TEST ACCURACY : 0.9838\n"
          ],
          "name": "stdout"
        }
      ]
    },
    {
      "cell_type": "code",
      "metadata": {
        "id": "m3rZFBDZz-O-",
        "colab_type": "code",
        "colab": {
          "base_uri": "https://localhost:8080/",
          "height": 299
        },
        "outputId": "abe96111-b66b-4d4f-871d-3041b70d7da9"
      },
      "source": [
        "TCNUM = 20\n",
        "test_image = x_test[TCNUM].reshape(28, 28)\n",
        "answer = np.argmax(y_test[TCNUM])\n",
        "plt.imshow(test_image)\n",
        "plt.show()\n",
        "\n",
        "test_image = np.reshape(test_image, (-1, 1, 28, 28))\n",
        "print(\"answer: \", answer)\n",
        "print(\"prediction: \", np.argmax(model.predict(test_image)))"
      ],
      "execution_count": 23,
      "outputs": [
        {
          "output_type": "display_data",
          "data": {
            "image/png": "[encoded data removed]",
            "text/plain": [
              "<Figure size 432x288 with 1 Axes>"
            ]
          },
          "metadata": {
            "tags": [],
            "needs_background": "light"
          }
        },
        {
          "output_type": "stream",
          "text": [
            "answer:  9\n",
            "prediction:  9\n"
          ],
          "name": "stdout"
        }
      ]
    }
  ]
}