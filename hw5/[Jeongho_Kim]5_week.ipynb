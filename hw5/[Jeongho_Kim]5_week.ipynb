{
 "cells": [
  {
   "cell_type": "code",
   "execution_count": 2,
   "metadata": {
    "colab": {
     "base_uri": "https://localhost:8080/",
     "height": 34
    },
    "colab_type": "code",
    "id": "6rNc_5dWKrcK",
    "outputId": "6346e5ca-0848-4da6-801b-549cf55fd0e0"
   },
   "outputs": [
    {
     "ename": "ModuleNotFoundError",
     "evalue": "No module named 'google.colab'",
     "output_type": "error",
     "traceback": [
      "\u001b[1;31m---------------------------------------------------------------------------\u001b[0m",
      "\u001b[1;31mModuleNotFoundError\u001b[0m                       Traceback (most recent call last)",
      "\u001b[1;32m<ipython-input-2-d5df0069828e>\u001b[0m in \u001b[0;36m<module>\u001b[1;34m\u001b[0m\n\u001b[1;32m----> 1\u001b[1;33m \u001b[1;32mfrom\u001b[0m \u001b[0mgoogle\u001b[0m\u001b[1;33m.\u001b[0m\u001b[0mcolab\u001b[0m \u001b[1;32mimport\u001b[0m \u001b[0mdrive\u001b[0m\u001b[1;33m\u001b[0m\u001b[1;33m\u001b[0m\u001b[0m\n\u001b[0m\u001b[0;32m      2\u001b[0m \u001b[0mdrive\u001b[0m\u001b[1;33m.\u001b[0m\u001b[0mmount\u001b[0m\u001b[1;33m(\u001b[0m\u001b[1;34m'/content/drive'\u001b[0m\u001b[1;33m)\u001b[0m\u001b[1;33m\u001b[0m\u001b[1;33m\u001b[0m\u001b[0m\n",
      "\u001b[1;31mModuleNotFoundError\u001b[0m: No module named 'google.colab'"
     ]
    }
   ],
   "source": [
    "from google.colab import drive\n",
    "drive.mount('/content/drive')"
   ]
  },
  {
   "cell_type": "code",
   "execution_count": 1,
   "metadata": {
    "colab": {},
    "colab_type": "code",
    "id": "lL0PIm37JjTA"
   },
   "outputs": [],
   "source": [
    "import cv2\n",
    "import matplotlib.pyplot as plt\n",
    "import os\n",
    "import numpy as np\n",
    "import torch\n",
    "from torch.nn import Sequential, Conv2d, MaxPool2d, ReLU, BatchNorm2d, Linear\n",
    "import torchvision\n",
    "from unicodedata import normalize\n",
    "from torch.utils.data import Dataset\n",
    "import glob\n",
    "import IPython"
   ]
  },
  {
   "cell_type": "code",
   "execution_count": 2,
   "metadata": {},
   "outputs": [],
   "source": [
    "NUMBER_EPOCHS = 40\n",
    "HANGEUL_EPOCHS = 20"
   ]
  },
  {
   "cell_type": "code",
   "execution_count": 3,
   "metadata": {
    "colab": {},
    "colab_type": "code",
    "id": "EnlrEfbBgdkT"
   },
   "outputs": [],
   "source": [
    "#한글로 시작하는 파일은 모두 삭제\n",
    "ROOT_PATH = \"./data\"\n",
    "for i in os.listdir(ROOT_PATH):\n",
    "    if not i[0].isdigit():\n",
    "        os.remove(os.path.join(ROOT_PATH, i))\n",
    "    "
   ]
  },
  {
   "cell_type": "code",
   "execution_count": 4,
   "metadata": {
    "colab": {},
    "colab_type": "code",
    "id": "lNoq11tcJjTO"
   },
   "outputs": [],
   "source": [
    "#파일명에 한글이 들어가서 사진을 읽을 때 이 함수로 읽는다\n",
    "def my_cv_read(filepath):\n",
    "    ff = np.fromfile(filepath, dtype = np.uint8)\n",
    "    gray_img = cv2.imdecode(ff, cv2.IMREAD_GRAYSCALE)\n",
    "    (thresh, im_bw) = cv2.threshold(gray_img, 0, 255, cv2.THRESH_BINARY | cv2.THRESH_OTSU)\n",
    "    return im_bw"
   ]
  },
  {
   "cell_type": "code",
   "execution_count": 5,
   "metadata": {
    "colab": {},
    "colab_type": "code",
    "id": "SIkl0MHtJjTb"
   },
   "outputs": [],
   "source": [
    "#신식 번호판인지 구식 번호판인지 분류하는 함수\n",
    "def version_classifier(image):\n",
    "    if image[10,10] ==0:\n",
    "        #옛날 번호판\n",
    "        return 0\n",
    "    else:\n",
    "        #신식 번호판\n",
    "        return 1"
   ]
  },
  {
   "cell_type": "code",
   "execution_count": 6,
   "metadata": {
    "colab": {},
    "colab_type": "code",
    "id": "SIfYdXtNJjTl"
   },
   "outputs": [],
   "source": [
    "#숫자 모델\n",
    "class conv_block(torch.nn.Module):\n",
    "    def __init__(self, in_channels,out_channels, kernel_size = 3,stride = 1, padding = 1, pool_width = 2):\n",
    "        super(conv_block, self).__init__()\n",
    "        model = []\n",
    "        model.append(Conv2d(in_channels, out_channels, kernel_size = kernel_size, stride = stride, padding = padding))\n",
    "        model.append(BatchNorm2d(out_channels))\n",
    "        model.append(ReLU())\n",
    "        model.append(MaxPool2d((pool_width, pool_width)))\n",
    "        self.model = Sequential(*model)\n",
    "        \n",
    "    def forward(self, input_):\n",
    "        return self.model(input_)\n",
    "    \n",
    "    \n",
    "class number_classifier(torch.nn.Module):\n",
    "    def __init__(self):\n",
    "        super(number_classifier, self).__init__()\n",
    "        self.block1 = conv_block(1, 16)\n",
    "        self.block2 = conv_block(16, 32)\n",
    "        self.block3 = conv_block(32, 64)\n",
    "        self.block4 = conv_block(64,128)\n",
    "        self.block5 = conv_block(128,256)\n",
    "        self.fc = Linear(128*2*2, 10)\n",
    "        \n",
    "    def features(self, input_):\n",
    "        x = self.block1(input_)\n",
    "        x = self.block2(x)\n",
    "        x = self.block3(x)\n",
    "        x = self.block4(x)\n",
    "        return x\n",
    "    \n",
    "    def logits(self, features):\n",
    "        return self.fc(features)\n",
    "    \n",
    "    def forward(self, input_):\n",
    "        x = self.features(input_)\n",
    "        x = x.reshape(x.shape[0], -1)\n",
    "        return self.logits(x)\n",
    "    \n",
    "class hangeul_classifier(torch.nn.Module):\n",
    "    def __init__(self):\n",
    "        super(hangeul_classifier, self).__init__()\n",
    "        self.block1 = conv_block(1, 16)\n",
    "        self.block2 = conv_block(16,32)\n",
    "        self.block3 = conv_block(32, 64)\n",
    "        self.block4 = conv_block(64,128)\n",
    "        self.fc = Linear(128*2*2,40)\n",
    "        \n",
    "    def features(self, input_):\n",
    "        x= self.block1(input_)\n",
    "        x = self.block2(x)\n",
    "        x = self.block3(x)\n",
    "        x = self.block4(x)\n",
    "        return x\n",
    "    \n",
    "    def logits(self, features):\n",
    "        return self.fc(features)\n",
    "    \n",
    "    def forward(self, input_):\n",
    "        x = self.features(input_)\n",
    "        x = x.reshape(x.shape[0], -1)\n",
    "        return self.logits(x)\n"
   ]
  },
  {
   "cell_type": "code",
   "execution_count": 7,
   "metadata": {
    "colab": {},
    "colab_type": "code",
    "id": "K5FDCEPQJjTw"
   },
   "outputs": [],
   "source": [
    "transform = torchvision.transforms.Compose([torchvision.transforms.Resize(32),torchvision.transforms.ToTensor()])\n",
    "train_data = torchvision.datasets.MNIST(root = \"./\", download = True, train=True, transform=transform)\n",
    "test_data = torchvision.datasets.MNIST(root = \"./\", download = True, train = False, transform=transform)"
   ]
  },
  {
   "cell_type": "code",
   "execution_count": 8,
   "metadata": {
    "colab": {},
    "colab_type": "code",
    "id": "L3qU7rb_JjT7"
   },
   "outputs": [],
   "source": [
    "train_loader =torch.utils.data.DataLoader(train_data, batch_size = 512, shuffle=True)\n",
    "test_loader = torch.utils.data.DataLoader(test_data, batch_size = 512, shuffle=False)"
   ]
  },
  {
   "cell_type": "code",
   "execution_count": 9,
   "metadata": {
    "colab": {},
    "colab_type": "code",
    "id": "WCcAokoUJjUH"
   },
   "outputs": [],
   "source": [
    "device = torch.device(\"cuda:0\" if torch.cuda.is_available() else \"cpu\")\n",
    "number_model = number_classifier()\n",
    "number_model.to(device)\n",
    "loss_func = torch.nn.CrossEntropyLoss()\n",
    "optimizer = torch.optim.Adam(number_model.parameters())"
   ]
  },
  {
   "cell_type": "code",
   "execution_count": 10,
   "metadata": {
    "colab": {
     "base_uri": "https://localhost:8080/",
     "height": 105
    },
    "colab_type": "code",
    "id": "sEykHnvpJjUQ",
    "outputId": "0b1ee21a-26c9-4566-f4d9-20e364473b4e"
   },
   "outputs": [
    {
     "name": "stdout",
     "output_type": "stream",
     "text": [
      "epoch : 0\n",
      "epoch : 1\n",
      "epoch : 2\n",
      "epoch : 3\n",
      "epoch : 4\n",
      "epoch : 5\n",
      "epoch : 6\n",
      "epoch : 7\n",
      "epoch : 8\n",
      "epoch : 9\n",
      "epoch : 10\n",
      "epoch : 11\n",
      "epoch : 12\n",
      "epoch : 13\n",
      "epoch : 14\n",
      "epoch : 15\n",
      "epoch : 16\n",
      "epoch : 17\n",
      "epoch : 18\n",
      "epoch : 19\n",
      "epoch : 20\n",
      "epoch : 21\n",
      "epoch : 22\n",
      "epoch : 23\n",
      "epoch : 24\n",
      "epoch : 25\n",
      "epoch : 26\n",
      "epoch : 27\n",
      "epoch : 28\n",
      "epoch : 29\n",
      "epoch : 30\n",
      "epoch : 31\n",
      "epoch : 32\n",
      "epoch : 33\n",
      "epoch : 34\n",
      "epoch : 35\n",
      "epoch : 36\n",
      "epoch : 37\n",
      "epoch : 38\n",
      "epoch : 39\n"
     ]
    }
   ],
   "source": [
    "#MNIST로 훈련시킨 모델\n",
    "for i in range(NUMBER_EPOCHS):\n",
    "    for image, label in train_loader:\n",
    "        X_train = image.to(device)\n",
    "        y_train = label.to(device)\n",
    "        optimizer.zero_grad()\n",
    "        y_pred = number_model(X_train)\n",
    "        loss = loss_func(y_pred, y_train)\n",
    "        loss.backward()\n",
    "        optimizer.step()\n",
    "    print(\"epoch : {}\".format(i))"
   ]
  },
  {
   "cell_type": "code",
   "execution_count": 11,
   "metadata": {
    "colab": {
     "base_uri": "https://localhost:8080/",
     "height": 34
    },
    "colab_type": "code",
    "id": "LjRMSENOJjUa",
    "outputId": "d4ffbdbb-ff4c-4a72-cce7-c9818aa8ac06"
   },
   "outputs": [
    {
     "name": "stdout",
     "output_type": "stream",
     "text": [
      "accuracy : 99.39999389648438\n"
     ]
    }
   ],
   "source": [
    "number_model.eval()\n",
    "with torch.no_grad():\n",
    "    total = 0\n",
    "    correct = 0\n",
    "    for image, label in test_loader:\n",
    "        X_test =image.to(device)\n",
    "        y_test = label.to(device)\n",
    "\n",
    "        output  = number_model(X_test)\n",
    "        _, output_idx = torch.max(output, 1)\n",
    "        total += output.shape[0]\n",
    "        correct += (output_idx == y_test).sum().float()\n",
    "    print(\"accuracy : {}\".format(100 * correct / total))\n",
    "        "
   ]
  },
  {
   "cell_type": "markdown",
   "metadata": {
    "colab_type": "text",
    "id": "1umR21SWJjUq"
   },
   "source": [
    "# 이미지 crop & 숫자 처리"
   ]
  },
  {
   "cell_type": "code",
   "execution_count": 12,
   "metadata": {
    "colab": {},
    "colab_type": "code",
    "id": "Axm6P1_OJjUr"
   },
   "outputs": [],
   "source": [
    "#버전에 맞게 이미지 자르는 함수\n",
    "def crop_image(img):\n",
    "    version = version_classifier(img)\n",
    "    if version ==0:\n",
    "        print(\"옛날 번호판\")\n",
    "        img = img/ 255.0\n",
    "        n1 = img[0:21, 50:87] \n",
    "        n2 = img[0:21, 87 : 112] \n",
    "        n3 = img[20:67, 3:50] \n",
    "        n4 = img[20:67, 50:100]\n",
    "        n5 = img[20:67, 100:150] \n",
    "        n6 = img[20:67, 150:194] \n",
    "        char = img[2:22, 112:150]\n",
    "        \n",
    "    else:\n",
    "        print(\"신식 번호판\")\n",
    "        img = img / 255.0\n",
    "        img = (1-img)\n",
    "        n1 = img[10:63,12:40]\n",
    "        n2 = img[10:63, 40:60]\n",
    "        n3 = img[10:63, 95:120] \n",
    "        n4 = img[10:63, 120:140]\n",
    "        n5 = img[10:63, 149:163] \n",
    "        n6 = img[10:63, 163:187]\n",
    "        char = img[10:63, 62:87] \n",
    "    #     plt.imshow(n1)\n",
    "    #     plt.show()\n",
    "    #     plt.imshow(n2)\n",
    "    #     plt.show()\n",
    "    #     plt.imshow(n3)\n",
    "    #     plt.show()\n",
    "    #     plt.imshow(n4)\n",
    "    #     plt.show()\n",
    "    #     plt.imshow(n5)\n",
    "    #     plt.show()\n",
    "    #     plt.imshow(n6)\n",
    "    #     plt.show()\n",
    "    #     plt.imshow(char)\n",
    "    #     plt.show()\n",
    "    return (n1,n2,n3,n4,n5,n6,char)"
   ]
  },
  {
   "cell_type": "markdown",
   "metadata": {
    "colab_type": "text",
    "id": "w6iVtLlpnlGu"
   },
   "source": [
    "# 한글 분류"
   ]
  },
  {
   "cell_type": "code",
   "execution_count": 13,
   "metadata": {},
   "outputs": [],
   "source": [
    "#한글 파일 imwrite에러를 방지한 코드\n",
    "def my_imwrite(filename, img, params=None): \n",
    "    try: \n",
    "        ext = os.path.splitext(filename)[1]\n",
    "        result, n = cv2.imencode(ext, img, params)\n",
    "        if result: \n",
    "            with open(filename, mode='w+b') as f: \n",
    "                n.tofile(f) \n",
    "                return True \n",
    "        else: \n",
    "            return False \n",
    "    except Exception as e: \n",
    "        print(e) \n",
    "        return False"
   ]
  },
  {
   "cell_type": "code",
   "execution_count": 14,
   "metadata": {
    "colab": {},
    "colab_type": "code",
    "id": "LZixCNXMqLCT"
   },
   "outputs": [],
   "source": [
    "#한글만 자른 파일 만들기\n",
    "HANGEUL_PATH = \"./cropped_hangeul\"\n",
    "if not os.path.isdir(HANGEUL_PATH):\n",
    "    os.mkdir(HANGEUL_PATH)\n",
    "if not os.path.isdir(os.path.join(HANGEUL_PATH, \"train\")):\n",
    "    os.mkdir(os.path.join(HANGEUL_PATH, \"train\"))\n",
    "if not os.path.isdir(os.path.join(HANGEUL_PATH, \"test\")):\n",
    "    os.mkdir(os.path.join(HANGEUL_PATH, \"test\"))"
   ]
  },
  {
   "cell_type": "code",
   "execution_count": 15,
   "metadata": {
    "colab": {},
    "colab_type": "code",
    "id": "mP0KeAOfeo7G"
   },
   "outputs": [],
   "source": [
    "#한글 이미지만 뽑아서 분류후 폴더별로 저장\n",
    "for file_name in os.listdir(ROOT_PATH):\n",
    "    file_path = os.path.join(ROOT_PATH, file_name)\n",
    "    img = my_cv_read(file_path)\n",
    "    new_file_name = normalize(\"NFC\", file_name)\n",
    "    hangeul_char = new_file_name[2]\n",
    "    hangeul_image = crop_image(img)[-1]\n",
    "    #test폴더에 집어넣기\n",
    "    if np.random.randint(0,100) % 10 == 0:\n",
    "        if not os.path.isdir(os.path.join(HANGEUL_PATH,\"test\", hangeul_char)):\n",
    "            os.mkdir(os.path.join(HANGEUL_PATH,\"test\", hangeul_char))\n",
    "        my_imwrite(os.path.join(HANGEUL_PATH,\"test\",  hangeul_char, file_name), hangeul_image)\n",
    "    #train폴더에 집어넣기\n",
    "    else:\n",
    "        if not os.path.isdir(os.path.join(HANGEUL_PATH , \"train\", hangeul_char)):\n",
    "            os.mkdir(os.path.join(HANGEUL_PATH, \"train\", hangeul_char))\n",
    "        my_imwrite(os.path.join(HANGEUL_PATH, \"train\", hangeul_char,file_name), hangeul_image)\n",
    "IPython.display.clear_output()"
   ]
  },
  {
   "cell_type": "code",
   "execution_count": 16,
   "metadata": {
    "colab": {},
    "colab_type": "code",
    "id": "yos_no7Ln-2l"
   },
   "outputs": [],
   "source": [
    "#한글 분류하는 모델저장\n",
    "class conv_block(torch.nn.Module):\n",
    "    def __init__(self, in_channels,out_channels, kernel_size = 3,stride = 1, padding = 1, pool_width = 2):\n",
    "        super(conv_block, self).__init__()\n",
    "        model = []\n",
    "        model.append(Conv2d(in_channels, out_channels, kernel_size = kernel_size, stride = stride, padding = padding))\n",
    "        model.append(BatchNorm2d(out_channels))\n",
    "        model.append(ReLU())\n",
    "        model.append(MaxPool2d((pool_width, pool_width)))\n",
    "        self.model = Sequential(*model)\n",
    "        \n",
    "    def forward(self, input_):\n",
    "        return self.model(input_)\n",
    "    \n",
    "    \n",
    "class hangeul_classifier(torch.nn.Module):\n",
    "    def __init__(self):\n",
    "        super(number_classifier, self).__init__()\n",
    "        self.block1 = conv_block(1, 16)\n",
    "        self.block2 = conv_block(16, 32)\n",
    "        self.block3 = conv_block(32, 64)\n",
    "        self.block4 = conv_block(64,128)\n",
    "        self.block5 = conv_block(128,256)\n",
    "        self.fc = Linear(128*2*2, 34)\n",
    "        \n",
    "    def features(self, input_):\n",
    "        x = self.block1(input_)\n",
    "        x = self.block2(x)\n",
    "        x = self.block3(x)\n",
    "        x = self.block4(x)\n",
    "        return x\n",
    "    \n",
    "    def logits(self, features):\n",
    "        return self.fc(features)\n",
    "    \n",
    "    def forward(self, input_):\n",
    "        x = self.features(input_)\n",
    "        x = x.reshape(x.shape[0], -1)\n",
    "        return self.logits(x)\n",
    "    \n",
    "class hangeul_classifier(torch.nn.Module):\n",
    "    def __init__(self):\n",
    "        super(hangeul_classifier, self).__init__()\n",
    "        self.block1 = conv_block(1, 16)\n",
    "        self.block2 = conv_block(16,32)\n",
    "        self.block3 = conv_block(32, 64)\n",
    "        self.block4 = conv_block(64,128)\n",
    "        self.fc = Linear(128*2*2,40)\n",
    "        \n",
    "    def features(self, input_):\n",
    "        x= self.block1(input_)\n",
    "        x = self.block2(x)\n",
    "        x = self.block3(x)\n",
    "        x = self.block4(x)\n",
    "        return x\n",
    "    \n",
    "    def logits(self, features):\n",
    "        return self.fc(features)\n",
    "    \n",
    "    def forward(self, input_):\n",
    "        x = self.features(input_)\n",
    "        x = x.reshape(x.shape[0], -1)\n",
    "        return self.logits(x)\n"
   ]
  },
  {
   "cell_type": "code",
   "execution_count": 17,
   "metadata": {},
   "outputs": [],
   "source": [
    "#resize한 한글 이미지를 새로저장\n",
    "NEW_HANGEUL_PATH = \"./new_cropped_hangeul\"\n",
    "HANGEUL_PATH = \"./cropped_hangeul\"\n",
    "new_list = glob.glob(HANGEUL_PATH + \"/train/\" + \"/*/\" + \"*\")\n",
    "if not os.path.isdir(NEW_HANGEUL_PATH):\n",
    "    os.mkdir(NEW_HANGEUL_PATH)\n",
    "for i in new_list:\n",
    "    new_img = my_cv_read(i)\n",
    "    new_img = cv2.resize(new_img, (32,32))\n",
    "    new_char = i[-9]\n",
    "    if not os.path.isdir(os.path.join(NEW_HANGEUL_PATH, \"train\", new_char)):\n",
    "        os.makedirs(os.path.join(NEW_HANGEUL_PATH, \"train\", new_char))\n",
    "    my_imwrite(os.path.join(NEW_HANGEUL_PATH, \"train\", new_char, i[-11:]), new_img)"
   ]
  },
  {
   "cell_type": "code",
   "execution_count": 18,
   "metadata": {},
   "outputs": [],
   "source": [
    "#test파일 저장\n",
    "NEW_HANGEUL_PATH = \"./new_cropped_hangeul\"\n",
    "HANGEUL_PATH = \"./cropped_hangeul\"\n",
    "new_list = glob.glob(HANGEUL_PATH + \"/test/\" + \"/*/\" + \"*\")\n",
    "if not os.path.isdir(NEW_HANGEUL_PATH):\n",
    "    os.mkdir(NEW_HANGEUL_PATH)\n",
    "for i in new_list:\n",
    "    new_img = my_cv_read(i)\n",
    "    new_img = cv2.resize(new_img, (32,32))\n",
    "    new_char = i[-9]\n",
    "    if not os.path.isdir(os.path.join(NEW_HANGEUL_PATH, \"test\", new_char)):\n",
    "        os.makedirs(os.path.join(NEW_HANGEUL_PATH, \"test\", new_char))\n",
    "    my_imwrite(os.path.join(NEW_HANGEUL_PATH, \"test\", new_char, i[-11:]), new_img)"
   ]
  },
  {
   "cell_type": "code",
   "execution_count": 19,
   "metadata": {
    "colab": {},
    "colab_type": "code",
    "id": "zFdajkt9e1ER"
   },
   "outputs": [],
   "source": [
    "hangeul_model = hangeul_classifier()\n",
    "hangeul_model.to(device)\n",
    "loss_func = torch.nn.CrossEntropyLoss()\n",
    "optimizer = torch.optim.Adam(hangeul_model.parameters())"
   ]
  },
  {
   "cell_type": "code",
   "execution_count": 20,
   "metadata": {
    "colab": {},
    "colab_type": "code",
    "id": "AeyV5I--s7T1"
   },
   "outputs": [],
   "source": [
    "#한글을 레이블로, 레이블을 한글로 만드는 자료구조 및 커스텀 데이터 로드\n",
    "hangeul_to_idx = {\"가\":0, \"거\":1, \"고\":2, \"구\":3, \"나\":4, \"너\":5, \"노\":6, \"누\":7, \"다\":8, \"더\":9, \"도\":10, \"두\":11, \"라\":12, \"러\":13, \"로\":14, \n",
    "                  \"루\":15, \"마\":16, \"머\": 17,\"모\":18, \"무\":19, \"버\":20, \"보\":21, \"부\":22, \"서\":23, \"소\":24, \"수\":25, \"어\":26, \"오\":27, \"우\":28, \"저\":29, \n",
    "                  \"조\":30, \"주\":31, \"하\":32, \"호\":33}\n",
    "\n",
    "idx_to_hangeul = [\"가\",\"거\", \"고\", \"구\", \"나\", \"너\", \"노\", \"누\", \"다\", \"더\", \"도\", \"두\", \"라\", \"러\", \"로\", \"루\", \"마\", \"머\",\"모\", \"무\", \"버\", \"보\", \"부\",\n",
    "                  \"서\", \"소\", \"수\", \"어\", \"오\", \"우\", \"저\",\"조\", \"주\", \"하\", \"호\"]\n",
    "class hangeulDataset(Dataset):\n",
    "    def __init__(self, root_dir, train = True, transform = None):\n",
    "        super(hangeulDataset, self).__init__()\n",
    "        self.root_dir = root_dir\n",
    "        self.transform = transform\n",
    "        if train:\n",
    "            self.image_paths = glob.glob(HANGEUL_PATH + \"/train/\" + \"/*/\" + \"*\")\n",
    "        else:\n",
    "            self.image_paths = glob.glob(HANGEUL_PATH + \"/test/\" + \"/*/\" +  \"*\")\n",
    "        \n",
    "        \n",
    "    def __len__(self):\n",
    "        return len(self.image_paths)\n",
    "\n",
    "    def __getitem__(self, idx):\n",
    "        file_path = self.image_paths[idx]\n",
    "        image = my_cv_read(file_path)\n",
    "        image = cv2.resize(image, (32,32))\n",
    "        version = version_classifier(image)\n",
    "        image = transform(image)\n",
    "        label = hangeul_to_idx[file_path[-9]]\n",
    "        return (image, label)"
   ]
  },
  {
   "cell_type": "code",
   "execution_count": 21,
   "metadata": {},
   "outputs": [],
   "source": [
    "transform = torchvision.transforms.Compose([torchvision.transforms.ToPILImage(),torchvision.transforms.Grayscale(),torchvision.transforms.ToTensor()])"
   ]
  },
  {
   "cell_type": "code",
   "execution_count": 22,
   "metadata": {},
   "outputs": [],
   "source": [
    "train_data = hangeulDataset(HANGEUL_PATH, train = True, transform = transform)\n",
    "test_data = hangeulDataset(HANGEUL_PATH, train = False, transform = transform)\n",
    "\n",
    "train_loader = torch.utils.data.DataLoader(train_data, batch_size = 16, shuffle=True)\n",
    "test_loader = torch.utils.data.DataLoader(test_data, batch_size = 16, shuffle = True)"
   ]
  },
  {
   "cell_type": "code",
   "execution_count": 23,
   "metadata": {},
   "outputs": [
    {
     "name": "stdout",
     "output_type": "stream",
     "text": [
      "epoch : 0\n",
      "epoch : 1\n",
      "epoch : 2\n",
      "epoch : 3\n",
      "epoch : 4\n",
      "epoch : 5\n",
      "epoch : 6\n",
      "epoch : 7\n",
      "epoch : 8\n",
      "epoch : 9\n",
      "epoch : 10\n",
      "epoch : 11\n",
      "epoch : 12\n",
      "epoch : 13\n",
      "epoch : 14\n",
      "epoch : 15\n",
      "epoch : 16\n",
      "epoch : 17\n",
      "epoch : 18\n",
      "epoch : 19\n"
     ]
    }
   ],
   "source": [
    "for epoch in range(HANGEUL_EPOCHS):\n",
    "    for image, label in train_loader:\n",
    "        X_train = image.to(device)\n",
    "        y_train = label.to(device)\n",
    "        optimizer.zero_grad()\n",
    "        y_pred = hangeul_model(X_train)\n",
    "        loss = loss_func(y_pred, y_train)\n",
    "        loss.backward()\n",
    "        optimizer.step()\n",
    "    print(\"epoch : {}\".format(epoch))\n",
    "        "
   ]
  },
  {
   "cell_type": "code",
   "execution_count": 24,
   "metadata": {},
   "outputs": [
    {
     "name": "stdout",
     "output_type": "stream",
     "text": [
      "accuracy : 99.62216186523438\n"
     ]
    }
   ],
   "source": [
    "total = 0\n",
    "correct = 0\n",
    "\n",
    "hangeul_model.eval()\n",
    "with torch.no_grad():\n",
    "    for image, label in test_loader:\n",
    "        X_test = image.to(device)\n",
    "        y_test = label.to(device)\n",
    "\n",
    "        output = hangeul_model(X_test)\n",
    "        _, output_idx = torch.max(output, 1)\n",
    "        total += output_idx.shape[0]\n",
    "        correct += (output_idx == y_test).sum().float()\n",
    "    print(\"accuracy : {}\".format(100 * correct / total))"
   ]
  },
  {
   "cell_type": "markdown",
   "metadata": {},
   "source": [
    "# 종합"
   ]
  },
  {
   "cell_type": "code",
   "execution_count": 29,
   "metadata": {},
   "outputs": [
    {
     "name": "stdout",
     "output_type": "stream",
     "text": [
      "test image 신식 번호판\n"
     ]
    },
    {
     "data": {
      "image/png": "[encoded data removed]",
      "text/plain": [
       "<Figure size 432x288 with 1 Axes>"
      ]
     },
     "metadata": {
      "needs_background": "light"
     },
     "output_type": "display_data"
    }
   ],
   "source": [
    "idx = 8\n",
    "file_name = os.listdir(ROOT_PATH)[idx]\n",
    "test_image = my_cv_read(os.path.join(ROOT_PATH, file_name))\n",
    "print(\"test image\", end = \" \")\n",
    "version = version_classifier(test_image)\n",
    "if version ==0:\n",
    "    print(\"옛날 번호판\")\n",
    "else:\n",
    "    print(\"신식 번호판\")\n",
    "plt.imshow(test_image)\n",
    "plt.show()"
   ]
  },
  {
   "cell_type": "code",
   "execution_count": 30,
   "metadata": {},
   "outputs": [
    {
     "name": "stdout",
     "output_type": "stream",
     "text": [
      "신식 번호판\n",
      "번호판 :  07오2026\n"
     ]
    }
   ],
   "source": [
    "number_plate = []\n",
    "\n",
    "number_model.eval()\n",
    "hangeul_model.eval()\n",
    "with torch.no_grad():\n",
    "    cropped_images = crop_image(test_image)\n",
    "    for image in cropped_images[:6]:\n",
    "        resized_number =cv2.resize(image, (32,32)).reshape(1,1,32,32)\n",
    "        resized_number = torch.from_numpy(resized_number).float().to(device)\n",
    "        number_plate.append(torch.max(number_model(resized_number), 1)[1].cpu().detach().numpy()[0])\n",
    "    resized_hangeul = cv2.resize(cropped_images[6], (32,32)).reshape(1,1,32,32)\n",
    "    resized_hangeul = torch.from_numpy(resized_hangeul).float().to(device)\n",
    "    hangeul = idx_to_hangeul[torch.max(hangeul_model(resized_hangeul), 1)[1].cpu().detach().numpy()[0]]\n",
    "    number_plate.insert(2, hangeul)\n",
    "print(\"번호판 : \",\"\".join(map(str, number_plate)))"
   ]
  },
  {
   "cell_type": "code",
   "execution_count": 32,
   "metadata": {},
   "outputs": [
    {
     "name": "stdout",
     "output_type": "stream",
     "text": [
      "test image 옛날 번호판\n"
     ]
    },
    {
     "data": {
      "image/png": "[encoded data removed]",
      "text/plain": [
       "<Figure size 432x288 with 1 Axes>"
      ]
     },
     "metadata": {
      "needs_background": "light"
     },
     "output_type": "display_data"
    },
    {
     "name": "stdout",
     "output_type": "stream",
     "text": [
      "옛날 번호판\n",
      "번호판 :  01다1886\n",
      "\n",
      "\n",
      "\n",
      "test image 옛날 번호판\n"
     ]
    },
    {
     "data": {
      "image/png": "[encoded data removed]",
      "text/plain": [
       "<Figure size 432x288 with 1 Axes>"
      ]
     },
     "metadata": {
      "needs_background": "light"
     },
     "output_type": "display_data"
    },
    {
     "name": "stdout",
     "output_type": "stream",
     "text": [
      "옛날 번호판\n",
      "번호판 :  01도6844\n",
      "\n",
      "\n",
      "\n",
      "test image 신식 번호판\n"
     ]
    },
    {
     "data": {
      "image/png": "[encoded data removed]",
      "text/plain": [
       "<Figure size 432x288 with 1 Axes>"
      ]
     },
     "metadata": {
      "needs_background": "light"
     },
     "output_type": "display_data"
    },
    {
     "name": "stdout",
     "output_type": "stream",
     "text": [
      "신식 번호판\n",
      "번호판 :  07두6773\n",
      "\n",
      "\n",
      "\n",
      "test image 옛날 번호판\n"
     ]
    },
    {
     "data": {
      "image/png": "[encoded data removed]",
      "text/plain": [
       "<Figure size 432x288 with 1 Axes>"
      ]
     },
     "metadata": {
      "needs_background": "light"
     },
     "output_type": "display_data"
    },
    {
     "name": "stdout",
     "output_type": "stream",
     "text": [
      "옛날 번호판\n",
      "번호판 :  01소4366\n",
      "\n",
      "\n",
      "\n",
      "test image 신식 번호판\n"
     ]
    },
    {
     "data": {
      "image/png": "[encoded data removed]",
      "text/plain": [
       "<Figure size 432x288 with 1 Axes>"
      ]
     },
     "metadata": {
      "needs_background": "light"
     },
     "output_type": "display_data"
    },
    {
     "name": "stdout",
     "output_type": "stream",
     "text": [
      "신식 번호판\n",
      "번호판 :  07오2026\n",
      "\n",
      "\n",
      "\n"
     ]
    }
   ],
   "source": [
    "for i in [1,3,5,7,8]:\n",
    "    idx = i\n",
    "    file_name = os.listdir(ROOT_PATH)[idx]\n",
    "    test_image = my_cv_read(os.path.join(ROOT_PATH, file_name))\n",
    "    print(\"test image\", end = \" \")\n",
    "    version = version_classifier(test_image)\n",
    "    if version ==0:\n",
    "        print(\"옛날 번호판\")\n",
    "    else:\n",
    "        print(\"신식 번호판\")\n",
    "    plt.imshow(test_image)\n",
    "    plt.show()\n",
    "    number_plate = []\n",
    "\n",
    "    number_model.eval()\n",
    "    hangeul_model.eval()\n",
    "    with torch.no_grad():\n",
    "        cropped_images = crop_image(test_image)\n",
    "        for image in cropped_images[:6]:\n",
    "            resized_number =cv2.resize(image, (32,32)).reshape(1,1,32,32)\n",
    "            resized_number = torch.from_numpy(resized_number).float().to(device)\n",
    "            number_plate.append(torch.max(number_model(resized_number), 1)[1].cpu().detach().numpy()[0])\n",
    "        resized_hangeul = cv2.resize(cropped_images[6], (32,32)).reshape(1,1,32,32)\n",
    "        resized_hangeul = torch.from_numpy(resized_hangeul).float().to(device)\n",
    "        hangeul = idx_to_hangeul[torch.max(hangeul_model(resized_hangeul), 1)[1].cpu().detach().numpy()[0]]\n",
    "        number_plate.insert(2, hangeul)\n",
    "    print(\"번호판 : \",\"\".join(map(str, number_plate)))\n",
    "    print(\"\\n\\n\")"
   ]
  },
  {
   "cell_type": "code",
   "execution_count": null,
   "metadata": {},
   "outputs": [],
   "source": []
  },
  {
   "cell_type": "code",
   "execution_count": null,
   "metadata": {},
   "outputs": [],
   "source": []
  },
  {
   "cell_type": "code",
   "execution_count": null,
   "metadata": {},
   "outputs": [],
   "source": []
  },
  {
   "cell_type": "code",
   "execution_count": null,
   "metadata": {},
   "outputs": [],
   "source": []
  },
  {
   "cell_type": "code",
   "execution_count": null,
   "metadata": {},
   "outputs": [],
   "source": []
  },
  {
   "cell_type": "code",
   "execution_count": null,
   "metadata": {},
   "outputs": [],
   "source": []
  },
  {
   "cell_type": "code",
   "execution_count": null,
   "metadata": {},
   "outputs": [],
   "source": []
  },
  {
   "cell_type": "code",
   "execution_count": null,
   "metadata": {},
   "outputs": [],
   "source": []
  }
 ],
 "metadata": {
  "accelerator": "GPU",
  "colab": {
   "collapsed_sections": [],
   "name": "Untitled.ipynb",
   "provenance": []
  },
  "kernelspec": {
   "display_name": "rlawjdghek",
   "language": "python",
   "name": "rlawjdghek"
  },
  "language_info": {
   "codemirror_mode": {
    "name": "ipython",
    "version": 3
   },
   "file_extension": ".py",
   "mimetype": "text/x-python",
   "name": "python",
   "nbconvert_exporter": "python",
   "pygments_lexer": "ipython3",
   "version": "3.7.7"
  }
 },
 "nbformat": 4,
 "nbformat_minor": 4
}
