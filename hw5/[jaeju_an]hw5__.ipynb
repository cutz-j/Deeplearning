{
 "cells": [
  {
   "cell_type": "markdown",
   "metadata": {
    "colab_type": "text",
    "id": "PgJtxq0M7KNt"
   },
   "source": [
    "#### library import"
   ]
  },
  {
   "cell_type": "code",
   "execution_count": 1,
   "metadata": {
    "colab": {},
    "colab_type": "code",
    "executionInfo": {
     "elapsed": 866,
     "status": "ok",
     "timestamp": 1599404265373,
     "user": {
      "displayName": "안재주",
      "photoUrl": "",
      "userId": "12503421062907418952"
     },
     "user_tz": -540
    },
    "id": "PlINp2Iaewlr"
   },
   "outputs": [],
   "source": [
    "import os\n",
    "import re\n",
    "import cv2\n",
    "import numpy as np\n",
    "import pandas as pd\n",
    "import matplotlib.pyplot as plt\n",
    "\n",
    "from tqdm import tqdm\n",
    "from PIL import Image\n",
    "from collections import Counter\n",
    "\n",
    "import torch\n",
    "import torch.nn as nn\n",
    "import torch.optim as optim\n",
    "import torch.utils.data as data\n",
    "import torch.nn.functional as F\n",
    "\n",
    "import torchvision.models as models\n",
    "import torchvision.transforms as transforms\n",
    "\n",
    "from torch.utils.data import Dataset, DataLoader"
   ]
  },
  {
   "cell_type": "markdown",
   "metadata": {
    "colab_type": "text",
    "id": "MVBf6At97Oj0"
   },
   "source": [
    "#### vocabulary class\n",
    "- idx to word: 숫자(int)를 word(string)으로 변환 \n",
    "- word to idx: 반대"
   ]
  },
  {
   "cell_type": "code",
   "execution_count": 2,
   "metadata": {
    "colab": {},
    "colab_type": "code",
    "executionInfo": {
     "elapsed": 856,
     "status": "ok",
     "timestamp": 1599404265375,
     "user": {
      "displayName": "안재주",
      "photoUrl": "",
      "userId": "12503421062907418952"
     },
     "user_tz": -540
    },
    "id": "CLtxSMlHsGjH"
   },
   "outputs": [],
   "source": [
    "class Vocabulary(object):\n",
    "    \"\"\"Simple vocabulary wrapper.\"\"\"\n",
    "    def __init__(self):\n",
    "        self.word2idx = {}\n",
    "        self.idx2word = {}\n",
    "        self.idx = 0\n",
    "\n",
    "    def add_word(self, word):\n",
    "        if not word in self.word2idx:\n",
    "            self.word2idx[word] = self.idx\n",
    "            self.idx2word[self.idx] = word\n",
    "            self.idx += 1\n",
    "\n",
    "    def __call__(self, word):\n",
    "        return self.word2idx[word]\n",
    "\n",
    "    def __len__(self):\n",
    "        return len(self.word2idx)"
   ]
  },
  {
   "cell_type": "markdown",
   "metadata": {
    "colab_type": "text",
    "id": "nYsxsl5E7dut"
   },
   "source": [
    "#### Main"
   ]
  },
  {
   "cell_type": "code",
   "execution_count": 3,
   "metadata": {
    "colab": {},
    "colab_type": "code",
    "executionInfo": {
     "elapsed": 849,
     "status": "ok",
     "timestamp": 1599404265375,
     "user": {
      "displayName": "안재주",
      "photoUrl": "",
      "userId": "12503421062907418952"
     },
     "user_tz": -540
    },
    "id": "EoBCBSc7acYl"
   },
   "outputs": [],
   "source": [
    "if __name__=='__main__':\n",
    "\n",
    "    img_path = './drive/My Drive/PerspectiveImages/'\n",
    "    valid_data = pd.read_csv('./valid_data.csv')    # 미리 제외시켜둔 데이터의 이름 저장"
   ]
  },
  {
   "cell_type": "markdown",
   "metadata": {
    "colab_type": "text",
    "id": "AfWKaEsM7oyD"
   },
   "source": [
    "#### Label to vocabulary\n"
   ]
  },
  {
   "cell_type": "code",
   "execution_count": 4,
   "metadata": {
    "colab": {},
    "colab_type": "code",
    "executionInfo": {
     "elapsed": 1078,
     "status": "ok",
     "timestamp": 1599404265614,
     "user": {
      "displayName": "안재주",
      "photoUrl": "",
      "userId": "12503421062907418952"
     },
     "user_tz": -540
    },
    "id": "QwlHI19GamnW"
   },
   "outputs": [],
   "source": [
    "captions = [name[:-4] for name in valid_data['name']] # eliminate the .jpg\n",
    "counter = Counter()\n",
    "for cap in captions:\n",
    "    for token in cap:\n",
    "        counter.update(token)\n",
    "        \n",
    "words = [word for word, cnt in counter.items()]\n",
    "vocab = Vocabulary()\n",
    "\n",
    "for i, word in enumerate(words):\n",
    "    vocab.add_word(word)"
   ]
  },
  {
   "cell_type": "code",
   "execution_count": 5,
   "metadata": {
    "colab": {
     "base_uri": "https://localhost:8080/",
     "height": 35
    },
    "colab_type": "code",
    "executionInfo": {
     "elapsed": 2155,
     "status": "ok",
     "timestamp": 1599404266699,
     "user": {
      "displayName": "안재주",
      "photoUrl": "",
      "userId": "12503421062907418952"
     },
     "user_tz": -540
    },
    "id": "a1URd3eMGOKp",
    "outputId": "89cfec90-0249-453e-c678-9d837ef2eb62"
   },
   "outputs": [
    {
     "name": "stderr",
     "output_type": "stream",
     "text": [
      "100%|██████████| 809/809 [00:01<00:00, 691.32it/s]\n"
     ]
    }
   ],
   "source": [
    "imgs = []\n",
    "for file_name in tqdm(valid_data['name']):\n",
    "    img = np.asarray(Image.open(img_path + file_name))\n",
    "    imgs.append(img)\n",
    "\n",
    "imgs = np.asarray(imgs)"
   ]
  },
  {
   "cell_type": "markdown",
   "metadata": {
    "colab_type": "text",
    "id": "uXQ8peDj77Dc"
   },
   "source": [
    "#### Transform\n",
    "- normalize 수행 X -> 왜 인지는 모르겠으나 성능 저하"
   ]
  },
  {
   "cell_type": "code",
   "execution_count": 6,
   "metadata": {
    "colab": {},
    "colab_type": "code",
    "executionInfo": {
     "elapsed": 2145,
     "status": "ok",
     "timestamp": 1599404266699,
     "user": {
      "displayName": "안재주",
      "photoUrl": "",
      "userId": "12503421062907418952"
     },
     "user_tz": -540
    },
    "id": "-G6Gk5aXGc-R"
   },
   "outputs": [],
   "source": [
    "transform = transforms.Compose([\n",
    "    transforms.ToTensor(),\n",
    "    #transforms.Normalize([140.72191205357143, 142.173804375, 141.2539975], [66.03655501729828, 65.7432860955485, 65.37706592308601]),\n",
    "])"
   ]
  },
  {
   "cell_type": "code",
   "execution_count": 7,
   "metadata": {
    "colab": {},
    "colab_type": "code",
    "executionInfo": {
     "elapsed": 2139,
     "status": "ok",
     "timestamp": 1599404266700,
     "user": {
      "displayName": "안재주",
      "photoUrl": "",
      "userId": "12503421062907418952"
     },
     "user_tz": -540
    },
    "id": "Tt9EMwrcGea6"
   },
   "outputs": [],
   "source": [
    "class CustomDataset(Dataset):\n",
    "    def __init__(self, imgs, vocab, captions, transform):\n",
    "        self.imgs = imgs\n",
    "        self.captions = captions\n",
    "        self.vocab = vocab\n",
    "        self.transform = transform\n",
    "        \n",
    "    def __getitem__(self, index):\n",
    "        imgs = self.imgs\n",
    "        vocab = self.vocab\n",
    "        captions = self.captions\n",
    "        \n",
    "        image = imgs[index]\n",
    "        if self.transform is not None:\n",
    "            image = self.transform(image)\n",
    "        \n",
    "        tokens = [token for token in captions[index]]\n",
    "        caption = []\n",
    "        caption.extend([vocab(token) for token in tokens])\n",
    "        target = torch.LongTensor(caption)\n",
    "        \n",
    "        return image, target\n",
    "    \n",
    "    def __len__(self):\n",
    "        return len(self.imgs)"
   ]
  },
  {
   "cell_type": "code",
   "execution_count": 8,
   "metadata": {
    "colab": {},
    "colab_type": "code",
    "executionInfo": {
     "elapsed": 2131,
     "status": "ok",
     "timestamp": 1599404266700,
     "user": {
      "displayName": "안재주",
      "photoUrl": "",
      "userId": "12503421062907418952"
     },
     "user_tz": -540
    },
    "id": "L_qKzwaUGfsw"
   },
   "outputs": [],
   "source": [
    "batch_size = 16\n",
    "shuffle = True\n",
    "\n",
    "c = CustomDataset(imgs, vocab, captions, transform)\n",
    "data_loder = DataLoader(dataset=c,\n",
    "                       batch_size=batch_size,\n",
    "                       shuffle=shuffle,\n",
    "                       )\n",
    "\n",
    "train_size = int(0.8 * c.__len__())\n",
    "test_size = c.__len__() - train_size"
   ]
  },
  {
   "cell_type": "code",
   "execution_count": 9,
   "metadata": {
    "colab": {},
    "colab_type": "code",
    "executionInfo": {
     "elapsed": 2124,
     "status": "ok",
     "timestamp": 1599404266701,
     "user": {
      "displayName": "안재주",
      "photoUrl": "",
      "userId": "12503421062907418952"
     },
     "user_tz": -540
    },
    "id": "OwkUcitnGkDu"
   },
   "outputs": [],
   "source": [
    "#torch.manual_seed(10)\n",
    "train_dataset, test_dataset = data.random_split(c, [train_size, test_size])\n",
    "train_loder = data.DataLoader(train_dataset, batch_size=batch_size, shuffle=shuffle)\n",
    "test_loder = data.DataLoader(test_dataset, batch_size=batch_size, shuffle=shuffle)"
   ]
  },
  {
   "cell_type": "markdown",
   "metadata": {
    "colab_type": "text",
    "id": "OwvlMBeh8HV4"
   },
   "source": [
    "#### Network\n",
    "- Depthwise seperable convolution 사용\n",
    "- MobileNet 구조\n",
    "- 차이: 마지막 단에서 Adaptive Average pooling 사용"
   ]
  },
  {
   "cell_type": "code",
   "execution_count": 10,
   "metadata": {
    "colab": {},
    "colab_type": "code",
    "executionInfo": {
     "elapsed": 2368,
     "status": "ok",
     "timestamp": 1599404266954,
     "user": {
      "displayName": "안재주",
      "photoUrl": "",
      "userId": "12503421062907418952"
     },
     "user_tz": -540
    },
    "id": "Fh8Famo5GlId"
   },
   "outputs": [],
   "source": [
    "class Depthwise_seperable_conv(nn.Module):\n",
    "    def __init__(self, in_channel, kernel_per_layer, out_channel, stride=1):\n",
    "        super(Depthwise_seperable_conv, self).__init__()\n",
    "        \n",
    "        self.depthwise = nn.Sequential(nn.Conv2d(in_channel, in_channel*kernel_per_layer, kernel_size=3, stride=stride, groups=in_channel),\n",
    "                                      nn.BatchNorm2d(in_channel*kernel_per_layer),\n",
    "                                      nn.ReLU()\n",
    "                                      )\n",
    "                                       \n",
    "        self.pointwise = nn.Sequential(nn.Conv2d(in_channel*kernel_per_layer, out_channel, kernel_size=1),\n",
    "                                      nn.BatchNorm2d(out_channel),\n",
    "                                      nn.ReLU()\n",
    "                                      )\n",
    "        \n",
    "    def forward(self, x):\n",
    "        x = self.depthwise(x)\n",
    "        x = self.pointwise(x)\n",
    "        return x\n",
    "    \n",
    "class Net(nn.Module):\n",
    "    def __init__(self, input_dim, output_dim, final_size):\n",
    "        super(Net, self).__init__()\n",
    "        \n",
    "        # regular convolution\n",
    "        self.reg_conv_1 = nn.Conv2d(input_dim, output_dim, kernel_size=3, stride=(1,2))\n",
    "        self.sep32_1 = Depthwise_seperable_conv(output_dim, 1, output_dim)\n",
    "        self.sep32_2 = Depthwise_seperable_conv(output_dim, 2, output_dim*2)\n",
    "        \n",
    "        self.sep64_1 = Depthwise_seperable_conv(output_dim*2, 1, output_dim*2, stride=(1,2))\n",
    "        self.sep64_2 = Depthwise_seperable_conv(output_dim*2, 2, output_dim*4)\n",
    "        \n",
    "        self.sep128_1 = Depthwise_seperable_conv(output_dim*4, 1, output_dim*4, stride=(1,2))\n",
    "        self.sep128_2 = Depthwise_seperable_conv(output_dim*4, 1, output_dim*4)\n",
    "        self.sep128_3 = Depthwise_seperable_conv(output_dim*4, 2, output_dim*8)\n",
    "        \n",
    "        self.sep256_1 = Depthwise_seperable_conv(output_dim*8, 1, output_dim*8, stride=(1,2))\n",
    "        self.sep256_2 = Depthwise_seperable_conv(output_dim*8, 1, output_dim*8)\n",
    "        self.sep256_3 = Depthwise_seperable_conv(output_dim*8, 2, output_dim*16)\n",
    "\n",
    "        self.sep512_1 = Depthwise_seperable_conv(output_dim*16, 1, output_dim*32, stride=(1,2))\n",
    "\n",
    "        self.avg_pool = nn.AdaptiveAvgPool2d(1)\n",
    "\n",
    "        # 약간의 ovefitting도 잡아보자!\n",
    "        self.fc = nn.Sequential(nn.Linear(1024, 1000),\n",
    "                                nn.Dropout(0.5),\n",
    "                                nn.Linear(1000, final_size)\n",
    "                               )\n",
    "        \n",
    "    def forward(self, x):\n",
    "        feature = self.reg_conv_1(x)\n",
    "        feature = self.sep32_1(feature)\n",
    "        feature = self.sep32_2(feature)\n",
    "        \n",
    "        feature = self.sep64_1(feature)\n",
    "        feature = self.sep64_2(feature)\n",
    "        \n",
    "        feature = self.sep128_1(feature)\n",
    "        feature = self.sep128_2(feature)\n",
    "        feature = self.sep128_3(feature)\n",
    "        \n",
    "        feature = self.sep256_1(feature)\n",
    "        feature = self.sep256_2(feature)\n",
    "        feature = self.sep256_3(feature)\n",
    "\n",
    "        feature = self.sep512_1(feature)\n",
    "        feature = self.avg_pool(feature)\n",
    "        feature = self.fc(feature.reshape(feature.shape[0], -1))\n",
    "        \n",
    "        return feature"
   ]
  },
  {
   "cell_type": "code",
   "execution_count": 11,
   "metadata": {
    "colab": {},
    "colab_type": "code",
    "executionInfo": {
     "elapsed": 2362,
     "status": "ok",
     "timestamp": 1599404266955,
     "user": {
      "displayName": "안재주",
      "photoUrl": "",
      "userId": "12503421062907418952"
     },
     "user_tz": -540
    },
    "id": "np65pMjnGz59"
   },
   "outputs": [],
   "source": [
    "def save_checkpoint(state, filename='MobileNet.path.tar'):\n",
    "    print(\">>> saving checkpoing\")\n",
    "    torch.save(state, filename)\n",
    "    \n",
    "def load_checkpoint(checkpoint):\n",
    "    model.load_state_dict(torch.load(checkpoint)['state_dict'])\n",
    "    optimizer.load_state_dict(torch.load(checkpoint)['optimizer'])"
   ]
  },
  {
   "cell_type": "code",
   "execution_count": 18,
   "metadata": {
    "colab": {},
    "colab_type": "code",
    "executionInfo": {
     "elapsed": 508,
     "status": "ok",
     "timestamp": 1599404931475,
     "user": {
      "displayName": "안재주",
      "photoUrl": "",
      "userId": "12503421062907418952"
     },
     "user_tz": -540
    },
    "id": "5ebJ06KAG0xe"
   },
   "outputs": [],
   "source": [
    "device= 'cuda' if torch.cuda.is_available() else 'cpu'\n",
    "lr = 0.0005\n",
    "epoch = 100\n",
    "final_size = 308\n",
    "vocab_size = len(vocab)\n",
    "input_dim = train_dataset.dataset.imgs.shape[-1]\n",
    "output_dim = 32\n",
    "\n",
    "model = Net(input_dim, output_dim, final_size).to(device)\n",
    "\n",
    "criterion = nn.CrossEntropyLoss()\n",
    "optimizer = optim.RMSprop(model.parameters(), lr=lr, momentum=0.2)\n",
    "\n",
    "checkpoint = 'MobileNet_v3.path.tar'\n",
    "load_model = False\n",
    "save_model = False"
   ]
  },
  {
   "cell_type": "code",
   "execution_count": 20,
   "metadata": {
    "colab": {
     "base_uri": "https://localhost:8080/",
     "height": 1000
    },
    "colab_type": "code",
    "executionInfo": {
     "elapsed": 434517,
     "status": "ok",
     "timestamp": 1599405390240,
     "user": {
      "displayName": "안재주",
      "photoUrl": "",
      "userId": "12503421062907418952"
     },
     "user_tz": -540
    },
    "id": "x2GnCqU4G2G2",
    "outputId": "bb0fccf9-34cc-4003-fcbe-75b23ab764b3"
   },
   "outputs": [
    {
     "name": "stderr",
     "output_type": "stream",
     "text": [
      "41it [00:04,  9.98it/s]\n"
     ]
    },
    {
     "name": "stdout",
     "output_type": "stream",
     "text": [
      "epoch: 1, loss: 122.56815338134766, train accuracy: 0.10421726650474716\n"
     ]
    },
    {
     "name": "stderr",
     "output_type": "stream",
     "text": [
      "2it [00:00, 12.38it/s]"
     ]
    },
    {
     "name": "stdout",
     "output_type": "stream",
     "text": [
      "epoch: 0, test accuracy: 0.09259259259259257\n"
     ]
    },
    {
     "name": "stderr",
     "output_type": "stream",
     "text": [
      "41it [00:04, 10.14it/s]\n"
     ]
    },
    {
     "name": "stdout",
     "output_type": "stream",
     "text": [
      "epoch: 2, loss: 127.58792877197266, train accuracy: 0.11393243541620664\n"
     ]
    },
    {
     "name": "stderr",
     "output_type": "stream",
     "text": [
      "2it [00:00, 12.41it/s]"
     ]
    },
    {
     "name": "stdout",
     "output_type": "stream",
     "text": [
      "epoch: 1, test accuracy: 0.1040564373897707\n"
     ]
    },
    {
     "name": "stderr",
     "output_type": "stream",
     "text": [
      "41it [00:04, 10.15it/s]\n"
     ]
    },
    {
     "name": "stdout",
     "output_type": "stream",
     "text": [
      "epoch: 3, loss: 120.39148712158203, train accuracy: 0.13954515345550894\n"
     ]
    },
    {
     "name": "stderr",
     "output_type": "stream",
     "text": [
      "2it [00:00, 12.39it/s]"
     ]
    },
    {
     "name": "stdout",
     "output_type": "stream",
     "text": [
      "epoch: 2, test accuracy: 0.13580246913580243\n"
     ]
    },
    {
     "name": "stderr",
     "output_type": "stream",
     "text": [
      "41it [00:04, 10.11it/s]\n"
     ]
    },
    {
     "name": "stdout",
     "output_type": "stream",
     "text": [
      "epoch: 4, loss: 114.90435028076172, train accuracy: 0.16802826230956058\n"
     ]
    },
    {
     "name": "stderr",
     "output_type": "stream",
     "text": [
      "2it [00:00, 11.64it/s]"
     ]
    },
    {
     "name": "stdout",
     "output_type": "stream",
     "text": [
      "epoch: 3, test accuracy: 0.17989417989417986\n"
     ]
    },
    {
     "name": "stderr",
     "output_type": "stream",
     "text": [
      "41it [00:04, 10.06it/s]\n"
     ]
    },
    {
     "name": "stdout",
     "output_type": "stream",
     "text": [
      "epoch: 5, loss: 118.1926040649414, train accuracy: 0.21086332523735918\n"
     ]
    },
    {
     "name": "stderr",
     "output_type": "stream",
     "text": [
      "2it [00:00, 12.34it/s]"
     ]
    },
    {
     "name": "stdout",
     "output_type": "stream",
     "text": [
      "epoch: 4, test accuracy: 0.20458553791887124\n"
     ]
    },
    {
     "name": "stderr",
     "output_type": "stream",
     "text": [
      "41it [00:04, 10.16it/s]\n"
     ]
    },
    {
     "name": "stdout",
     "output_type": "stream",
     "text": [
      "epoch: 6, loss: 121.1058578491211, train accuracy: 0.2380216383307573\n"
     ]
    },
    {
     "name": "stderr",
     "output_type": "stream",
     "text": [
      "2it [00:00, 12.39it/s]"
     ]
    },
    {
     "name": "stdout",
     "output_type": "stream",
     "text": [
      "epoch: 5, test accuracy: 0.24162257495590828\n"
     ]
    },
    {
     "name": "stderr",
     "output_type": "stream",
     "text": [
      "41it [00:04, 10.11it/s]\n"
     ]
    },
    {
     "name": "stdout",
     "output_type": "stream",
     "text": [
      "epoch: 7, loss: 98.50439453125, train accuracy: 0.2971958489732832\n"
     ]
    },
    {
     "name": "stderr",
     "output_type": "stream",
     "text": [
      "2it [00:00, 12.20it/s]"
     ]
    },
    {
     "name": "stdout",
     "output_type": "stream",
     "text": [
      "epoch: 6, test accuracy: 0.27248677248677244\n"
     ]
    },
    {
     "name": "stderr",
     "output_type": "stream",
     "text": [
      "41it [00:04, 10.09it/s]\n"
     ]
    },
    {
     "name": "stdout",
     "output_type": "stream",
     "text": [
      "epoch: 8, loss: 98.29100036621094, train accuracy: 0.3371605210863325\n"
     ]
    },
    {
     "name": "stderr",
     "output_type": "stream",
     "text": [
      "2it [00:00, 12.12it/s]"
     ]
    },
    {
     "name": "stdout",
     "output_type": "stream",
     "text": [
      "epoch: 7, test accuracy: 0.3236331569664902\n"
     ]
    },
    {
     "name": "stderr",
     "output_type": "stream",
     "text": [
      "41it [00:04, 10.12it/s]\n"
     ]
    },
    {
     "name": "stdout",
     "output_type": "stream",
     "text": [
      "epoch: 9, loss: 92.25584411621094, train accuracy: 0.3945683373813203\n"
     ]
    },
    {
     "name": "stderr",
     "output_type": "stream",
     "text": [
      "2it [00:00, 12.24it/s]"
     ]
    },
    {
     "name": "stdout",
     "output_type": "stream",
     "text": [
      "epoch: 8, test accuracy: 0.3721340388007054\n"
     ]
    },
    {
     "name": "stderr",
     "output_type": "stream",
     "text": [
      "41it [00:04, 10.05it/s]\n"
     ]
    },
    {
     "name": "stdout",
     "output_type": "stream",
     "text": [
      "epoch: 10, loss: 86.1730728149414, train accuracy: 0.4533009494369618\n"
     ]
    },
    {
     "name": "stderr",
     "output_type": "stream",
     "text": [
      "2it [00:00, 12.35it/s]"
     ]
    },
    {
     "name": "stdout",
     "output_type": "stream",
     "text": [
      "epoch: 9, test accuracy: 0.3888888888888888\n"
     ]
    },
    {
     "name": "stderr",
     "output_type": "stream",
     "text": [
      "41it [00:04, 10.11it/s]\n"
     ]
    },
    {
     "name": "stdout",
     "output_type": "stream",
     "text": [
      "epoch: 11, loss: 66.9613265991211, train accuracy: 0.49591521307131814\n"
     ]
    },
    {
     "name": "stderr",
     "output_type": "stream",
     "text": [
      "2it [00:00, 12.20it/s]"
     ]
    },
    {
     "name": "stdout",
     "output_type": "stream",
     "text": [
      "epoch: 10, test accuracy: 0.4444444444444444\n"
     ]
    },
    {
     "name": "stderr",
     "output_type": "stream",
     "text": [
      "41it [00:04, 10.07it/s]\n"
     ]
    },
    {
     "name": "stdout",
     "output_type": "stream",
     "text": [
      "epoch: 12, loss: 66.88075256347656, train accuracy: 0.5508942371384411\n"
     ]
    },
    {
     "name": "stderr",
     "output_type": "stream",
     "text": [
      "2it [00:00, 12.33it/s]"
     ]
    },
    {
     "name": "stdout",
     "output_type": "stream",
     "text": [
      "epoch: 11, test accuracy: 0.4841269841269841\n"
     ]
    },
    {
     "name": "stderr",
     "output_type": "stream",
     "text": [
      "41it [00:04, 10.10it/s]\n"
     ]
    },
    {
     "name": "stdout",
     "output_type": "stream",
     "text": [
      "epoch: 13, loss: 78.35604095458984, train accuracy: 0.5868845219695297\n"
     ]
    },
    {
     "name": "stderr",
     "output_type": "stream",
     "text": [
      "2it [00:00, 12.17it/s]"
     ]
    },
    {
     "name": "stdout",
     "output_type": "stream",
     "text": [
      "epoch: 12, test accuracy: 0.5132275132275133\n"
     ]
    },
    {
     "name": "stderr",
     "output_type": "stream",
     "text": [
      "41it [00:04, 10.13it/s]\n"
     ]
    },
    {
     "name": "stdout",
     "output_type": "stream",
     "text": [
      "epoch: 14, loss: 67.05952453613281, train accuracy: 0.6312651799514242\n"
     ]
    },
    {
     "name": "stderr",
     "output_type": "stream",
     "text": [
      "2it [00:00, 12.09it/s]"
     ]
    },
    {
     "name": "stdout",
     "output_type": "stream",
     "text": [
      "epoch: 13, test accuracy: 0.5467372134038799\n"
     ]
    },
    {
     "name": "stderr",
     "output_type": "stream",
     "text": [
      "41it [00:04, 10.13it/s]\n"
     ]
    },
    {
     "name": "stdout",
     "output_type": "stream",
     "text": [
      "epoch: 15, loss: 69.414306640625, train accuracy: 0.6553323029366306\n"
     ]
    },
    {
     "name": "stderr",
     "output_type": "stream",
     "text": [
      "2it [00:00, 12.35it/s]"
     ]
    },
    {
     "name": "stdout",
     "output_type": "stream",
     "text": [
      "epoch: 14, test accuracy: 0.5564373897707231\n"
     ]
    },
    {
     "name": "stderr",
     "output_type": "stream",
     "text": [
      "41it [00:04, 10.13it/s]\n"
     ]
    },
    {
     "name": "stdout",
     "output_type": "stream",
     "text": [
      "epoch: 16, loss: 55.66685104370117, train accuracy: 0.6972841686906601\n"
     ]
    },
    {
     "name": "stderr",
     "output_type": "stream",
     "text": [
      "2it [00:00, 11.98it/s]"
     ]
    },
    {
     "name": "stdout",
     "output_type": "stream",
     "text": [
      "epoch: 15, test accuracy: 0.5758377425044091\n"
     ]
    },
    {
     "name": "stderr",
     "output_type": "stream",
     "text": [
      "41it [00:04, 10.06it/s]\n"
     ]
    },
    {
     "name": "stdout",
     "output_type": "stream",
     "text": [
      "epoch: 17, loss: 39.01594543457031, train accuracy: 0.7396776330315743\n"
     ]
    },
    {
     "name": "stderr",
     "output_type": "stream",
     "text": [
      "2it [00:00, 10.74it/s]"
     ]
    },
    {
     "name": "stdout",
     "output_type": "stream",
     "text": [
      "epoch: 16, test accuracy: 0.5934744268077601\n"
     ]
    },
    {
     "name": "stderr",
     "output_type": "stream",
     "text": [
      "41it [00:04, 10.10it/s]\n"
     ]
    },
    {
     "name": "stdout",
     "output_type": "stream",
     "text": [
      "epoch: 18, loss: 45.83673858642578, train accuracy: 0.739456833738132\n"
     ]
    },
    {
     "name": "stderr",
     "output_type": "stream",
     "text": [
      "2it [00:00, 12.26it/s]"
     ]
    },
    {
     "name": "stdout",
     "output_type": "stream",
     "text": [
      "epoch: 17, test accuracy: 0.5952380952380951\n"
     ]
    },
    {
     "name": "stderr",
     "output_type": "stream",
     "text": [
      "41it [00:04, 10.14it/s]\n"
     ]
    },
    {
     "name": "stdout",
     "output_type": "stream",
     "text": [
      "epoch: 19, loss: 36.548118591308594, train accuracy: 0.7780967100905276\n"
     ]
    },
    {
     "name": "stderr",
     "output_type": "stream",
     "text": [
      "2it [00:00, 12.32it/s]"
     ]
    },
    {
     "name": "stdout",
     "output_type": "stream",
     "text": [
      "epoch: 18, test accuracy: 0.6269841269841269\n"
     ]
    },
    {
     "name": "stderr",
     "output_type": "stream",
     "text": [
      "41it [00:04, 10.10it/s]\n"
     ]
    },
    {
     "name": "stdout",
     "output_type": "stream",
     "text": [
      "epoch: 20, loss: 37.15290832519531, train accuracy: 0.7869286818282181\n"
     ]
    },
    {
     "name": "stderr",
     "output_type": "stream",
     "text": [
      "2it [00:00, 12.07it/s]"
     ]
    },
    {
     "name": "stdout",
     "output_type": "stream",
     "text": [
      "epoch: 19, test accuracy: 0.6128747795414462\n"
     ]
    },
    {
     "name": "stderr",
     "output_type": "stream",
     "text": [
      "41it [00:04, 10.10it/s]\n"
     ]
    },
    {
     "name": "stdout",
     "output_type": "stream",
     "text": [
      "epoch: 21, loss: 38.183998107910156, train accuracy: 0.8083462132921174\n"
     ]
    },
    {
     "name": "stderr",
     "output_type": "stream",
     "text": [
      "2it [00:00, 12.05it/s]"
     ]
    },
    {
     "name": "stdout",
     "output_type": "stream",
     "text": [
      "epoch: 20, test accuracy: 0.6296296296296295\n"
     ]
    },
    {
     "name": "stderr",
     "output_type": "stream",
     "text": [
      "41it [00:04, 10.07it/s]\n"
     ]
    },
    {
     "name": "stdout",
     "output_type": "stream",
     "text": [
      "epoch: 22, loss: 31.180274963378906, train accuracy: 0.8171781850298079\n"
     ]
    },
    {
     "name": "stderr",
     "output_type": "stream",
     "text": [
      "2it [00:00, 11.49it/s]"
     ]
    },
    {
     "name": "stdout",
     "output_type": "stream",
     "text": [
      "epoch: 21, test accuracy: 0.6393298059964726\n"
     ]
    },
    {
     "name": "stderr",
     "output_type": "stream",
     "text": [
      "41it [00:04, 10.06it/s]\n"
     ]
    },
    {
     "name": "stdout",
     "output_type": "stream",
     "text": [
      "epoch: 23, loss: 48.796478271484375, train accuracy: 0.8240229631265179\n"
     ]
    },
    {
     "name": "stderr",
     "output_type": "stream",
     "text": [
      "2it [00:00, 12.24it/s]"
     ]
    },
    {
     "name": "stdout",
     "output_type": "stream",
     "text": [
      "epoch: 22, test accuracy: 0.6296296296296297\n"
     ]
    },
    {
     "name": "stderr",
     "output_type": "stream",
     "text": [
      "41it [00:04, 10.09it/s]\n"
     ]
    },
    {
     "name": "stdout",
     "output_type": "stream",
     "text": [
      "epoch: 24, loss: 27.78702735900879, train accuracy: 0.8463236917641862\n"
     ]
    },
    {
     "name": "stderr",
     "output_type": "stream",
     "text": [
      "2it [00:00, 12.21it/s]"
     ]
    },
    {
     "name": "stdout",
     "output_type": "stream",
     "text": [
      "epoch: 23, test accuracy: 0.6278659611992946\n"
     ]
    },
    {
     "name": "stderr",
     "output_type": "stream",
     "text": [
      "41it [00:04, 10.11it/s]\n"
     ]
    },
    {
     "name": "stdout",
     "output_type": "stream",
     "text": [
      "epoch: 25, loss: 18.77459716796875, train accuracy: 0.8591300507838375\n"
     ]
    },
    {
     "name": "stderr",
     "output_type": "stream",
     "text": [
      "2it [00:00, 12.32it/s]"
     ]
    },
    {
     "name": "stdout",
     "output_type": "stream",
     "text": [
      "epoch: 24, test accuracy: 0.6516754850088182\n"
     ]
    },
    {
     "name": "stderr",
     "output_type": "stream",
     "text": [
      "41it [00:04, 10.09it/s]\n"
     ]
    },
    {
     "name": "stdout",
     "output_type": "stream",
     "text": [
      "epoch: 26, loss: 37.166316986083984, train accuracy: 0.872378008390373\n"
     ]
    },
    {
     "name": "stderr",
     "output_type": "stream",
     "text": [
      "2it [00:00, 12.43it/s]"
     ]
    },
    {
     "name": "stdout",
     "output_type": "stream",
     "text": [
      "epoch: 25, test accuracy: 0.6331569664902997\n"
     ]
    },
    {
     "name": "stderr",
     "output_type": "stream",
     "text": [
      "41it [00:04, 10.11it/s]\n"
     ]
    },
    {
     "name": "stdout",
     "output_type": "stream",
     "text": [
      "epoch: 27, loss: 15.35146427154541, train accuracy: 0.8582468536100684\n"
     ]
    },
    {
     "name": "stderr",
     "output_type": "stream",
     "text": [
      "2it [00:00, 12.04it/s]"
     ]
    },
    {
     "name": "stdout",
     "output_type": "stream",
     "text": [
      "epoch: 26, test accuracy: 0.6649029982363315\n"
     ]
    },
    {
     "name": "stderr",
     "output_type": "stream",
     "text": [
      "41it [00:04, 10.13it/s]\n"
     ]
    },
    {
     "name": "stdout",
     "output_type": "stream",
     "text": [
      "epoch: 28, loss: 14.196457862854004, train accuracy: 0.8732612055641422\n"
     ]
    },
    {
     "name": "stderr",
     "output_type": "stream",
     "text": [
      "2it [00:00, 12.28it/s]"
     ]
    },
    {
     "name": "stdout",
     "output_type": "stream",
     "text": [
      "epoch: 27, test accuracy: 0.656084656084656\n"
     ]
    },
    {
     "name": "stderr",
     "output_type": "stream",
     "text": [
      "41it [00:04, 10.05it/s]\n"
     ]
    },
    {
     "name": "stdout",
     "output_type": "stream",
     "text": [
      "epoch: 29, loss: 17.741832733154297, train accuracy: 0.9028483108854051\n"
     ]
    },
    {
     "name": "stderr",
     "output_type": "stream",
     "text": [
      "2it [00:00, 12.30it/s]"
     ]
    },
    {
     "name": "stdout",
     "output_type": "stream",
     "text": [
      "epoch: 28, test accuracy: 0.6807760141093473\n"
     ]
    },
    {
     "name": "stderr",
     "output_type": "stream",
     "text": [
      "41it [00:04, 10.09it/s]\n"
     ]
    },
    {
     "name": "stdout",
     "output_type": "stream",
     "text": [
      "epoch: 30, loss: 19.444244384765625, train accuracy: 0.8977699271362332\n"
     ]
    },
    {
     "name": "stderr",
     "output_type": "stream",
     "text": [
      "2it [00:00, 12.02it/s]"
     ]
    },
    {
     "name": "stdout",
     "output_type": "stream",
     "text": [
      "epoch: 29, test accuracy: 0.6754850088183421\n"
     ]
    },
    {
     "name": "stderr",
     "output_type": "stream",
     "text": [
      "41it [00:04, 10.15it/s]\n"
     ]
    },
    {
     "name": "stdout",
     "output_type": "stream",
     "text": [
      "epoch: 31, loss: 23.836183547973633, train accuracy: 0.9035107087657319\n"
     ]
    },
    {
     "name": "stderr",
     "output_type": "stream",
     "text": [
      "2it [00:00, 12.15it/s]"
     ]
    },
    {
     "name": "stdout",
     "output_type": "stream",
     "text": [
      "epoch: 30, test accuracy: 0.656084656084656\n"
     ]
    },
    {
     "name": "stderr",
     "output_type": "stream",
     "text": [
      "41it [00:04, 10.13it/s]\n"
     ]
    },
    {
     "name": "stdout",
     "output_type": "stream",
     "text": [
      "epoch: 32, loss: 19.20478057861328, train accuracy: 0.9143298741444027\n"
     ]
    },
    {
     "name": "stderr",
     "output_type": "stream",
     "text": [
      "2it [00:00, 12.25it/s]"
     ]
    },
    {
     "name": "stdout",
     "output_type": "stream",
     "text": [
      "epoch: 31, test accuracy: 0.6772486772486771\n"
     ]
    },
    {
     "name": "stderr",
     "output_type": "stream",
     "text": [
      "41it [00:04, 10.08it/s]\n"
     ]
    },
    {
     "name": "stdout",
     "output_type": "stream",
     "text": [
      "epoch: 33, loss: 15.221799850463867, train accuracy: 0.9244866416427467\n"
     ]
    },
    {
     "name": "stderr",
     "output_type": "stream",
     "text": [
      "2it [00:00, 12.07it/s]"
     ]
    },
    {
     "name": "stdout",
     "output_type": "stream",
     "text": [
      "epoch: 32, test accuracy: 0.6693121693121692\n"
     ]
    },
    {
     "name": "stderr",
     "output_type": "stream",
     "text": [
      "41it [00:04, 10.12it/s]\n"
     ]
    },
    {
     "name": "stdout",
     "output_type": "stream",
     "text": [
      "epoch: 34, loss: 16.621381759643555, train accuracy: 0.9251490395230735\n"
     ]
    },
    {
     "name": "stderr",
     "output_type": "stream",
     "text": [
      "2it [00:00, 11.80it/s]"
     ]
    },
    {
     "name": "stdout",
     "output_type": "stream",
     "text": [
      "epoch: 33, test accuracy: 0.6649029982363316\n"
     ]
    },
    {
     "name": "stderr",
     "output_type": "stream",
     "text": [
      "41it [00:04, 10.14it/s]\n"
     ]
    },
    {
     "name": "stdout",
     "output_type": "stream",
     "text": [
      "epoch: 35, loss: 20.584896087646484, train accuracy: 0.9368514020755133\n"
     ]
    },
    {
     "name": "stderr",
     "output_type": "stream",
     "text": [
      "2it [00:00, 11.93it/s]"
     ]
    },
    {
     "name": "stdout",
     "output_type": "stream",
     "text": [
      "epoch: 34, test accuracy: 0.6701940035273367\n"
     ]
    },
    {
     "name": "stderr",
     "output_type": "stream",
     "text": [
      "41it [00:04, 10.08it/s]\n"
     ]
    },
    {
     "name": "stdout",
     "output_type": "stream",
     "text": [
      "epoch: 36, loss: 10.635987281799316, train accuracy: 0.9304482225656878\n"
     ]
    },
    {
     "name": "stderr",
     "output_type": "stream",
     "text": [
      "2it [00:00, 12.02it/s]"
     ]
    },
    {
     "name": "stdout",
     "output_type": "stream",
     "text": [
      "epoch: 35, test accuracy: 0.6957671957671956\n"
     ]
    },
    {
     "name": "stderr",
     "output_type": "stream",
     "text": [
      "41it [00:04, 10.11it/s]\n"
     ]
    },
    {
     "name": "stdout",
     "output_type": "stream",
     "text": [
      "epoch: 37, loss: 19.922643661499023, train accuracy: 0.9361890041951865\n"
     ]
    },
    {
     "name": "stderr",
     "output_type": "stream",
     "text": [
      "2it [00:00, 12.21it/s]"
     ]
    },
    {
     "name": "stdout",
     "output_type": "stream",
     "text": [
      "epoch: 36, test accuracy: 0.6843033509700176\n"
     ]
    },
    {
     "name": "stderr",
     "output_type": "stream",
     "text": [
      "41it [00:04, 10.12it/s]\n"
     ]
    },
    {
     "name": "stdout",
     "output_type": "stream",
     "text": [
      "epoch: 38, loss: 10.343409538269043, train accuracy: 0.9403841907705895\n"
     ]
    },
    {
     "name": "stderr",
     "output_type": "stream",
     "text": [
      "2it [00:00, 12.23it/s]"
     ]
    },
    {
     "name": "stdout",
     "output_type": "stream",
     "text": [
      "epoch: 37, test accuracy: 0.6719576719576719\n"
     ]
    },
    {
     "name": "stderr",
     "output_type": "stream",
     "text": [
      "41it [00:04, 10.08it/s]\n"
     ]
    },
    {
     "name": "stdout",
     "output_type": "stream",
     "text": [
      "epoch: 39, loss: 15.03244400024414, train accuracy: 0.9406049900640318\n"
     ]
    },
    {
     "name": "stderr",
     "output_type": "stream",
     "text": [
      "2it [00:00, 12.31it/s]"
     ]
    },
    {
     "name": "stdout",
     "output_type": "stream",
     "text": [
      "epoch: 38, test accuracy: 0.6975308641975309\n"
     ]
    },
    {
     "name": "stderr",
     "output_type": "stream",
     "text": [
      "41it [00:04, 10.09it/s]\n"
     ]
    },
    {
     "name": "stdout",
     "output_type": "stream",
     "text": [
      "epoch: 40, loss: 19.866466522216797, train accuracy: 0.9346434091410909\n"
     ]
    },
    {
     "name": "stderr",
     "output_type": "stream",
     "text": [
      "2it [00:00, 12.15it/s]"
     ]
    },
    {
     "name": "stdout",
     "output_type": "stream",
     "text": [
      "epoch: 39, test accuracy: 0.6992945326278659\n"
     ]
    },
    {
     "name": "stderr",
     "output_type": "stream",
     "text": [
      "41it [00:04, 10.13it/s]\n"
     ]
    },
    {
     "name": "stdout",
     "output_type": "stream",
     "text": [
      "epoch: 41, loss: 19.25247573852539, train accuracy: 0.9470081695738575\n"
     ]
    },
    {
     "name": "stderr",
     "output_type": "stream",
     "text": [
      "2it [00:00, 12.08it/s]"
     ]
    },
    {
     "name": "stdout",
     "output_type": "stream",
     "text": [
      "epoch: 40, test accuracy: 0.7037037037037037\n"
     ]
    },
    {
     "name": "stderr",
     "output_type": "stream",
     "text": [
      "41it [00:04, 10.15it/s]\n"
     ]
    },
    {
     "name": "stdout",
     "output_type": "stream",
     "text": [
      "epoch: 42, loss: 24.167634963989258, train accuracy: 0.9514241554427025\n"
     ]
    },
    {
     "name": "stderr",
     "output_type": "stream",
     "text": [
      "2it [00:00, 12.40it/s]"
     ]
    },
    {
     "name": "stdout",
     "output_type": "stream",
     "text": [
      "epoch: 41, test accuracy: 0.6816578483245149\n"
     ]
    },
    {
     "name": "stderr",
     "output_type": "stream",
     "text": [
      "41it [00:04, 10.13it/s]\n"
     ]
    },
    {
     "name": "stdout",
     "output_type": "stream",
     "text": [
      "epoch: 43, loss: 26.673870086669922, train accuracy: 0.9368514020755133\n"
     ]
    },
    {
     "name": "stderr",
     "output_type": "stream",
     "text": [
      "2it [00:00, 12.03it/s]"
     ]
    },
    {
     "name": "stdout",
     "output_type": "stream",
     "text": [
      "epoch: 42, test accuracy: 0.6798941798941799\n"
     ]
    },
    {
     "name": "stderr",
     "output_type": "stream",
     "text": [
      "41it [00:04, 10.08it/s]\n"
     ]
    },
    {
     "name": "stdout",
     "output_type": "stream",
     "text": [
      "epoch: 44, loss: 19.2622127532959, train accuracy: 0.9478913667476265\n"
     ]
    },
    {
     "name": "stderr",
     "output_type": "stream",
     "text": [
      "2it [00:00, 12.39it/s]"
     ]
    },
    {
     "name": "stdout",
     "output_type": "stream",
     "text": [
      "epoch: 43, test accuracy: 0.6825396825396824\n"
     ]
    },
    {
     "name": "stderr",
     "output_type": "stream",
     "text": [
      "41it [00:04, 10.19it/s]\n"
     ]
    },
    {
     "name": "stdout",
     "output_type": "stream",
     "text": [
      "epoch: 45, loss: 24.790376663208008, train accuracy: 0.9545153455508943\n"
     ]
    },
    {
     "name": "stderr",
     "output_type": "stream",
     "text": [
      "2it [00:00, 12.49it/s]"
     ]
    },
    {
     "name": "stdout",
     "output_type": "stream",
     "text": [
      "epoch: 44, test accuracy: 0.6851851851851852\n"
     ]
    },
    {
     "name": "stderr",
     "output_type": "stream",
     "text": [
      "41it [00:04, 10.09it/s]\n"
     ]
    },
    {
     "name": "stdout",
     "output_type": "stream",
     "text": [
      "epoch: 46, loss: 11.327996253967285, train accuracy: 0.9434753808787812\n"
     ]
    },
    {
     "name": "stderr",
     "output_type": "stream",
     "text": [
      "2it [00:00, 11.88it/s]"
     ]
    },
    {
     "name": "stdout",
     "output_type": "stream",
     "text": [
      "epoch: 45, test accuracy: 0.702821869488536\n"
     ]
    },
    {
     "name": "stderr",
     "output_type": "stream",
     "text": [
      "41it [00:04, 10.06it/s]\n"
     ]
    },
    {
     "name": "stdout",
     "output_type": "stream",
     "text": [
      "epoch: 47, loss: 16.636688232421875, train accuracy: 0.9470081695738575\n"
     ]
    },
    {
     "name": "stderr",
     "output_type": "stream",
     "text": [
      "2it [00:00, 12.43it/s]"
     ]
    },
    {
     "name": "stdout",
     "output_type": "stream",
     "text": [
      "epoch: 46, test accuracy: 0.6887125220458553\n"
     ]
    },
    {
     "name": "stderr",
     "output_type": "stream",
     "text": [
      "41it [00:04, 10.11it/s]\n"
     ]
    },
    {
     "name": "stdout",
     "output_type": "stream",
     "text": [
      "epoch: 48, loss: 18.448347091674805, train accuracy: 0.9569441377787591\n"
     ]
    },
    {
     "name": "stderr",
     "output_type": "stream",
     "text": [
      "2it [00:00, 11.98it/s]"
     ]
    },
    {
     "name": "stdout",
     "output_type": "stream",
     "text": [
      "epoch: 47, test accuracy: 0.6948853615520281\n"
     ]
    },
    {
     "name": "stderr",
     "output_type": "stream",
     "text": [
      "41it [00:04, 10.12it/s]\n"
     ]
    },
    {
     "name": "stdout",
     "output_type": "stream",
     "text": [
      "epoch: 49, loss: 16.278352737426758, train accuracy: 0.9456833738132039\n"
     ]
    },
    {
     "name": "stderr",
     "output_type": "stream",
     "text": [
      "2it [00:00, 12.29it/s]"
     ]
    },
    {
     "name": "stdout",
     "output_type": "stream",
     "text": [
      "epoch: 48, test accuracy: 0.6825396825396826\n"
     ]
    },
    {
     "name": "stderr",
     "output_type": "stream",
     "text": [
      "41it [00:04, 10.13it/s]\n"
     ]
    },
    {
     "name": "stdout",
     "output_type": "stream",
     "text": [
      "epoch: 50, loss: 13.310443878173828, train accuracy: 0.9476705674541843\n"
     ]
    },
    {
     "name": "stderr",
     "output_type": "stream",
     "text": [
      "2it [00:00, 11.75it/s]"
     ]
    },
    {
     "name": "stdout",
     "output_type": "stream",
     "text": [
      "epoch: 49, test accuracy: 0.7063492063492063\n"
     ]
    },
    {
     "name": "stderr",
     "output_type": "stream",
     "text": [
      "41it [00:04, 10.15it/s]\n"
     ]
    },
    {
     "name": "stdout",
     "output_type": "stream",
     "text": [
      "epoch: 51, loss: 12.959936141967773, train accuracy: 0.9496577610951646\n"
     ]
    },
    {
     "name": "stderr",
     "output_type": "stream",
     "text": [
      "2it [00:00, 12.13it/s]"
     ]
    },
    {
     "name": "stdout",
     "output_type": "stream",
     "text": [
      "epoch: 50, test accuracy: 0.7151675485008818\n"
     ]
    },
    {
     "name": "stderr",
     "output_type": "stream",
     "text": [
      "41it [00:04, 10.11it/s]\n"
     ]
    },
    {
     "name": "stdout",
     "output_type": "stream",
     "text": [
      "epoch: 52, loss: 4.278557300567627, train accuracy: 0.9615809229410466\n"
     ]
    },
    {
     "name": "stderr",
     "output_type": "stream",
     "text": [
      "2it [00:00, 11.85it/s]"
     ]
    },
    {
     "name": "stdout",
     "output_type": "stream",
     "text": [
      "epoch: 51, test accuracy: 0.7098765432098766\n"
     ]
    },
    {
     "name": "stderr",
     "output_type": "stream",
     "text": [
      "41it [00:04, 10.02it/s]\n"
     ]
    },
    {
     "name": "stdout",
     "output_type": "stream",
     "text": [
      "epoch: 53, loss: 18.473731994628906, train accuracy: 0.9622433208213735\n"
     ]
    },
    {
     "name": "stderr",
     "output_type": "stream",
     "text": [
      "2it [00:00, 11.25it/s]"
     ]
    },
    {
     "name": "stdout",
     "output_type": "stream",
     "text": [
      "epoch: 52, test accuracy: 0.7169312169312169\n"
     ]
    },
    {
     "name": "stderr",
     "output_type": "stream",
     "text": [
      "41it [00:04, 10.00it/s]\n"
     ]
    },
    {
     "name": "stdout",
     "output_type": "stream",
     "text": [
      "epoch: 54, loss: 10.11506462097168, train accuracy: 0.9520865533230294\n"
     ]
    },
    {
     "name": "stderr",
     "output_type": "stream",
     "text": [
      "2it [00:00, 12.21it/s]"
     ]
    },
    {
     "name": "stdout",
     "output_type": "stream",
     "text": [
      "epoch: 53, test accuracy: 0.7107583774250441\n"
     ]
    },
    {
     "name": "stderr",
     "output_type": "stream",
     "text": [
      "41it [00:04, 10.10it/s]\n"
     ]
    },
    {
     "name": "stdout",
     "output_type": "stream",
     "text": [
      "epoch: 55, loss: 8.208222389221191, train accuracy: 0.957827334952528\n"
     ]
    },
    {
     "name": "stderr",
     "output_type": "stream",
     "text": [
      "2it [00:00, 12.13it/s]"
     ]
    },
    {
     "name": "stdout",
     "output_type": "stream",
     "text": [
      "epoch: 54, test accuracy: 0.7142857142857142\n"
     ]
    },
    {
     "name": "stderr",
     "output_type": "stream",
     "text": [
      "41it [00:04, 10.12it/s]\n"
     ]
    },
    {
     "name": "stdout",
     "output_type": "stream",
     "text": [
      "epoch: 56, loss: 31.576580047607422, train accuracy: 0.9492161625082799\n"
     ]
    },
    {
     "name": "stderr",
     "output_type": "stream",
     "text": [
      "2it [00:00, 12.25it/s]"
     ]
    },
    {
     "name": "stdout",
     "output_type": "stream",
     "text": [
      "epoch: 55, test accuracy: 0.6922398589065255\n"
     ]
    },
    {
     "name": "stderr",
     "output_type": "stream",
     "text": [
      "41it [00:04, 10.15it/s]\n"
     ]
    },
    {
     "name": "stdout",
     "output_type": "stream",
     "text": [
      "epoch: 57, loss: 15.004497528076172, train accuracy: 0.9598145285935085\n"
     ]
    },
    {
     "name": "stderr",
     "output_type": "stream",
     "text": [
      "2it [00:00, 12.39it/s]"
     ]
    },
    {
     "name": "stdout",
     "output_type": "stream",
     "text": [
      "epoch: 56, test accuracy: 0.7054673721340388\n"
     ]
    },
    {
     "name": "stderr",
     "output_type": "stream",
     "text": [
      "41it [00:04, 10.05it/s]\n"
     ]
    },
    {
     "name": "stdout",
     "output_type": "stream",
     "text": [
      "epoch: 58, loss: 24.36273193359375, train accuracy: 0.9629057187017002\n"
     ]
    },
    {
     "name": "stderr",
     "output_type": "stream",
     "text": [
      "2it [00:00, 12.29it/s]"
     ]
    },
    {
     "name": "stdout",
     "output_type": "stream",
     "text": [
      "epoch: 57, test accuracy: 0.6940035273368605\n"
     ]
    },
    {
     "name": "stderr",
     "output_type": "stream",
     "text": [
      "41it [00:04, 10.09it/s]\n"
     ]
    },
    {
     "name": "stdout",
     "output_type": "stream",
     "text": [
      "epoch: 59, loss: 11.166308403015137, train accuracy: 0.9640097151689115\n"
     ]
    },
    {
     "name": "stderr",
     "output_type": "stream",
     "text": [
      "2it [00:00, 12.00it/s]"
     ]
    },
    {
     "name": "stdout",
     "output_type": "stream",
     "text": [
      "epoch: 58, test accuracy: 0.6940035273368605\n"
     ]
    },
    {
     "name": "stderr",
     "output_type": "stream",
     "text": [
      "41it [00:04, 10.08it/s]\n"
     ]
    },
    {
     "name": "stdout",
     "output_type": "stream",
     "text": [
      "epoch: 60, loss: 9.253341674804688, train accuracy: 0.9640097151689115\n"
     ]
    },
    {
     "name": "stderr",
     "output_type": "stream",
     "text": [
      "2it [00:00, 12.31it/s]"
     ]
    },
    {
     "name": "stdout",
     "output_type": "stream",
     "text": [
      "epoch: 59, test accuracy: 0.6975308641975307\n"
     ]
    },
    {
     "name": "stderr",
     "output_type": "stream",
     "text": [
      "41it [00:04, 10.08it/s]\n"
     ]
    },
    {
     "name": "stdout",
     "output_type": "stream",
     "text": [
      "epoch: 61, loss: 14.183621406555176, train accuracy: 0.9578273349525283\n"
     ]
    },
    {
     "name": "stderr",
     "output_type": "stream",
     "text": [
      "2it [00:00, 11.98it/s]"
     ]
    },
    {
     "name": "stdout",
     "output_type": "stream",
     "text": [
      "epoch: 60, test accuracy: 0.6984126984126983\n"
     ]
    },
    {
     "name": "stderr",
     "output_type": "stream",
     "text": [
      "41it [00:04, 10.10it/s]\n"
     ]
    },
    {
     "name": "stdout",
     "output_type": "stream",
     "text": [
      "epoch: 62, loss: 10.285837173461914, train accuracy: 0.96091852506072\n"
     ]
    },
    {
     "name": "stderr",
     "output_type": "stream",
     "text": [
      "2it [00:00, 11.96it/s]"
     ]
    },
    {
     "name": "stdout",
     "output_type": "stream",
     "text": [
      "epoch: 61, test accuracy: 0.6922398589065255\n"
     ]
    },
    {
     "name": "stderr",
     "output_type": "stream",
     "text": [
      "41it [00:04, 10.09it/s]\n"
     ]
    },
    {
     "name": "stdout",
     "output_type": "stream",
     "text": [
      "epoch: 63, loss: 17.165409088134766, train accuracy: 0.9582689335394129\n"
     ]
    },
    {
     "name": "stderr",
     "output_type": "stream",
     "text": [
      "2it [00:00, 12.27it/s]"
     ]
    },
    {
     "name": "stdout",
     "output_type": "stream",
     "text": [
      "epoch: 62, test accuracy: 0.7010582010582009\n"
     ]
    },
    {
     "name": "stderr",
     "output_type": "stream",
     "text": [
      "41it [00:04, 10.12it/s]\n"
     ]
    },
    {
     "name": "stdout",
     "output_type": "stream",
     "text": [
      "epoch: 64, loss: 10.151225090026855, train accuracy: 0.9710752925590637\n"
     ]
    },
    {
     "name": "stderr",
     "output_type": "stream",
     "text": [
      "2it [00:00, 12.10it/s]"
     ]
    },
    {
     "name": "stdout",
     "output_type": "stream",
     "text": [
      "epoch: 63, test accuracy: 0.7054673721340388\n"
     ]
    },
    {
     "name": "stderr",
     "output_type": "stream",
     "text": [
      "41it [00:04, 10.07it/s]\n"
     ]
    },
    {
     "name": "stdout",
     "output_type": "stream",
     "text": [
      "epoch: 65, loss: 21.051610946655273, train accuracy: 0.9620225215279311\n"
     ]
    },
    {
     "name": "stderr",
     "output_type": "stream",
     "text": [
      "2it [00:00, 12.36it/s]"
     ]
    },
    {
     "name": "stdout",
     "output_type": "stream",
     "text": [
      "epoch: 64, test accuracy: 0.6940035273368605\n"
     ]
    },
    {
     "name": "stderr",
     "output_type": "stream",
     "text": [
      "41it [00:04, 10.15it/s]\n"
     ]
    },
    {
     "name": "stdout",
     "output_type": "stream",
     "text": [
      "epoch: 66, loss: 5.603796482086182, train accuracy: 0.9637889158754693\n"
     ]
    },
    {
     "name": "stderr",
     "output_type": "stream",
     "text": [
      "2it [00:00, 11.87it/s]"
     ]
    },
    {
     "name": "stdout",
     "output_type": "stream",
     "text": [
      "epoch: 65, test accuracy: 0.6966490299823632\n"
     ]
    },
    {
     "name": "stderr",
     "output_type": "stream",
     "text": [
      "41it [00:04, 10.13it/s]\n"
     ]
    },
    {
     "name": "stdout",
     "output_type": "stream",
     "text": [
      "epoch: 67, loss: 8.920165061950684, train accuracy: 0.9715168911459483\n"
     ]
    },
    {
     "name": "stderr",
     "output_type": "stream",
     "text": [
      "2it [00:00, 12.37it/s]"
     ]
    },
    {
     "name": "stdout",
     "output_type": "stream",
     "text": [
      "epoch: 66, test accuracy: 0.7151675485008818\n"
     ]
    },
    {
     "name": "stderr",
     "output_type": "stream",
     "text": [
      "41it [00:04, 10.09it/s]\n"
     ]
    },
    {
     "name": "stdout",
     "output_type": "stream",
     "text": [
      "epoch: 68, loss: 14.561356544494629, train accuracy: 0.9730624862000443\n"
     ]
    },
    {
     "name": "stderr",
     "output_type": "stream",
     "text": [
      "2it [00:00, 12.28it/s]"
     ]
    },
    {
     "name": "stdout",
     "output_type": "stream",
     "text": [
      "epoch: 67, test accuracy: 0.7134038800705467\n"
     ]
    },
    {
     "name": "stderr",
     "output_type": "stream",
     "text": [
      "41it [00:04, 10.14it/s]\n"
     ]
    },
    {
     "name": "stdout",
     "output_type": "stream",
     "text": [
      "epoch: 69, loss: 11.766555786132812, train accuracy: 0.962684919408258\n"
     ]
    },
    {
     "name": "stderr",
     "output_type": "stream",
     "text": [
      "2it [00:00, 12.39it/s]"
     ]
    },
    {
     "name": "stdout",
     "output_type": "stream",
     "text": [
      "epoch: 68, test accuracy: 0.6975308641975309\n"
     ]
    },
    {
     "name": "stderr",
     "output_type": "stream",
     "text": [
      "41it [00:04, 10.07it/s]\n"
     ]
    },
    {
     "name": "stdout",
     "output_type": "stream",
     "text": [
      "epoch: 70, loss: 10.40391731262207, train accuracy: 0.9593729300066239\n"
     ]
    },
    {
     "name": "stderr",
     "output_type": "stream",
     "text": [
      "2it [00:00, 12.31it/s]"
     ]
    },
    {
     "name": "stdout",
     "output_type": "stream",
     "text": [
      "epoch: 69, test accuracy: 0.6869488536155203\n"
     ]
    },
    {
     "name": "stderr",
     "output_type": "stream",
     "text": [
      "41it [00:04, 10.13it/s]\n"
     ]
    },
    {
     "name": "stdout",
     "output_type": "stream",
     "text": [
      "epoch: 71, loss: 12.269346237182617, train accuracy: 0.9671009052771032\n"
     ]
    },
    {
     "name": "stderr",
     "output_type": "stream",
     "text": [
      "2it [00:00, 12.04it/s]"
     ]
    },
    {
     "name": "stdout",
     "output_type": "stream",
     "text": [
      "epoch: 70, test accuracy: 0.7178130511463844\n"
     ]
    },
    {
     "name": "stderr",
     "output_type": "stream",
     "text": [
      "41it [00:04, 10.09it/s]\n"
     ]
    },
    {
     "name": "stdout",
     "output_type": "stream",
     "text": [
      "epoch: 72, loss: 5.236257553100586, train accuracy: 0.9715168911459483\n"
     ]
    },
    {
     "name": "stderr",
     "output_type": "stream",
     "text": [
      "2it [00:00, 12.37it/s]"
     ]
    },
    {
     "name": "stdout",
     "output_type": "stream",
     "text": [
      "epoch: 71, test accuracy: 0.7081128747795414\n"
     ]
    },
    {
     "name": "stderr",
     "output_type": "stream",
     "text": [
      "41it [00:04, 10.14it/s]\n"
     ]
    },
    {
     "name": "stdout",
     "output_type": "stream",
     "text": [
      "epoch: 73, loss: 12.504626274108887, train accuracy: 0.9629057187017002\n"
     ]
    },
    {
     "name": "stderr",
     "output_type": "stream",
     "text": [
      "2it [00:00, 12.22it/s]"
     ]
    },
    {
     "name": "stdout",
     "output_type": "stream",
     "text": [
      "epoch: 72, test accuracy: 0.7178130511463844\n"
     ]
    },
    {
     "name": "stderr",
     "output_type": "stream",
     "text": [
      "41it [00:04, 10.16it/s]\n"
     ]
    },
    {
     "name": "stdout",
     "output_type": "stream",
     "text": [
      "epoch: 74, loss: 3.435065746307373, train accuracy: 0.9589313314197395\n"
     ]
    },
    {
     "name": "stderr",
     "output_type": "stream",
     "text": [
      "2it [00:00, 12.13it/s]"
     ]
    },
    {
     "name": "stdout",
     "output_type": "stream",
     "text": [
      "epoch: 73, test accuracy: 0.7239858906525573\n"
     ]
    },
    {
     "name": "stderr",
     "output_type": "stream",
     "text": [
      "41it [00:04, 10.06it/s]\n"
     ]
    },
    {
     "name": "stdout",
     "output_type": "stream",
     "text": [
      "epoch: 75, loss: 5.451700210571289, train accuracy: 0.9721792890262752\n"
     ]
    },
    {
     "name": "stderr",
     "output_type": "stream",
     "text": [
      "2it [00:00, 12.38it/s]"
     ]
    },
    {
     "name": "stdout",
     "output_type": "stream",
     "text": [
      "epoch: 74, test accuracy: 0.7239858906525573\n"
     ]
    },
    {
     "name": "stderr",
     "output_type": "stream",
     "text": [
      "41it [00:04, 10.15it/s]\n"
     ]
    },
    {
     "name": "stdout",
     "output_type": "stream",
     "text": [
      "epoch: 76, loss: 6.865872859954834, train accuracy: 0.9657761095164495\n"
     ]
    },
    {
     "name": "stderr",
     "output_type": "stream",
     "text": [
      "2it [00:00, 12.31it/s]"
     ]
    },
    {
     "name": "stdout",
     "output_type": "stream",
     "text": [
      "epoch: 75, test accuracy: 0.7116402116402116\n"
     ]
    },
    {
     "name": "stderr",
     "output_type": "stream",
     "text": [
      "41it [00:04, 10.14it/s]\n"
     ]
    },
    {
     "name": "stdout",
     "output_type": "stream",
     "text": [
      "epoch: 77, loss: 8.11663818359375, train accuracy: 0.9748288805475823\n"
     ]
    },
    {
     "name": "stderr",
     "output_type": "stream",
     "text": [
      "2it [00:00, 12.22it/s]"
     ]
    },
    {
     "name": "stdout",
     "output_type": "stream",
     "text": [
      "epoch: 76, test accuracy: 0.7345679012345679\n"
     ]
    },
    {
     "name": "stderr",
     "output_type": "stream",
     "text": [
      "41it [00:04, 10.11it/s]\n"
     ]
    },
    {
     "name": "stdout",
     "output_type": "stream",
     "text": [
      "epoch: 78, loss: 12.934420585632324, train accuracy: 0.9657761095164495\n"
     ]
    },
    {
     "name": "stderr",
     "output_type": "stream",
     "text": [
      "2it [00:00, 12.22it/s]"
     ]
    },
    {
     "name": "stdout",
     "output_type": "stream",
     "text": [
      "epoch: 77, test accuracy: 0.736331569664903\n"
     ]
    },
    {
     "name": "stderr",
     "output_type": "stream",
     "text": [
      "41it [00:04, 10.07it/s]\n"
     ]
    },
    {
     "name": "stdout",
     "output_type": "stream",
     "text": [
      "epoch: 79, loss: 9.380925178527832, train accuracy: 0.9675425038639877\n"
     ]
    },
    {
     "name": "stderr",
     "output_type": "stream",
     "text": [
      "2it [00:00, 12.09it/s]"
     ]
    },
    {
     "name": "stdout",
     "output_type": "stream",
     "text": [
      "epoch: 78, test accuracy: 0.7495590828924161\n"
     ]
    },
    {
     "name": "stderr",
     "output_type": "stream",
     "text": [
      "41it [00:04, 10.03it/s]\n"
     ]
    },
    {
     "name": "stdout",
     "output_type": "stream",
     "text": [
      "epoch: 80, loss: 12.211281776428223, train accuracy: 0.9686465003311988\n"
     ]
    },
    {
     "name": "stderr",
     "output_type": "stream",
     "text": [
      "2it [00:00, 12.08it/s]"
     ]
    },
    {
     "name": "stdout",
     "output_type": "stream",
     "text": [
      "epoch: 79, test accuracy: 0.7310405643738976\n"
     ]
    },
    {
     "name": "stderr",
     "output_type": "stream",
     "text": [
      "41it [00:04, 10.09it/s]\n"
     ]
    },
    {
     "name": "stdout",
     "output_type": "stream",
     "text": [
      "epoch: 81, loss: 34.32438278198242, train accuracy: 0.9659969088098919\n"
     ]
    },
    {
     "name": "stderr",
     "output_type": "stream",
     "text": [
      "2it [00:00, 11.94it/s]"
     ]
    },
    {
     "name": "stdout",
     "output_type": "stream",
     "text": [
      "epoch: 80, test accuracy: 0.7151675485008818\n"
     ]
    },
    {
     "name": "stderr",
     "output_type": "stream",
     "text": [
      "41it [00:04, 10.01it/s]\n"
     ]
    },
    {
     "name": "stdout",
     "output_type": "stream",
     "text": [
      "epoch: 82, loss: 16.444374084472656, train accuracy: 0.9688672996246412\n"
     ]
    },
    {
     "name": "stderr",
     "output_type": "stream",
     "text": [
      "2it [00:00, 12.33it/s]"
     ]
    },
    {
     "name": "stdout",
     "output_type": "stream",
     "text": [
      "epoch: 81, test accuracy: 0.720458553791887\n"
     ]
    },
    {
     "name": "stderr",
     "output_type": "stream",
     "text": [
      "41it [00:04, 10.09it/s]\n"
     ]
    },
    {
     "name": "stdout",
     "output_type": "stream",
     "text": [
      "epoch: 83, loss: 16.009422302246094, train accuracy: 0.9695296975049681\n"
     ]
    },
    {
     "name": "stderr",
     "output_type": "stream",
     "text": [
      "2it [00:00, 12.10it/s]"
     ]
    },
    {
     "name": "stdout",
     "output_type": "stream",
     "text": [
      "epoch: 82, test accuracy: 0.7283950617283949\n"
     ]
    },
    {
     "name": "stderr",
     "output_type": "stream",
     "text": [
      "41it [00:04, 10.01it/s]\n"
     ]
    },
    {
     "name": "stdout",
     "output_type": "stream",
     "text": [
      "epoch: 84, loss: 7.740606307983398, train accuracy: 0.9750496798410245\n"
     ]
    },
    {
     "name": "stderr",
     "output_type": "stream",
     "text": [
      "2it [00:00, 12.20it/s]"
     ]
    },
    {
     "name": "stdout",
     "output_type": "stream",
     "text": [
      "epoch: 83, test accuracy: 0.7275132275132273\n"
     ]
    },
    {
     "name": "stderr",
     "output_type": "stream",
     "text": [
      "41it [00:04, 10.11it/s]\n"
     ]
    },
    {
     "name": "stdout",
     "output_type": "stream",
     "text": [
      "epoch: 85, loss: 17.50833511352539, train accuracy: 0.9750496798410245\n"
     ]
    },
    {
     "name": "stderr",
     "output_type": "stream",
     "text": [
      "2it [00:00, 12.36it/s]"
     ]
    },
    {
     "name": "stdout",
     "output_type": "stream",
     "text": [
      "epoch: 84, test accuracy: 0.7239858906525573\n"
     ]
    },
    {
     "name": "stderr",
     "output_type": "stream",
     "text": [
      "41it [00:04, 10.09it/s]\n"
     ]
    },
    {
     "name": "stdout",
     "output_type": "stream",
     "text": [
      "epoch: 86, loss: 14.980234146118164, train accuracy: 0.973062486200044\n"
     ]
    },
    {
     "name": "stderr",
     "output_type": "stream",
     "text": [
      "2it [00:00, 12.23it/s]"
     ]
    },
    {
     "name": "stdout",
     "output_type": "stream",
     "text": [
      "epoch: 85, test accuracy: 0.7178130511463844\n"
     ]
    },
    {
     "name": "stderr",
     "output_type": "stream",
     "text": [
      "41it [00:04, 10.12it/s]\n"
     ]
    },
    {
     "name": "stdout",
     "output_type": "stream",
     "text": [
      "epoch: 87, loss: 11.99124526977539, train accuracy: 0.96776330315743\n"
     ]
    },
    {
     "name": "stderr",
     "output_type": "stream",
     "text": [
      "2it [00:00, 11.41it/s]"
     ]
    },
    {
     "name": "stdout",
     "output_type": "stream",
     "text": [
      "epoch: 86, test accuracy: 0.7045855379188712\n"
     ]
    },
    {
     "name": "stderr",
     "output_type": "stream",
     "text": [
      "41it [00:04, 10.12it/s]\n"
     ]
    },
    {
     "name": "stdout",
     "output_type": "stream",
     "text": [
      "epoch: 88, loss: 0.5937339067459106, train accuracy: 0.9710752925590639\n"
     ]
    },
    {
     "name": "stderr",
     "output_type": "stream",
     "text": [
      "2it [00:00, 12.21it/s]"
     ]
    },
    {
     "name": "stdout",
     "output_type": "stream",
     "text": [
      "epoch: 87, test accuracy: 0.728395061728395\n"
     ]
    },
    {
     "name": "stderr",
     "output_type": "stream",
     "text": [
      "41it [00:04, 10.16it/s]\n"
     ]
    },
    {
     "name": "stdout",
     "output_type": "stream",
     "text": [
      "epoch: 89, loss: 2.315119743347168, train accuracy: 0.9772576727754471\n"
     ]
    },
    {
     "name": "stderr",
     "output_type": "stream",
     "text": [
      "2it [00:00, 12.38it/s]"
     ]
    },
    {
     "name": "stdout",
     "output_type": "stream",
     "text": [
      "epoch: 88, test accuracy: 0.7142857142857142\n"
     ]
    },
    {
     "name": "stderr",
     "output_type": "stream",
     "text": [
      "41it [00:04, 10.17it/s]\n"
     ]
    },
    {
     "name": "stdout",
     "output_type": "stream",
     "text": [
      "epoch: 90, loss: 9.032332420349121, train accuracy: 0.9763744756016782\n"
     ]
    },
    {
     "name": "stderr",
     "output_type": "stream",
     "text": [
      "2it [00:00, 12.35it/s]"
     ]
    },
    {
     "name": "stdout",
     "output_type": "stream",
     "text": [
      "epoch: 89, test accuracy: 0.7239858906525573\n"
     ]
    },
    {
     "name": "stderr",
     "output_type": "stream",
     "text": [
      "41it [00:04, 10.02it/s]\n"
     ]
    },
    {
     "name": "stdout",
     "output_type": "stream",
     "text": [
      "epoch: 91, loss: 11.882206916809082, train accuracy: 0.9739456833738132\n"
     ]
    },
    {
     "name": "stderr",
     "output_type": "stream",
     "text": [
      "2it [00:00, 11.69it/s]"
     ]
    },
    {
     "name": "stdout",
     "output_type": "stream",
     "text": [
      "epoch: 90, test accuracy: 0.7354497354497354\n"
     ]
    },
    {
     "name": "stderr",
     "output_type": "stream",
     "text": [
      "41it [00:04, 10.20it/s]\n"
     ]
    },
    {
     "name": "stdout",
     "output_type": "stream",
     "text": [
      "epoch: 92, loss: 8.754537582397461, train accuracy: 0.9724000883197175\n"
     ]
    },
    {
     "name": "stderr",
     "output_type": "stream",
     "text": [
      "2it [00:00, 12.25it/s]"
     ]
    },
    {
     "name": "stdout",
     "output_type": "stream",
     "text": [
      "epoch: 91, test accuracy: 0.7195767195767195\n"
     ]
    },
    {
     "name": "stderr",
     "output_type": "stream",
     "text": [
      "41it [00:04, 10.13it/s]\n"
     ]
    },
    {
     "name": "stdout",
     "output_type": "stream",
     "text": [
      "epoch: 93, loss: 6.086555480957031, train accuracy: 0.9765952748951204\n"
     ]
    },
    {
     "name": "stderr",
     "output_type": "stream",
     "text": [
      "2it [00:00, 11.66it/s]"
     ]
    },
    {
     "name": "stdout",
     "output_type": "stream",
     "text": [
      "epoch: 92, test accuracy: 0.7142857142857143\n"
     ]
    },
    {
     "name": "stderr",
     "output_type": "stream",
     "text": [
      "41it [00:04, 10.09it/s]\n"
     ]
    },
    {
     "name": "stdout",
     "output_type": "stream",
     "text": [
      "epoch: 94, loss: 4.563398361206055, train accuracy: 0.9772576727754472\n"
     ]
    },
    {
     "name": "stderr",
     "output_type": "stream",
     "text": [
      "2it [00:00, 12.33it/s]"
     ]
    },
    {
     "name": "stdout",
     "output_type": "stream",
     "text": [
      "epoch: 93, test accuracy: 0.736331569664903\n"
     ]
    },
    {
     "name": "stderr",
     "output_type": "stream",
     "text": [
      "41it [00:04, 10.13it/s]\n"
     ]
    },
    {
     "name": "stdout",
     "output_type": "stream",
     "text": [
      "epoch: 95, loss: 20.061655044555664, train accuracy: 0.9719584897328329\n"
     ]
    },
    {
     "name": "stderr",
     "output_type": "stream",
     "text": [
      "2it [00:00, 12.00it/s]"
     ]
    },
    {
     "name": "stdout",
     "output_type": "stream",
     "text": [
      "epoch: 94, test accuracy: 0.7019400352733686\n"
     ]
    },
    {
     "name": "stderr",
     "output_type": "stream",
     "text": [
      "41it [00:04, 10.06it/s]\n"
     ]
    },
    {
     "name": "stdout",
     "output_type": "stream",
     "text": [
      "epoch: 96, loss: 0.3352415859699249, train accuracy: 0.9730624862000441\n"
     ]
    },
    {
     "name": "stderr",
     "output_type": "stream",
     "text": [
      "2it [00:00, 11.94it/s]"
     ]
    },
    {
     "name": "stdout",
     "output_type": "stream",
     "text": [
      "epoch: 95, test accuracy: 0.7186948853615519\n"
     ]
    },
    {
     "name": "stderr",
     "output_type": "stream",
     "text": [
      "41it [00:04, 10.14it/s]\n"
     ]
    },
    {
     "name": "stdout",
     "output_type": "stream",
     "text": [
      "epoch: 97, loss: 12.923985481262207, train accuracy: 0.970412894678737\n"
     ]
    },
    {
     "name": "stderr",
     "output_type": "stream",
     "text": [
      "2it [00:00, 12.42it/s]"
     ]
    },
    {
     "name": "stdout",
     "output_type": "stream",
     "text": [
      "epoch: 96, test accuracy: 0.7160493827160493\n"
     ]
    },
    {
     "name": "stderr",
     "output_type": "stream",
     "text": [
      "41it [00:04, 10.18it/s]\n"
     ]
    },
    {
     "name": "stdout",
     "output_type": "stream",
     "text": [
      "epoch: 98, loss: 9.040632247924805, train accuracy: 0.9690880989180835\n"
     ]
    },
    {
     "name": "stderr",
     "output_type": "stream",
     "text": [
      "2it [00:00, 12.32it/s]"
     ]
    },
    {
     "name": "stdout",
     "output_type": "stream",
     "text": [
      "epoch: 97, test accuracy: 0.7195767195767195\n"
     ]
    },
    {
     "name": "stderr",
     "output_type": "stream",
     "text": [
      "41it [00:04, 10.12it/s]\n"
     ]
    },
    {
     "name": "stdout",
     "output_type": "stream",
     "text": [
      "epoch: 99, loss: 11.771531105041504, train accuracy: 0.9776992713623316\n"
     ]
    },
    {
     "name": "stderr",
     "output_type": "stream",
     "text": [
      "2it [00:00, 12.06it/s]"
     ]
    },
    {
     "name": "stdout",
     "output_type": "stream",
     "text": [
      "epoch: 98, test accuracy: 0.7433862433862433\n"
     ]
    },
    {
     "name": "stderr",
     "output_type": "stream",
     "text": [
      "41it [00:04, 10.09it/s]\n"
     ]
    },
    {
     "name": "stdout",
     "output_type": "stream",
     "text": [
      "epoch: 100, loss: 6.381360054016113, train accuracy: 0.9774784720688894\n",
      "epoch: 99, test accuracy: 0.736331569664903\n"
     ]
    }
   ],
   "source": [
    "train_acc_for_epoch = []\n",
    "test_acc_for_epoch = []\n",
    "train_loss_for_epoch = []\n",
    "\n",
    "for e in range(epoch):\n",
    "    running_loss = 0\n",
    "    \n",
    "    model.train()\n",
    "    train_acc = []\n",
    "    for _, (image, target) in tqdm(enumerate(train_loder)):\n",
    "        image = image.to(device)\n",
    "        target = target.to(device)#type(torch.LongTensor).to(device)\n",
    "        output = model(image)\n",
    "        \n",
    "        loss = 0\n",
    "\n",
    "        # 배치 내 각각 텐서마다 loss and acc 구하기 \n",
    "        for idx in range(len(output)):\n",
    "            \n",
    "            # 44개(단어 사이즈)로 짤라낸 후 계산\n",
    "            sliced = torch.cat(torch.split(output[idx], 44, dim=0)).reshape(7, 44)\n",
    "            \n",
    "            for i in range(len(sliced)):\n",
    "                loss += criterion(sliced[i].reshape(1, -1), target[idx][i].reshape(1))\n",
    "            \n",
    "            predicted = sliced.argmax(1)\n",
    "            accuracy = sum(predicted == target[idx]).item() / 7    # 각각의 이미지에서 글자를 얼마나 맞췄는지\n",
    "            train_acc.append(accuracy)\n",
    "\n",
    "        optimizer.zero_grad()\n",
    "        loss.backward()\n",
    "        optimizer.step()\n",
    "      \n",
    "    train_loss_for_epoch.append(loss.item())\n",
    "    train_acc_for_epoch.append(np.mean(train_acc))\n",
    "\n",
    "    print(f'epoch: {e+1}, loss: {loss.item()}, train accuracy: {np.mean(train_acc)}')\n",
    "    if (e+1) % 5 == 0 :\n",
    "        if save_model:\n",
    "            checkpoint = {'state_dict': model.state_dict(), 'optimizer': optimizer.state_dict()}\n",
    "            save_checkpoint(checkpoint)\n",
    "    \n",
    "    model.eval()\n",
    "    with torch.no_grad():\n",
    "        test_acc = []\n",
    "\n",
    "        for _, (image_t, target_t) in enumerate(test_loder):\n",
    "            image_t = image_t.to(device)\n",
    "            target_t = target_t.to(device)#type(torch.LongTensor).to(device)\n",
    "            output_t = model(image_t)\n",
    "\n",
    "            # 배치내의 각 샘플마다\n",
    "            for idx in range(len(output_t)):\n",
    "                # 44개(단어 사이즈)로 짤라낸 후 계산\n",
    "                sliced = torch.cat(torch.split(output_t[idx], 44, dim=0)).reshape(7, 44)\n",
    "                predicted = sliced.argmax(1)\n",
    "\n",
    "                accuracy = sum(predicted == target_t[idx]).item() / 7\n",
    "                test_acc.append(accuracy)\n",
    "        test_acc_for_epoch.append(np.mean(test_acc))\n",
    "        print(f'epoch: {e+1}, test accuracy: {np.mean(test_acc)}')"
   ]
  },
  {
   "cell_type": "code",
   "execution_count": 22,
   "metadata": {
    "colab": {
     "base_uri": "https://localhost:8080/",
     "height": 1000
    },
    "colab_type": "code",
    "executionInfo": {
     "elapsed": 1022,
     "status": "ok",
     "timestamp": 1599405517799,
     "user": {
      "displayName": "안재주",
      "photoUrl": "",
      "userId": "12503421062907418952"
     },
     "user_tz": -540
    },
    "id": "qt8-BX-5JWmw",
    "outputId": "08c6146b-4be6-4b00-b55b-4d5a93286f88"
   },
   "outputs": [
    {
     "name": "stderr",
     "output_type": "stream",
     "text": [
      "3it [00:00, 21.74it/s]"
     ]
    },
    {
     "name": "stdout",
     "output_type": "stream",
     "text": [
      "1th target: ['8', '1', '서', '0', '7', '2', '9']\n",
      "1th predicted: ['8', '1', '서', '0', '7', '2', '1']\n",
      "\n",
      "========================================\n",
      "2th target: ['6', '1', '고', '9', '9', '4', '6']\n",
      "2th predicted: ['6', '1', '고', '9', '8', '4', '0']\n",
      "\n",
      "========================================\n",
      "3th target: ['3', '3', '보', '8', '5', '9', '4']\n",
      "3th predicted: ['3', '3', '보', '8', '5', '9', '4']\n",
      "\n",
      "========================================\n",
      "4th target: ['2', '1', '소', '5', '4', '5', '3']\n",
      "4th predicted: ['2', '1', '소', '5', '4', '5', '1']\n",
      "\n",
      "========================================\n",
      "5th target: ['3', '8', '호', '6', '0', '0', '2']\n",
      "5th predicted: ['3', '8', '보', '6', '0', '0', '5']\n",
      "\n",
      "========================================\n",
      "6th target: ['4', '1', '조', '1', '7', '2', '0']\n",
      "6th predicted: ['4', '1', '조', '1', '7', '2', '1']\n",
      "\n",
      "========================================\n",
      "7th target: ['2', '1', '조', '8', '2', '4', '2']\n",
      "7th predicted: ['2', '1', '조', '8', '2', '4', '0']\n",
      "\n",
      "========================================\n",
      "8th target: ['2', '3', '구', '4', '7', '8', '4']\n",
      "8th predicted: ['2', '3', '구', '4', '7', '9', '7']\n",
      "\n",
      "========================================\n",
      "9th target: ['4', '1', '무', '7', '9', '7', '5']\n",
      "9th predicted: ['4', '1', '주', '7', '9', '7', '5']\n",
      "\n",
      "========================================\n",
      "10th target: ['1', '0', '부', '6', '7', '7', '0']\n",
      "10th predicted: ['0', '0', '루', '5', '7', '7', '9']\n",
      "\n",
      "========================================\n",
      "11th target: ['2', '5', '부', '3', '1', '9', '4']\n",
      "11th predicted: ['2', '5', '우', '3', '1', '9', '9']\n",
      "\n",
      "========================================\n",
      "12th target: ['0', '4', '머', '0', '7', '1', '1']\n",
      "12th predicted: ['0', '4', '마', '0', '7', '1', '1']\n",
      "\n",
      "========================================\n",
      "13th target: ['2', '6', '소', '6', '6', '6', '3']\n",
      "13th predicted: ['2', '6', '소', '6', '6', '6', '1']\n",
      "\n",
      "========================================\n",
      "14th target: ['4', '8', '오', '8', '3', '7', '1']\n",
      "14th predicted: ['4', '8', '오', '8', '3', '7', '9']\n",
      "\n",
      "========================================\n",
      "15th target: ['6', '8', '부', '0', '9', '0', '2']\n",
      "15th predicted: ['6', '8', '고', '0', '7', '0', '6']\n",
      "\n",
      "========================================\n",
      "16th target: ['1', '0', '소', '2', '9', '3', '8']\n",
      "16th predicted: ['1', '0', '소', '2', '9', '3', '3']\n",
      "\n",
      "========================================\n",
      "17th target: ['2', '6', '소', '6', '6', '1', '9']\n",
      "17th predicted: ['2', '6', '소', '6', '6', '1', '8']\n",
      "\n",
      "========================================\n",
      "18th target: ['2', '4', '다', '6', '7', '8', '8']\n",
      "18th predicted: ['2', '4', '어', '6', '7', '8', '7']\n",
      "\n",
      "========================================\n",
      "19th target: ['5', '4', '수', '9', '8', '3', '4']\n",
      "19th predicted: ['5', '1', '누', '9', '8', '3', '6']\n",
      "\n",
      "========================================\n",
      "20th target: ['2', '6', '거', '0', '8', '1', '8']\n",
      "20th predicted: ['2', '6', '거', '0', '8', '1', '3']\n",
      "\n",
      "========================================\n",
      "21th target: ['6', '0', '거', '6', '1', '3', '7']\n",
      "21th predicted: ['6', '0', '저', '6', '1', '3', '8']\n",
      "\n",
      "========================================\n",
      "22th target: ['5', '5', '라', '6', '2', '3', '8']\n",
      "22th predicted: ['5', '5', '거', '6', '2', '3', '5']\n",
      "\n",
      "========================================\n",
      "23th target: ['2', '6', '거', '0', '8', '2', '7']\n",
      "23th predicted: ['9', '6', '거', '0', '8', '2', '6']\n",
      "\n",
      "========================================\n",
      "24th target: ['4', '6', '버', '1', '9', '9', '1']\n",
      "24th predicted: ['4', '6', '어', '1', '9', '5', '2']\n",
      "\n",
      "========================================\n",
      "25th target: ['6', '1', '구', '6', '8', '9', '0']\n",
      "25th predicted: ['6', '1', '구', '6', '5', '9', '9']\n",
      "\n",
      "========================================\n",
      "26th target: ['6', '6', '고', '7', '1', '5', '1']\n",
      "26th predicted: ['5', '6', '고', '7', '1', '5', '8']\n",
      "\n",
      "========================================\n",
      "27th target: ['2', '5', '라', '7', '7', '3', '7']\n",
      "27th predicted: ['7', '5', '더', '7', '7', '3', '3']\n",
      "\n",
      "========================================\n",
      "28th target: ['1', '4', '누', '6', '3', '4', '2']\n",
      "28th predicted: ['1', '4', '누', '6', '3', '4', '8']\n",
      "\n",
      "========================================\n",
      "29th target: ['7', '0', '나', '4', '5', '7', '0']\n",
      "29th predicted: ['7', '6', '마', '4', '5', '7', '0']\n",
      "\n",
      "========================================\n",
      "30th target: ['1', '6', '부', '7', '5', '3', '8']\n",
      "30th predicted: ['1', '6', '부', '7', '5', '3', '2']\n",
      "\n",
      "========================================\n",
      "31th target: ['3', '7', '루', '5', '8', '0', '0']\n",
      "31th predicted: ['3', '7', '루', '5', '8', '0', '4']\n",
      "\n",
      "========================================\n",
      "32th target: ['5', '4', '오', '1', '6', '0', '2']\n",
      "32th predicted: ['5', '8', '수', '1', '6', '0', '6']\n",
      "\n",
      "========================================\n",
      "33th target: ['1', '8', '루', '5', '4', '4', '7']\n",
      "33th predicted: ['1', '8', '구', '5', '4', '4', '2']\n",
      "\n",
      "========================================\n",
      "34th target: ['8', '1', '너', '0', '3', '1', '6']\n",
      "34th predicted: ['5', '1', '너', '9', '3', '1', '7']\n",
      "\n",
      "========================================\n",
      "35th target: ['3', '8', '고', '0', '5', '6', '0']\n",
      "35th predicted: ['3', '8', '고', '0', '5', '6', '6']\n",
      "\n",
      "========================================\n",
      "36th target: ['5', '9', '어', '2', '7', '4', '9']\n",
      "36th predicted: ['5', '9', '어', '2', '7', '4', '7']\n",
      "\n",
      "========================================\n",
      "37th target: ['6', '2', '거', '6', '0', '4', '1']\n",
      "37th predicted: ['6', '2', '가', '6', '0', '4', '6']\n",
      "\n",
      "========================================\n",
      "38th target: ['6', '8', '무', '5', '8', '6', '0']\n",
      "38th predicted: ['6', '8', '루', '5', '8', '6', '6']\n",
      "\n",
      "========================================\n",
      "39th target: ['1', '1', '너', '9', '1', '5', '3']\n",
      "39th predicted: ['9', '1', '너', '5', '1', '5', '7']\n",
      "\n",
      "========================================\n",
      "40th target: ['3', '7', '모', '0', '8', '1', '5']\n",
      "40th predicted: ['3', '7', '루', '0', '8', '9', '5']\n",
      "\n",
      "========================================\n",
      "41th target: ['2', '6', '모', '3', '9', '7', '3']\n",
      "41th predicted: ['2', '6', '모', '3', '9', '7', '5']\n",
      "\n",
      "========================================\n",
      "42th target: ['5', '3', '우', '1', '6', '6', '8']\n",
      "42th predicted: ['5', '3', '부', '1', '6', '4', '9']\n",
      "\n",
      "========================================\n",
      "43th target: ['6', '0', '다', '9', '0', '5', '0']\n",
      "43th predicted: ['4', '0', '저', '5', '0', '5', '7']\n",
      "\n",
      "========================================\n",
      "44th target: ['3', '8', '저', '1', '5', '3', '9']\n",
      "44th predicted: ['3', '8', '마', '1', '5', '3', '5']\n",
      "\n",
      "========================================\n",
      "45th target: ['5', '8', '라', '8', '2', '2', '5']\n",
      "45th predicted: ['5', '8', '라', '8', '2', '2', '9']\n",
      "\n",
      "========================================\n",
      "46th target: ['6', '0', '버', '0', '2', '2', '1']\n",
      "46th predicted: ['6', '0', '어', '0', '7', '2', '4']\n",
      "\n",
      "========================================\n",
      "47th target: ['6', '7', '저', '3', '5', '1', '6']\n",
      "47th predicted: ['6', '7', '버', '3', '5', '1', '5']\n",
      "\n",
      "========================================\n",
      "48th target: ['2', '3', '버', '8', '9', '0', '2']\n",
      "48th predicted: ['2', '3', '버', '8', '9', '9', '0']\n",
      "\n",
      "========================================\n",
      "49th target: ['2', '1', '도', '5', '4', '3', '1']\n",
      "49th predicted: ['7', '1', '노', '6', '4', '1', '0']\n",
      "\n",
      "========================================\n",
      "50th target: ['4', '8', '소', '9', '7', '6', '9']\n",
      "50th predicted: ['4', '8', '소', '9', '7', '6', '1']\n",
      "\n",
      "========================================\n",
      "51th target: ['0', '3', '부', '4', '5', '6', '8']\n",
      "51th predicted: ['0', '3', '라', '4', '5', '6', '9']\n",
      "\n",
      "========================================\n",
      "52th target: ['1', '4', '루', '4', '5', '9', '6']\n",
      "52th predicted: ['1', '4', '루', '4', '5', '9', '8']\n",
      "\n",
      "========================================\n",
      "53th target: ['3', '9', '머', '7', '3', '7', '2']\n",
      "53th predicted: ['3', '9', '마', '7', '3', '7', '2']\n",
      "\n",
      "========================================\n",
      "54th target: ['8', '1', '버', '3', '7', '1', '7']\n",
      "54th predicted: ['8', '1', '버', '3', '7', '1', '0']\n",
      "\n",
      "========================================\n",
      "55th target: ['5', '8', '루', '3', '8', '0', '7']\n",
      "55th predicted: ['5', '7', '루', '3', '8', '0', '9']\n",
      "\n",
      "========================================\n",
      "56th target: ['0', '1', '두', '6', '1', '6', '7']\n",
      "56th predicted: ['0', '1', '두', '6', '1', '6', '3']\n",
      "\n",
      "========================================\n",
      "57th target: ['3', '8', '고', '0', '6', '8', '2']\n",
      "57th predicted: ['3', '8', '고', '0', '6', '9', '6']\n",
      "\n",
      "========================================\n",
      "58th target: ['5', '0', '무', '5', '8', '1', '0']\n",
      "58th predicted: ['5', '0', '루', '5', '8', '1', '7']\n",
      "\n",
      "========================================\n",
      "59th target: ['7', '0', '너', '5', '8', '9', '5']\n",
      "59th predicted: ['7', '0', '나', '5', '8', '9', '4']\n",
      "\n",
      "========================================\n",
      "60th target: ['4', '6', '소', '0', '4', '9', '9']\n",
      "60th predicted: ['4', '6', '소', '0', '4', '2', '5']\n",
      "\n",
      "========================================\n",
      "61th target: ['6', '8', '주', '2', '1', '5', '0']\n",
      "61th predicted: ['6', '8', '주', '2', '1', '5', '7']\n",
      "\n",
      "========================================\n",
      "62th target: ['5', '5', '마', '2', '6', '3', '3']\n",
      "62th predicted: ['5', '5', '더', '2', '6', '3', '5']\n",
      "\n",
      "========================================\n",
      "63th target: ['5', '5', '호', '1', '6', '7', '4']\n",
      "63th predicted: ['5', '5', '호', '1', '4', '7', '5']\n",
      "\n",
      "========================================\n",
      "64th target: ['4', '9', '더', '3', '5', '2', '3']\n",
      "64th predicted: ['4', '9', '더', '3', '5', '2', '8']\n",
      "\n",
      "========================================\n",
      "65th target: ['6', '2', '머', '4', '0', '9', '6']\n",
      "65th predicted: ['6', '2', '머', '4', '0', '8', '6']\n",
      "\n",
      "========================================\n",
      "66th target: ['4', '3', '구', '3', '4', '7', '8']\n",
      "66th predicted: ['4', '4', '구', '4', '4', '7', '9']\n",
      "\n",
      "========================================\n",
      "67th target: ['1', '2', '어', '7', '7', '9', '7']\n",
      "67th predicted: ['1', '3', '버', '7', '7', '9', '2']\n",
      "\n",
      "========================================\n",
      "68th target: ['3', '6', '모', '8', '4', '5', '6']\n",
      "68th predicted: ['3', '6', '모', '8', '4', '5', '1']\n",
      "\n",
      "========================================\n",
      "69th target: ['2', '8', '도', '5', '1', '9', '0']\n",
      "69th predicted: ['2', '8', '두', '5', '1', '2', '5']\n",
      "\n",
      "========================================\n",
      "70th target: ['3', '1', '로', '2', '0', '0', '4']\n",
      "70th predicted: ['3', '1', '루', '2', '8', '0', '6']\n",
      "\n",
      "========================================\n",
      "71th target: ['4', '5', '우', '3', '2', '5', '3']\n",
      "71th predicted: ['4', '5', '우', '3', '2', '5', '9']\n",
      "\n",
      "========================================\n",
      "72th target: ['6', '1', '구', '6', '6', '5', '9']\n",
      "72th predicted: ['6', '1', '구', '6', '6', '5', '9']\n",
      "\n",
      "========================================\n",
      "73th target: ['0', '8', '보', '1', '2', '9', '2']\n",
      "73th predicted: ['0', '8', '호', '1', '2', '9', '4']\n",
      "\n",
      "========================================\n",
      "74th target: ['5', '5', '더', '3', '4', '6', '2']\n",
      "74th predicted: ['3', '5', '더', '2', '4', '6', '5']\n",
      "\n",
      "========================================\n"
     ]
    },
    {
     "name": "stderr",
     "output_type": "stream",
     "text": [
      "8it [00:00, 21.00it/s]"
     ]
    },
    {
     "name": "stdout",
     "output_type": "stream",
     "text": [
      "75th target: ['2', '0', '도', '4', '7', '6', '4']\n",
      "75th predicted: ['2', '0', '조', '4', '7', '4', '7']\n",
      "\n",
      "========================================\n",
      "76th target: ['0', '5', '고', '3', '2', '5', '0']\n",
      "76th predicted: ['0', '5', '고', '3', '2', '5', '0']\n",
      "\n",
      "========================================\n",
      "77th target: ['4', '0', '저', '2', '7', '2', '3']\n",
      "77th predicted: ['4', '0', '고', '2', '7', '9', '8']\n",
      "\n",
      "========================================\n",
      "78th target: ['1', '3', '더', '1', '7', '1', '5']\n",
      "78th predicted: ['1', '3', '더', '1', '7', '1', '1']\n",
      "\n",
      "========================================\n",
      "79th target: ['4', '2', '저', '6', '1', '6', '3']\n",
      "79th predicted: ['4', '2', '머', '6', '1', '6', '8']\n",
      "\n",
      "========================================\n",
      "80th target: ['1', '4', '누', '6', '9', '1', '3']\n",
      "80th predicted: ['1', '4', '누', '6', '9', '1', '2']\n",
      "\n",
      "========================================\n",
      "81th target: ['1', '4', '보', '0', '2', '1', '3']\n",
      "81th predicted: ['1', '3', '보', '0', '2', '1', '2']\n",
      "\n",
      "========================================\n",
      "82th target: ['3', '4', '주', '7', '5', '2', '6']\n",
      "82th predicted: ['3', '4', '주', '7', '5', '2', '9']\n",
      "\n",
      "========================================\n",
      "83th target: ['5', '5', '더', '3', '6', '0', '8']\n",
      "83th predicted: ['5', '5', '더', '3', '6', '0', '5']\n",
      "\n",
      "========================================\n",
      "84th target: ['2', '5', '머', '1', '8', '0', '1']\n",
      "84th predicted: ['2', '5', '머', '1', '8', '9', '3']\n",
      "\n",
      "========================================\n",
      "85th target: ['4', '6', '하', '4', '0', '9', '5']\n",
      "85th predicted: ['4', '6', '어', '4', '0', '9', '8']\n",
      "\n",
      "========================================\n",
      "86th target: ['3', '8', '고', '0', '8', '1', '7']\n",
      "86th predicted: ['3', '8', '고', '0', '8', '9', '6']\n",
      "\n",
      "========================================\n",
      "87th target: ['5', '0', '조', '3', '1', '4', '9']\n",
      "87th predicted: ['5', '0', '조', '3', '1', '4', '5']\n",
      "\n",
      "========================================\n",
      "88th target: ['5', '7', '우', '3', '6', '1', '8']\n",
      "88th predicted: ['5', '7', '우', '3', '6', '1', '0']\n",
      "\n",
      "========================================\n",
      "89th target: ['1', '8', '보', '1', '2', '2', '0']\n",
      "89th predicted: ['1', '8', '보', '1', '2', '2', '3']\n",
      "\n",
      "========================================\n",
      "90th target: ['8', '0', '마', '8', '7', '9', '5']\n",
      "90th predicted: ['8', '0', '저', '8', '7', '9', '4']\n",
      "\n",
      "========================================\n",
      "91th target: ['4', '3', '두', '4', '1', '4', '5']\n",
      "91th predicted: ['4', '3', '두', '4', '1', '4', '8']\n",
      "\n",
      "========================================\n",
      "92th target: ['6', '5', '보', '4', '8', '9', '2']\n",
      "92th predicted: ['5', '0', '호', '4', '8', '9', '9']\n",
      "\n",
      "========================================\n",
      "93th target: ['5', '0', '모', '7', '7', '5', '9']\n",
      "93th predicted: ['5', '0', '로', '7', '7', '5', '9']\n",
      "\n",
      "========================================\n",
      "94th target: ['4', '3', '부', '7', '7', '0', '7']\n",
      "94th predicted: ['4', '3', '부', '7', '7', '8', '9']\n",
      "\n",
      "========================================\n",
      "95th target: ['2', '9', '루', '0', '1', '4', '4']\n",
      "95th predicted: ['5', '8', '루', '1', '1', '2', '4']\n",
      "\n",
      "========================================\n",
      "96th target: ['2', '2', '도', '0', '9', '9', '1']\n",
      "96th predicted: ['2', '2', '주', '0', '9', '9', '6']\n",
      "\n",
      "========================================\n",
      "97th target: ['3', '1', '로', '2', '6', '0', '1']\n",
      "97th predicted: ['3', '1', '로', '2', '6', '0', '9']\n",
      "\n",
      "========================================\n",
      "98th target: ['5', '1', '조', '7', '7', '6', '4']\n",
      "98th predicted: ['5', '1', '조', '7', '7', '4', '6']\n",
      "\n",
      "========================================\n",
      "99th target: ['0', '9', '라', '0', '7', '1', '0']\n",
      "99th predicted: ['0', '9', '라', '0', '7', '1', '6']\n",
      "\n",
      "========================================\n",
      "100th target: ['2', '2', '가', '7', '9', '5', '3']\n",
      "100th predicted: ['2', '2', '가', '7', '9', '5', '8']\n",
      "\n",
      "========================================\n",
      "101th target: ['2', '9', '누', '3', '2', '9', '1']\n",
      "101th predicted: ['2', '9', '누', '3', '2', '9', '9']\n",
      "\n",
      "========================================\n",
      "102th target: ['2', '0', '루', '5', '1', '2', '4']\n",
      "102th predicted: ['2', '0', '무', '5', '1', '2', '7']\n",
      "\n",
      "========================================\n",
      "103th target: ['3', '8', '머', '9', '9', '2', '2']\n",
      "103th predicted: ['4', '8', '버', '9', '2', '2', '9']\n",
      "\n",
      "========================================\n",
      "104th target: ['5', '1', '누', '3', '9', '6', '6']\n",
      "104th predicted: ['5', '1', '누', '3', '0', '1', '9']\n",
      "\n",
      "========================================\n",
      "105th target: ['1', '9', '두', '2', '6', '7', '0']\n",
      "105th predicted: ['1', '9', '루', '2', '6', '7', '6']\n",
      "\n",
      "========================================\n",
      "106th target: ['1', '2', '너', '9', '3', '4', '1']\n",
      "106th predicted: ['1', '2', '너', '9', '3', '4', '9']\n",
      "\n",
      "========================================\n",
      "107th target: ['6', '5', '러', '3', '0', '6', '5']\n",
      "107th predicted: ['6', '5', '더', '3', '0', '6', '9']\n",
      "\n",
      "========================================\n",
      "108th target: ['3', '1', '모', '8', '2', '4', '9']\n",
      "108th predicted: ['3', '1', '모', '8', '2', '4', '0']\n",
      "\n",
      "========================================\n",
      "109th target: ['3', '2', '모', '8', '3', '7', '8']\n",
      "109th predicted: ['3', '2', '모', '8', '3', '7', '1']\n",
      "\n",
      "========================================\n",
      "110th target: ['0', '6', '모', '1', '2', '9', '7']\n",
      "110th predicted: ['0', '6', '모', '1', '2', '9', '3']\n",
      "\n",
      "========================================\n",
      "111th target: ['6', '1', '구', '6', '2', '3', '9']\n",
      "111th predicted: ['6', '1', '구', '6', '2', '3', '0']\n",
      "\n",
      "========================================\n",
      "112th target: ['3', '0', '다', '9', '9', '5', '3']\n",
      "112th predicted: ['3', '0', '저', '9', '9', '5', '7']\n",
      "\n",
      "========================================\n",
      "113th target: ['6', '5', '도', '8', '4', '4', '3']\n",
      "113th predicted: ['6', '5', '도', '8', '4', '4', '9']\n",
      "\n",
      "========================================\n",
      "114th target: ['3', '8', '버', '7', '2', '0', '1']\n",
      "114th predicted: ['3', '8', '어', '7', '2', '0', '9']\n",
      "\n",
      "========================================\n",
      "115th target: ['5', '6', '오', '1', '9', '6', '6']\n",
      "115th predicted: ['5', '6', '호', '1', '9', '6', '3']\n",
      "\n",
      "========================================\n",
      "116th target: ['1', '2', '어', '7', '8', '4', '1']\n",
      "116th predicted: ['1', '2', '버', '7', '8', '4', '8']\n",
      "\n",
      "========================================\n",
      "117th target: ['0', '9', '마', '0', '6', '0', '4']\n",
      "117th predicted: ['0', '9', '보', '0', '6', '0', '5']\n",
      "\n",
      "========================================\n",
      "118th target: ['2', '9', '서', '2', '1', '5', '0']\n",
      "118th predicted: ['2', '1', '어', '2', '1', '5', '7']\n",
      "\n",
      "========================================\n",
      "119th target: ['0', '9', '누', '6', '6', '3', '6']\n",
      "119th predicted: ['0', '9', '누', '2', '4', '2', '9']\n",
      "\n",
      "========================================\n",
      "120th target: ['6', '4', '저', '6', '0', '0', '4']\n",
      "120th predicted: ['9', '4', '가', '6', '6', '9', '8']\n",
      "\n",
      "========================================\n",
      "121th target: ['6', '0', '버', '9', '3', '0', '8']\n",
      "121th predicted: ['6', '0', '버', '9', '3', '0', '9']\n",
      "\n",
      "========================================\n",
      "122th target: ['0', '1', '두', '6', '1', '7', '3']\n",
      "122th predicted: ['0', '1', '두', '6', '1', '7', '3']\n",
      "\n",
      "========================================\n",
      "123th target: ['3', '8', '누', '8', '6', '0', '6']\n",
      "123th predicted: ['3', '8', '누', '8', '6', '0', '7']\n",
      "\n",
      "========================================\n",
      "124th target: ['1', '5', '주', '8', '4', '4', '1']\n",
      "124th predicted: ['0', '5', '구', '6', '1', '4', '4']\n",
      "\n",
      "========================================\n",
      "125th target: ['2', '7', '나', '4', '6', '3', '0']\n",
      "125th predicted: ['2', '7', '나', '4', '8', '3', '7']\n",
      "\n",
      "========================================\n",
      "126th target: ['5', '3', '구', '6', '1', '2', '8']\n",
      "126th predicted: ['5', '2', '구', '6', '1', '4', '9']\n",
      "\n",
      "========================================\n",
      "127th target: ['2', '7', '나', '4', '2', '7', '8']\n",
      "127th predicted: ['2', '7', '나', '4', '2', '7', '7']\n",
      "\n",
      "========================================\n",
      "128th target: ['2', '2', '러', '0', '8', '1', '5']\n",
      "128th predicted: ['2', '2', '라', '0', '8', '1', '6']\n",
      "\n",
      "========================================\n",
      "129th target: ['4', '1', '부', '5', '6', '7', '8']\n",
      "129th predicted: ['3', '1', '오', '5', '6', '7', '8']\n",
      "\n",
      "========================================\n",
      "130th target: ['6', '5', '어', '9', '0', '1', '5']\n",
      "130th predicted: ['6', '5', '버', '9', '0', '1', '9']\n",
      "\n",
      "========================================\n",
      "131th target: ['3', '1', '로', '2', '2', '5', '4']\n",
      "131th predicted: ['9', '1', '두', '2', '1', '7', '7']\n",
      "\n",
      "========================================\n",
      "132th target: ['2', '5', '거', '9', '5', '7', '4']\n",
      "132th predicted: ['2', '5', '거', '9', '5', '7', '9']\n",
      "\n",
      "========================================\n",
      "133th target: ['5', '8', '어', '8', '1', '7', '4']\n",
      "133th predicted: ['5', '8', '어', '8', '1', '7', '7']\n",
      "\n",
      "========================================\n",
      "134th target: ['6', '9', '도', '2', '0', '9', '6']\n",
      "134th predicted: ['6', '9', '도', '2', '0', '9', '6']\n",
      "\n",
      "========================================\n",
      "135th target: ['4', '8', '소', '9', '2', '2', '9']\n",
      "135th predicted: ['4', '8', '소', '9', '2', '2', '7']\n",
      "\n",
      "========================================\n",
      "136th target: ['5', '4', '하', '6', '3', '3', '6']\n",
      "136th predicted: ['5', '4', '마', '6', '3', '3', '5']\n",
      "\n",
      "========================================\n",
      "137th target: ['6', '0', '버', '9', '3', '6', '8']\n",
      "137th predicted: ['1', '0', '어', '1', '3', '4', '9']\n",
      "\n",
      "========================================\n",
      "138th target: ['6', '4', '러', '3', '3', '3', '3']\n",
      "138th predicted: ['6', '4', '러', '3', '3', '3', '2']\n",
      "\n",
      "========================================\n",
      "139th target: ['1', '9', '누', '4', '5', '4', '0']\n",
      "139th predicted: ['1', '9', '누', '4', '5', '4', '6']\n",
      "\n",
      "========================================\n",
      "140th target: ['1', '9', '구', '5', '4', '2', '0']\n",
      "140th predicted: ['1', '9', '구', '5', '4', '2', '6']\n",
      "\n",
      "========================================\n",
      "141th target: ['6', '9', '로', '7', '3', '5', '0']\n",
      "141th predicted: ['6', '9', '로', '7', '3', '5', '8']\n",
      "\n",
      "========================================\n",
      "142th target: ['6', '2', '도', '1', '0', '1', '9']\n",
      "142th predicted: ['6', '2', '도', '1', '0', '1', '8']\n",
      "\n",
      "========================================\n",
      "143th target: ['6', '1', '구', '6', '1', '2', '1']\n",
      "143th predicted: ['5', '1', '구', '6', '1', '4', '1']\n",
      "\n",
      "========================================\n",
      "144th target: ['6', '8', '오', '7', '2', '3', '6']\n"
     ]
    },
    {
     "name": "stderr",
     "output_type": "stream",
     "text": [
      "11it [00:00, 22.48it/s]"
     ]
    },
    {
     "name": "stdout",
     "output_type": "stream",
     "text": [
      "144th predicted: ['7', '6', '노', '7', '1', '3', '7']\n",
      "\n",
      "========================================\n",
      "145th target: ['7', '1', '저', '2', '2', '7', '6']\n",
      "145th predicted: ['7', '1', '러', '2', '2', '7', '1']\n",
      "\n",
      "========================================\n",
      "146th target: ['0', '8', '수', '7', '0', '4', '0']\n",
      "146th predicted: ['0', '8', '수', '7', '0', '4', '4']\n",
      "\n",
      "========================================\n",
      "147th target: ['0', '6', '모', '1', '0', '8', '5']\n",
      "147th predicted: ['0', '6', '주', '1', '0', '8', '1']\n",
      "\n",
      "========================================\n",
      "148th target: ['2', '2', '더', '7', '7', '6', '7']\n",
      "148th predicted: ['2', '3', '버', '7', '7', '9', '8']\n",
      "\n",
      "========================================\n",
      "149th target: ['4', '9', '보', '8', '3', '4', '7']\n",
      "149th predicted: ['4', '9', '보', '8', '3', '4', '9']\n",
      "\n",
      "========================================\n",
      "150th target: ['0', '3', '고', '2', '1', '0', '3']\n",
      "150th predicted: ['0', '3', '고', '2', '1', '0', '8']\n",
      "\n",
      "========================================\n",
      "151th target: ['2', '8', '호', '3', '4', '8', '0']\n",
      "151th predicted: ['2', '8', '호', '3', '4', '5', '9']\n",
      "\n",
      "========================================\n",
      "152th target: ['2', '3', '거', '8', '1', '7', '5']\n",
      "152th predicted: ['2', '3', '거', '8', '1', '7', '1']\n",
      "\n",
      "========================================\n",
      "153th target: ['5', '0', '더', '8', '1', '5', '7']\n",
      "153th predicted: ['5', '0', '저', '8', '1', '5', '4']\n",
      "\n",
      "========================================\n",
      "154th target: ['1', '5', '도', '0', '7', '7', '3']\n",
      "154th predicted: ['1', '5', '도', '0', '7', '7', '5']\n",
      "\n",
      "========================================\n",
      "155th target: ['3', '1', '로', '2', '5', '5', '9']\n",
      "155th predicted: ['3', '1', '로', '2', '5', '5', '1']\n",
      "\n",
      "========================================\n",
      "156th target: ['4', '5', '어', '1', '5', '0', '5']\n",
      "156th predicted: ['4', '5', '어', '1', '5', '8', '5']\n",
      "\n",
      "========================================\n",
      "157th target: ['0', '7', '고', '4', '5', '9', '8']\n",
      "157th predicted: ['0', '7', '고', '4', '5', '2', '1']\n",
      "\n",
      "========================================\n",
      "158th target: ['5', '4', '머', '9', '1', '7', '6']\n",
      "158th predicted: ['5', '4', '머', '9', '1', '1', '1']\n",
      "\n",
      "========================================\n",
      "159th target: ['5', '4', '주', '3', '4', '5', '5']\n",
      "159th predicted: ['5', '4', '오', '3', '4', '5', '9']\n",
      "\n",
      "========================================\n",
      "160th target: ['4', '2', '거', '1', '9', '5', '9']\n",
      "160th predicted: ['4', '1', '가', '1', '9', '5', '8']\n",
      "\n",
      "========================================\n",
      "161th target: ['3', '6', '고', '4', '6', '5', '3']\n",
      "161th predicted: ['3', '6', '고', '4', '6', '5', '7']\n",
      "\n",
      "========================================\n",
      "162th target: ['1', '6', '마', '9', '7', '3', '1']\n",
      "162th predicted: ['1', '6', '마', '9', '7', '3', '7']\n",
      "\n",
      "========================================\n",
      "acc: 99, accuracy: 0.736331569664903\n"
     ]
    },
    {
     "name": "stderr",
     "output_type": "stream",
     "text": [
      "\n"
     ]
    }
   ],
   "source": [
    "#### Test for sampling\n",
    "\n",
    "def do_sample(data, vocab):\n",
    "    res = []\n",
    "    for i in data:\n",
    "        res.append(vocab.idx2word[i.item()])\n",
    "    return res\n",
    "\n",
    "model.eval()\n",
    "with torch.no_grad():\n",
    "    test_acc = []\n",
    "    idx_instance = 0\n",
    "    for _, (image, target) in tqdm(enumerate(test_loder)):\n",
    "        image = image.to(device)\n",
    "        target = target.to(device)#type(torch.LongTensor).to(device)\n",
    "        output_t = model(image)\n",
    "\n",
    "        # 배치내의 각 샘플마다\n",
    "        for idx in range(len(output_t)):\n",
    "            # 44개(단어 사이즈)로 짤라낸 후 계산\n",
    "            sliced = torch.cat(torch.split(output_t[idx], 44, dim=0)).reshape(7, 44) \n",
    "            predicted = sliced.argmax(1)\n",
    "\n",
    "            accuracy = sum(predicted == target[idx]).item() / 7\n",
    "            test_acc.append(accuracy)\n",
    "            print(f'{idx_instance+1}th target: {do_sample(target[idx], vocab)}')\n",
    "            print(f'{idx_instance+1}th predicted: {do_sample(predicted, vocab)}')\n",
    "            print()\n",
    "            print('========================================')\n",
    "            \n",
    "            idx_instance += 1\n",
    "    print(f'acc: {e}, accuracy: {np.mean(test_acc)}')"
   ]
  },
  {
   "cell_type": "markdown",
   "metadata": {
    "colab_type": "text",
    "id": "BNEeRgJEzrqd"
   },
   "source": [
    "#### Conclusion\n",
    "\n",
    "- Image captioning 방법으로 시도했을 때 CNN에서 feature 학습을 잘 못한다.\n",
    "  - 해당 방법은 CNN부분을 pre-trained 네트워크를 사용해야할 것 같다.\n",
    "\n",
    "\n",
    "- Image captioning 대신 multi class 문제로 모델링\n",
    "  - CNN으로 추출한 feature vector를 단어 개수인 7 묶음 잘라서 분류.\n",
    "  - 각각의 data 당 7개의 label을 예측해야 하므로 sequential multi class 문제로 정의\n",
    "\n",
    "\n",
    "- 기존의 CNN구조로 문제를 해결하려했을 때...\n",
    "  - Model이 feature extraction을 잘 못함 -> deep 하게 만들어야 한다.\n",
    "\n",
    "\n",
    "- MobileNet은 작은 image도 매우 deep한 모델로 만들 수 있다.\n",
    "  - 현재 해결하려는 문제의 데이터셋이 작으므로 MobileNet 구조를 이용하였다. (Residual learning은 적용하지 않았다.)\n",
    "\n",
    "\n",
    "- MobileNet의 구조를 그대로 따라하니 엄청난 Overfitting 발생.\n",
    "  - Train acc = 99%, Test acc = 10%\n",
    "\n",
    "  - 이를 해결하기 위해 여러가지 방법 시도\n",
    "    1. classifier를 좀 길게 만들고 Dropout을 적용 -> Feature vector를 그대로 분류하는 데 사용하는 것이라 효과가 좋지 않은 것 같다.\n",
    "    2. Ooptimizer에 Momentum적용 -> 0.1 이상하면 학습 불안정\n",
    "    3. Model의 구조를 Compact하게 바꾸거나, 완전 Deep하게 구성 -> Compact하게 적용하니 어느정도의 overfitting을 피할 수 있었음. 반대로 Deep하게 구성하면 성능 저하\n",
    "\n",
    "\n",
    "- 모델을 Compact하게 구성하고 학습 파라미터를 적게 만들기 위해 flatten과정을 제외\n",
    "  - 대신 Adaptive average pooling으로 간단하게 구성\n",
    "  - compact한 모델에서 dropout을 하나 해주니 성능 향상"
   ]
  },
  {
   "cell_type": "markdown",
   "metadata": {
    "colab_type": "text",
    "id": "pQGMz6IM9PtQ"
   },
   "source": [
    "#### 결과"
   ]
  },
  {
   "cell_type": "code",
   "execution_count": 23,
   "metadata": {
    "colab": {
     "base_uri": "https://localhost:8080/",
     "height": 53
    },
    "colab_type": "code",
    "executionInfo": {
     "elapsed": 551,
     "status": "ok",
     "timestamp": 1599405534741,
     "user": {
      "displayName": "안재주",
      "photoUrl": "",
      "userId": "12503421062907418952"
     },
     "user_tz": -540
    },
    "id": "ChkOgcmE9OA-",
    "outputId": "53e9a249-7610-4543-ead9-f4b8d0aa25ea"
   },
   "outputs": [
    {
     "name": "stdout",
     "output_type": "stream",
     "text": [
      "Max train accuracy:  0.9776992713623316\n",
      "Max test accuracy:  0.7495590828924161\n"
     ]
    }
   ],
   "source": [
    "print('Max train accuracy: ', np.max(train_acc_for_epoch))\n",
    "print('Max test accuracy: ', np.max(test_acc_for_epoch))"
   ]
  },
  {
   "cell_type": "code",
   "execution_count": 33,
   "metadata": {
    "colab": {
     "base_uri": "https://localhost:8080/",
     "height": 475
    },
    "colab_type": "code",
    "executionInfo": {
     "elapsed": 1049,
     "status": "ok",
     "timestamp": 1599405726007,
     "user": {
      "displayName": "안재주",
      "photoUrl": "",
      "userId": "12503421062907418952"
     },
     "user_tz": -540
    },
    "id": "QRIbqK1lzsdx",
    "outputId": "e25cf93b-6fca-4358-f2c2-af5e67faaead"
   },
   "outputs": [
    {
     "data": {
      "text/plain": [
       "Text(0.5, 0, 'Epoch')"
      ]
     },
     "execution_count": 33,
     "metadata": {
      "tags": []
     },
     "output_type": "execute_result"
    },
    {
     "data": {
      "image/png": "[encoded data removed]",
      "text/plain": [
       "<Figure size 504x504 with 2 Axes>"
      ]
     },
     "metadata": {
      "needs_background": "light",
      "tags": []
     },
     "output_type": "display_data"
    }
   ],
   "source": [
    "fig, ax = plt.subplots(2, 1, figsize=(7,7))\n",
    "ax[0].plot(train_acc_for_epoch, color='red')\n",
    "ax[0].plot(test_acc_for_epoch, color='blue')\n",
    "ax[0].set_title('Train vs Test acc')\n",
    "ax[0].set_ylabel('Accuracy')\n",
    "ax[0].set_xlabel('Epoch')\n",
    "\n",
    "ax[1].plot(train_loss_for_epoch, color='blue')\n",
    "ax[1].set_title('Train loss')\n",
    "ax[1].set_ylabel('Loss')\n",
    "ax[1].set_xlabel('Epoch')\n"
   ]
  }
 ],
 "metadata": {
  "accelerator": "GPU",
  "colab": {
   "authorship_tag": "ABX9TyOPyyhq4w8gPxvVnnX1Nij6",
   "collapsed_sections": [],
   "mount_file_id": "1ZjhAIy1A0jXGFQCuH7ODiq6aFWbJffhi",
   "name": "hw5.ipynb",
   "provenance": []
  },
  "kernelspec": {
   "display_name": "Python 3",
   "language": "python",
   "name": "python3"
  },
  "language_info": {
   "codemirror_mode": {
    "name": "ipython",
    "version": 3
   },
   "file_extension": ".py",
   "mimetype": "text/x-python",
   "name": "python",
   "nbconvert_exporter": "python",
   "pygments_lexer": "ipython3",
   "version": "3.8.3"
  }
 },
 "nbformat": 4,
 "nbformat_minor": 1
}
