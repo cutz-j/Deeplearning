{
 "cells": [
  {
   "cell_type": "code",
   "execution_count": 1,
   "metadata": {},
   "outputs": [],
   "source": [
    "import torch\n",
    "import torchvision\n",
    "import torchvision.transforms as transforms\n",
    "%matplotlib inline\n",
    "import matplotlib.pyplot as plt\n",
    "import numpy as np\n",
    "import torch.nn as nn\n",
    "import torch.nn.functional as F\n",
    "import torch.optim as optim\n",
    "from torchsummary import summary"
   ]
  },
  {
   "cell_type": "code",
   "execution_count": 148,
   "metadata": {},
   "outputs": [],
   "source": [
    "from torchvision.datasets import ImageFolder\n",
    "\n",
    "\n",
    "\n",
    "\n",
    "\n",
    "transform = transforms.Compose(\n",
    "    [transforms.Grayscale(),\n",
    "        transforms.ToTensor(),\n",
    "     transforms.Normalize([0.5], [0.5])])\n",
    "\n",
    "\n",
    "dataset = ImageFolder(root='./archive/trainingSet/unorder', transform=transform,)\n",
    "\n",
    "\n",
    "dataset_len = len(dataset)\n",
    "val_len = 10000\n",
    "train_set, val_set = torch.utils.data.random_split(dataset, [dataset_len-val_len,val_len])\n",
    "\n",
    "\n",
    "\n",
    "\n",
    "\n",
    "\n",
    "train_loader = torch.utils.data.DataLoader(train_set, batch_size=16, shuffle=True, num_workers=0)\n",
    "validation_loader = torch.utils.data.DataLoader(val_set, batch_size=16, shuffle=True, num_workers=0)\n"
   ]
  },
  {
   "cell_type": "code",
   "execution_count": 149,
   "metadata": {},
   "outputs": [
    {
     "data": {
      "text/plain": [
       "{'even': 0, 'odd': 1}"
      ]
     },
     "execution_count": 149,
     "metadata": {},
     "output_type": "execute_result"
    }
   ],
   "source": [
    "dataset.class_to_idx"
   ]
  },
  {
   "cell_type": "code",
   "execution_count": 150,
   "metadata": {},
   "outputs": [
    {
     "data": {
      "text/plain": [
       "42000"
      ]
     },
     "execution_count": 150,
     "metadata": {},
     "output_type": "execute_result"
    }
   ],
   "source": [
    "dataset_len"
   ]
  },
  {
   "cell_type": "code",
   "execution_count": 155,
   "metadata": {},
   "outputs": [],
   "source": [
    "class ANet(nn.Module):\n",
    "    def __init__(self):\n",
    "        super(ANet, self).__init__()\n",
    "        self.conv1 = nn.Conv2d(1, 3, 2)\n",
    "        self.pool = nn.MaxPool2d(2, 2)\n",
    "        self.conv2 = nn.Conv2d(3, 6, 3)\n",
    "        self.conv3 = nn.Conv2d(6, 12, 3)\n",
    "        self.fc1 = nn.Linear(12, 10)\n",
    "        self.fc2 = nn.Linear(10, 2)\n",
    "\n",
    "    def forward(self, x):\n",
    "        x = self.pool(F.relu(self.conv1(x)))\n",
    "        x = self.pool(F.relu(self.conv2(x)))\n",
    "        x = self.pool(F.relu(self.conv3(x)))\n",
    "        x = x.view(-1,12)\n",
    "        x = F.relu(self.fc1(x))\n",
    "        x = self.fc2(x)\n",
    "        return x\n",
    "\n",
    "\n",
    "net = ANet()"
   ]
  },
  {
   "cell_type": "code",
   "execution_count": 156,
   "metadata": {},
   "outputs": [
    {
     "name": "stdout",
     "output_type": "stream",
     "text": [
      "----------------------------------------------------------------\n",
      "        Layer (type)               Output Shape         Param #\n",
      "================================================================\n",
      "            Conv2d-1            [-1, 3, 31, 31]              15\n",
      "         MaxPool2d-2            [-1, 3, 15, 15]               0\n",
      "            Conv2d-3            [-1, 6, 13, 13]             168\n",
      "         MaxPool2d-4              [-1, 6, 6, 6]               0\n",
      "            Conv2d-5             [-1, 12, 4, 4]             660\n",
      "         MaxPool2d-6             [-1, 12, 2, 2]               0\n",
      "            Linear-7                   [-1, 10]             130\n",
      "            Linear-8                    [-1, 2]              22\n",
      "================================================================\n",
      "Total params: 995\n",
      "Trainable params: 995\n",
      "Non-trainable params: 0\n",
      "----------------------------------------------------------------\n",
      "Input size (MB): 0.00\n",
      "Forward/backward pass size (MB): 0.04\n",
      "Params size (MB): 0.00\n",
      "Estimated Total Size (MB): 0.05\n",
      "----------------------------------------------------------------\n"
     ]
    }
   ],
   "source": [
    "summary(net,(1, 32, 32), device=\"cpu\")"
   ]
  },
  {
   "cell_type": "code",
   "execution_count": 157,
   "metadata": {},
   "outputs": [],
   "source": [
    "criterion = nn.CrossEntropyLoss()\n",
    "optimizer = optim.Adam(net.parameters(), lr=0.001)"
   ]
  },
  {
   "cell_type": "code",
   "execution_count": 160,
   "metadata": {},
   "outputs": [
    {
     "name": "stdout",
     "output_type": "stream",
     "text": [
      "[1,     1] loss: 0.00035\n",
      "Accuracy of the network on the 10000 test images: 50 %\n",
      "[1,   501] loss: 0.10805\n",
      "Accuracy of the network on the 10000 test images: 89 %\n",
      "[1,  1001] loss: 0.05922\n",
      "Accuracy of the network on the 10000 test images: 92 %\n",
      "[1,  1501] loss: 0.04916\n",
      "Accuracy of the network on the 10000 test images: 92 %\n",
      "[2,     1] loss: 0.00037\n",
      "Accuracy of the network on the 10000 test images: 93 %\n",
      "[2,   501] loss: 0.04266\n",
      "Accuracy of the network on the 10000 test images: 93 %\n",
      "[2,  1001] loss: 0.03804\n",
      "Accuracy of the network on the 10000 test images: 94 %\n",
      "[2,  1501] loss: 0.03424\n",
      "Accuracy of the network on the 10000 test images: 95 %\n",
      "[3,     1] loss: 0.00005\n",
      "Accuracy of the network on the 10000 test images: 95 %\n",
      "[3,   501] loss: 0.03595\n",
      "Accuracy of the network on the 10000 test images: 95 %\n",
      "[3,  1001] loss: 0.03191\n",
      "Accuracy of the network on the 10000 test images: 95 %\n",
      "[3,  1501] loss: 0.03337\n",
      "Accuracy of the network on the 10000 test images: 94 %\n",
      "[4,     1] loss: 0.00022\n",
      "Accuracy of the network on the 10000 test images: 94 %\n",
      "[4,   501] loss: 0.03279\n",
      "Accuracy of the network on the 10000 test images: 94 %\n",
      "[4,  1001] loss: 0.02757\n",
      "Accuracy of the network on the 10000 test images: 94 %\n",
      "[4,  1501] loss: 0.03199\n",
      "Accuracy of the network on the 10000 test images: 95 %\n",
      "[5,     1] loss: 0.00008\n",
      "Accuracy of the network on the 10000 test images: 94 %\n",
      "[5,   501] loss: 0.02850\n",
      "Accuracy of the network on the 10000 test images: 95 %\n",
      "[5,  1001] loss: 0.02927\n",
      "Accuracy of the network on the 10000 test images: 95 %\n",
      "[5,  1501] loss: 0.02936\n",
      "Accuracy of the network on the 10000 test images: 95 %\n",
      "[6,     1] loss: 0.00004\n",
      "Accuracy of the network on the 10000 test images: 95 %\n",
      "[6,   501] loss: 0.02771\n",
      "Accuracy of the network on the 10000 test images: 95 %\n",
      "[6,  1001] loss: 0.02923\n",
      "Accuracy of the network on the 10000 test images: 95 %\n",
      "[6,  1501] loss: 0.02636\n",
      "Accuracy of the network on the 10000 test images: 94 %\n",
      "[7,     1] loss: 0.00003\n",
      "Accuracy of the network on the 10000 test images: 96 %\n",
      "[7,   501] loss: 0.02713\n",
      "Accuracy of the network on the 10000 test images: 96 %\n",
      "[7,  1001] loss: 0.02738\n",
      "Accuracy of the network on the 10000 test images: 96 %\n",
      "[7,  1501] loss: 0.02601\n",
      "Accuracy of the network on the 10000 test images: 95 %\n",
      "[8,     1] loss: 0.00010\n",
      "Accuracy of the network on the 10000 test images: 96 %\n",
      "[8,   501] loss: 0.02505\n",
      "Accuracy of the network on the 10000 test images: 96 %\n",
      "[8,  1001] loss: 0.02758\n",
      "Accuracy of the network on the 10000 test images: 96 %\n",
      "[8,  1501] loss: 0.02727\n",
      "Accuracy of the network on the 10000 test images: 96 %\n",
      "[9,     1] loss: 0.00000\n",
      "Accuracy of the network on the 10000 test images: 95 %\n",
      "[9,   501] loss: 0.02362\n",
      "Accuracy of the network on the 10000 test images: 96 %\n",
      "[9,  1001] loss: 0.02589\n",
      "Accuracy of the network on the 10000 test images: 95 %\n",
      "[9,  1501] loss: 0.02750\n",
      "Accuracy of the network on the 10000 test images: 96 %\n",
      "[10,     1] loss: 0.00009\n",
      "Accuracy of the network on the 10000 test images: 96 %\n",
      "[10,   501] loss: 0.02369\n",
      "Accuracy of the network on the 10000 test images: 96 %\n",
      "[10,  1001] loss: 0.02489\n",
      "Accuracy of the network on the 10000 test images: 96 %\n",
      "[10,  1501] loss: 0.02518\n",
      "Accuracy of the network on the 10000 test images: 94 %\n",
      "[11,     1] loss: 0.00003\n",
      "Accuracy of the network on the 10000 test images: 96 %\n",
      "[11,   501] loss: 0.02388\n",
      "Accuracy of the network on the 10000 test images: 96 %\n",
      "[11,  1001] loss: 0.02540\n",
      "Accuracy of the network on the 10000 test images: 96 %\n",
      "[11,  1501] loss: 0.02396\n",
      "Accuracy of the network on the 10000 test images: 96 %\n",
      "[12,     1] loss: 0.00008\n",
      "Accuracy of the network on the 10000 test images: 96 %\n",
      "[12,   501] loss: 0.02265\n",
      "Accuracy of the network on the 10000 test images: 96 %\n",
      "[12,  1001] loss: 0.02246\n",
      "Accuracy of the network on the 10000 test images: 96 %\n",
      "[12,  1501] loss: 0.02372\n",
      "Accuracy of the network on the 10000 test images: 96 %\n",
      "[13,     1] loss: 0.00003\n",
      "Accuracy of the network on the 10000 test images: 96 %\n",
      "[13,   501] loss: 0.02298\n",
      "Accuracy of the network on the 10000 test images: 96 %\n",
      "[13,  1001] loss: 0.02339\n",
      "Accuracy of the network on the 10000 test images: 96 %\n",
      "[13,  1501] loss: 0.02284\n",
      "Accuracy of the network on the 10000 test images: 96 %\n",
      "[14,     1] loss: 0.00008\n",
      "Accuracy of the network on the 10000 test images: 95 %\n",
      "[14,   501] loss: 0.02283\n",
      "Accuracy of the network on the 10000 test images: 96 %\n",
      "[14,  1001] loss: 0.02181\n",
      "Accuracy of the network on the 10000 test images: 95 %\n",
      "[14,  1501] loss: 0.02244\n",
      "Accuracy of the network on the 10000 test images: 96 %\n",
      "[15,     1] loss: 0.00003\n",
      "Accuracy of the network on the 10000 test images: 95 %\n",
      "[15,   501] loss: 0.01993\n",
      "Accuracy of the network on the 10000 test images: 96 %\n",
      "[15,  1001] loss: 0.02294\n",
      "Accuracy of the network on the 10000 test images: 96 %\n",
      "[15,  1501] loss: 0.02193\n",
      "Accuracy of the network on the 10000 test images: 94 %\n",
      "[16,     1] loss: 0.00002\n",
      "Accuracy of the network on the 10000 test images: 96 %\n",
      "[16,   501] loss: 0.02232\n",
      "Accuracy of the network on the 10000 test images: 96 %\n",
      "[16,  1001] loss: 0.02164\n",
      "Accuracy of the network on the 10000 test images: 96 %\n",
      "[16,  1501] loss: 0.02133\n",
      "Accuracy of the network on the 10000 test images: 96 %\n",
      "[17,     1] loss: 0.00015\n",
      "Accuracy of the network on the 10000 test images: 96 %\n",
      "[17,   501] loss: 0.02074\n",
      "Accuracy of the network on the 10000 test images: 96 %\n",
      "[17,  1001] loss: 0.02047\n",
      "Accuracy of the network on the 10000 test images: 96 %\n",
      "[17,  1501] loss: 0.02305\n",
      "Accuracy of the network on the 10000 test images: 96 %\n",
      "[18,     1] loss: 0.00000\n",
      "Accuracy of the network on the 10000 test images: 96 %\n",
      "[18,   501] loss: 0.02037\n",
      "Accuracy of the network on the 10000 test images: 96 %\n",
      "[18,  1001] loss: 0.02157\n",
      "Accuracy of the network on the 10000 test images: 96 %\n",
      "[18,  1501] loss: 0.02340\n",
      "Accuracy of the network on the 10000 test images: 96 %\n",
      "[19,     1] loss: 0.00001\n",
      "Accuracy of the network on the 10000 test images: 96 %\n",
      "[19,   501] loss: 0.02283\n",
      "Accuracy of the network on the 10000 test images: 96 %\n",
      "[19,  1001] loss: 0.01987\n",
      "Accuracy of the network on the 10000 test images: 96 %\n",
      "[19,  1501] loss: 0.02038\n",
      "Accuracy of the network on the 10000 test images: 96 %\n",
      "[20,     1] loss: 0.00003\n",
      "Accuracy of the network on the 10000 test images: 96 %\n",
      "[20,   501] loss: 0.01875\n",
      "Accuracy of the network on the 10000 test images: 96 %\n",
      "[20,  1001] loss: 0.02064\n",
      "Accuracy of the network on the 10000 test images: 96 %\n",
      "[20,  1501] loss: 0.02213\n",
      "Accuracy of the network on the 10000 test images: 97 %\n",
      "Finished Training\n"
     ]
    }
   ],
   "source": [
    "for epoch in range(20):  # loop over the dataset multiple times\n",
    "\n",
    "    running_loss = 0.0\n",
    "    for i, data in enumerate(train_loader, 0):\n",
    "        # get the inputs; data is a list of [inputs, labels]\n",
    "        inputs, labels = data\n",
    "        # zero the parameter gradients\n",
    "        inputs = inputs.to(torch.float32)\n",
    "#         labels = labels.to(torch.float32)\n",
    "        optimizer.zero_grad()\n",
    "\n",
    "        # forward + backward + optimize\n",
    "        outputs = net(inputs)\n",
    "        loss = criterion(outputs, labels)\n",
    "        loss.backward()\n",
    "        optimizer.step()\n",
    "\n",
    "        # print statistics\n",
    "        running_loss += loss.item()\n",
    "        if i % 500 == 0: \n",
    "            print('[%d, %5d] loss: %.5f' %\n",
    "                  (epoch + 1, i + 1, running_loss / 2000))\n",
    "            running_loss = 0.0\n",
    "            correct = 0\n",
    "            total = 0\n",
    "            with torch.no_grad():\n",
    "                for data in validation_loader:\n",
    "                    images, labels = data\n",
    "                    outputs = net(images)\n",
    "                    _, predicted = torch.max(outputs.data, 1)\n",
    "                    total += labels.size(0)\n",
    "                    correct += (predicted == labels).sum().item()\n",
    "\n",
    "            print('Accuracy of the network on the 10000 test images: %d %%' % (\n",
    "                100 * correct / total))\n",
    "\n",
    "print('Finished Training')"
   ]
  },
  {
   "cell_type": "code",
   "execution_count": 163,
   "metadata": {},
   "outputs": [
    {
     "data": {
      "text/plain": [
       "Conv2d(6, 12, kernel_size=(3, 3), stride=(1, 1))"
      ]
     },
     "execution_count": 163,
     "metadata": {},
     "output_type": "execute_result"
    }
   ],
   "source": [
    "class FinalNet(nn.Module):\n",
    "    def __init__(self):\n",
    "        super(FinalNet, self).__init__()\n",
    "        self.fc1 = nn.Linear(12, 10)\n",
    "\n",
    "    def forward(self, x):\n",
    "        x = x.view(-1,12)\n",
    "        x = F.relu(self.fc1(x))\n",
    "        return x\n",
    "\n",
    "\n",
    "finalnet = FinalNet()\n",
    "finalnet.to(device)"
   ]
  },
  {
   "cell_type": "code",
   "execution_count": null,
   "metadata": {},
   "outputs": [],
   "source": [
    "class Ensemble(nn.Module):\n",
    "    def __init__(self, net, FinalNet):\n",
    "        super(Ensemble, self).__init__()\n",
    "        self.modelA = net\n",
    "        self.modelB = FinalNet\n",
    "        \n",
    "    def forward(self, x):\n",
    "        # temp_output\n",
    "        ae_output,x = self.modelA(x)\n",
    "        # model output\n",
    "        x1 = self.modelB(x)\n",
    "        return x1,ae_output\n",
    "\n",
    "ensemble_model = Ensemble(net, finalnet)\n",
    "ensemble_model.to(device)"
   ]
  },
  {
   "cell_type": "code",
   "execution_count": 167,
   "metadata": {},
   "outputs": [
    {
     "name": "stdout",
     "output_type": "stream",
     "text": [
      "torch.Size([3, 1, 2, 2])\n",
      "torch.Size([3])\n",
      "torch.Size([6, 3, 3, 3])\n",
      "torch.Size([6])\n",
      "torch.Size([12, 6, 3, 3])\n",
      "torch.Size([12])\n",
      "torch.Size([10, 12])\n",
      "torch.Size([10])\n",
      "torch.Size([2, 10])\n",
      "torch.Size([2])\n"
     ]
    }
   ],
   "source": [
    "for param in net.parameters():\n",
    "    print(param.shape)\n",
    "#     param.requires_grad = False"
   ]
  },
  {
   "cell_type": "code",
   "execution_count": 169,
   "metadata": {},
   "outputs": [],
   "source": [
    "index=0\n",
    "for param in net.parameters():\n",
    "    if index <6:\n",
    "        param.requires_grad = False\n",
    "        index+=1\n",
    "    "
   ]
  },
  {
   "cell_type": "code",
   "execution_count": null,
   "metadata": {},
   "outputs": [],
   "source": [
    "index=0\n",
    "for param in net.parameters():\n",
    "    if index <2:\n",
    "        param.requires_grad = False\n",
    "        index+=1\n",
    "    "
   ]
  },
  {
   "cell_type": "code",
   "execution_count": null,
   "metadata": {},
   "outputs": [],
   "source": [
    "index=0\n",
    "for param in net.parameters():\n",
    "    if index == 2 or index==3:\n",
    "        param.requires_grad = False\n",
    "    index+=1\n",
    "    "
   ]
  }
 ],
 "metadata": {
  "kernelspec": {
   "display_name": "Python 3",
   "language": "python",
   "name": "python3"
  },
  "language_info": {
   "codemirror_mode": {
    "name": "ipython",
    "version": 3
   },
   "file_extension": ".py",
   "mimetype": "text/x-python",
   "name": "python",
   "nbconvert_exporter": "python",
   "pygments_lexer": "ipython3",
   "version": "3.7.9"
  }
 },
 "nbformat": 4,
 "nbformat_minor": 4
}
