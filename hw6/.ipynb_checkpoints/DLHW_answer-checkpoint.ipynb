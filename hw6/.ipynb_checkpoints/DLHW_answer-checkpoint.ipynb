{
 "cells": [
  {
   "cell_type": "code",
   "execution_count": 1,
   "metadata": {
    "colab": {
     "base_uri": "https://localhost:8080/",
     "height": 34
    },
    "id": "FNyOV80YL8T0",
    "outputId": "16205b1f-35e8-4906-d2d2-0af8be8dad7d"
   },
   "outputs": [],
   "source": [
    "import tensorflow as tf\n",
    "from    tensorflow.keras import datasets, layers, optimizers, models\n",
    "from    tensorflow.keras import regularizers\n",
    "\n"
   ]
  },
  {
   "cell_type": "code",
   "execution_count": 2,
   "metadata": {
    "id": "YWPfkbZFNGYE"
   },
   "outputs": [],
   "source": [
    "model = tf.keras.applications.vgg16.VGG16(weights=None,input_shape=(32,32,3),classes=10)"
   ]
  },
  {
   "cell_type": "code",
   "execution_count": 3,
   "metadata": {
    "colab": {
     "base_uri": "https://localhost:8080/",
     "height": 68
    },
    "id": "9SdDFPKkNIqJ",
    "outputId": "150f8885-5dbe-4141-b759-ad47271b34b1"
   },
   "outputs": [
    {
     "name": "stdout",
     "output_type": "stream",
     "text": [
      "loading data...\n",
      "(50000, 32, 32, 3) (50000, 1) (10000, 32, 32, 3) (10000, 1)\n",
      "done.\n"
     ]
    }
   ],
   "source": [
    "\n",
    "import  os\n",
    "import  numpy as np\n",
    "os.environ['TF_CPP_MIN_LOG_LEVEL'] = '2'  # or any {'0', '1', '2'}\n",
    "\n",
    "def normalize(X_train, X_test):\n",
    "    # this function normalize inputs for zero mean and unit variance\n",
    "    # it is used when training a model.\n",
    "    # Input: training set and test set\n",
    "    # Output: normalized training set and test set according to the trianing set statistics.\n",
    "    X_train = X_train / 255.\n",
    "    X_test = X_test / 255.\n",
    "\n",
    "    mean = np.mean(X_train, axis=(0, 1, 2, 3))\n",
    "    std = np.std(X_train, axis=(0, 1, 2, 3))\n",
    "    print('mean:', mean, 'std:', std)\n",
    "    X_train = (X_train - mean) / (std + 1e-7)\n",
    "    X_test = (X_test - mean) / (std + 1e-7)\n",
    "    return X_train, X_test\n",
    "\n",
    "def prepare_cifar(x, y):\n",
    "\n",
    "    x = tf.cast(x, tf.float32)\n",
    "    y = tf.cast(y, tf.int32)\n",
    "    return x, y\n",
    "\n",
    "\n",
    "\n",
    "def compute_loss(logits, labels):\n",
    "    return tf.reduce_mean(\n",
    "      tf.nn.sparse_softmax_cross_entropy_with_logits(\n",
    "          logits=logits, labels=labels))\n",
    "\n",
    "\n",
    "tf.random.set_seed(22)\n",
    "\n",
    "print('loading data...')\n",
    "(x,y), (x_test, y_test) = datasets.cifar10.load_data()\n",
    "print(x.shape, y.shape, x_test.shape, y_test.shape)\n",
    "# x = tf.convert_to_tensor(x)\n",
    "# y = tf.convert_to_tensor(y)\n",
    "train_loader = tf.data.Dataset.from_tensor_slices((x,y))\n",
    "train_loader = train_loader.map(prepare_cifar).shuffle(50000).batch(256)\n",
    "\n",
    "test_loader = tf.data.Dataset.from_tensor_slices((x_test, y_test))\n",
    "test_loader = test_loader.map(prepare_cifar).shuffle(10000).batch(256)\n",
    "print('done.')\n",
    "# must specify from_logits=True!\n",
    "criteon = tf.keras.losses.CategoricalCrossentropy(from_logits=True)\n",
    "metric = tf.keras.metrics.CategoricalAccuracy()\n",
    "\n",
    "optimizer = optimizers.Adam(learning_rate=0.0001)\n",
    "\n",
    "\n",
    "\n",
    "# model = VGG16([32, 32, 3])\n"
   ]
  },
  {
   "cell_type": "code",
   "execution_count": 4,
   "metadata": {
    "colab": {
     "base_uri": "https://localhost:8080/",
     "height": 697
    },
    "id": "Ou_L2YPNMDT6",
    "outputId": "a6063cae-106a-41b3-f36c-2c041c276ed9"
   },
   "outputs": [
    {
     "name": "stdout",
     "output_type": "stream",
     "text": [
      "0 0 loss: 27.671894073486328 acc: 0.05859375\n",
      "0 80 loss: 23.923625946044922 acc: 0.27075195\n",
      "0 160 loss: 21.292884826660156 acc: 0.41020507\n",
      "test acc: 0.4682\n",
      "1 0 loss: 21.969139099121094 acc: 0.41015625\n",
      "1 80 loss: 19.95907974243164 acc: 0.49057618\n",
      "1 160 loss: 18.742429733276367 acc: 0.52958983\n",
      "test acc: 0.5567\n",
      "2 0 loss: 17.193065643310547 acc: 0.58984375\n",
      "2 80 loss: 17.104938507080078 acc: 0.5852051\n",
      "2 160 loss: 16.014442443847656 acc: 0.61152345\n",
      "test acc: 0.5578\n",
      "3 0 loss: 16.177104949951172 acc: 0.62109375\n",
      "3 80 loss: 14.964887619018555 acc: 0.65048826\n",
      "3 160 loss: 15.024389266967773 acc: 0.660498\n",
      "test acc: 0.5714\n",
      "4 0 loss: 15.086990356445312 acc: 0.66015625\n",
      "4 80 loss: 13.693796157836914 acc: 0.6942383\n",
      "4 160 loss: 13.082687377929688 acc: 0.6958496\n",
      "test acc: 0.6616\n",
      "5 0 loss: 12.787555694580078 acc: 0.75\n",
      "5 80 loss: 13.133464813232422 acc: 0.74838865\n",
      "5 160 loss: 14.494966506958008 acc: 0.7393066\n",
      "test acc: 0.6696\n",
      "6 0 loss: 12.851448059082031 acc: 0.7578125\n",
      "6 80 loss: 12.985835075378418 acc: 0.77978516\n",
      "6 160 loss: 11.740015983581543 acc: 0.7784668\n",
      "test acc: 0.6999\n",
      "7 0 loss: 9.908414840698242 acc: 0.82421875\n",
      "7 80 loss: 10.448662757873535 acc: 0.81645507\n",
      "7 160 loss: 11.154706954956055 acc: 0.81206053\n",
      "test acc: 0.6982\n",
      "8 0 loss: 11.337032318115234 acc: 0.80859375\n",
      "8 80 loss: 8.908143043518066 acc: 0.84819335\n",
      "8 160 loss: 9.555882453918457 acc: 0.8408203\n",
      "test acc: 0.7195\n",
      "9 0 loss: 7.51707649230957 acc: 0.88671875\n",
      "9 80 loss: 7.761812210083008 acc: 0.8660644\n",
      "9 160 loss: 8.579937934875488 acc: 0.8618652\n",
      "test acc: 0.6952\n",
      "10 0 loss: 10.153091430664062 acc: 0.8125\n",
      "10 80 loss: 6.754430770874023 acc: 0.8895019\n",
      "10 160 loss: 8.965683937072754 acc: 0.8821289\n",
      "test acc: 0.7106\n",
      "11 0 loss: 6.8675665855407715 acc: 0.8984375\n",
      "11 80 loss: 7.625095844268799 acc: 0.9097168\n",
      "11 160 loss: 7.097070217132568 acc: 0.8989258\n",
      "test acc: 0.7268\n",
      "12 0 loss: 5.847353935241699 acc: 0.9375\n",
      "12 80 loss: 7.104386329650879 acc: 0.91381836\n",
      "12 160 loss: 7.4506731033325195 acc: 0.9048828\n",
      "test acc: 0.6832\n",
      "13 0 loss: 8.345454216003418 acc: 0.875\n",
      "13 80 loss: 6.548442840576172 acc: 0.9218262\n",
      "13 160 loss: 6.504266262054443 acc: 0.9187012\n",
      "test acc: 0.7217\n",
      "14 0 loss: 6.359539031982422 acc: 0.92578125\n",
      "14 80 loss: 5.95781946182251 acc: 0.9307617\n",
      "14 160 loss: 5.765703201293945 acc: 0.92871094\n",
      "test acc: 0.706\n",
      "15 0 loss: 5.005476474761963 acc: 0.95703125\n",
      "15 80 loss: 6.438084602355957 acc: 0.9380859\n",
      "15 160 loss: 6.136802673339844 acc: 0.9393066\n",
      "test acc: 0.7127\n",
      "16 0 loss: 6.563244819641113 acc: 0.91015625\n",
      "16 80 loss: 5.455496788024902 acc: 0.9405762\n",
      "16 160 loss: 5.994939804077148 acc: 0.9367676\n",
      "test acc: 0.7284\n",
      "17 0 loss: 4.4443440437316895 acc: 0.96875\n",
      "17 80 loss: 4.715911388397217 acc: 0.9525879\n",
      "17 160 loss: 5.599709987640381 acc: 0.94091797\n",
      "test acc: 0.7271\n",
      "18 0 loss: 4.09011173248291 acc: 0.96875\n",
      "18 80 loss: 4.780506610870361 acc: 0.95166016\n",
      "18 160 loss: 5.188345909118652 acc: 0.94785154\n",
      "test acc: 0.7167\n",
      "19 0 loss: 5.957024574279785 acc: 0.93359375\n",
      "19 80 loss: 4.770510673522949 acc: 0.9524902\n",
      "19 160 loss: 4.652031898498535 acc: 0.946582\n",
      "test acc: 0.7267\n",
      "20 0 loss: 4.78286600112915 acc: 0.9609375\n",
      "20 80 loss: 4.663665294647217 acc: 0.95947266\n",
      "20 160 loss: 5.271897315979004 acc: 0.9511719\n",
      "test acc: 0.7191\n",
      "21 0 loss: 4.06347131729126 acc: 0.96875\n",
      "21 80 loss: 4.425031661987305 acc: 0.95874023\n",
      "21 160 loss: 4.439365386962891 acc: 0.9566406\n",
      "test acc: 0.7314\n",
      "22 0 loss: 3.981083869934082 acc: 0.9765625\n",
      "22 80 loss: 4.6730875968933105 acc: 0.96225584\n",
      "22 160 loss: 4.5804243087768555 acc: 0.96069336\n",
      "test acc: 0.7306\n",
      "23 0 loss: 4.828062057495117 acc: 0.953125\n",
      "23 80 loss: 4.0008440017700195 acc: 0.96489257\n",
      "23 160 loss: 4.590184211730957 acc: 0.9585937\n",
      "test acc: 0.7259\n",
      "24 0 loss: 4.271982192993164 acc: 0.96875\n",
      "24 80 loss: 4.756527900695801 acc: 0.96259767\n",
      "24 160 loss: 4.167396068572998 acc: 0.9559082\n",
      "test acc: 0.7289\n",
      "25 0 loss: 3.901981830596924 acc: 0.98046875\n",
      "25 80 loss: 4.465694427490234 acc: 0.96542966\n",
      "25 160 loss: 5.017821788787842 acc: 0.96308595\n",
      "test acc: 0.719\n",
      "26 0 loss: 4.936906814575195 acc: 0.953125\n",
      "26 80 loss: 5.363952159881592 acc: 0.9634277\n",
      "26 160 loss: 4.933340072631836 acc: 0.95585936\n",
      "test acc: 0.7394\n",
      "27 0 loss: 4.473874568939209 acc: 0.96484375\n",
      "27 80 loss: 4.5626373291015625 acc: 0.9675293\n",
      "27 160 loss: 3.9794912338256836 acc: 0.9652344\n",
      "test acc: 0.7253\n",
      "28 0 loss: 4.816019535064697 acc: 0.953125\n",
      "28 80 loss: 4.174685478210449 acc: 0.9692383\n",
      "28 160 loss: 4.9097185134887695 acc: 0.9641113\n",
      "test acc: 0.7251\n",
      "29 0 loss: 4.3909478187561035 acc: 0.96484375\n",
      "29 80 loss: 4.116333484649658 acc: 0.9687988\n",
      "29 160 loss: 4.453281402587891 acc: 0.96655273\n",
      "test acc: 0.7317\n"
     ]
    }
   ],
   "source": [
    "for epoch in range(30):\n",
    "    for step, (x, y) in enumerate(train_loader):\n",
    "        # [b, 1] => [b]\n",
    "        y = tf.squeeze(y, axis=1)\n",
    "        # [b, 10]\n",
    "        y = tf.one_hot(y, depth=10)\n",
    "\n",
    "        with tf.GradientTape() as tape:\n",
    "            logits = model(x)\n",
    "            loss = criteon(y, logits)\n",
    "            loss2 = compute_loss(logits, tf.argmax(y, axis=1))\n",
    "            mse_loss = tf.reduce_sum(tf.square(y-logits))\n",
    "            # print(y.shape, logits.shape)\n",
    "            metric.update_state(y, logits)\n",
    "            loss = loss + loss2 + mse_loss*0.1\n",
    "\n",
    "        grads = tape.gradient(loss, model.trainable_variables)\n",
    "        optimizer.apply_gradients(zip(grads, model.trainable_variables))\n",
    "\n",
    "        if step % 80 == 0:\n",
    "            # for g in grads:\n",
    "            #     print(tf.norm(g).numpy())\n",
    "            print(epoch, step, 'loss:', float(loss), 'acc:', metric.result().numpy())\n",
    "            metric.reset_states()\n",
    "\n",
    "\n",
    "    if epoch % 1 == 0:\n",
    "\n",
    "        metric = tf.keras.metrics.CategoricalAccuracy()\n",
    "        for x, y in test_loader:\n",
    "            # [b, 1] => [b]\n",
    "            y = tf.squeeze(y, axis=1)\n",
    "            # [b, 10]\n",
    "            y = tf.one_hot(y, depth=10)\n",
    "\n",
    "            logits = model.predict(x)\n",
    "            # be careful, these functions can accept y as [b] without warnning.\n",
    "            metric.update_state(y, logits)\n",
    "        print('test acc:', metric.result().numpy())\n",
    "        metric.reset_states()\n",
    "\n"
   ]
  },
  {
   "cell_type": "code",
   "execution_count": 8,
   "metadata": {
    "colab": {
     "base_uri": "https://localhost:8080/",
     "height": 935
    },
    "id": "JjLjK-ZQ4gDr",
    "outputId": "9fc00237-5736-4626-cffc-db347faf42ba"
   },
   "outputs": [
    {
     "name": "stdout",
     "output_type": "stream",
     "text": [
      "Model: \"vgg16\"\n",
      "_________________________________________________________________\n",
      "Layer (type)                 Output Shape              Param #   \n",
      "=================================================================\n",
      "input_1 (InputLayer)         [(None, 32, 32, 3)]       0         \n",
      "_________________________________________________________________\n",
      "block1_conv1 (Conv2D)        (None, 32, 32, 64)        1792      \n",
      "_________________________________________________________________\n",
      "block1_conv2 (Conv2D)        (None, 32, 32, 64)        36928     \n",
      "_________________________________________________________________\n",
      "block1_pool (MaxPooling2D)   (None, 16, 16, 64)        0         \n",
      "_________________________________________________________________\n",
      "block2_conv1 (Conv2D)        (None, 16, 16, 128)       73856     \n",
      "_________________________________________________________________\n",
      "block2_conv2 (Conv2D)        (None, 16, 16, 128)       147584    \n",
      "_________________________________________________________________\n",
      "block2_pool (MaxPooling2D)   (None, 8, 8, 128)         0         \n",
      "_________________________________________________________________\n",
      "block3_conv1 (Conv2D)        (None, 8, 8, 256)         295168    \n",
      "_________________________________________________________________\n",
      "block3_conv2 (Conv2D)        (None, 8, 8, 256)         590080    \n",
      "_________________________________________________________________\n",
      "block3_conv3 (Conv2D)        (None, 8, 8, 256)         590080    \n",
      "_________________________________________________________________\n",
      "block3_pool (MaxPooling2D)   (None, 4, 4, 256)         0         \n",
      "_________________________________________________________________\n",
      "block4_conv1 (Conv2D)        (None, 4, 4, 512)         1180160   \n",
      "_________________________________________________________________\n",
      "block4_conv2 (Conv2D)        (None, 4, 4, 512)         2359808   \n",
      "_________________________________________________________________\n",
      "block4_conv3 (Conv2D)        (None, 4, 4, 512)         2359808   \n",
      "_________________________________________________________________\n",
      "block4_pool (MaxPooling2D)   (None, 2, 2, 512)         0         \n",
      "_________________________________________________________________\n",
      "block5_conv1 (Conv2D)        (None, 2, 2, 512)         2359808   \n",
      "_________________________________________________________________\n",
      "block5_conv2 (Conv2D)        (None, 2, 2, 512)         2359808   \n",
      "_________________________________________________________________\n",
      "block5_conv3 (Conv2D)        (None, 2, 2, 512)         2359808   \n",
      "_________________________________________________________________\n",
      "block5_pool (MaxPooling2D)   (None, 1, 1, 512)         0         \n",
      "_________________________________________________________________\n",
      "flatten (Flatten)            (None, 512)               0         \n",
      "_________________________________________________________________\n",
      "fc1 (Dense)                  (None, 4096)              2101248   \n",
      "_________________________________________________________________\n",
      "fc2 (Dense)                  (None, 4096)              16781312  \n",
      "_________________________________________________________________\n",
      "predictions (Dense)          (None, 10)                40970     \n",
      "=================================================================\n",
      "Total params: 33,638,218\n",
      "Trainable params: 33,638,218\n",
      "Non-trainable params: 0\n",
      "_________________________________________________________________\n"
     ]
    }
   ],
   "source": [
    "model.summary()"
   ]
  },
  {
   "cell_type": "markdown",
   "metadata": {},
   "source": [
    "## 1. 주어진 VGG16모델의 첫번째 블록   \n",
    "## 두번째 convolution layer의 값을 output으로 가지는 model을 선언하시오"
   ]
  },
  {
   "cell_type": "code",
   "execution_count": 33,
   "metadata": {
    "id": "tAgOzefqoLCg"
   },
   "outputs": [],
   "source": [
    "from tensorflow.keras.models import Model\n",
    "\n",
    "\n",
    "layer_name = 'block2_conv1'\n",
    "intermediate_layer_model = Model(inputs=model.input,\n",
    "                                 outputs=model.get_layer(layer_name).output)\n"
   ]
  },
  {
   "cell_type": "code",
   "execution_count": 34,
   "metadata": {},
   "outputs": [
    {
     "data": {
      "text/plain": [
       "TensorShape([32, 32, 3])"
      ]
     },
     "execution_count": 34,
     "metadata": {},
     "output_type": "execute_result"
    }
   ],
   "source": [
    "import glob\n",
    "\n",
    "image_count = list(glob.glob(r'C:\\Users\\jonathan\\Desktop\\dl_study\\cifar10\\cifar10\\test\\airplane\\*.png'))\n",
    "image_count\n",
    "# list_ds = tf.data.Dataset.list_files(str(data_dir/'*/*'))\n",
    "obj =tf.io.read_file(image_count[1])\n",
    "img = tf.image.decode_jpeg(obj, channels=3)\n",
    "img = tf.image.convert_image_dtype(img, tf.float32)\n",
    "# resize the image to the desired size.\n",
    "output = tf.image.resize(img, [32, 32])\n",
    "output.shape\n"
   ]
  },
  {
   "cell_type": "code",
   "execution_count": 35,
   "metadata": {},
   "outputs": [],
   "source": [
    "output = output[np.newaxis,...]"
   ]
  },
  {
   "cell_type": "code",
   "execution_count": 36,
   "metadata": {},
   "outputs": [
    {
     "data": {
      "text/plain": [
       "<matplotlib.image.AxesImage at 0x1f8a1366b48>"
      ]
     },
     "execution_count": 36,
     "metadata": {},
     "output_type": "execute_result"
    },
    {
     "data": {
      "image/png": "[encoded data removed]",
      "text/plain": [
       "<Figure size 432x288 with 1 Axes>"
      ]
     },
     "metadata": {
      "needs_background": "light"
     },
     "output_type": "display_data"
    }
   ],
   "source": [
    "import matplotlib.pyplot as plt\n",
    "%matplotlib inline     \n",
    "\n",
    "refFeature = intermediate_layer_model.predict(output)\n",
    "\n",
    "plt.imshow(output[0])"
   ]
  },
  {
   "cell_type": "code",
   "execution_count": 37,
   "metadata": {},
   "outputs": [],
   "source": [
    "\n",
    "# opt = tf.keras.optimizers.Adam(learning_rate=0.01,epsilon=1e-04, amsgrad=True)\n",
    "opt = tf.keras.optimizers.Adam(learning_rate=0.01)\n",
    "grad_metric = tf.keras.losses.mean_squared_error"
   ]
  },
  {
   "cell_type": "code",
   "execution_count": 38,
   "metadata": {},
   "outputs": [],
   "source": [
    "modifier = tf.Variable(np.zeros((1, 32, 32, 3)), dtype=tf.float32,trainable=True)\n",
    "for i in range(5000):\n",
    "    with tf.GradientTape(persistent=True) as tape:\n",
    "        tape.watch(modifier)\n",
    "        temp_output = intermediate_layer_model(modifier)\n",
    "        mse_loss = grad_metric(refFeature,temp_output)\n",
    "        # l2_loss = tf.nn.l2_loss(modifier)\n",
    "        TV_loss = tf.image.total_variation(modifier)*0.1\n",
    "        # final = mse_loss+l2_loss\n",
    "        # +\n",
    "\n",
    "\n",
    "    grads_1 = tape.gradient(mse_loss, modifier)\n",
    "  # grads_2 = tape.gradient(l2_loss, modifier)\n",
    "  # grads_3 = tape.gradient(TV_loss, modifier)\n",
    "\n",
    "\n",
    "    opt.apply_gradients(zip([grads_1], [modifier]))\n",
    "  # opt1.apply_gradients(zip([grads_2], [modifier]))\n",
    "  # opt1.apply_gradients(zip([grads_3], [modifier]))\n",
    "  # modifier.assign_sub(grads_1*0.001)\n",
    "  # modifier.assign_sub(grads_2*0.01)\n",
    "  # modifier.assign_sub(grads_3*0.001)\n"
   ]
  },
  {
   "cell_type": "code",
   "execution_count": 39,
   "metadata": {},
   "outputs": [
    {
     "data": {
      "text/plain": [
       "<matplotlib.image.AxesImage at 0x1f8a136ca08>"
      ]
     },
     "execution_count": 39,
     "metadata": {},
     "output_type": "execute_result"
    },
    {
     "data": {
      "image/png": "[encoded data removed]",
      "text/plain": [
       "<Figure size 432x288 with 1 Axes>"
      ]
     },
     "metadata": {
      "needs_background": "light"
     },
     "output_type": "display_data"
    }
   ],
   "source": [
    "# obj= np.random.rand(32,32,3)\n",
    "# plt.imshow(modifier[0, :, :,2])\n",
    "object = tf.keras.preprocessing.image.array_to_img(\n",
    "    modifier[0, :, :,:], data_format=\"channels_last\", scale=True, dtype=None\n",
    ")\n",
    "\n",
    "plt.imshow(object)"
   ]
  },
  {
   "cell_type": "code",
   "execution_count": null,
   "metadata": {},
   "outputs": [],
   "source": []
  },
  {
   "cell_type": "code",
   "execution_count": null,
   "metadata": {},
   "outputs": [],
   "source": []
  }
 ],
 "metadata": {
  "accelerator": "GPU",
  "colab": {
   "collapsed_sections": [],
   "name": "DLHW_1",
   "provenance": []
  },
  "kernelspec": {
   "display_name": "Python 3",
   "language": "python",
   "name": "python3"
  },
  "language_info": {
   "codemirror_mode": {
    "name": "ipython",
    "version": 3
   },
   "file_extension": ".py",
   "mimetype": "text/x-python",
   "name": "python",
   "nbconvert_exporter": "python",
   "pygments_lexer": "ipython3",
   "version": "3.7.9"
  }
 },
 "nbformat": 4,
 "nbformat_minor": 4
}
