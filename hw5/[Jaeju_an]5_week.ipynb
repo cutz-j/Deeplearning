{
 "cells": [
  {
   "cell_type": "markdown",
   "metadata": {},
   "source": [
    "- 이번 과제의 목표인 아키텍처를 다루는데 집중해 봤습니다.\n",
    "    - RNNs 구현을 잘 못해서 연습으로 붙여봤습니다.\n",
    "    \n",
    "    \n",
    "- 데이터셋 중 택시, 버스, 영업용은 label의 한글로 나누었습니다.\n",
    "    - 앞에 지역명이 붙은 label = 영업용 차량\n",
    "    - [아/바/사/자]를 포함한 차량 번호 = 택시/버스\n",
    "    \n",
    "    \n",
    "- 초록색 번호판은 패턴매칭을 통해서 제외시켰습니다.\n",
    "    - blur + adaptive thresholding 후, 신규 번호판의 패턴에 맞는 번호판만 골라내었습니다.\n",
    "    - 결과, [02버1520]을 제외하고 초록판을 모두 제외하였습니다.\n",
    "    - 그러나, 신규 번호판도 10-20개 가량 제외되었습니다.\n",
    "    - 개선안으로 초록색 detection 후, blur + adaptive thresholding을 적용할 예정입니다.\n",
    "    \n",
    "    \n",
    "- 데이터셋 구성 후, Train과 Test로 나눈다음 loader를 구성했습니다.\n",
    "\n",
    "\n",
    "- 모델은 CNN2RNN 아키텍처입니다.\n",
    "    - 예정: test process 구현\n",
    "    - 한계: local에서 작업해서 ... cpu가 열일을 했으나... 힘이 부족했습니다... \n",
    "    - google colab으로 작업 시, opencv가 한글을 인식못해서 전처리를 다시 해야해서 수정계획입니다."
   ]
  },
  {
   "cell_type": "code",
   "execution_count": 1,
   "metadata": {},
   "outputs": [],
   "source": [
    "import os\n",
    "import re\n",
    "import cv2\n",
    "import numpy as np\n",
    "import matplotlib.pyplot as plt\n",
    "\n",
    "from tqdm import tqdm\n",
    "from PIL import Image\n",
    "from collections import Counter\n",
    "\n",
    "import torch\n",
    "import torch.nn as nn\n",
    "import torch.optim as optim\n",
    "import torch.utils.data as data\n",
    "import torch.nn.functional as F\n",
    "\n",
    "import torchvision.models as models\n",
    "import torchvision.transforms as transforms\n",
    "\n",
    "#from torchvision.datasets import MNIST >>> 나중에 mnist pretrained 시도용\n",
    "# from torch.nn.utils.rnn import pack_padded_sequence\n",
    "from torch.utils.data import Dataset, DataLoader#, SubsetRandomSampler"
   ]
  },
  {
   "cell_type": "code",
   "execution_count": 2,
   "metadata": {},
   "outputs": [],
   "source": [
    "def check_contour(w, h, area, ratio):\n",
    "    MIN_AREA = 100\n",
    "    MIN_WIDTH, MIN_HEIGHT = 5, 25\n",
    "    MIN_RATIO, MAX_RATIO = 0.2, 0.5\n",
    "    return area > MIN_AREA and w > MIN_WIDTH and h > MIN_HEIGHT and MIN_RATIO < ratio < MAX_RATIO"
   ]
  },
  {
   "cell_type": "code",
   "execution_count": 3,
   "metadata": {},
   "outputs": [],
   "source": [
    "def is_green(img):\n",
    "    height, width, channel = img.shape\n",
    "    gray = cv2.cvtColor(img, cv2.COLOR_BGR2GRAY)\n",
    "\n",
    "    # 가우시안 블러 + AdaptiveThresholding\n",
    "    img_blurred = cv2.GaussianBlur(gray, ksize=(3, 3), sigmaX=0)\n",
    "    img_blur_thresh = cv2.adaptiveThreshold(gray, maxValue=255.0,\n",
    "                                           adaptiveMethod=cv2.ADAPTIVE_THRESH_GAUSSIAN_C,\n",
    "                                           thresholdType=cv2.THRESH_BINARY_INV,\n",
    "                                           blockSize=19,\n",
    "                                           C=9)\n",
    "\n",
    "    # 윤곽찾기 -> Pattern Matching\n",
    "    # 가로 신축형 윤곽이 아니면 초록색(옛날 번호판)으로 구분\n",
    "    contours, _ = cv2.findContours(img_blur_thresh,\n",
    "                                  mode=cv2.RETR_LIST,\n",
    "                                  method=cv2.CHAIN_APPROX_SIMPLE)\n",
    "    contours_dict = []\n",
    "    cnt = 0\n",
    "\n",
    "    #idx = 0\n",
    "    for contour in contours:\n",
    "        x, y, w, h = cv2.boundingRect(contour)\n",
    "        area = w * h\n",
    "        ratio = w / h\n",
    "        cx = x + (w / 2),\n",
    "        cy = y + (h / 2)\n",
    "\n",
    "        if check_contour(w, h, area, ratio):\n",
    "            cnt += 1\n",
    "            #name = 'conout' + str(idx)\n",
    "            contours_dict.append({\n",
    "            'contour': contour,\n",
    "            'x1': x,\n",
    "            'y1': y,\n",
    "            'x2': x+w,\n",
    "            'y2': y+h,\n",
    "            'w': w,\n",
    "            'h': h,\n",
    "            'cx': cx,\n",
    "            'cy': cy\n",
    "            })\n",
    "\n",
    "    if len(contours_dict) == 0:\n",
    "        return True\n",
    "    \n",
    "    # 신형 번호판의 최소 만족 갯수 3개\n",
    "    if cnt < 3:\n",
    "        return True\n",
    "    else:\n",
    "        return False\n",
    "\n",
    "    # bbox 중복제거용.\n",
    "    # test1. 동작 X contours_dict를 우선순위 heap으로 만들고 while문으로 구현\n",
    "    # test2. 초록색 탐지 -> 초록색 아닌걸로 판명난 걸 이 method로 탐지\n",
    "    \"\"\"idx = []\n",
    "    for i in range(len(contours_dict)):\n",
    "        box1 = contours_dict[i]\n",
    "\n",
    "        for j in range(i+1, len(contours_dict)):\n",
    "            box2 = contours_dict[j]\n",
    "\n",
    "            x_overlap  = max(0, min(box1['x2'], box2['x2']) - max(box1['x1'], box2['x1']))\n",
    "            y_overlap  = max(0, min(box1['y2'], box2['y2']) - max(box1['y1'], box2['y1']))\n",
    "            overallaped_area = x_overlap * y_overlap\n",
    "\n",
    "            if overallaped_area > 3:\n",
    "                if box1['w']*box1['h'] < box2['w']*box2['h']:\n",
    "                    del contours_dict[i]\n",
    "                else:\n",
    "                    del contours_dict[j]\n",
    "\n",
    "    for i in range(len(idx)):\n",
    "        cnt -= 1\n",
    "        del contours_dict[idx[i][0]]\"\"\""
   ]
  },
  {
   "cell_type": "code",
   "execution_count": 4,
   "metadata": {},
   "outputs": [],
   "source": [
    "# 데이터 제외함수 (택시, 버스, 영업용, )\n",
    "def exclude_data(file_list, path):\n",
    "    tmp = [name for name in file_list if not any(re.findall(r'바|사|아|자', name))] # taxi 제외\n",
    "    res = [name for name in tmp if not any(re.findall('[가-힣]+', name[0:2]))]  # 앞에 지역명을 갖고있는 영업용차량 제외\n",
    "\n",
    "    valid_data = []\n",
    "    for name in tqdm(res):\n",
    "\n",
    "        img_pil = Image.open(path+name)\n",
    "        img_np = np.array(img_pil)\n",
    "        img = cv2.cvtColor(img_np, cv2.COLOR_RGB2BGR)\n",
    "\n",
    "        if not is_green(img):\n",
    "            valid_data.append(name)\n",
    "    return valid_data"
   ]
  },
  {
   "cell_type": "code",
   "execution_count": 5,
   "metadata": {},
   "outputs": [],
   "source": [
    "class Vocabulary(object):\n",
    "    \"\"\"Simple vocabulary wrapper.\"\"\"\n",
    "    def __init__(self):\n",
    "        self.word2idx = {}\n",
    "        self.idx2word = {}\n",
    "        self.idx = 0\n",
    "\n",
    "    def add_word(self, word):\n",
    "        if not word in self.word2idx:\n",
    "            self.word2idx[word] = self.idx\n",
    "            self.idx2word[self.idx] = word\n",
    "            self.idx += 1\n",
    "\n",
    "    def __call__(self, word):\n",
    "        return self.word2idx[word]\n",
    "\n",
    "    def __len__(self):\n",
    "        return len(self.word2idx)"
   ]
  },
  {
   "cell_type": "code",
   "execution_count": 6,
   "metadata": {
    "scrolled": true
   },
   "outputs": [
    {
     "name": "stderr",
     "output_type": "stream",
     "text": [
      "100%|███████████████████████████████████████████████████████████████████████████████| 981/981 [00:01<00:00, 773.90it/s]\n"
     ]
    }
   ],
   "source": [
    "if __name__=='__main__':\n",
    "\n",
    "    path = 'C:/Users/anjae/Desktop/PerspectiveImages/'\n",
    "    file_list = os.listdir(path)\n",
    "    valid_data = exclude_data(file_list, path)    # >>> 812"
   ]
  },
  {
   "cell_type": "code",
   "execution_count": 7,
   "metadata": {},
   "outputs": [],
   "source": [
    "captions = [name[:-4] for name in valid_data] # eliminate the .jpg\n",
    "counter = Counter()\n",
    "for cap in captions:\n",
    "    for token in cap:\n",
    "        counter.update(token)\n",
    "        \n",
    "words = [word for word, cnt in counter.items()]\n",
    "vocab = Vocabulary()\n",
    "vocab.add_word('<start>')\n",
    "vocab.add_word('<end>')\n",
    "\n",
    "for i, word in enumerate(words):\n",
    "    vocab.add_word(word)"
   ]
  },
  {
   "cell_type": "code",
   "execution_count": 8,
   "metadata": {
    "collapsed": true
   },
   "outputs": [
    {
     "data": {
      "text/plain": [
       "{0: '<start>',\n",
       " 1: '<end>',\n",
       " 2: '0',\n",
       " 3: '1',\n",
       " 4: '도',\n",
       " 5: '9',\n",
       " 6: '8',\n",
       " 7: '2',\n",
       " 8: '두',\n",
       " 9: '6',\n",
       " 10: '7',\n",
       " 11: '3',\n",
       " 12: '오',\n",
       " 13: '호',\n",
       " 14: '4',\n",
       " 15: '거',\n",
       " 16: '모',\n",
       " 17: '버',\n",
       " 18: '5',\n",
       " 19: '주',\n",
       " 20: '고',\n",
       " 21: '나',\n",
       " 22: '라',\n",
       " 23: '로',\n",
       " 24: '루',\n",
       " 25: '보',\n",
       " 26: '부',\n",
       " 27: '가',\n",
       " 28: '마',\n",
       " 29: '머',\n",
       " 30: '소',\n",
       " 31: '조',\n",
       " 32: '하',\n",
       " 33: '구',\n",
       " 34: '누',\n",
       " 35: '러',\n",
       " 36: '노',\n",
       " 37: '수',\n",
       " 38: '우',\n",
       " 39: '무',\n",
       " 40: '저',\n",
       " 41: '더',\n",
       " 42: '너',\n",
       " 43: '어',\n",
       " 44: '다',\n",
       " 45: '서'}"
      ]
     },
     "execution_count": 8,
     "metadata": {},
     "output_type": "execute_result"
    }
   ],
   "source": [
    "vocab.idx2word"
   ]
  },
  {
   "cell_type": "code",
   "execution_count": 9,
   "metadata": {
    "collapsed": true
   },
   "outputs": [
    {
     "data": {
      "text/plain": [
       "{'<start>': 0,\n",
       " '<end>': 1,\n",
       " '0': 2,\n",
       " '1': 3,\n",
       " '도': 4,\n",
       " '9': 5,\n",
       " '8': 6,\n",
       " '2': 7,\n",
       " '두': 8,\n",
       " '6': 9,\n",
       " '7': 10,\n",
       " '3': 11,\n",
       " '오': 12,\n",
       " '호': 13,\n",
       " '4': 14,\n",
       " '거': 15,\n",
       " '모': 16,\n",
       " '버': 17,\n",
       " '5': 18,\n",
       " '주': 19,\n",
       " '고': 20,\n",
       " '나': 21,\n",
       " '라': 22,\n",
       " '로': 23,\n",
       " '루': 24,\n",
       " '보': 25,\n",
       " '부': 26,\n",
       " '가': 27,\n",
       " '마': 28,\n",
       " '머': 29,\n",
       " '소': 30,\n",
       " '조': 31,\n",
       " '하': 32,\n",
       " '구': 33,\n",
       " '누': 34,\n",
       " '러': 35,\n",
       " '노': 36,\n",
       " '수': 37,\n",
       " '우': 38,\n",
       " '무': 39,\n",
       " '저': 40,\n",
       " '더': 41,\n",
       " '너': 42,\n",
       " '어': 43,\n",
       " '다': 44,\n",
       " '서': 45}"
      ]
     },
     "execution_count": 9,
     "metadata": {},
     "output_type": "execute_result"
    }
   ],
   "source": [
    "vocab.word2idx"
   ]
  },
  {
   "cell_type": "code",
   "execution_count": 10,
   "metadata": {
    "collapsed": true
   },
   "outputs": [
    {
     "data": {
      "text/plain": [
       "['01도0982',\n",
       " '01두6167',\n",
       " '01두6173',\n",
       " '01오2026',\n",
       " '01호7971',\n",
       " '01호9428',\n",
       " '02거0688',\n",
       " '02모6182',\n",
       " '02버1520',\n",
       " '02버8171',\n",
       " '02주8096',\n",
       " '03고2103',\n",
       " '03나5394',\n",
       " '03라8025',\n",
       " '03로2945',\n",
       " '03루5237',\n",
       " '03버4113',\n",
       " '03보8129',\n",
       " '03부4568',\n",
       " '04가2678',\n",
       " '04고8608',\n",
       " '04나1851',\n",
       " '04마3810',\n",
       " '04머0711',\n",
       " '04소0381',\n",
       " '04소0425',\n",
       " '04조5542',\n",
       " '04하0493',\n",
       " '05가7190',\n",
       " '05거0214',\n",
       " '05고3250',\n",
       " '05구8036',\n",
       " '05누6006',\n",
       " '05누6109',\n",
       " '05누6625',\n",
       " '05도1291',\n",
       " '05도7067',\n",
       " '05라9211',\n",
       " '05로6033',\n",
       " '05모9326',\n",
       " '05소4660',\n",
       " '06러9201',\n",
       " '06러9329',\n",
       " '06루2679',\n",
       " '06모1085',\n",
       " '06모1297',\n",
       " '06모1437',\n",
       " '07고4598',\n",
       " '07노9076',\n",
       " '07두4907',\n",
       " '07모3479',\n",
       " '07소3599',\n",
       " '07수1184',\n",
       " '08두5232',\n",
       " '08보1242',\n",
       " '08보1292',\n",
       " '08수7006',\n",
       " '08수7040',\n",
       " '08우1024',\n",
       " '09누6636',\n",
       " '09라0676',\n",
       " '09라0710',\n",
       " '09라0740',\n",
       " '09라0798',\n",
       " '09러2342',\n",
       " '09러2376',\n",
       " '09마0604',\n",
       " '09머5540',\n",
       " '09무3054',\n",
       " '09우5531',\n",
       " '09저6947',\n",
       " '10누5019',\n",
       " '10누5053',\n",
       " '10더5037',\n",
       " '10루4154',\n",
       " '10무1590',\n",
       " '10부6770',\n",
       " '10소2938',\n",
       " '10우3213',\n",
       " '10조8410',\n",
       " '10주0605',\n",
       " '11너9153',\n",
       " '11노3042',\n",
       " '11도6750',\n",
       " '11루0688',\n",
       " '12너9223',\n",
       " '12너9341',\n",
       " '12두6113',\n",
       " '12라2561',\n",
       " '12라4711',\n",
       " '12머0862',\n",
       " '12모8696',\n",
       " '12버6019',\n",
       " '12어7797',\n",
       " '12어7841',\n",
       " '12오6518',\n",
       " '13가5402',\n",
       " '13거0270',\n",
       " '13다0965',\n",
       " '13더0842',\n",
       " '13더1715',\n",
       " '13도8419',\n",
       " '13러2459',\n",
       " '13러9334',\n",
       " '13루2447',\n",
       " '13버2781',\n",
       " '13조7921',\n",
       " '13주2898',\n",
       " '14구4066',\n",
       " '14누6342',\n",
       " '14누6528',\n",
       " '14누6817',\n",
       " '14누6913',\n",
       " '14루4596',\n",
       " '14보0213',\n",
       " '14서4366',\n",
       " '14오4333',\n",
       " '15나2455',\n",
       " '15노4436',\n",
       " '15다6093',\n",
       " '15더2759',\n",
       " '15도0575',\n",
       " '15도0773',\n",
       " '15도0911',\n",
       " '15도0950',\n",
       " '15라1780',\n",
       " '15러2948',\n",
       " '15마0582',\n",
       " '15조1025',\n",
       " '15주8441',\n",
       " '15호1590',\n",
       " '16가5032',\n",
       " '16거0872',\n",
       " '16고1747',\n",
       " '16구4720',\n",
       " '16루2772',\n",
       " '16마9731',\n",
       " '16무8236',\n",
       " '16부7538',\n",
       " '16부8212',\n",
       " '16서1848',\n",
       " '16소6618',\n",
       " '16소9421',\n",
       " '16수6333',\n",
       " '16어9247',\n",
       " '16주1660',\n",
       " '17거9524',\n",
       " '17모4217',\n",
       " '17부4259',\n",
       " '18가8006',\n",
       " '18가8057',\n",
       " '18가8108',\n",
       " '18누4057',\n",
       " '18라0126',\n",
       " '18라2444',\n",
       " '18라2872',\n",
       " '18라8221',\n",
       " '18라8875',\n",
       " '18루5447',\n",
       " '18보1220',\n",
       " '18보1923',\n",
       " '18부5702',\n",
       " '18어1122',\n",
       " '18어1162',\n",
       " '18어1207',\n",
       " '18어1241',\n",
       " '18어1286',\n",
       " '18어1390',\n",
       " '18어1835',\n",
       " '18조9041',\n",
       " '18주0229',\n",
       " '19구5420',\n",
       " '19노3615',\n",
       " '19누4540',\n",
       " '19더1555',\n",
       " '19도2556',\n",
       " '19두2670',\n",
       " '19라0916',\n",
       " '19로4452',\n",
       " '19루2916',\n",
       " '19보5865',\n",
       " '20거9823',\n",
       " '20도1539',\n",
       " '20도4764',\n",
       " '20러8654',\n",
       " '20루5124',\n",
       " '20무5527',\n",
       " '20무5774',\n",
       " '20조4113',\n",
       " '20조4161',\n",
       " '20조4433',\n",
       " '20조4536',\n",
       " '20조4956',\n",
       " '20조9144',\n",
       " '21가9293',\n",
       " '21누5580',\n",
       " '21도5431',\n",
       " '21버0612',\n",
       " '21소2077',\n",
       " '21소5453',\n",
       " '21소7621',\n",
       " '21어4162',\n",
       " '21오9251',\n",
       " '21우6170',\n",
       " '21조8185',\n",
       " '21조8242',\n",
       " '21조8781',\n",
       " '21하2737',\n",
       " '22가7168',\n",
       " '22가7953',\n",
       " '22고1246',\n",
       " '22나9844',\n",
       " '22노6557',\n",
       " '22더7767',\n",
       " '22도0991',\n",
       " '22두8786',\n",
       " '22러0815',\n",
       " '22러0923',\n",
       " '22머2298',\n",
       " '22우0875',\n",
       " '22주3283',\n",
       " '22주3410',\n",
       " '22주3844',\n",
       " '22주3997',\n",
       " '22호5459',\n",
       " '23거8175',\n",
       " '23거8516',\n",
       " '23거8571',\n",
       " '23거8599',\n",
       " '23구4784',\n",
       " '23구9542',\n",
       " '23도3725',\n",
       " '23로7188',\n",
       " '23마5826',\n",
       " '23모0896',\n",
       " '23모0929',\n",
       " '23무5284',\n",
       " '23버8371',\n",
       " '23버8809',\n",
       " '23버8860',\n",
       " '23버8877',\n",
       " '23버8902',\n",
       " '23오2176',\n",
       " '23조5770',\n",
       " '23조7884',\n",
       " '24고8353',\n",
       " '24다6788',\n",
       " '24두9173',\n",
       " '24두9263',\n",
       " '24두9349',\n",
       " '24두9461',\n",
       " '24두9652',\n",
       " '24두9745',\n",
       " '24라6791',\n",
       " '24저8748',\n",
       " '24저8829',\n",
       " '24저8872',\n",
       " '24저8897',\n",
       " '24주6275',\n",
       " '25거9499',\n",
       " '25거9574',\n",
       " '25도1867',\n",
       " '25두5120',\n",
       " '25라7737',\n",
       " '25러6327',\n",
       " '25머1801',\n",
       " '25부3194',\n",
       " '25우0640',\n",
       " '25우1709',\n",
       " '26거0591',\n",
       " '26거0743',\n",
       " '26거0818',\n",
       " '26거0827',\n",
       " '26거0863',\n",
       " '26거0936',\n",
       " '26너1318',\n",
       " '26노7127',\n",
       " '26노8470',\n",
       " '26누5743',\n",
       " '26더5531',\n",
       " '26두0638',\n",
       " '26두2809',\n",
       " '26마4757',\n",
       " '26머3093',\n",
       " '26머3121',\n",
       " '26머3242',\n",
       " '26머3943',\n",
       " '26모3627',\n",
       " '26모3973',\n",
       " '26무6687',\n",
       " '26소6619',\n",
       " '26소6621',\n",
       " '26소6663',\n",
       " '26소6695',\n",
       " '26어4229',\n",
       " '26주9021',\n",
       " '27나4137',\n",
       " '27나4278',\n",
       " '27나4630',\n",
       " '27러7844',\n",
       " '27모0425',\n",
       " '27부7539',\n",
       " '27소3749',\n",
       " '27소6201',\n",
       " '28구0846',\n",
       " '28더9114',\n",
       " '28도5100',\n",
       " '28도5190',\n",
       " '28루3527',\n",
       " '28무6784',\n",
       " '28주5706',\n",
       " '28호3480',\n",
       " '29누3033',\n",
       " '29누3291',\n",
       " '29루0144',\n",
       " '29마0329',\n",
       " '29마3320',\n",
       " '29머3100',\n",
       " '29머3228',\n",
       " '29머3238',\n",
       " '29머3285',\n",
       " '29서2150',\n",
       " '29조8025',\n",
       " '29조9048',\n",
       " '29주4285',\n",
       " '30거0355',\n",
       " '30고0454',\n",
       " '30다9953',\n",
       " '30로1542',\n",
       " '30무0731',\n",
       " '30소2203',\n",
       " '30저6948',\n",
       " '30저8155',\n",
       " '31구2390',\n",
       " '31두5577',\n",
       " '31두6283',\n",
       " '31라6572',\n",
       " '31로0630',\n",
       " '31로2004',\n",
       " '31로2254',\n",
       " '31로2559',\n",
       " '31로2601',\n",
       " '31로2631',\n",
       " '31로2636',\n",
       " '31모7917',\n",
       " '31모8249',\n",
       " '31버1031',\n",
       " '31수5200',\n",
       " '31우3069',\n",
       " '32구6996',\n",
       " '32모8378',\n",
       " '32버6505',\n",
       " '32보6033',\n",
       " '32보6045',\n",
       " '32보6131',\n",
       " '32보6191',\n",
       " '32보6340',\n",
       " '32보6631',\n",
       " '32보6683',\n",
       " '32보6904',\n",
       " '32우6025',\n",
       " '32주7698',\n",
       " '33러4219',\n",
       " '33머7419',\n",
       " '33모3979',\n",
       " '33보8514',\n",
       " '33보8594',\n",
       " '33보8761',\n",
       " '33수2587',\n",
       " '33어2075',\n",
       " '33하5466',\n",
       " '34노9319',\n",
       " '34러5580',\n",
       " '34소4169',\n",
       " '34소4974',\n",
       " '34주0983',\n",
       " '34주7526',\n",
       " '34호4024',\n",
       " '35거5440',\n",
       " '35더5310',\n",
       " '35더5833',\n",
       " '35로2249',\n",
       " '35로9609',\n",
       " '35버2655',\n",
       " '35보0705',\n",
       " '35서5975',\n",
       " '35어7153',\n",
       " '35조4115',\n",
       " '36고4653',\n",
       " '36구3300',\n",
       " '36노1309',\n",
       " '36도7375',\n",
       " '36로5179',\n",
       " '36로5267',\n",
       " '36로5340',\n",
       " '36로5674',\n",
       " '36로5718',\n",
       " '36루0734',\n",
       " '36루1412',\n",
       " '36모3099',\n",
       " '36모5635',\n",
       " '36모8230',\n",
       " '36모8351',\n",
       " '36모8456',\n",
       " '37거2979',\n",
       " '37다8040',\n",
       " '37루0346',\n",
       " '37루5268',\n",
       " '37루5400',\n",
       " '37루5551',\n",
       " '37루5800',\n",
       " '37루5869',\n",
       " '37루5884',\n",
       " '37루5903',\n",
       " '37루5952',\n",
       " '37모0815',\n",
       " '37소1177',\n",
       " '37수4306',\n",
       " '37조5155',\n",
       " '38고0560',\n",
       " '38고0682',\n",
       " '38고0693',\n",
       " '38고0767',\n",
       " '38고0817',\n",
       " '38고3382',\n",
       " '38누8606',\n",
       " '38러3642',\n",
       " '38마2445',\n",
       " '38머9839',\n",
       " '38머9896',\n",
       " '38머9922',\n",
       " '38머9928',\n",
       " '38버7201',\n",
       " '38어9055',\n",
       " '38저1539',\n",
       " '38호6002',\n",
       " '39나5794',\n",
       " '39머7372',\n",
       " '39모0500',\n",
       " '39하1751',\n",
       " '40가1370',\n",
       " '40거2105',\n",
       " '40고2523',\n",
       " '40라7075',\n",
       " '40저2723',\n",
       " '40호6857',\n",
       " '41고4074',\n",
       " '41구0647',\n",
       " '41구0696',\n",
       " '41구0958',\n",
       " '41도6058',\n",
       " '41모5355',\n",
       " '41무7249',\n",
       " '41무7975',\n",
       " '41부5678',\n",
       " '41오3065',\n",
       " '41조0820',\n",
       " '41조1720',\n",
       " '42거1959',\n",
       " '42구8146',\n",
       " '42누7409',\n",
       " '42머1450',\n",
       " '42소9217',\n",
       " '42저6163',\n",
       " '43고2107',\n",
       " '43구3478',\n",
       " '43구5042',\n",
       " '43너2768',\n",
       " '43도9277',\n",
       " '43두4145',\n",
       " '43두5004',\n",
       " '43러1548',\n",
       " '43머6738',\n",
       " '43모8558',\n",
       " '43부6584',\n",
       " '43부7707',\n",
       " '43서9093',\n",
       " '43어0366',\n",
       " '45노8090',\n",
       " '45누3791',\n",
       " '45더2883',\n",
       " '45도6145',\n",
       " '45도6288',\n",
       " '45도6340',\n",
       " '45도6608',\n",
       " '45도6974',\n",
       " '45로3899',\n",
       " '45버3165',\n",
       " '45버3315',\n",
       " '45어0691',\n",
       " '45어0761',\n",
       " '45어1505',\n",
       " '45우3253',\n",
       " '45우3413',\n",
       " '45조5004',\n",
       " '46구6242',\n",
       " '46더3206',\n",
       " '46무3170',\n",
       " '46무3501',\n",
       " '46무9940',\n",
       " '46버1589',\n",
       " '46버1991',\n",
       " '46서3572',\n",
       " '46소0461',\n",
       " '46소0499',\n",
       " '46소0566',\n",
       " '46소0618',\n",
       " '46하3075',\n",
       " '46하4095',\n",
       " '47거2118',\n",
       " '47로2714',\n",
       " '47머8508',\n",
       " '47보0155',\n",
       " '47부7070',\n",
       " '47우5730',\n",
       " '48구0749',\n",
       " '48구0799',\n",
       " '48버3098',\n",
       " '48소3914',\n",
       " '48소9229',\n",
       " '48소9769',\n",
       " '48오2224',\n",
       " '48오8081',\n",
       " '48오8084',\n",
       " '48오8359',\n",
       " '48오8371',\n",
       " '48오8960',\n",
       " '48조5243',\n",
       " '49가9267',\n",
       " '49가9707',\n",
       " '49가9853',\n",
       " '49고0151',\n",
       " '49고0363',\n",
       " '49고0370',\n",
       " '49고8616',\n",
       " '49구5395',\n",
       " '49너3110',\n",
       " '49노0810',\n",
       " '49누9830',\n",
       " '49더3523',\n",
       " '49더7110',\n",
       " '49로6218',\n",
       " '49무1920',\n",
       " '49보8313',\n",
       " '49보8347',\n",
       " '49어7181',\n",
       " '49우5468',\n",
       " '49주5935',\n",
       " '50가5448',\n",
       " '50구4597',\n",
       " '50구4643',\n",
       " '50나6067',\n",
       " '50노1375',\n",
       " '50더8157',\n",
       " '50러9137',\n",
       " '50모7759',\n",
       " '50무5810',\n",
       " '50우3409',\n",
       " '50저7112',\n",
       " '50조3149',\n",
       " '50호7661',\n",
       " '51고9010',\n",
       " '51고9058',\n",
       " '51고9270',\n",
       " '51고9401',\n",
       " '51고9612',\n",
       " '51고9959',\n",
       " '51누3966',\n",
       " '51더5788',\n",
       " '51두2159',\n",
       " '51루7085',\n",
       " '51마7792',\n",
       " '51머5435',\n",
       " '51머5440',\n",
       " '51머5443',\n",
       " '51머5559',\n",
       " '51머5624',\n",
       " '51머5693',\n",
       " '51머5875',\n",
       " '51무2766',\n",
       " '51버9548',\n",
       " '51서3241',\n",
       " '51소5100',\n",
       " '51조7764',\n",
       " '52가8044',\n",
       " '52구3935',\n",
       " '52라1465',\n",
       " '52러5978',\n",
       " '52부4819',\n",
       " '52서1639',\n",
       " '52서6491',\n",
       " '52하2913',\n",
       " '53거1375',\n",
       " '53구6128',\n",
       " '53두6064',\n",
       " '53라8818',\n",
       " '53부1736',\n",
       " '53서5560',\n",
       " '53서5634',\n",
       " '53소9147',\n",
       " '53수6550',\n",
       " '53우1668',\n",
       " '54가8325',\n",
       " '54루7075',\n",
       " '54머9061',\n",
       " '54머9167',\n",
       " '54머9176',\n",
       " '54머9193',\n",
       " '54소7323',\n",
       " '54수9834',\n",
       " '54어1106',\n",
       " '54오1602',\n",
       " '54오4316',\n",
       " '54오4626',\n",
       " '54주3455',\n",
       " '54하6336',\n",
       " '55가3538',\n",
       " '55더3335',\n",
       " '55더3462',\n",
       " '55더3544',\n",
       " '55더3608',\n",
       " '55더3897',\n",
       " '55더3979',\n",
       " '55라6238',\n",
       " '55루9839',\n",
       " '55마2633',\n",
       " '55마9234',\n",
       " '55버8092',\n",
       " '55버8259',\n",
       " '55어8437',\n",
       " '55하1184',\n",
       " '55호1674',\n",
       " '56러1172',\n",
       " '56머1748',\n",
       " '56오1966',\n",
       " '56저1063',\n",
       " '57고4324',\n",
       " '57고4439',\n",
       " '57고4511',\n",
       " '57고4535',\n",
       " '57고4790',\n",
       " '57라5267',\n",
       " '57수1337',\n",
       " '57우3143',\n",
       " '57우3462',\n",
       " '57우3610',\n",
       " '57우3618',\n",
       " '57조7726',\n",
       " '58두9062',\n",
       " '58라8225',\n",
       " '58루3807',\n",
       " '58루7171',\n",
       " '58루7706',\n",
       " '58루7742',\n",
       " '58마3515',\n",
       " '58소0307',\n",
       " '58수7018',\n",
       " '58어8054',\n",
       " '58어8174',\n",
       " '58어8260',\n",
       " '58어8631',\n",
       " '58호1253',\n",
       " '59보9268',\n",
       " '59어2749',\n",
       " '60거6137',\n",
       " '60다9050',\n",
       " '60버0221',\n",
       " '60버9294',\n",
       " '60버9308',\n",
       " '60버9368',\n",
       " '60소9057',\n",
       " '60어5330',\n",
       " '60호9869',\n",
       " '61거4761',\n",
       " '61고3775',\n",
       " '61고9240',\n",
       " '61고9946',\n",
       " '61구6121',\n",
       " '61구6239',\n",
       " '61구6549',\n",
       " '61구6659',\n",
       " '61구6890',\n",
       " '61누9052',\n",
       " '61누9214',\n",
       " '61누9373',\n",
       " '61누9427',\n",
       " '61누9914',\n",
       " '61서2046',\n",
       " '61서5158',\n",
       " '61서5352',\n",
       " '61서5366',\n",
       " '61서5643',\n",
       " '61서5921',\n",
       " '61오4956',\n",
       " '61호2941',\n",
       " '62거6041',\n",
       " '62도1019',\n",
       " '62도6322',\n",
       " '62루8741',\n",
       " '62머4031',\n",
       " '62머4046',\n",
       " '62머4096',\n",
       " '62머4729',\n",
       " '62머4957',\n",
       " '62소0518',\n",
       " '62어6797',\n",
       " '62저7930',\n",
       " '63구4962',\n",
       " '63너7534',\n",
       " '63노0748',\n",
       " '63노6215',\n",
       " '63호3793',\n",
       " '64더1075',\n",
       " '64러3148',\n",
       " '64러3266',\n",
       " '64러3333',\n",
       " '64모2805',\n",
       " '64오1558',\n",
       " '64우8529',\n",
       " '64우8992',\n",
       " '64저6004',\n",
       " '65구8381',\n",
       " '65더6478',\n",
       " '65도8443',\n",
       " '65러3065',\n",
       " '65무6089',\n",
       " '65보4892',\n",
       " '65어9015',\n",
       " '65저5045',\n",
       " '65저8997',\n",
       " '66고7151',\n",
       " '66구5407',\n",
       " '66구5714',\n",
       " '66다2847',\n",
       " '66로0940',\n",
       " '66모3661',\n",
       " '66모3714',\n",
       " '66서8450',\n",
       " '66서8453',\n",
       " '66서8460',\n",
       " '66서8488',\n",
       " '66수0523',\n",
       " '67가6000',\n",
       " '67나3475',\n",
       " '67누4629',\n",
       " '67라8732',\n",
       " '67러4259',\n",
       " '67러4699',\n",
       " '67루4835',\n",
       " '67보3146',\n",
       " '67어7807',\n",
       " '67저3516',\n",
       " '67주2772',\n",
       " '67주9113',\n",
       " '68무5860',\n",
       " '68버0686',\n",
       " '68버0865',\n",
       " '68버0995',\n",
       " '68부0902',\n",
       " '68오7236',\n",
       " '68주2150',\n",
       " '68주3051',\n",
       " '69너9007',\n",
       " '69노8279',\n",
       " '69누8429',\n",
       " '69도2096',\n",
       " '69라1061',\n",
       " '69로7350',\n",
       " '69루8374',\n",
       " '69모0963',\n",
       " '69모3198',\n",
       " '69호2920',\n",
       " '70나4570',\n",
       " '70너5895',\n",
       " '70루1898',\n",
       " '71저2276',\n",
       " '72버5714',\n",
       " '72보5188',\n",
       " '73라7673',\n",
       " '75하7236',\n",
       " '76마4478',\n",
       " '77주1033',\n",
       " '78수4988',\n",
       " '80러6154',\n",
       " '80마8795',\n",
       " '81가9917',\n",
       " '81너0316',\n",
       " '81너0361',\n",
       " '81버3717',\n",
       " '81서0729',\n",
       " '81저3986',\n",
       " '82다5945',\n",
       " '83나9224',\n",
       " '86로7353',\n",
       " '86루6729',\n",
       " '86마0724',\n",
       " '88거6724',\n",
       " '88라2552',\n",
       " '88보8927',\n",
       " '88소0607',\n",
       " '89저1524',\n",
       " '90누8861',\n",
       " '91노5117',\n",
       " '91보6323',\n",
       " '93가1384',\n",
       " '93가2551',\n",
       " '93서3614',\n",
       " '94로2178',\n",
       " '97소2474']"
      ]
     },
     "execution_count": 10,
     "metadata": {},
     "output_type": "execute_result"
    }
   ],
   "source": [
    "captions"
   ]
  },
  {
   "cell_type": "code",
   "execution_count": 11,
   "metadata": {},
   "outputs": [],
   "source": [
    "# fInd mean and std for each channel for valid_data\n",
    "imgs = []\n",
    "for file_name in valid_data:\n",
    "    img = Image.open(path + file_name)\n",
    "    imgs.append(np.asarray(img))\n",
    "\n",
    "imgs = np.asarray(imgs)\n",
    "normalize_mean = [imgs[:,:,:,0].mean(), imgs[:,:,:,1].mean(), imgs[:,:,:,2].mean()]\n",
    "normalize_std = [imgs[:,:,:,0].std(), imgs[:,:,:,1].std(), imgs[:,:,:,2].std()]"
   ]
  },
  {
   "cell_type": "code",
   "execution_count": 12,
   "metadata": {},
   "outputs": [
    {
     "data": {
      "text/plain": [
       "([140.35294402260286, 141.85065142150805, 140.9446750838778],\n",
       " [67.1339938663095, 66.77541666677854, 66.45039705287245])"
      ]
     },
     "execution_count": 12,
     "metadata": {},
     "output_type": "execute_result"
    }
   ],
   "source": [
    "normalize_mean, normalize_std"
   ]
  },
  {
   "cell_type": "code",
   "execution_count": 13,
   "metadata": {},
   "outputs": [],
   "source": [
    "transform = transforms.Compose([\n",
    "    transforms.ToTensor(),\n",
    "    transforms.Normalize(normalize_mean,normalize_std),\n",
    "])"
   ]
  },
  {
   "cell_type": "code",
   "execution_count": 14,
   "metadata": {},
   "outputs": [],
   "source": [
    "class CustomDataset(Dataset):\n",
    "    def __init__(self, imgs, vocab, captions, transform):\n",
    "        self.imgs = imgs\n",
    "        self.captions = captions\n",
    "        self.vocab = vocab\n",
    "        self.transform = transform\n",
    "        \n",
    "    def __getitem__(self, index):\n",
    "        imgs = self.imgs\n",
    "        vocab = self.vocab\n",
    "        captions = self.captions\n",
    "        \n",
    "        image = imgs[index]\n",
    "        if self.transform is not None:\n",
    "            image = self.transform(image)\n",
    "        \n",
    "        tokens = [token for token in captions[index]]\n",
    "        caption = []\n",
    "        caption.append(vocab('<start>'))\n",
    "        caption.extend([vocab(token) for token in tokens])\n",
    "        caption.append(vocab('<end>'))\n",
    "        target = torch.Tensor(caption)\n",
    "        \n",
    "        return image, target\n",
    "    \n",
    "    def __len__(self):\n",
    "        return len(self.imgs)"
   ]
  },
  {
   "cell_type": "code",
   "execution_count": 15,
   "metadata": {},
   "outputs": [],
   "source": [
    "batch_size = 8\n",
    "shuffle = False\n",
    "\n",
    "c = CustomDataset(imgs, vocab, captions, transform)\n",
    "data_loder = DataLoader(dataset=c,\n",
    "                       batch_size=batch_size,\n",
    "                       shuffle=shuffle,\n",
    "                       )\n",
    "\n",
    "train_size = int(0.8 * c.__len__())\n",
    "test_size = c.__len__() - train_size"
   ]
  },
  {
   "cell_type": "code",
   "execution_count": 16,
   "metadata": {},
   "outputs": [],
   "source": [
    "torch.manual_seed(10)\n",
    "train_dataset, test_dataset = data.random_split(c, [train_size, test_size])\n",
    "train_loder = data.DataLoader(train_dataset, batch_size=batch_size, shuffle=shuffle)\n",
    "test_loder = data.DataLoader(test_dataset, batch_size=batch_size, shuffle=shuffle)"
   ]
  },
  {
   "cell_type": "code",
   "execution_count": 17,
   "metadata": {
    "scrolled": false
   },
   "outputs": [],
   "source": [
    "# Mnist데이터 훈련된 vgg11 모델이 필요하다\n",
    "# 나중에 업데이트\n",
    "class MnistVgg11():\n",
    "    def __init__(self):\n",
    "        self.vgg11 = models.vgg11(pretrained=True).features\n",
    "        self.train_batch_size = 16\n",
    "        train_loader = DataLoader(MNIST(download=True, root=\".\", transform=data_transform, train=True),\n",
    "                              batch_size=train_batch_size, shuffle=True)\n",
    "        output = self.vgg1(train_loader.sampler.data_source)\n",
    "        self.vgg11.classifier = nn.Linear(output, 10)\n",
    "    \n",
    "    def train(self):\n",
    "        epoch = 100"
   ]
  },
  {
   "cell_type": "code",
   "execution_count": 18,
   "metadata": {},
   "outputs": [],
   "source": [
    "# Image captionning approach\n",
    "class EncoderCNN(nn.Module):\n",
    "    def __init__(self, input_dim, embed_size):\n",
    "        super(EncoderCNN, self).__init__()\n",
    "        self.conv = nn.Sequential(nn.Conv2d(input_dim, 32, kernel_size=3, stride=1),\n",
    "                                  nn.ReLU(),\n",
    "                                  nn.BatchNorm2d(32),\n",
    "                                  nn.Conv2d(32, 64, kernel_size=3, stride=1),\n",
    "                                  nn.ReLU(),\n",
    "                                  nn.BatchNorm2d(64),\n",
    "                                  nn.Conv2d(64, 128, kernel_size=3, stride=1),\n",
    "                                  nn.ReLU(),\n",
    "                                  nn.BatchNorm2d(128),\n",
    "                                  nn.Conv2d(128, 128, kernel_size=3, stride=1),\n",
    "                                  nn.ReLU(),\n",
    "                                  nn.AdaptiveAvgPool2d((7,7))\n",
    "                                 )\n",
    "        self.linear = nn.Linear(6272, embed_size)\n",
    "        self.relu = nn.ReLU()\n",
    "        self.dropout = nn.Dropout(0.5)\n",
    "        \n",
    "    def forward(self, images):\n",
    "        features = self.conv(images)\n",
    "  \n",
    "        return self.dropout(self.relu(self.linear(features.reshape(images.shape[0], -1))))\n",
    "\n",
    "    \n",
    "class DecoderRNN(nn.Module):\n",
    "    def __init__(self, embed_size, hidden_size, vocab_size, num_layers=1, batch_first=True):\n",
    "        super(DecoderRNN, self).__init__()\n",
    "        self.hidden_dim = hidden_size\n",
    "        self.num_layers = num_layers\n",
    "        self.embed = nn.Embedding(vocab_size, embed_size)  # 46 x 256\n",
    "        self.lstm = nn.LSTM(input_size=embed_size, hidden_size=hidden_size, \\\n",
    "                            num_layers=num_layers, batch_first=batch_first)\n",
    "        self.linear = nn.Linear(hidden_size, vocab_size)\n",
    "\n",
    "    def forward(self, feature, caption):\n",
    "        \"\"\"CNN으로 얻은 feature 벡터를 복호화하고 캡션을 생성\"\"\"\n",
    "        \n",
    "        # batch x seq_length x embed_size\n",
    "        # 8 x 8 x 256\n",
    "        x = self.embed(caption) \n",
    "        \n",
    "        # batch x num_layers*num_directions x embed_size\n",
    "        # 8 x 1 x 256\n",
    "        h0 = feature\n",
    "        c0 = torch.zeros_like(h0)\n",
    "        \n",
    "        \n",
    "        out, _ = self.lstm(x, (h0, c0))\n",
    "        output = self.linear(out)\n",
    "        return output\n",
    "\n",
    "class CNN2RNN(nn.Module):\n",
    "    def __init__(self, input_dim, embed_size, hidden_size, vocab_size, num_layers=1, batch_first=True):\n",
    "        super(CNN2RNN, self).__init__()\n",
    "        self.encoder = EncoderCNN(input_dim, embed_size)\n",
    "        self.decoder = DecoderRNN(embed_size, hidden_size, vocab_size, num_layers, batch_first=batch_first)\n",
    "        self.batch_first = batch_first\n",
    "        \n",
    "    def forward(self, x, caption):\n",
    "        feature = self.encoder(x)    # 8 x 256\n",
    "        feature_ = feature.unsqueeze(0)    # 8 x 1 x 256\n",
    "\n",
    "        caption_ = caption[:,:-1]    # 8 x 9 -> 8 x 8\n",
    "        output = self.decoder(feature_, caption_)\n",
    "        return output\n",
    "    \n",
    "    def sample_caption(self, image, vocab):\n",
    "        result = []\n",
    "        \n",
    "        with torch.no_grad():\n",
    "            if len(image.shape) < 4:\n",
    "                image = image.unsqueeze(0)\n",
    "            feature = self.encoder(image).unsqueeze(0) # image를 한개씩 받기 때문에 batch차원 늘려준다\n",
    "            states = None\n",
    "            hidden = feature\n",
    "            \n",
    "            for _ in range(8):\n",
    "                hiddens, states = self.decoder.lstm(hidden, states)\n",
    "                output = self.decoder.linear(hiddens).squeeze(0)\n",
    "                predicted = output.argmax(1)\n",
    "                result.append(predicted.item())\n",
    "                x = self.decoder.embed(predicted).unsqueeze(0)\n",
    "                hidden = hiddens\n",
    "                \n",
    "                if vocab.idx2word[predicted.item()] == '<end>':\n",
    "                    break\n",
    "                    \n",
    "        return [vocab.idx2word[i] for i in result]"
   ]
  },
  {
   "cell_type": "code",
   "execution_count": 42,
   "metadata": {},
   "outputs": [],
   "source": [
    "def save_checkpoint(state, epo, filename='my_checkpoint'):\n",
    "    print(\">>> saving checkpoing\")\n",
    "    torch.save(state, filename + str(epo) + '.path.tar')\n",
    "    \n",
    "def load_checkpoint(checkpoint):\n",
    "    model.load_state_dict(torch.load(checkpoint)['state_dict'])\n",
    "    optimizer.load_state_dict(torch.load(checkpoint)['optimizer'])"
   ]
  },
  {
   "cell_type": "code",
   "execution_count": 50,
   "metadata": {},
   "outputs": [],
   "source": [
    "device= 'cuda' if torch.cuda.is_available() else 'cpu'\n",
    "lr = 0.003\n",
    "epoch = 100\n",
    "embed_size = 256\n",
    "hidden_size = 256\n",
    "vocab_size = len(vocab)\n",
    "input_dim = train_dataset.dataset.imgs.shape[-1]\n",
    "model = CNN2RNN(input_dim, embed_size, hidden_size, len(vocab))\n",
    "\n",
    "criterion = nn.CrossEntropyLoss()\n",
    "optimizer = optim.Adam(model.parameters(), lr=lr)\n",
    "\n",
    "epo = 3    # custom number for what epoch model and optimizer \n",
    "checkpoint = 'my_checkpoint3.path.tar'\n",
    "load_model = True"
   ]
  },
  {
   "cell_type": "code",
   "execution_count": null,
   "metadata": {
    "collapsed": true
   },
   "outputs": [
    {
     "name": "stderr",
     "output_type": "stream",
     "text": [
      "81it [08:42,  6.44s/it]\n",
      "0it [00:00, ?it/s]"
     ]
    },
    {
     "name": "stdout",
     "output_type": "stream",
     "text": [
      "epoch: 4, loss: 148.75156569480896\n",
      ">>> saving checkpoing\n",
      "['4', '<end>']\n",
      "<start>06모1297<end>\n",
      "\n"
     ]
    },
    {
     "name": "stderr",
     "output_type": "stream",
     "text": [
      "81it [08:30,  6.30s/it]\n",
      "0it [00:00, ?it/s]"
     ]
    },
    {
     "name": "stdout",
     "output_type": "stream",
     "text": [
      "epoch: 5, loss: 141.91908645629883\n",
      ">>> saving checkpoing\n",
      "['루', '<end>']\n",
      "<start>06모1297<end>\n",
      "\n"
     ]
    },
    {
     "name": "stderr",
     "output_type": "stream",
     "text": [
      "81it [08:29,  6.30s/it]\n",
      "0it [00:00, ?it/s]"
     ]
    },
    {
     "name": "stdout",
     "output_type": "stream",
     "text": [
      "epoch: 6, loss: 135.66598272323608\n",
      ">>> saving checkpoing\n",
      "['보', '<end>']\n",
      "<start>06모1297<end>\n",
      "\n"
     ]
    },
    {
     "name": "stderr",
     "output_type": "stream",
     "text": [
      "81it [08:35,  6.37s/it]\n",
      "0it [00:00, ?it/s]"
     ]
    },
    {
     "name": "stdout",
     "output_type": "stream",
     "text": [
      "epoch: 7, loss: 130.0629551410675\n",
      ">>> saving checkpoing\n",
      "['보', '6', '9', '0', '<end>']\n",
      "<start>06모1297<end>\n",
      "\n"
     ]
    },
    {
     "name": "stderr",
     "output_type": "stream",
     "text": [
      "81it [08:20,  6.18s/it]\n",
      "0it [00:00, ?it/s]"
     ]
    },
    {
     "name": "stdout",
     "output_type": "stream",
     "text": [
      "epoch: 8, loss: 122.58750653266907\n",
      ">>> saving checkpoing\n",
      "['보', '9', '<end>']\n",
      "<start>06모1297<end>\n",
      "\n"
     ]
    },
    {
     "name": "stderr",
     "output_type": "stream",
     "text": [
      "81it [07:25,  5.50s/it]\n",
      "0it [00:00, ?it/s]"
     ]
    },
    {
     "name": "stdout",
     "output_type": "stream",
     "text": [
      "epoch: 9, loss: 115.40042090415955\n",
      ">>> saving checkpoing\n",
      "['보', '<end>']\n",
      "<start>06모1297<end>\n",
      "\n"
     ]
    },
    {
     "name": "stderr",
     "output_type": "stream",
     "text": [
      "81it [07:06,  5.26s/it]\n",
      "0it [00:00, ?it/s]"
     ]
    },
    {
     "name": "stdout",
     "output_type": "stream",
     "text": [
      "epoch: 10, loss: 108.32889890670776\n",
      ">>> saving checkpoing\n",
      "['0', '<end>']\n",
      "<start>06모1297<end>\n",
      "\n"
     ]
    },
    {
     "name": "stderr",
     "output_type": "stream",
     "text": [
      "81it [07:10,  5.32s/it]\n",
      "0it [00:00, ?it/s]"
     ]
    },
    {
     "name": "stdout",
     "output_type": "stream",
     "text": [
      "epoch: 11, loss: 102.56735575199127\n",
      ">>> saving checkpoing\n",
      "['7', '4', '<end>']\n",
      "<start>06모1297<end>\n",
      "\n"
     ]
    },
    {
     "name": "stderr",
     "output_type": "stream",
     "text": [
      "81it [10:54,  8.08s/it]\n",
      "0it [00:00, ?it/s]"
     ]
    },
    {
     "name": "stdout",
     "output_type": "stream",
     "text": [
      "epoch: 12, loss: 98.12836933135986\n",
      ">>> saving checkpoing\n",
      "['7', '7', '<end>']\n",
      "<start>06모1297<end>\n",
      "\n"
     ]
    },
    {
     "name": "stderr",
     "output_type": "stream",
     "text": [
      "81it [06:34,  4.87s/it]\n",
      "0it [00:00, ?it/s]"
     ]
    },
    {
     "name": "stdout",
     "output_type": "stream",
     "text": [
      "epoch: 13, loss: 94.72585034370422\n",
      ">>> saving checkpoing\n",
      "['버', '0', '<end>']\n",
      "<start>06모1297<end>\n",
      "\n"
     ]
    },
    {
     "name": "stderr",
     "output_type": "stream",
     "text": [
      "81it [07:37,  5.65s/it]\n",
      "0it [00:00, ?it/s]"
     ]
    },
    {
     "name": "stdout",
     "output_type": "stream",
     "text": [
      "epoch: 14, loss: 91.15415805578232\n",
      ">>> saving checkpoing\n",
      "['보', '4', '4', '4', '<end>']\n",
      "<start>06모1297<end>\n",
      "\n"
     ]
    },
    {
     "name": "stderr",
     "output_type": "stream",
     "text": [
      "81it [08:27,  6.26s/it]\n"
     ]
    },
    {
     "name": "stdout",
     "output_type": "stream",
     "text": [
      "epoch: 15, loss: 88.22106629610062\n",
      ">>> saving checkpoing\n",
      "['노', '4', '4', '7', '<end>']"
     ]
    },
    {
     "name": "stderr",
     "output_type": "stream",
     "text": [
      "\r",
      "0it [00:00, ?it/s]"
     ]
    },
    {
     "name": "stdout",
     "output_type": "stream",
     "text": [
      "\n",
      "<start>06모1297<end>\n",
      "\n"
     ]
    },
    {
     "name": "stderr",
     "output_type": "stream",
     "text": [
      "81it [08:36,  6.38s/it]\n",
      "0it [00:00, ?it/s]"
     ]
    },
    {
     "name": "stdout",
     "output_type": "stream",
     "text": [
      "epoch: 16, loss: 85.68246454000473\n",
      ">>> saving checkpoing\n",
      "['보', '4', '7', '조', '0', '0', '<end>']\n",
      "<start>06모1297<end>\n",
      "\n"
     ]
    },
    {
     "name": "stderr",
     "output_type": "stream",
     "text": [
      "81it [11:05,  8.22s/it]\n",
      "0it [00:00, ?it/s]"
     ]
    },
    {
     "name": "stdout",
     "output_type": "stream",
     "text": [
      "epoch: 17, loss: 84.04882782697678\n",
      ">>> saving checkpoing\n",
      "['버', '4', '4', '<end>']\n",
      "<start>06모1297<end>\n",
      "\n"
     ]
    },
    {
     "name": "stderr",
     "output_type": "stream",
     "text": [
      "81it [07:49,  5.80s/it]\n",
      "0it [00:00, ?it/s]"
     ]
    },
    {
     "name": "stdout",
     "output_type": "stream",
     "text": [
      "epoch: 18, loss: 82.98073101043701\n",
      ">>> saving checkpoing\n",
      "['9', '0', '4', '8', '<end>']\n",
      "<start>06모1297<end>\n",
      "\n"
     ]
    },
    {
     "name": "stderr",
     "output_type": "stream",
     "text": [
      "81it [10:28,  7.75s/it]\n",
      "0it [00:00, ?it/s]"
     ]
    },
    {
     "name": "stdout",
     "output_type": "stream",
     "text": [
      "epoch: 19, loss: 82.05763804912567\n",
      ">>> saving checkpoing\n",
      "['9', '5', '5', '0', '<end>']\n",
      "<start>06모1297<end>\n",
      "\n"
     ]
    },
    {
     "name": "stderr",
     "output_type": "stream",
     "text": [
      "81it [08:25,  6.24s/it]\n",
      "0it [00:00, ?it/s]"
     ]
    },
    {
     "name": "stdout",
     "output_type": "stream",
     "text": [
      "epoch: 20, loss: 81.9950961470604\n",
      ">>> saving checkpoing\n",
      "['9', '도', '도', '4', '1', '1', '<end>']\n",
      "<start>06모1297<end>\n",
      "\n"
     ]
    },
    {
     "name": "stderr",
     "output_type": "stream",
     "text": [
      "81it [07:14,  5.36s/it]\n",
      "0it [00:00, ?it/s]"
     ]
    },
    {
     "name": "stdout",
     "output_type": "stream",
     "text": [
      "epoch: 21, loss: 80.62081855535507\n",
      ">>> saving checkpoing\n",
      "['9', '무', '도', '4', '1', '1', '1', '<end>']\n",
      "<start>06모1297<end>\n",
      "\n"
     ]
    },
    {
     "name": "stderr",
     "output_type": "stream",
     "text": [
      "81it [09:13,  6.83s/it]\n",
      "0it [00:00, ?it/s]"
     ]
    },
    {
     "name": "stdout",
     "output_type": "stream",
     "text": [
      "epoch: 22, loss: 80.41172277927399\n",
      ">>> saving checkpoing\n",
      "['9', '호', '<end>']\n",
      "<start>06모1297<end>\n",
      "\n"
     ]
    },
    {
     "name": "stderr",
     "output_type": "stream",
     "text": [
      "81it [11:11,  8.29s/it]\n",
      "0it [00:00, ?it/s]"
     ]
    },
    {
     "name": "stdout",
     "output_type": "stream",
     "text": [
      "epoch: 23, loss: 79.40023404359818\n",
      ">>> saving checkpoing\n",
      "['주', '호', '도', '6', '1', '7', '<end>']\n",
      "<start>06모1297<end>\n",
      "\n"
     ]
    },
    {
     "name": "stderr",
     "output_type": "stream",
     "text": [
      "81it [09:07,  6.76s/it]\n",
      "0it [00:00, ?it/s]"
     ]
    },
    {
     "name": "stdout",
     "output_type": "stream",
     "text": [
      "epoch: 24, loss: 79.83566373586655\n",
      ">>> saving checkpoing\n",
      "['버', '라', '노', '다', '나', '나', '나', '나']\n",
      "<start>06모1297<end>\n",
      "\n"
     ]
    },
    {
     "name": "stderr",
     "output_type": "stream",
     "text": [
      "81it [09:01,  6.69s/it]\n"
     ]
    },
    {
     "name": "stdout",
     "output_type": "stream",
     "text": [
      "epoch: 25, loss: 80.06698137521744\n",
      ">>> saving checkpoing\n"
     ]
    },
    {
     "name": "stderr",
     "output_type": "stream",
     "text": [
      "\r",
      "0it [00:00, ?it/s]"
     ]
    },
    {
     "name": "stdout",
     "output_type": "stream",
     "text": [
      "['버', '0', '1', '1', '<end>']\n",
      "<start>06모1297<end>\n",
      "\n"
     ]
    },
    {
     "name": "stderr",
     "output_type": "stream",
     "text": [
      "81it [08:41,  6.43s/it]\n"
     ]
    },
    {
     "name": "stdout",
     "output_type": "stream",
     "text": [
      "epoch: 26, loss: 78.82182770967484\n",
      ">>> saving checkpoing\n"
     ]
    },
    {
     "name": "stderr",
     "output_type": "stream",
     "text": [
      "\r",
      "0it [00:00, ?it/s]"
     ]
    },
    {
     "name": "stdout",
     "output_type": "stream",
     "text": [
      "['주', '주', '<end>']\n",
      "<start>06모1297<end>\n",
      "\n"
     ]
    },
    {
     "name": "stderr",
     "output_type": "stream",
     "text": [
      "81it [08:44,  6.48s/it]\n"
     ]
    },
    {
     "name": "stdout",
     "output_type": "stream",
     "text": [
      "epoch: 27, loss: 78.58829414844513\n",
      ">>> saving checkpoing\n",
      "['호', '0', '0', '4', '<end>']"
     ]
    },
    {
     "name": "stderr",
     "output_type": "stream",
     "text": [
      "\r",
      "0it [00:00, ?it/s]"
     ]
    },
    {
     "name": "stdout",
     "output_type": "stream",
     "text": [
      "\n",
      "<start>06모1297<end>\n",
      "\n"
     ]
    },
    {
     "name": "stderr",
     "output_type": "stream",
     "text": [
      "81it [07:12,  5.34s/it]\n"
     ]
    },
    {
     "name": "stdout",
     "output_type": "stream",
     "text": [
      "epoch: 28, loss: 78.43253004550934\n",
      ">>> saving checkpoing\n"
     ]
    },
    {
     "name": "stderr",
     "output_type": "stream",
     "text": [
      "\r",
      "0it [00:00, ?it/s]"
     ]
    },
    {
     "name": "stdout",
     "output_type": "stream",
     "text": [
      "['9', '<end>']\n",
      "<start>06모1297<end>\n",
      "\n"
     ]
    },
    {
     "name": "stderr",
     "output_type": "stream",
     "text": [
      "81it [07:48,  5.79s/it]\n"
     ]
    },
    {
     "name": "stdout",
     "output_type": "stream",
     "text": [
      "epoch: 29, loss: 78.36071783304214\n",
      ">>> saving checkpoing\n",
      "['9', '0', '<end>']"
     ]
    },
    {
     "name": "stderr",
     "output_type": "stream",
     "text": [
      "\r",
      "0it [00:00, ?it/s]"
     ]
    },
    {
     "name": "stdout",
     "output_type": "stream",
     "text": [
      "\n",
      "<start>06모1297<end>\n",
      "\n"
     ]
    },
    {
     "name": "stderr",
     "output_type": "stream",
     "text": [
      "81it [09:58,  7.39s/it]\n",
      "0it [00:00, ?it/s]"
     ]
    },
    {
     "name": "stdout",
     "output_type": "stream",
     "text": [
      "epoch: 30, loss: 78.59089982509613\n",
      ">>> saving checkpoing\n",
      "['버', '오', '나', '나', '나', '나', '조', '조']\n",
      "<start>06모1297<end>\n",
      "\n"
     ]
    },
    {
     "name": "stderr",
     "output_type": "stream",
     "text": [
      "81it [08:49,  6.54s/it]\n",
      "0it [00:00, ?it/s]"
     ]
    },
    {
     "name": "stdout",
     "output_type": "stream",
     "text": [
      "epoch: 31, loss: 77.58725446462631\n",
      ">>> saving checkpoing\n",
      "['주', '오', '너', '너', '나', '9', '7', '<end>']\n",
      "<start>06모1297<end>\n",
      "\n"
     ]
    },
    {
     "name": "stderr",
     "output_type": "stream",
     "text": [
      "81it [08:45,  6.49s/it]\n"
     ]
    },
    {
     "name": "stdout",
     "output_type": "stream",
     "text": [
      "epoch: 32, loss: 77.48627364635468\n",
      ">>> saving checkpoing\n",
      "['주', '조', '마', '오', '오', '오', '오', '오']\n",
      "<start>06모1297<end>\n",
      "\n"
     ]
    },
    {
     "name": "stderr",
     "output_type": "stream",
     "text": [
      "81it [09:32,  7.07s/it]\n"
     ]
    },
    {
     "name": "stdout",
     "output_type": "stream",
     "text": [
      "epoch: 33, loss: 77.74176013469696\n",
      ">>> saving checkpoing\n",
      "['호', '조', '나', '오', '다', '다', '다', '다']\n",
      "<start>06모"
     ]
    },
    {
     "name": "stderr",
     "output_type": "stream",
     "text": [
      "\r",
      "0it [00:00, ?it/s]"
     ]
    },
    {
     "name": "stdout",
     "output_type": "stream",
     "text": [
      "1297<end>\n",
      "\n"
     ]
    },
    {
     "name": "stderr",
     "output_type": "stream",
     "text": [
      "81it [10:42,  7.94s/it]\n",
      "0it [00:00, ?it/s]"
     ]
    },
    {
     "name": "stdout",
     "output_type": "stream",
     "text": [
      "epoch: 34, loss: 77.56473100185394\n",
      ">>> saving checkpoing\n",
      "['버', '주', '4', '4', '<end>']\n",
      "<start>06모1297<end>\n",
      "\n"
     ]
    },
    {
     "name": "stderr",
     "output_type": "stream",
     "text": [
      "81it [11:57,  8.86s/it]\n"
     ]
    },
    {
     "name": "stdout",
     "output_type": "stream",
     "text": [
      "epoch: 35, loss: 76.98919636011124\n",
      ">>> saving checkpoing\n"
     ]
    },
    {
     "name": "stderr",
     "output_type": "stream",
     "text": [
      "\r",
      "0it [00:00, ?it/s]"
     ]
    },
    {
     "name": "stdout",
     "output_type": "stream",
     "text": [
      "['너', '주', '4', '버', '8', '8', '<end>']\n",
      "<start>06모1297<end>\n",
      "\n"
     ]
    },
    {
     "name": "stderr",
     "output_type": "stream",
     "text": [
      "81it [09:34,  7.10s/it]\n",
      "0it [00:00, ?it/s]"
     ]
    },
    {
     "name": "stdout",
     "output_type": "stream",
     "text": [
      "epoch: 36, loss: 77.3264462351799\n",
      ">>> saving checkpoing\n",
      "['너', '1', '4', '8', '8', '<end>']\n",
      "<start>06모1297<end>\n",
      "\n"
     ]
    },
    {
     "name": "stderr",
     "output_type": "stream",
     "text": [
      "81it [08:06,  6.00s/it]\n",
      "0it [00:00, ?it/s]"
     ]
    },
    {
     "name": "stdout",
     "output_type": "stream",
     "text": [
      "epoch: 37, loss: 76.82195454835892\n",
      ">>> saving checkpoing\n",
      "['노', '라', '나', '나', '8', '오', '<end>']\n",
      "<start>06모1297<end>\n",
      "\n"
     ]
    },
    {
     "name": "stderr",
     "output_type": "stream",
     "text": [
      "81it [09:32,  7.07s/it]\n",
      "0it [00:00, ?it/s]"
     ]
    },
    {
     "name": "stdout",
     "output_type": "stream",
     "text": [
      "epoch: 38, loss: 76.85344737768173\n",
      ">>> saving checkpoing\n",
      "['너', '라', '나', '8', '8', '8', '<end>']\n",
      "<start>06모1297<end>\n",
      "\n"
     ]
    },
    {
     "name": "stderr",
     "output_type": "stream",
     "text": [
      "71it [08:26, 17.04s/it]"
     ]
    }
   ],
   "source": [
    "if load_model:\n",
    "    load_checkpoint(checkpoint)\n",
    "\n",
    "for img, caption in test_loder:\n",
    "    sample_img = img[0]\n",
    "    sample_caption = caption[0]\n",
    "    break\n",
    "    \n",
    "for epo in range(4, epoch):\n",
    "    running_loss = 0\n",
    "    \n",
    "    model.train()\n",
    "    for idx, (image, caption) in tqdm(enumerate(train_loder)):\n",
    "        image = image.to(device)\n",
    "        caption = caption.type(torch.LongTensor).to(device)\n",
    "\n",
    "        output = model(image, caption)   \n",
    "        result = output.reshape(-1, output.shape[2])\n",
    "        target = caption[:, 1:].reshape(-1)\n",
    "        loss = criterion(result, target)\n",
    "    \n",
    "        predicted = [each.argmax(1) for each in output]\n",
    "        predicted_ = torch.stack(predicted)\n",
    "        correct = caption[:, 1:]\n",
    "\n",
    "        optimizer.zero_grad()\n",
    "        loss.backward()\n",
    "        optimizer.step()\n",
    "        \n",
    "        running_loss += loss.item()\n",
    "        \n",
    "    print(f'epoch: {epo}, loss: {running_loss}')\n",
    "    checkpoint = {'state_dict': model.state_dict(), 'optimizer': optimizer.state_dict()}\n",
    "    save_checkpoint(checkpoint, epo)\n",
    "    \n",
    "    model.eval()\n",
    "    with torch.no_grad():\n",
    "        res = model.sample_caption(sample_img, vocab)\n",
    "        print(res)\n",
    "        for each in sample_caption:\n",
    "            print(vocab.idx2word[each.item()], end='')\n",
    "        print('\\n')"
   ]
  },
  {
   "cell_type": "markdown",
   "metadata": {},
   "source": [
    "- 결과가 처음에 2번째 step만에 끝내버리던 것이 step을 점점 더 잘 보고 키우고있습니다.\n",
    "\n",
    "- sample test결과가 안좋은 이유에 대해서는 2가지 개선 예정 입니다.\n",
    "    - CNN을 pretrained 시켜서 적용해보는 방법\n",
    "    - CNN의 구조를 fancy하게 바꾸는 방법\n",
    "\n",
    "- 30 epoch만에 2 step-> 6 step으로 왔는데 개선이 필요해한 것 같습니다.\n",
    "\n",
    "- 오늘 study중 구현 방법에서 CNN 으로만 구현, feature map의 channel을 seq_length에 맞춰서 예측해보는 방법도 적용해 볼 예정입니다."
   ]
  }
 ],
 "metadata": {
  "kernelspec": {
   "display_name": "torch",
   "language": "python",
   "name": "torch"
  },
  "language_info": {
   "codemirror_mode": {
    "name": "ipython",
    "version": 3
   },
   "file_extension": ".py",
   "mimetype": "text/x-python",
   "name": "python",
   "nbconvert_exporter": "python",
   "pygments_lexer": "ipython3",
   "version": "3.6.10"
  }
 },
 "nbformat": 4,
 "nbformat_minor": 4
}
