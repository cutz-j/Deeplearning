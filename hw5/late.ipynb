{
  "nbformat": 4,
  "nbformat_minor": 0,
  "metadata": {
    "colab": {
      "name": "late.ipynb",
      "provenance": [],
      "collapsed_sections": []
    },
    "kernelspec": {
      "name": "python3",
      "display_name": "Python 3"
    },
    "accelerator": "GPU"
  },
  "cells": [
    {
      "cell_type": "code",
      "metadata": {
        "id": "RKaHylrQc5S3",
        "colab_type": "code",
        "colab": {
          "base_uri": "https://localhost:8080/",
          "height": 124
        },
        "outputId": "321d0187-31cb-4612-c60a-b3a0d5451c9d"
      },
      "source": [
        "from google.colab import drive\n",
        "drive.mount('./gdrive')"
      ],
      "execution_count": 1,
      "outputs": [
        {
          "output_type": "stream",
          "text": [
            "Go to this URL in a browser: https://accounts.google.com/o/oauth2/auth?client_id=947318989803-6bn6qk8qdgf4n4g3pfee6491hc0brc4i.apps.googleusercontent.com&redirect_uri=urn%3aietf%3awg%3aoauth%3a2.0%3aoob&scope=email%20https%3a%2f%2fwww.googleapis.com%2fauth%2fdocs.test%20https%3a%2f%2fwww.googleapis.com%2fauth%2fdrive%20https%3a%2f%2fwww.googleapis.com%2fauth%2fdrive.photos.readonly%20https%3a%2f%2fwww.googleapis.com%2fauth%2fpeopleapi.readonly&response_type=code\n",
            "\n",
            "Enter your authorization code:\n",
            "4/3wEUHnZuZwqf8c-p214xM8MmA0eQixhVLCD9gFNfrw3_wCpbnooJYWE\n",
            "Mounted at ./gdrive\n"
          ],
          "name": "stdout"
        }
      ]
    },
    {
      "cell_type": "code",
      "metadata": {
        "id": "26jRcNqtYldP",
        "colab_type": "code",
        "colab": {
          "base_uri": "https://localhost:8080/",
          "height": 191
        },
        "outputId": "d21abc8f-837e-449a-bb66-69f4e1dbfe22"
      },
      "source": [
        "!ls\n",
        "%cd skk_CS231_study/\n",
        "\n",
        "# %cd ."
      ],
      "execution_count": 14,
      "outputs": [
        {
          "output_type": "stream",
          "text": [
            " AIChallenge_project\t   PerspectiveImages_cleaning\n",
            " 이상행동cctv_제안서.png   poseEstimation_YOLOv3\n",
            " CS231.zip\t\t   skk_CS231_study\n",
            " data\t\t\t   Untitled0.ipynb\n",
            " DFD_STUDY\t\t  'Untitled Diagram (1).png'\n",
            " emnist\t\t\t  'Untitled Diagram (2).png'\n",
            " FaceObjectDetect.py\t  'Untitled Diagram.drawio'\n",
            " HAI_anomalyDtec\t  'Untitled Diagram.png'\n",
            " PerspectiveImages\t   xception\n",
            "/content/gdrive/My Drive/skk_CS231_study\n"
          ],
          "name": "stdout"
        }
      ]
    },
    {
      "cell_type": "markdown",
      "metadata": {
        "id": "SyDDL_2bweWf",
        "colab_type": "text"
      },
      "source": [
        "## ***Train Data set 구축 및 전처리***"
      ]
    },
    {
      "cell_type": "code",
      "metadata": {
        "id": "I33QN4Trd8-A",
        "colab_type": "code",
        "colab": {
          "base_uri": "https://localhost:8080/",
          "height": 34
        },
        "outputId": "c0e5c6be-dc54-495f-ade6-4641467edef5"
      },
      "source": [
        "import cv2\n",
        "import matplotlib.pyplot as plt\n",
        "\n",
        "\n",
        "def detect_num(contours):\n",
        "    # print(len(contours))\n",
        "    box=[]\n",
        "    for i in range(len(contours)):\n",
        "        cnt = contours[i]\n",
        "        area = cv2.contourArea(cnt)\n",
        "        x,y,w,h = cv2.boundingRect(cnt)\n",
        "        rect_area = w*h\n",
        "        aspect_ratio = float(w)/h\n",
        "        if rect_area>=600 and rect_area<=900:\n",
        "            cv2.rectangle(img,(x,y),(x+w,y+h),(0,255,0),1)\n",
        "            rect_coord = (cv2.boundingRect(cnt))\n",
        "            if box and box[-1][0] == rect_coord[0]:\n",
        "                continue\n",
        "            else:\n",
        "                box.append(rect_coord)\n",
        "    box = sorted(box)\n",
        "    print(box)\n",
        "    return box\n",
        "\n",
        "params = list(net.parameters())\n",
        "print(params[0].size())"
      ],
      "execution_count": null,
      "outputs": [
        {
          "output_type": "stream",
          "text": [
            "torch.Size([6, 3, 3, 3])\n"
          ],
          "name": "stdout"
        }
      ]
    },
    {
      "cell_type": "code",
      "metadata": {
        "id": "FQ3Z4kS-y1wa",
        "colab_type": "code",
        "colab": {}
      },
      "source": [
        "x = [28,50,73,109,131,152,172]\n",
        "y = 32\n",
        "cnt =0\n",
        "lamb_check_coord = lambda x, coord : x<coord[0]+coord[2] and x>coord[0] and 32<coord[1]+coord[3] and 32>coord[1] and coord[3]>coord[2]\n",
        "def save_coord_respectively(coordbox,img,num_name,str_name):\n",
        "    print(\"save_coord_respectively\")\n",
        "    global x,y,cnt\n",
        "    name=\"\"\n",
        "    for coord in (coordbox):\n",
        "        for j in range(len(x)):\n",
        "            if lamb_check_coord(x[j],coord):\n",
        "                if (num_name[j]!=-1):\n",
        "                    name = str(num_name[j])\n",
        "                else:\n",
        "                    name = str_name\n",
        "                try:\n",
        "                    name = name+'_'+datetime.datetime.now().strftime(\"%y%m%d_%H%M%S\")\n",
        "                    while (name+'.jpg' in os.listdir('.//train__//')):\n",
        "                        name +='_'\n",
        "                    cv2.imwrite('.//train__//'+ name+'.jpg',img[coord[1]:coord[1]+coord[3],coord[0]:coord[0]+coord[2]])\n",
        "                    print(cnt)\n",
        "                    cnt+=1\n",
        "                except:\n",
        "                    \"error\""
      ],
      "execution_count": null,
      "outputs": []
    },
    {
      "cell_type": "code",
      "metadata": {
        "id": "gyqFYwxYxo8c",
        "colab_type": "code",
        "colab": {
          "base_uri": "https://localhost:8080/",
          "height": 870
        },
        "outputId": "701c5681-7c4b-4a08-cd98-9845af04cc00"
      },
      "source": [
        "import cv2\n",
        "import copy\n",
        "import os\n",
        "import matplotlib.pyplot as plt\n",
        "import datetime\n",
        "path = \"./PerspectiveImages_cleaning\"\n",
        "pps = os.listdir(\"./PerspectiveImages_cleaning\")\n",
        "file_cnt=0\n",
        "print(len(pps))\n",
        "contours_arr = []\n",
        "\n",
        "for n in (pps):\n",
        "    path_=os.path.join(path,n)\n",
        "    s = path_.split(\"/\")[2].split('.')[0]\n",
        "    if len(s)!=8:continue\n",
        "    num_name=[]\n",
        "    str_name=''\n",
        "    for i in range(len(s)):\n",
        "        if(s[i]<='9' and s[i]>='0'):\n",
        "            num_name.append(s[i])\n",
        "        else:\n",
        "            str_name+=s[i]\n",
        "    num_name.insert(2,-1)\n",
        "    img = cv2.imread(path_,0)\n",
        "    img_origin = copy.deepcopy(img)\n",
        "    img = cv2.adaptiveThreshold(img, 255, cv2.ADAPTIVE_THRESH_GAUSSIAN_C , cv2.THRESH_BINARY, 201, 2)\n",
        "    blur = cv2.GaussianBlur(img,(3,3),0)\n",
        "    canny = cv2.Canny(blur,0,250)\n",
        "    contours, _ = cv2.findContours(canny, cv2.RETR_TREE, cv2.CHAIN_APPROX_SIMPLE)\n",
        "    box = detect_num(contours)\n",
        "\n",
        "    name_cnt =0\n",
        "    save_coord_respectively(box,img_origin, num_name,str_name)\n",
        "    file_cnt+=1\n",
        "    break"
      ],
      "execution_count": null,
      "outputs": [
        {
          "output_type": "stream",
          "text": [
            "628\n",
            "[(64, 18, 19, 35), (101, 14, 17, 43), (125, 15, 15, 42)]\n",
            "save_coord_respectively\n",
            "sfd\n"
          ],
          "name": "stdout"
        },
        {
          "output_type": "display_data",
          "data": {
            "image/png": "[encoded data removed]",
            "text/plain": [
              "<Figure size 432x288 with 1 Axes>"
            ]
          },
          "metadata": {
            "tags": [],
            "needs_background": "light"
          }
        },
        {
          "output_type": "stream",
          "text": [
            "sfd\n"
          ],
          "name": "stdout"
        },
        {
          "output_type": "display_data",
          "data": {
            "image/png": "[encoded data removed]",
            "text/plain": [
              "<Figure size 432x288 with 1 Axes>"
            ]
          },
          "metadata": {
            "tags": [],
            "needs_background": "light"
          }
        },
        {
          "output_type": "stream",
          "text": [
            "sfd\n"
          ],
          "name": "stdout"
        },
        {
          "output_type": "display_data",
          "data": {
            "image/png": "[encoded data removed]",
            "text/plain": [
              "<Figure size 432x288 with 1 Axes>"
            ]
          },
          "metadata": {
            "tags": [],
            "needs_background": "light"
          }
        }
      ]
    },
    {
      "cell_type": "markdown",
      "metadata": {
        "id": "SwrGTLH1fhH3",
        "colab_type": "text"
      },
      "source": [
        ""
      ]
    },
    {
      "cell_type": "markdown",
      "metadata": {
        "id": "EpiuVv59wxhq",
        "colab_type": "text"
      },
      "source": [
        ""
      ]
    },
    {
      "cell_type": "markdown",
      "metadata": {
        "id": "UOjmc5gqwyUN",
        "colab_type": "text"
      },
      "source": [
        "## ***val 데이터 셋 구축***"
      ]
    },
    {
      "cell_type": "code",
      "metadata": {
        "id": "_sEyLgN5pmnx",
        "colab_type": "code",
        "colab": {}
      },
      "source": [
        "import os\n",
        "import matplotlib.pyplot as plt\n",
        "CROP_DATA = [(15, 5, 25, 55), (38, 5, 25, 55), (60, 10, 25, 45),(60, 10, 25, 45), (95, 10, 25, 50), (115, 10, 28, 50), (140, 5, 25, 52), (160, 7, 22, 50)]\n",
        "\n",
        "path = './val__/'\n",
        "file_list = os.listdir(path)\n",
        "# print(file_list)\n",
        "for i in range(len(file_list)):\n",
        "    # if i!=1 :continue\n",
        "    file_name = path+file_list[i]\n",
        "    if '.jpg' not in file_name:\n",
        "        continue\n",
        "    img = cv2.imread(file_name)\n",
        "    for IND in range(8):\n",
        "        char_file = file_list[i][IND]\n",
        "        if(char_file >='6') :continue\n",
        "        print (file_list[i])\n",
        "        _ = '_'\n",
        "        if IND==2 or IND==3 :\n",
        "            # print(IND)\n",
        "            continue\n",
        "        while (char_file+_+file_list[i] in os.listdir('./val__/'+char_file)):\n",
        "            _ +='_'\n",
        "        cv2.imwrite('./val__//'+char_file+'//'+char_file+_+file_list[i],img[CROP_DATA[IND][1]:CROP_DATA[IND][1]+CROP_DATA[IND][3],\n",
        "                CROP_DATA[IND][0]:CROP_DATA[IND][0]+CROP_DATA[IND][2]\n",
        "                ])"
      ],
      "execution_count": null,
      "outputs": []
    },
    {
      "cell_type": "markdown",
      "metadata": {
        "id": "OLvy7vBEz9G6",
        "colab_type": "text"
      },
      "source": [
        "## ***Data Loader(train,validation) & Building Datasets***\n"
      ]
    },
    {
      "cell_type": "code",
      "metadata": {
        "id": "QbWZzMx4dKbW",
        "colab_type": "code",
        "colab": {}
      },
      "source": [
        "from torchvision import transforms\n",
        "import torchvision\n",
        "import numpy as np\n",
        "from scipy.ndimage.filters import gaussian_filter\n",
        "from PIL import Image\n",
        "\n",
        "def gaussian_blur(img, sigma):\n",
        "    gaussian_filter(img[:,:,0], output=img[:,:,0], sigma=sigma)\n",
        "    gaussian_filter(img[:,:,1], output=img[:,:,1], sigma=sigma)\n",
        "    gaussian_filter(img[:,:,2], output=img[:,:,2], sigma=sigma)\n",
        "\n",
        "def data_augment(img):\n",
        "    img = np.array(img)\n",
        "    if np.random.random() < .5:\n",
        "        sig = np.random.uniform(0.0, 3.0)\n",
        "        gaussian_blur(img, sig)\n",
        "\n",
        "    return Image.fromarray(img)\n",
        "\n",
        "train_aug = transforms.Compose([\n",
        "    transforms.Lambda(lambda img: data_augment(img)),##undefitting시 주석할 것\n",
        "    transforms.Resize((32,32)),\n",
        "    transforms.ToTensor(),\n",
        "    transforms.RandomErasing(p=0.1, scale=(0.02, 0.10), ratio=(0.3, 3.3), value=0, inplace=True),\n",
        "])\n",
        "val_aug = transforms.Compose([\n",
        "    # transforms.Lambda(lambda img: data_augment(img)),##undefitting시 주석할 것\n",
        "    transforms.Resize((32,32)),\n",
        "    transforms.ToTensor(),\n",
        "    # transforms.RandomErasing(p=0.1, scale=(0.02, 0.10), ratio=(0.3, 3.3), value=0, inplace=True),\n",
        "])\n",
        "trainset = torchvision.datasets.ImageFolder(root = './train__',\n",
        "                                           transform = train_aug)\n",
        "valset = torchvision.datasets.ImageFolder(root = './val__',transform= train_aug)"
      ],
      "execution_count": 15,
      "outputs": []
    },
    {
      "cell_type": "markdown",
      "metadata": {
        "id": "l1w2KjldziNk",
        "colab_type": "text"
      },
      "source": [
        ""
      ]
    },
    {
      "cell_type": "markdown",
      "metadata": {
        "id": "Vx9jwY_4xIgi",
        "colab_type": "text"
      },
      "source": [
        "Train / Validation Loader 구축 및 DataSet생성"
      ]
    },
    {
      "cell_type": "code",
      "metadata": {
        "id": "UYCkr1LElai6",
        "colab_type": "code",
        "colab": {}
      },
      "source": [
        "from torch.utils.data import Dataset, DataLoader\n",
        "trainloader = DataLoader(trainset,batch_size=29,shuffle=True,num_workers=4)\n",
        "valloader = DataLoader(valset,batch_size=29,shuffle=False,num_workers=4)\n"
      ],
      "execution_count": 83,
      "outputs": []
    },
    {
      "cell_type": "markdown",
      "metadata": {
        "id": "VkhqCrnkz2ON",
        "colab_type": "text"
      },
      "source": [
        "Model"
      ]
    },
    {
      "cell_type": "code",
      "metadata": {
        "id": "9nR-xoORFeHw",
        "colab_type": "code",
        "colab": {
          "base_uri": "https://localhost:8080/",
          "height": 156
        },
        "outputId": "db5e55a9-17bf-4646-ae3e-34f630f0ad65"
      },
      "source": [
        "import torch\n",
        "import torch.nn as nn\n",
        "import torch.nn.functional as F\n",
        "\n",
        "\n",
        "# class Net(nn.Module):\n",
        "\n",
        "#     def __init__(self):\n",
        "#         super(Net, self).__init__()\n",
        "#         # 1 input image channel, 6 output channels, 3x3 square convolution\n",
        "#         # kernel\n",
        "#         self.conv1 = nn.Conv2d(3, 6, 3)\n",
        "#         self.conv2 = nn.Conv2d(6, 16, 3)\n",
        "#         # an affine operation: y = Wx + b\n",
        "#         self.fc1 = nn.Linear(16 * 6 * 6, 128)  # 6*6 from image dimension\n",
        "#         self.fc2 = nn.Linear(128, 256)\n",
        "#         # self.bn1 = nn.BatchNorm2d(84)\n",
        "#         self.fc3 = nn.Linear(256, 128)\n",
        "#         self.fc4 = nn.Linear(128, 10)\n",
        "\n",
        "#     def forward(self, x):\n",
        "#         # Max pooling over a (2, 2) window\n",
        "#         x = F.max_pool2d(F.relu(self.conv1(x)), (2, 2))\n",
        "#         # If the size is a square you can only specify a single number\n",
        "#         x = F.max_pool2d(F.relu(self.conv2(x)), 2)\n",
        "#         x = x.view(-1, self.num_flat_features(x))\n",
        "#         x = F.relu(self.fc1(x))\n",
        "#         x = F.relu(self.fc2(x))\n",
        "#         x = F.relu(self.fc3(x))\n",
        "#         x = F.relu(self.fc4(x))\n",
        "\n",
        "#         # y = F.softmax(self.fc4(x), dim=1)\n",
        "#         return x\n",
        "\n",
        "#     def num_flat_features(self, x):\n",
        "#         size = x.size()[1:]  # all dimensions except the batch dimension\n",
        "#         num_features = 1\n",
        "#         for s in size:\n",
        "#             num_features *= s\n",
        "#         return num_features\n",
        "\n",
        "\n",
        "class CNNClassifier(nn.Module):\n",
        "    \n",
        "    def __init__(self):\n",
        "        # 항상 torch.nn.Module을 상속받고 시작\n",
        "        super(CNNClassifier, self).__init__()\n",
        "        self.conv1 = nn.Conv2d(3,10,5)\n",
        "        self.pool1 = nn.MaxPool2d(2,2)\n",
        "        self.conv2 = nn.Conv2d(10,20,5)\n",
        "        self.pool2 = nn.MaxPool2d(2,2)\n",
        "        self.fc1 = nn.Linear(960,50)\n",
        "        self.fc2 = nn.Linear(50,10)\n",
        "        \n",
        "    def forward(self, x):\n",
        "        x = self.pool1(F.relu(self.conv1(input)))\n",
        "        x = self.pool2(F.relu(self.conv2(x)))\n",
        "        x = x.view(x.size(0),-1)\n",
        "        x = F.relu(self.fc1(x))\n",
        "        x = F.relu(self.fc2(x))\n",
        "        return x\n",
        "    def num_flat_features(self, x):\n",
        "        size = x.size()[1:]  # all dimensions except the batch dimension\n",
        "        num_features = 1\n",
        "        for s in size:\n",
        "            num_features *= s\n",
        "        return num_features\n",
        "net = CNNClassifier().cuda()\n",
        "print(net)\n"
      ],
      "execution_count": 79,
      "outputs": [
        {
          "output_type": "stream",
          "text": [
            "CNNClassifier(\n",
            "  (conv1): Conv2d(3, 10, kernel_size=(5, 5), stride=(1, 1))\n",
            "  (pool1): MaxPool2d(kernel_size=2, stride=2, padding=0, dilation=1, ceil_mode=False)\n",
            "  (conv2): Conv2d(10, 20, kernel_size=(5, 5), stride=(1, 1))\n",
            "  (pool2): MaxPool2d(kernel_size=2, stride=2, padding=0, dilation=1, ceil_mode=False)\n",
            "  (fc1): Linear(in_features=960, out_features=50, bias=True)\n",
            "  (fc2): Linear(in_features=50, out_features=10, bias=True)\n",
            ")\n"
          ],
          "name": "stdout"
        }
      ]
    },
    {
      "cell_type": "code",
      "metadata": {
        "id": "leoRRBO6mkVD",
        "colab_type": "code",
        "colab": {}
      },
      "source": [
        "import torch.optim as optim\n",
        "import cv2\n",
        "optimizer = optim.Adam(net.parameters(), lr=0.004)\n",
        "criterion = nn.CrossEntropyLoss().cuda()"
      ],
      "execution_count": 81,
      "outputs": []
    },
    {
      "cell_type": "markdown",
      "metadata": {
        "id": "s7dvNGP7zv42",
        "colab_type": "text"
      },
      "source": [
        "train Model"
      ]
    },
    {
      "cell_type": "code",
      "metadata": {
        "id": "NaYBrgA8J8AT",
        "colab_type": "code",
        "colab": {
          "base_uri": "https://localhost:8080/",
          "height": 384
        },
        "outputId": "aba67513-b59f-4d38-b7e6-3da859bc685e"
      },
      "source": [
        "nb_epochs = 2000\n",
        "net.train()\n",
        "for epoch in range(nb_epochs+1):\n",
        "    total,correct=0,0\n",
        "    \n",
        "    for idx, (x_train, y_train) in enumerate(trainloader):\n",
        "        x_train,y_train = x_train.cuda(),y_train.cuda()\n",
        "        prediction = net(x_train)\n",
        "        loss = criterion(prediction, y_train)\n",
        "        _, predicted = torch.max(prediction.data, 1)\n",
        "        total += y_train.size(0)\n",
        "        correct += (predicted == y_train).sum().item()\n",
        "        # init gradient 0\n",
        "        optimizer.zero_grad()\n",
        "        loss.backward()\n",
        "        # W b Update\n",
        "        optimizer.step()\n",
        "        if idx%50==0:\n",
        "            print('Train Epoch: {} [{}/{} ({:.0f}%)]\\tLoss: {:.6f}'.format(\n",
        "                epoch, idx * len(x_train), len(trainloader.dataset),100. * idx / len(trainloader), loss.item()))\n",
        "            print(\"accuracy = {}\".format(correct*100/total))\n"
      ],
      "execution_count": 84,
      "outputs": [
        {
          "output_type": "error",
          "ename": "TypeError",
          "evalue": "ignored",
          "traceback": [
            "\u001b[0;31m---------------------------------------------------------------------------\u001b[0m",
            "\u001b[0;31mTypeError\u001b[0m                                 Traceback (most recent call last)",
            "\u001b[0;32m<ipython-input-84-09b3c891c06c>\u001b[0m in \u001b[0;36m<module>\u001b[0;34m()\u001b[0m\n\u001b[1;32m      6\u001b[0m     \u001b[0;32mfor\u001b[0m \u001b[0midx\u001b[0m\u001b[0;34m,\u001b[0m \u001b[0;34m(\u001b[0m\u001b[0mx_train\u001b[0m\u001b[0;34m,\u001b[0m \u001b[0my_train\u001b[0m\u001b[0;34m)\u001b[0m \u001b[0;32min\u001b[0m \u001b[0menumerate\u001b[0m\u001b[0;34m(\u001b[0m\u001b[0mtrainloader\u001b[0m\u001b[0;34m)\u001b[0m\u001b[0;34m:\u001b[0m\u001b[0;34m\u001b[0m\u001b[0;34m\u001b[0m\u001b[0m\n\u001b[1;32m      7\u001b[0m         \u001b[0mx_train\u001b[0m\u001b[0;34m,\u001b[0m\u001b[0my_train\u001b[0m \u001b[0;34m=\u001b[0m \u001b[0mx_train\u001b[0m\u001b[0;34m.\u001b[0m\u001b[0mcuda\u001b[0m\u001b[0;34m(\u001b[0m\u001b[0;34m)\u001b[0m\u001b[0;34m,\u001b[0m\u001b[0my_train\u001b[0m\u001b[0;34m.\u001b[0m\u001b[0mcuda\u001b[0m\u001b[0;34m(\u001b[0m\u001b[0;34m)\u001b[0m\u001b[0;34m\u001b[0m\u001b[0;34m\u001b[0m\u001b[0m\n\u001b[0;32m----> 8\u001b[0;31m         \u001b[0mprediction\u001b[0m \u001b[0;34m=\u001b[0m \u001b[0mnet\u001b[0m\u001b[0;34m(\u001b[0m\u001b[0mx_train\u001b[0m\u001b[0;34m)\u001b[0m\u001b[0;34m\u001b[0m\u001b[0;34m\u001b[0m\u001b[0m\n\u001b[0m\u001b[1;32m      9\u001b[0m         \u001b[0mloss\u001b[0m \u001b[0;34m=\u001b[0m \u001b[0mcriterion\u001b[0m\u001b[0;34m(\u001b[0m\u001b[0mprediction\u001b[0m\u001b[0;34m,\u001b[0m \u001b[0my_train\u001b[0m\u001b[0;34m)\u001b[0m\u001b[0;34m\u001b[0m\u001b[0;34m\u001b[0m\u001b[0m\n\u001b[1;32m     10\u001b[0m         \u001b[0m_\u001b[0m\u001b[0;34m,\u001b[0m \u001b[0mpredicted\u001b[0m \u001b[0;34m=\u001b[0m \u001b[0mtorch\u001b[0m\u001b[0;34m.\u001b[0m\u001b[0mmax\u001b[0m\u001b[0;34m(\u001b[0m\u001b[0mprediction\u001b[0m\u001b[0;34m.\u001b[0m\u001b[0mdata\u001b[0m\u001b[0;34m,\u001b[0m \u001b[0;36m1\u001b[0m\u001b[0;34m)\u001b[0m\u001b[0;34m\u001b[0m\u001b[0;34m\u001b[0m\u001b[0m\n",
            "\u001b[0;32m/usr/local/lib/python3.6/dist-packages/torch/nn/modules/module.py\u001b[0m in \u001b[0;36m_call_impl\u001b[0;34m(self, *input, **kwargs)\u001b[0m\n\u001b[1;32m    720\u001b[0m             \u001b[0mresult\u001b[0m \u001b[0;34m=\u001b[0m \u001b[0mself\u001b[0m\u001b[0;34m.\u001b[0m\u001b[0m_slow_forward\u001b[0m\u001b[0;34m(\u001b[0m\u001b[0;34m*\u001b[0m\u001b[0minput\u001b[0m\u001b[0;34m,\u001b[0m \u001b[0;34m**\u001b[0m\u001b[0mkwargs\u001b[0m\u001b[0;34m)\u001b[0m\u001b[0;34m\u001b[0m\u001b[0;34m\u001b[0m\u001b[0m\n\u001b[1;32m    721\u001b[0m         \u001b[0;32melse\u001b[0m\u001b[0;34m:\u001b[0m\u001b[0;34m\u001b[0m\u001b[0;34m\u001b[0m\u001b[0m\n\u001b[0;32m--> 722\u001b[0;31m             \u001b[0mresult\u001b[0m \u001b[0;34m=\u001b[0m \u001b[0mself\u001b[0m\u001b[0;34m.\u001b[0m\u001b[0mforward\u001b[0m\u001b[0;34m(\u001b[0m\u001b[0;34m*\u001b[0m\u001b[0minput\u001b[0m\u001b[0;34m,\u001b[0m \u001b[0;34m**\u001b[0m\u001b[0mkwargs\u001b[0m\u001b[0;34m)\u001b[0m\u001b[0;34m\u001b[0m\u001b[0;34m\u001b[0m\u001b[0m\n\u001b[0m\u001b[1;32m    723\u001b[0m         for hook in itertools.chain(\n\u001b[1;32m    724\u001b[0m                 \u001b[0m_global_forward_hooks\u001b[0m\u001b[0;34m.\u001b[0m\u001b[0mvalues\u001b[0m\u001b[0;34m(\u001b[0m\u001b[0;34m)\u001b[0m\u001b[0;34m,\u001b[0m\u001b[0;34m\u001b[0m\u001b[0;34m\u001b[0m\u001b[0m\n",
            "\u001b[0;32m<ipython-input-79-ca66d5bc914a>\u001b[0m in \u001b[0;36mforward\u001b[0;34m(self, x)\u001b[0m\n\u001b[1;32m     54\u001b[0m \u001b[0;34m\u001b[0m\u001b[0m\n\u001b[1;32m     55\u001b[0m     \u001b[0;32mdef\u001b[0m \u001b[0mforward\u001b[0m\u001b[0;34m(\u001b[0m\u001b[0mself\u001b[0m\u001b[0;34m,\u001b[0m \u001b[0mx\u001b[0m\u001b[0;34m)\u001b[0m\u001b[0;34m:\u001b[0m\u001b[0;34m\u001b[0m\u001b[0;34m\u001b[0m\u001b[0m\n\u001b[0;32m---> 56\u001b[0;31m         \u001b[0mx\u001b[0m \u001b[0;34m=\u001b[0m \u001b[0mself\u001b[0m\u001b[0;34m.\u001b[0m\u001b[0mpool1\u001b[0m\u001b[0;34m(\u001b[0m\u001b[0mF\u001b[0m\u001b[0;34m.\u001b[0m\u001b[0mrelu\u001b[0m\u001b[0;34m(\u001b[0m\u001b[0mself\u001b[0m\u001b[0;34m.\u001b[0m\u001b[0mconv1\u001b[0m\u001b[0;34m(\u001b[0m\u001b[0minput\u001b[0m\u001b[0;34m)\u001b[0m\u001b[0;34m)\u001b[0m\u001b[0;34m)\u001b[0m\u001b[0;34m\u001b[0m\u001b[0;34m\u001b[0m\u001b[0m\n\u001b[0m\u001b[1;32m     57\u001b[0m         \u001b[0mx\u001b[0m \u001b[0;34m=\u001b[0m \u001b[0mself\u001b[0m\u001b[0;34m.\u001b[0m\u001b[0mpool2\u001b[0m\u001b[0;34m(\u001b[0m\u001b[0mF\u001b[0m\u001b[0;34m.\u001b[0m\u001b[0mrelu\u001b[0m\u001b[0;34m(\u001b[0m\u001b[0mself\u001b[0m\u001b[0;34m.\u001b[0m\u001b[0mconv2\u001b[0m\u001b[0;34m(\u001b[0m\u001b[0mx\u001b[0m\u001b[0;34m)\u001b[0m\u001b[0;34m)\u001b[0m\u001b[0;34m)\u001b[0m\u001b[0;34m\u001b[0m\u001b[0;34m\u001b[0m\u001b[0m\n\u001b[1;32m     58\u001b[0m         \u001b[0mx\u001b[0m \u001b[0;34m=\u001b[0m \u001b[0mx\u001b[0m\u001b[0;34m.\u001b[0m\u001b[0mview\u001b[0m\u001b[0;34m(\u001b[0m\u001b[0mx\u001b[0m\u001b[0;34m.\u001b[0m\u001b[0msize\u001b[0m\u001b[0;34m(\u001b[0m\u001b[0;36m0\u001b[0m\u001b[0;34m)\u001b[0m\u001b[0;34m,\u001b[0m\u001b[0;34m-\u001b[0m\u001b[0;36m1\u001b[0m\u001b[0;34m)\u001b[0m\u001b[0;34m\u001b[0m\u001b[0;34m\u001b[0m\u001b[0m\n",
            "\u001b[0;32m/usr/local/lib/python3.6/dist-packages/torch/nn/modules/module.py\u001b[0m in \u001b[0;36m_call_impl\u001b[0;34m(self, *input, **kwargs)\u001b[0m\n\u001b[1;32m    720\u001b[0m             \u001b[0mresult\u001b[0m \u001b[0;34m=\u001b[0m \u001b[0mself\u001b[0m\u001b[0;34m.\u001b[0m\u001b[0m_slow_forward\u001b[0m\u001b[0;34m(\u001b[0m\u001b[0;34m*\u001b[0m\u001b[0minput\u001b[0m\u001b[0;34m,\u001b[0m \u001b[0;34m**\u001b[0m\u001b[0mkwargs\u001b[0m\u001b[0;34m)\u001b[0m\u001b[0;34m\u001b[0m\u001b[0;34m\u001b[0m\u001b[0m\n\u001b[1;32m    721\u001b[0m         \u001b[0;32melse\u001b[0m\u001b[0;34m:\u001b[0m\u001b[0;34m\u001b[0m\u001b[0;34m\u001b[0m\u001b[0m\n\u001b[0;32m--> 722\u001b[0;31m             \u001b[0mresult\u001b[0m \u001b[0;34m=\u001b[0m \u001b[0mself\u001b[0m\u001b[0;34m.\u001b[0m\u001b[0mforward\u001b[0m\u001b[0;34m(\u001b[0m\u001b[0;34m*\u001b[0m\u001b[0minput\u001b[0m\u001b[0;34m,\u001b[0m \u001b[0;34m**\u001b[0m\u001b[0mkwargs\u001b[0m\u001b[0;34m)\u001b[0m\u001b[0;34m\u001b[0m\u001b[0;34m\u001b[0m\u001b[0m\n\u001b[0m\u001b[1;32m    723\u001b[0m         for hook in itertools.chain(\n\u001b[1;32m    724\u001b[0m                 \u001b[0m_global_forward_hooks\u001b[0m\u001b[0;34m.\u001b[0m\u001b[0mvalues\u001b[0m\u001b[0;34m(\u001b[0m\u001b[0;34m)\u001b[0m\u001b[0;34m,\u001b[0m\u001b[0;34m\u001b[0m\u001b[0;34m\u001b[0m\u001b[0m\n",
            "\u001b[0;32m/usr/local/lib/python3.6/dist-packages/torch/nn/modules/conv.py\u001b[0m in \u001b[0;36mforward\u001b[0;34m(self, input)\u001b[0m\n\u001b[1;32m    417\u001b[0m \u001b[0;34m\u001b[0m\u001b[0m\n\u001b[1;32m    418\u001b[0m     \u001b[0;32mdef\u001b[0m \u001b[0mforward\u001b[0m\u001b[0;34m(\u001b[0m\u001b[0mself\u001b[0m\u001b[0;34m,\u001b[0m \u001b[0minput\u001b[0m\u001b[0;34m:\u001b[0m \u001b[0mTensor\u001b[0m\u001b[0;34m)\u001b[0m \u001b[0;34m->\u001b[0m \u001b[0mTensor\u001b[0m\u001b[0;34m:\u001b[0m\u001b[0;34m\u001b[0m\u001b[0;34m\u001b[0m\u001b[0m\n\u001b[0;32m--> 419\u001b[0;31m         \u001b[0;32mreturn\u001b[0m \u001b[0mself\u001b[0m\u001b[0;34m.\u001b[0m\u001b[0m_conv_forward\u001b[0m\u001b[0;34m(\u001b[0m\u001b[0minput\u001b[0m\u001b[0;34m,\u001b[0m \u001b[0mself\u001b[0m\u001b[0;34m.\u001b[0m\u001b[0mweight\u001b[0m\u001b[0;34m)\u001b[0m\u001b[0;34m\u001b[0m\u001b[0;34m\u001b[0m\u001b[0m\n\u001b[0m\u001b[1;32m    420\u001b[0m \u001b[0;34m\u001b[0m\u001b[0m\n\u001b[1;32m    421\u001b[0m \u001b[0;32mclass\u001b[0m \u001b[0mConv3d\u001b[0m\u001b[0;34m(\u001b[0m\u001b[0m_ConvNd\u001b[0m\u001b[0;34m)\u001b[0m\u001b[0;34m:\u001b[0m\u001b[0;34m\u001b[0m\u001b[0;34m\u001b[0m\u001b[0m\n",
            "\u001b[0;32m/usr/local/lib/python3.6/dist-packages/torch/nn/modules/conv.py\u001b[0m in \u001b[0;36m_conv_forward\u001b[0;34m(self, input, weight)\u001b[0m\n\u001b[1;32m    414\u001b[0m                             _pair(0), self.dilation, self.groups)\n\u001b[1;32m    415\u001b[0m         return F.conv2d(input, weight, self.bias, self.stride,\n\u001b[0;32m--> 416\u001b[0;31m                         self.padding, self.dilation, self.groups)\n\u001b[0m\u001b[1;32m    417\u001b[0m \u001b[0;34m\u001b[0m\u001b[0m\n\u001b[1;32m    418\u001b[0m     \u001b[0;32mdef\u001b[0m \u001b[0mforward\u001b[0m\u001b[0;34m(\u001b[0m\u001b[0mself\u001b[0m\u001b[0;34m,\u001b[0m \u001b[0minput\u001b[0m\u001b[0;34m:\u001b[0m \u001b[0mTensor\u001b[0m\u001b[0;34m)\u001b[0m \u001b[0;34m->\u001b[0m \u001b[0mTensor\u001b[0m\u001b[0;34m:\u001b[0m\u001b[0;34m\u001b[0m\u001b[0;34m\u001b[0m\u001b[0m\n",
            "\u001b[0;31mTypeError\u001b[0m: conv2d(): argument 'input' (position 1) must be Tensor, not method"
          ]
        }
      ]
    },
    {
      "cell_type": "markdown",
      "metadata": {
        "id": "8iSBRTTFzrGg",
        "colab_type": "text"
      },
      "source": [
        "Model test"
      ]
    },
    {
      "cell_type": "code",
      "metadata": {
        "id": "7c2ZOHt3K7Ax",
        "colab_type": "code",
        "colab": {
          "base_uri": "https://localhost:8080/",
          "height": 191
        },
        "outputId": "20eb2b14-2e67-41a9-b0b4-23853984da70"
      },
      "source": [
        "class_correct = list(0. for i in range(10))\n",
        "class_total = list(0. for i in range(10))\n",
        "net.eval()\n",
        "with torch.no_grad():\n",
        "    for data in valloader:\n",
        "        images, labels = data\n",
        "        images = images.cuda()\n",
        "        labels = labels.cuda()\n",
        "        # print(labels)\n",
        "        outputs = net(images)\n",
        "        _, predicted = torch.max(outputs, 1) # prediction\n",
        "        c = (predicted == labels).squeeze()\n",
        "        for i in range(len(labels)):\n",
        "            label = labels[i]\n",
        "            class_correct[label] += c[i].item()\n",
        "            class_total[label] += 1\n",
        "\n",
        "for i in range(10):\n",
        "    print('Accuracy of %5s : %2d %%' % (str(i), 100 * class_correct[i] / class_total[i]))"
      ],
      "execution_count": 22,
      "outputs": [
        {
          "output_type": "stream",
          "text": [
            "Accuracy of     0 : 53 %\n",
            "Accuracy of     1 :  0 %\n",
            "Accuracy of     2 : 60 %\n",
            "Accuracy of     3 : 46 %\n",
            "Accuracy of     4 : 66 %\n",
            "Accuracy of     5 : 27 %\n",
            "Accuracy of     6 : 53 %\n",
            "Accuracy of     7 :  0 %\n",
            "Accuracy of     8 :  0 %\n",
            "Accuracy of     9 :  0 %\n"
          ],
          "name": "stdout"
        }
      ]
    }
  ]
}