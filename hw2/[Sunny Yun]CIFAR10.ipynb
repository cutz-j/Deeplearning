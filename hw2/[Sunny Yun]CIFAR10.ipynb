{
  "nbformat": 4,
  "nbformat_minor": 0,
  "metadata": {
    "colab": {
      "name": "CIFAR10.ipynb",
      "provenance": []
    },
    "kernelspec": {
      "name": "python3",
      "display_name": "Python 3"
    }
  },
  "cells": [
    {
      "cell_type": "code",
      "metadata": {
        "id": "OMiPMMO_qRNt",
        "colab_type": "code",
        "colab": {
          "base_uri": "https://localhost:8080/",
          "height": 122
        },
        "outputId": "a44d1917-fa03-407f-b441-dd28babba08e"
      },
      "source": [
        "from keras.datasets import cifar10\n",
        "import numpy as np\n",
        "from google.colab import drive\n",
        "\n",
        "drive.mount('/content/drive', force_remount=True)"
      ],
      "execution_count": 1,
      "outputs": [
        {
          "output_type": "stream",
          "text": [
            "Go to this URL in a browser: https://accounts.google.com/o/oauth2/auth?client_id=947318989803-6bn6qk8qdgf4n4g3pfee6491hc0brc4i.apps.googleusercontent.com&redirect_uri=urn%3aietf%3awg%3aoauth%3a2.0%3aoob&response_type=code&scope=email%20https%3a%2f%2fwww.googleapis.com%2fauth%2fdocs.test%20https%3a%2f%2fwww.googleapis.com%2fauth%2fdrive%20https%3a%2f%2fwww.googleapis.com%2fauth%2fdrive.photos.readonly%20https%3a%2f%2fwww.googleapis.com%2fauth%2fpeopleapi.readonly\n",
            "\n",
            "Enter your authorization code:\n",
            "··········\n",
            "Mounted at /content/drive\n"
          ],
          "name": "stdout"
        }
      ]
    },
    {
      "cell_type": "code",
      "metadata": {
        "id": "07QTw1WmCQMK",
        "colab_type": "code",
        "colab": {}
      },
      "source": [
        "import tensorflow as tf\n",
        "from tensorflow.keras import layers\n",
        "import numpy as np\n",
        "from tensorflow.keras.utils import to_categorical\n",
        "from keras import regularizers \n",
        "from keras.callbacks import LearningRateScheduler"
      ],
      "execution_count": 2,
      "outputs": []
    },
    {
      "cell_type": "code",
      "metadata": {
        "id": "5E5lLpJtq_l8",
        "colab_type": "code",
        "colab": {
          "base_uri": "https://localhost:8080/",
          "height": 51
        },
        "outputId": "0913bacb-4926-41cb-804c-cc09c29c5510"
      },
      "source": [
        "(train_x, train_y), (test_x, test_y) = cifar10.load_data()\n",
        "train_x = train_x / 255.\n",
        "test_x = test_x / 255."
      ],
      "execution_count": 3,
      "outputs": [
        {
          "output_type": "stream",
          "text": [
            "Downloading data from https://www.cs.toronto.edu/~kriz/cifar-10-python.tar.gz\n",
            "170500096/170498071 [==============================] - 4s 0us/step\n"
          ],
          "name": "stdout"
        }
      ]
    },
    {
      "cell_type": "code",
      "metadata": {
        "id": "fQ8y5dNBrzBo",
        "colab_type": "code",
        "colab": {
          "base_uri": "https://localhost:8080/",
          "height": 34
        },
        "outputId": "2766671e-2b80-4c53-d810-aece3283cbfa"
      },
      "source": [
        "train_x.shape, train_y.shape"
      ],
      "execution_count": 4,
      "outputs": [
        {
          "output_type": "execute_result",
          "data": {
            "text/plain": [
              "((50000, 32, 32, 3), (50000, 1))"
            ]
          },
          "metadata": {
            "tags": []
          },
          "execution_count": 4
        }
      ]
    },
    {
      "cell_type": "code",
      "metadata": {
        "id": "pBQ07z4Pr5JH",
        "colab_type": "code",
        "colab": {}
      },
      "source": [
        "input_shape = train_x.shape[1:]\n",
        "num_classes = 10\n",
        "weight_decay = 1e-4\n",
        "learning_rate = 1e-3\n",
        "\n",
        "num_epochs = 30\n",
        "batch_size = 256"
      ],
      "execution_count": 37,
      "outputs": []
    },
    {
      "cell_type": "code",
      "metadata": {
        "id": "avA36vTSChOy",
        "colab_type": "code",
        "colab": {
          "base_uri": "https://localhost:8080/",
          "height": 34
        },
        "outputId": "46bc6bac-e903-4aa2-94b5-8f001175ec1a"
      },
      "source": [
        "tr_y = to_categorical(train_y, num_classes)\n",
        "te_y = to_categorical(test_y, num_classes)\n",
        "tr_y.shape, te_y.shape"
      ],
      "execution_count": 30,
      "outputs": [
        {
          "output_type": "execute_result",
          "data": {
            "text/plain": [
              "((50000, 10), (10000, 10))"
            ]
          },
          "metadata": {
            "tags": []
          },
          "execution_count": 30
        }
      ]
    },
    {
      "cell_type": "code",
      "metadata": {
        "id": "deImJ60Ftm5S",
        "colab_type": "code",
        "colab": {}
      },
      "source": [
        "inputs = layers.Input(input_shape)\n",
        "#net = layers.Conv2D(32, (3,3), padding='SAME',kernel_regularizer=regularizers.l2(weight_decay))(inputs)\n",
        "#net = layers.Activation('relu')(net)\n",
        "#net = layers.Conv2D(32, (3,3), padding='SAME',kernel_regularizer=regularizers.l2(weight_decay))(net)\n",
        "#net = layers.Activation('relu')(net)\n",
        "#net = layers.Conv2D(32, (3,3), padding='SAME',kernel_regularizer=regularizers.l2(weight_decay))(net)\n",
        "#net = layers.Activation('relu')(net)\n",
        "#net = layers.MaxPooling2D(pool_size=(2, 2))(net)\n",
        "#net = layers.Dropout(dropout_CNN)(net)\n",
        "\n",
        "net = layers.Conv2D(32, (3,3), padding='SAME',kernel_regularizer=regularizers.l2(weight_decay))(inputs)\n",
        "net = layers.Activation('relu')(net)\n",
        "net = layers.MaxPooling2D(pool_size=(2, 2))(net)\n",
        "net = layers.BatchNormalization()(net)\n",
        "net = layers.Conv2D(64, (3,3), padding='SAME',kernel_regularizer=regularizers.l2(weight_decay))(net)\n",
        "net = layers.Activation('relu')(net)\n",
        "net = layers.MaxPooling2D(pool_size=(2, 2))(net)\n",
        "net = layers.BatchNormalization()(net)\n",
        "net = layers.Conv2D(128, (3,3), padding='SAME')(net)\n",
        "net = layers.Activation('relu')(net)\n",
        "net = layers.MaxPooling2D(pool_size=(2, 2))(net)\n",
        "net = layers.BatchNormalization()(net)\n",
        "\n",
        "net = layers.Flatten()(net)\n",
        "net = layers.Dense(512)(net)\n",
        "net = layers.Activation('relu')(net)\n",
        "net = layers.Dropout(0.5)(net)\n",
        "net = layers.Dense(num_classes)(net)\n",
        "net = layers.Activation('softmax')(net)\n",
        "\n",
        "model = tf.keras.Model(inputs=inputs, outputs=net)"
      ],
      "execution_count": 34,
      "outputs": []
    },
    {
      "cell_type": "code",
      "metadata": {
        "id": "Y8ln8At1JiZK",
        "colab_type": "code",
        "colab": {}
      },
      "source": [
        "import functools\n",
        "top1_acc = functools.partial(tf.keras.metrics.top_k_categorical_accuracy, k=1)\n",
        "top1_acc.__name__ = 'top1_acc'\n",
        "top5_acc = functools.partial(tf.keras.metrics.top_k_categorical_accuracy, k=5)\n",
        "top5_acc.__name__ = 'top5_acc'\n",
        "model.compile(optimizer=tf.keras.optimizers.Adam(lr=learning_rate), \n",
        "              loss='categorical_crossentropy', \n",
        "              metrics=['accuracy', top1_acc, top5_acc])"
      ],
      "execution_count": 38,
      "outputs": []
    },
    {
      "cell_type": "code",
      "metadata": {
        "id": "6Q2jv4OlHYvL",
        "colab_type": "code",
        "colab": {
          "base_uri": "https://localhost:8080/",
          "height": 1000
        },
        "outputId": "d794aaeb-1072-498e-c2e0-80c1cfc43af4"
      },
      "source": [
        "model.fit(train_x, tr_y, batch_size=batch_size,\n",
        "          shuffle=True, epochs=num_epochs)"
      ],
      "execution_count": 39,
      "outputs": [
        {
          "output_type": "stream",
          "text": [
            "Epoch 1/30\n",
            "196/196 [==============================] - 109s 558ms/step - loss: 0.9341 - accuracy: 0.6730 - top1_acc: 0.6730 - top5_acc: 0.9737\n",
            "Epoch 2/30\n",
            "196/196 [==============================] - 111s 566ms/step - loss: 0.7610 - accuracy: 0.7356 - top1_acc: 0.7356 - top5_acc: 0.9824\n",
            "Epoch 3/30\n",
            "196/196 [==============================] - 109s 559ms/step - loss: 0.6468 - accuracy: 0.7734 - top1_acc: 0.7734 - top5_acc: 0.9889\n",
            "Epoch 4/30\n",
            "196/196 [==============================] - 109s 558ms/step - loss: 0.5530 - accuracy: 0.8079 - top1_acc: 0.8079 - top5_acc: 0.9921\n",
            "Epoch 5/30\n",
            "196/196 [==============================] - 109s 557ms/step - loss: 0.4705 - accuracy: 0.8340 - top1_acc: 0.8340 - top5_acc: 0.9943\n",
            "Epoch 6/30\n",
            "196/196 [==============================] - 109s 556ms/step - loss: 0.4017 - accuracy: 0.8591 - top1_acc: 0.8591 - top5_acc: 0.9968\n",
            "Epoch 7/30\n",
            "196/196 [==============================] - 109s 557ms/step - loss: 0.3450 - accuracy: 0.8798 - top1_acc: 0.8798 - top5_acc: 0.9977\n",
            "Epoch 8/30\n",
            "196/196 [==============================] - 111s 564ms/step - loss: 0.2965 - accuracy: 0.8982 - top1_acc: 0.8982 - top5_acc: 0.9985\n",
            "Epoch 9/30\n",
            "196/196 [==============================] - 109s 558ms/step - loss: 0.2556 - accuracy: 0.9110 - top1_acc: 0.9110 - top5_acc: 0.9990\n",
            "Epoch 10/30\n",
            "196/196 [==============================] - 110s 559ms/step - loss: 0.2280 - accuracy: 0.9213 - top1_acc: 0.9213 - top5_acc: 0.9990\n",
            "Epoch 11/30\n",
            "196/196 [==============================] - 110s 560ms/step - loss: 0.2090 - accuracy: 0.9288 - top1_acc: 0.9288 - top5_acc: 0.9993\n",
            "Epoch 12/30\n",
            "196/196 [==============================] - 109s 557ms/step - loss: 0.1956 - accuracy: 0.9335 - top1_acc: 0.9335 - top5_acc: 0.9995\n",
            "Epoch 13/30\n",
            "196/196 [==============================] - 111s 564ms/step - loss: 0.1693 - accuracy: 0.9436 - top1_acc: 0.9436 - top5_acc: 0.9996\n",
            "Epoch 14/30\n",
            "196/196 [==============================] - 110s 561ms/step - loss: 0.1637 - accuracy: 0.9468 - top1_acc: 0.9468 - top5_acc: 0.9997\n",
            "Epoch 15/30\n",
            "196/196 [==============================] - 109s 559ms/step - loss: 0.1559 - accuracy: 0.9480 - top1_acc: 0.9480 - top5_acc: 0.9996\n",
            "Epoch 16/30\n",
            "196/196 [==============================] - 109s 557ms/step - loss: 0.1425 - accuracy: 0.9531 - top1_acc: 0.9531 - top5_acc: 0.9999\n",
            "Epoch 17/30\n",
            "196/196 [==============================] - 110s 559ms/step - loss: 0.1402 - accuracy: 0.9543 - top1_acc: 0.9543 - top5_acc: 0.9999\n",
            "Epoch 18/30\n",
            "196/196 [==============================] - 110s 560ms/step - loss: 0.1345 - accuracy: 0.9557 - top1_acc: 0.9557 - top5_acc: 0.9999\n",
            "Epoch 19/30\n",
            "196/196 [==============================] - 111s 567ms/step - loss: 0.1275 - accuracy: 0.9590 - top1_acc: 0.9590 - top5_acc: 0.9999\n",
            "Epoch 20/30\n",
            "196/196 [==============================] - 110s 559ms/step - loss: 0.1177 - accuracy: 0.9622 - top1_acc: 0.9622 - top5_acc: 0.9999\n",
            "Epoch 21/30\n",
            "196/196 [==============================] - 109s 558ms/step - loss: 0.1227 - accuracy: 0.9604 - top1_acc: 0.9604 - top5_acc: 0.9998\n",
            "Epoch 22/30\n",
            "196/196 [==============================] - 109s 555ms/step - loss: 0.1157 - accuracy: 0.9632 - top1_acc: 0.9632 - top5_acc: 0.9999\n",
            "Epoch 23/30\n",
            "196/196 [==============================] - 110s 560ms/step - loss: 0.1152 - accuracy: 0.9638 - top1_acc: 0.9638 - top5_acc: 0.9999\n",
            "Epoch 24/30\n",
            "196/196 [==============================] - 111s 566ms/step - loss: 0.1045 - accuracy: 0.9673 - top1_acc: 0.9673 - top5_acc: 0.9999\n",
            "Epoch 25/30\n",
            "196/196 [==============================] - 109s 558ms/step - loss: 0.1044 - accuracy: 0.9688 - top1_acc: 0.9688 - top5_acc: 0.9999\n",
            "Epoch 26/30\n",
            "196/196 [==============================] - 110s 562ms/step - loss: 0.1056 - accuracy: 0.9671 - top1_acc: 0.9671 - top5_acc: 1.0000\n",
            "Epoch 27/30\n",
            "196/196 [==============================] - 109s 557ms/step - loss: 0.1014 - accuracy: 0.9679 - top1_acc: 0.9679 - top5_acc: 1.0000\n",
            "Epoch 28/30\n",
            "196/196 [==============================] - 109s 557ms/step - loss: 0.0966 - accuracy: 0.9711 - top1_acc: 0.9711 - top5_acc: 1.0000\n",
            "Epoch 29/30\n",
            "196/196 [==============================] - 110s 559ms/step - loss: 0.0964 - accuracy: 0.9709 - top1_acc: 0.9709 - top5_acc: 0.9999\n",
            "Epoch 30/30\n",
            "196/196 [==============================] - 111s 566ms/step - loss: 0.0941 - accuracy: 0.9713 - top1_acc: 0.9713 - top5_acc: 0.9999\n"
          ],
          "name": "stdout"
        },
        {
          "output_type": "execute_result",
          "data": {
            "text/plain": [
              "<tensorflow.python.keras.callbacks.History at 0x7fdf0101afd0>"
            ]
          },
          "metadata": {
            "tags": []
          },
          "execution_count": 39
        }
      ]
    },
    {
      "cell_type": "code",
      "metadata": {
        "id": "QGUDryWlL6Mc",
        "colab_type": "code",
        "colab": {}
      },
      "source": [
        ""
      ],
      "execution_count": null,
      "outputs": []
    }
  ]
}