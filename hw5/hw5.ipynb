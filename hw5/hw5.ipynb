{
  "nbformat": 4,
  "nbformat_minor": 0,
  "metadata": {
    "colab": {
      "name": "hw5.ipynb",
      "provenance": [],
      "collapsed_sections": [],
      "toc_visible": true
    },
    "kernelspec": {
      "name": "python3",
      "display_name": "Python 3"
    },
    "accelerator": "GPU"
  },
  "cells": [
    {
      "cell_type": "markdown",
      "metadata": {
        "id": "PgJtxq0M7KNt",
        "colab_type": "text"
      },
      "source": [
        "#### library import"
      ]
    },
    {
      "cell_type": "code",
      "metadata": {
        "id": "PlINp2Iaewlr",
        "colab_type": "code",
        "colab": {}
      },
      "source": [
        "import os\n",
        "import re\n",
        "import cv2\n",
        "import numpy as np\n",
        "import pandas as pd\n",
        "import matplotlib.pyplot as plt\n",
        "\n",
        "from tqdm import tqdm\n",
        "from PIL import Image\n",
        "from collections import Counter\n",
        "\n",
        "import torch\n",
        "import torch.nn as nn\n",
        "import torch.optim as optim\n",
        "import torch.utils.data as data\n",
        "import torch.nn.functional as F\n",
        "\n",
        "import torchvision.models as models\n",
        "import torchvision.transforms as transforms\n",
        "\n",
        "from torch.utils.data import Dataset, DataLoader"
      ],
      "execution_count": 1,
      "outputs": []
    },
    {
      "cell_type": "markdown",
      "metadata": {
        "id": "MVBf6At97Oj0",
        "colab_type": "text"
      },
      "source": [
        "#### vocabulary class\n",
        "- idx to word: 숫자(int)를 word(string)으로 변환 \n",
        "- word to idx: 반대"
      ]
    },
    {
      "cell_type": "code",
      "metadata": {
        "id": "CLtxSMlHsGjH",
        "colab_type": "code",
        "colab": {}
      },
      "source": [
        "class Vocabulary(object):\n",
        "    \"\"\"Simple vocabulary wrapper.\"\"\"\n",
        "    def __init__(self):\n",
        "        self.word2idx = {}\n",
        "        self.idx2word = {}\n",
        "        self.idx = 0\n",
        "\n",
        "    def add_word(self, word):\n",
        "        if not word in self.word2idx:\n",
        "            self.word2idx[word] = self.idx\n",
        "            self.idx2word[self.idx] = word\n",
        "            self.idx += 1\n",
        "\n",
        "    def __call__(self, word):\n",
        "        return self.word2idx[word]\n",
        "\n",
        "    def __len__(self):\n",
        "        return len(self.word2idx)"
      ],
      "execution_count": 2,
      "outputs": []
    },
    {
      "cell_type": "markdown",
      "metadata": {
        "id": "nYsxsl5E7dut",
        "colab_type": "text"
      },
      "source": [
        "#### Main"
      ]
    },
    {
      "cell_type": "code",
      "metadata": {
        "id": "EoBCBSc7acYl",
        "colab_type": "code",
        "colab": {}
      },
      "source": [
        "if __name__=='__main__':\n",
        "\n",
        "    img_path = './drive/My Drive/PerspectiveImages/'\n",
        "    valid_data = pd.read_csv('./valid_data.csv')    # 미리 제외시켜둔 데이터의 이름 저장"
      ],
      "execution_count": 3,
      "outputs": []
    },
    {
      "cell_type": "markdown",
      "metadata": {
        "id": "AfWKaEsM7oyD",
        "colab_type": "text"
      },
      "source": [
        "#### Label to vocabulary\n"
      ]
    },
    {
      "cell_type": "code",
      "metadata": {
        "id": "QwlHI19GamnW",
        "colab_type": "code",
        "colab": {}
      },
      "source": [
        "captions = [name[:-4] for name in valid_data['name']] # eliminate the .jpg\n",
        "counter = Counter()\n",
        "for cap in captions:\n",
        "    for token in cap:\n",
        "        counter.update(token)\n",
        "        \n",
        "words = [word for word, cnt in counter.items()]\n",
        "vocab = Vocabulary()\n",
        "\n",
        "for i, word in enumerate(words):\n",
        "    vocab.add_word(word)"
      ],
      "execution_count": 4,
      "outputs": []
    },
    {
      "cell_type": "code",
      "metadata": {
        "id": "a1URd3eMGOKp",
        "colab_type": "code",
        "colab": {
          "base_uri": "https://localhost:8080/",
          "height": 35
        },
        "outputId": "d491cc6b-91fa-4a91-df4c-49118eda6a19"
      },
      "source": [
        "imgs = []\n",
        "for file_name in tqdm(valid_data['name']):\n",
        "    img = np.asarray(Image.open(img_path + file_name))\n",
        "    imgs.append(img)\n",
        "\n",
        "imgs = np.asarray(imgs)"
      ],
      "execution_count": 5,
      "outputs": [
        {
          "output_type": "stream",
          "text": [
            "100%|██████████| 809/809 [00:01<00:00, 760.62it/s]\n"
          ],
          "name": "stderr"
        }
      ]
    },
    {
      "cell_type": "markdown",
      "metadata": {
        "id": "uXQ8peDj77Dc",
        "colab_type": "text"
      },
      "source": [
        "#### Transform\n",
        "- normalize 수행 X -> 왜 인지는 모르겠으나 성능 저하"
      ]
    },
    {
      "cell_type": "code",
      "metadata": {
        "id": "-G6Gk5aXGc-R",
        "colab_type": "code",
        "colab": {}
      },
      "source": [
        "transform = transforms.Compose([\n",
        "    transforms.ToTensor(),\n",
        "    #transforms.Normalize([140.72191205357143, 142.173804375, 141.2539975], [66.03655501729828, 65.7432860955485, 65.37706592308601]),\n",
        "])"
      ],
      "execution_count": 6,
      "outputs": []
    },
    {
      "cell_type": "code",
      "metadata": {
        "id": "Tt9EMwrcGea6",
        "colab_type": "code",
        "colab": {}
      },
      "source": [
        "class CustomDataset(Dataset):\n",
        "    def __init__(self, imgs, vocab, captions, transform):\n",
        "        self.imgs = imgs\n",
        "        self.captions = captions\n",
        "        self.vocab = vocab\n",
        "        self.transform = transform\n",
        "        \n",
        "    def __getitem__(self, index):\n",
        "        imgs = self.imgs\n",
        "        vocab = self.vocab\n",
        "        captions = self.captions\n",
        "        \n",
        "        image = imgs[index]\n",
        "        if self.transform is not None:\n",
        "            image = self.transform(image)\n",
        "        \n",
        "        tokens = [token for token in captions[index]]\n",
        "        caption = []\n",
        "        caption.extend([vocab(token) for token in tokens])\n",
        "        target = torch.LongTensor(caption)\n",
        "        \n",
        "        return image, target\n",
        "    \n",
        "    def __len__(self):\n",
        "        return len(self.imgs)"
      ],
      "execution_count": 7,
      "outputs": []
    },
    {
      "cell_type": "code",
      "metadata": {
        "id": "L_qKzwaUGfsw",
        "colab_type": "code",
        "colab": {}
      },
      "source": [
        "batch_size = 8\n",
        "shuffle = True\n",
        "\n",
        "c = CustomDataset(imgs, vocab, captions, transform)\n",
        "data_loder = DataLoader(dataset=c,\n",
        "                       batch_size=batch_size,\n",
        "                       shuffle=shuffle,\n",
        "                       )\n",
        "\n",
        "train_size = int(0.8 * c.__len__())\n",
        "test_size = c.__len__() - train_size"
      ],
      "execution_count": 8,
      "outputs": []
    },
    {
      "cell_type": "code",
      "metadata": {
        "id": "OwkUcitnGkDu",
        "colab_type": "code",
        "colab": {}
      },
      "source": [
        "#torch.manual_seed(10)\n",
        "train_dataset, test_dataset = data.random_split(c, [train_size, test_size])\n",
        "train_loder = data.DataLoader(train_dataset, batch_size=batch_size, shuffle=shuffle)\n",
        "test_loder = data.DataLoader(test_dataset, batch_size=batch_size, shuffle=shuffle)"
      ],
      "execution_count": 9,
      "outputs": []
    },
    {
      "cell_type": "markdown",
      "metadata": {
        "id": "OwvlMBeh8HV4",
        "colab_type": "text"
      },
      "source": [
        "#### Network\n",
        "- Depthwise seperable convolution 사용\n",
        "- MobileNet 구조\n",
        "- 차이: 마지막 단에서 Adaptive Average pooling 사용"
      ]
    },
    {
      "cell_type": "code",
      "metadata": {
        "id": "Fh8Famo5GlId",
        "colab_type": "code",
        "colab": {}
      },
      "source": [
        "class Depthwise_seperable_conv(nn.Module):\n",
        "    def __init__(self, in_channel, kernel_per_layer, out_channel, stride=1):\n",
        "        super(Depthwise_seperable_conv, self).__init__()\n",
        "        \n",
        "        self.depthwise = nn.Sequential(nn.Conv2d(in_channel, in_channel*kernel_per_layer, kernel_size=3, stride=stride, groups=in_channel, padding=1),\n",
        "                                      nn.BatchNorm2d(in_channel*kernel_per_layer),\n",
        "                                      nn.ReLU()\n",
        "                                      )\n",
        "                                       \n",
        "        self.pointwise = nn.Sequential(nn.Conv2d(in_channel*kernel_per_layer, out_channel, kernel_size=1),\n",
        "                                      nn.BatchNorm2d(out_channel),\n",
        "                                      nn.ReLU()\n",
        "                                      )\n",
        "        \n",
        "    def forward(self, x):\n",
        "        x = self.depthwise(x)\n",
        "        x = self.pointwise(x)\n",
        "        return x\n",
        "    \n",
        "class Net(nn.Module):\n",
        "    def __init__(self, input_dim, output_dim, final_size):\n",
        "        super(Net, self).__init__()\n",
        "        \n",
        "        # regular convolution\n",
        "        self.reg_conv_1 = nn.Conv2d(input_dim, output_dim, kernel_size=3, stride=(1,2))\n",
        "        self.sep32_1 = Depthwise_seperable_conv(output_dim, 1, output_dim)\n",
        "        self.sep32_2 = Depthwise_seperable_conv(output_dim, 2, output_dim*2)\n",
        "        \n",
        "        self.sep64_1 = Depthwise_seperable_conv(output_dim*2, 1, output_dim*2, stride=(1,2))\n",
        "        self.sep64_2 = Depthwise_seperable_conv(output_dim*2, 2, output_dim*4)\n",
        "        \n",
        "        self.sep128_1 = Depthwise_seperable_conv(output_dim*4, 1, output_dim*4, stride=(1,2))\n",
        "        self.sep128_2 = Depthwise_seperable_conv(output_dim*4, 1, output_dim*4)\n",
        "        self.sep128_3 = Depthwise_seperable_conv(output_dim*4, 2, output_dim*8)\n",
        "        \n",
        "        self.sep256_1 = Depthwise_seperable_conv(output_dim*8, 1, output_dim*8, stride=(1,2))\n",
        "        self.sep256_2 = Depthwise_seperable_conv(output_dim*8, 1, output_dim*8)\n",
        "        self.sep256_3 = Depthwise_seperable_conv(output_dim*8, 2, output_dim*16)\n",
        "\n",
        "        self.sep512_1 = Depthwise_seperable_conv(output_dim*16, 1, output_dim*32, stride=(1,2))\n",
        "\n",
        "        self.avg_pool = nn.AdaptiveAvgPool2d(1)\n",
        "\n",
        "        # 약간의 ovefitting도 잡아보자!\n",
        "        self.fc = nn.Sequential(nn.Linear(1024, 1000),\n",
        "                                #nn.Dropout(0.5),\n",
        "                                nn.Linear(1000, final_size)\n",
        "                               )\n",
        "        \n",
        "    def forward(self, x):\n",
        "        feature = self.reg_conv_1(x)\n",
        "        feature = self.sep32_1(feature)\n",
        "        feature = self.sep32_2(feature)\n",
        "\n",
        "        feature = self.sep64_1(feature)\n",
        "        feature = self.sep64_2(feature)\n",
        "        \n",
        "        feature = self.sep128_1(feature)\n",
        "        feature = self.sep128_2(feature)\n",
        "        feature = self.sep128_3(feature)\n",
        "        \n",
        "        feature = self.sep256_1(feature)\n",
        "        feature = self.sep256_2(feature)\n",
        "        feature = self.sep256_3(feature)\n",
        "\n",
        "        feature = self.sep512_1(feature)\n",
        "        feature = self.avg_pool(feature)\n",
        "        feature = self.fc(feature.reshape(feature.shape[0], -1))\n",
        "        \n",
        "        return feature"
      ],
      "execution_count": 10,
      "outputs": []
    },
    {
      "cell_type": "code",
      "metadata": {
        "id": "np65pMjnGz59",
        "colab_type": "code",
        "colab": {}
      },
      "source": [
        "def save_checkpoint(state, filename='MobileNet.path.tar'):\n",
        "    print(\">>> saving checkpoing\")\n",
        "    torch.save(state, filename)\n",
        "    \n",
        "def load_checkpoint(checkpoint):\n",
        "    model.load_state_dict(torch.load(checkpoint)['state_dict'])\n",
        "    optimizer.load_state_dict(torch.load(checkpoint)['optimizer'])"
      ],
      "execution_count": 11,
      "outputs": []
    },
    {
      "cell_type": "code",
      "metadata": {
        "id": "5ebJ06KAG0xe",
        "colab_type": "code",
        "colab": {}
      },
      "source": [
        "device= 'cuda' if torch.cuda.is_available() else 'cpu'\n",
        "lr = 0.0005\n",
        "epoch = 200\n",
        "final_size = 308\n",
        "vocab_size = len(vocab)\n",
        "input_dim = train_dataset.dataset.imgs.shape[-1]\n",
        "output_dim = 32\n",
        "\n",
        "model = Net(input_dim, output_dim, final_size).to(device)\n",
        "\n",
        "criterion = nn.CrossEntropyLoss()\n",
        "optimizer = optim.RMSprop(model.parameters(), lr=lr, momentum=0.2)\n",
        "#optimizer = optim.Adam(model.parameters(), lr=lr)\n",
        "\n",
        "checkpoint = 'MobileNet_v3.path.tar'\n",
        "load_model = False\n",
        "save_model = False"
      ],
      "execution_count": 12,
      "outputs": []
    },
    {
      "cell_type": "code",
      "metadata": {
        "id": "x2GnCqU4G2G2",
        "colab_type": "code",
        "colab": {
          "base_uri": "https://localhost:8080/",
          "height": 1000
        },
        "outputId": "ad16e6ec-c36b-49a3-c6ac-9a39d15d6f5c"
      },
      "source": [
        "train_acc_for_epoch = []\n",
        "test_acc_for_epoch = []\n",
        "train_loss_for_epoch = []\n",
        "\n",
        "for e in range(epoch):\n",
        "    running_loss = 0\n",
        "    \n",
        "    model.train()\n",
        "    train_acc = []\n",
        "    for _, (image, target) in tqdm(enumerate(train_loder)):\n",
        "        image = image.to(device)\n",
        "        target = target.to(device)#type(torch.LongTensor).to(device)\n",
        "        output = model(image)\n",
        "        \n",
        "        loss = 0\n",
        "\n",
        "        # 배치 내 각각 텐서마다 loss and acc 구하기 \n",
        "        for idx in range(len(output)):\n",
        "            \n",
        "            # 44개(단어 사이즈)로 짤라낸 후 계산\n",
        "            sliced = torch.cat(torch.split(output[idx], 44, dim=0)).reshape(7, 44)\n",
        "            \n",
        "            for i in range(len(sliced)):\n",
        "                loss += criterion(sliced[i].reshape(1, -1), target[idx][i].reshape(1))\n",
        "            \n",
        "            predicted = sliced.argmax(1)\n",
        "            accuracy = sum(predicted == target[idx]).item() / 7    # 각각의 이미지에서 글자를 얼마나 맞췄는지\n",
        "            train_acc.append(accuracy)\n",
        "\n",
        "        optimizer.zero_grad()\n",
        "        loss.backward()\n",
        "        optimizer.step()\n",
        "      \n",
        "    train_loss_for_epoch.append(loss.item())\n",
        "    train_acc_for_epoch.append(np.mean(train_acc))\n",
        "\n",
        "    print(f'epoch: {e+1}, loss: {loss.item()}, train accuracy: {np.mean(train_acc)}')\n",
        "    if (e+1) % 5 == 0 :\n",
        "        if save_model:\n",
        "            checkpoint = {'state_dict': model.state_dict(), 'optimizer': optimizer.state_dict()}\n",
        "            save_checkpoint(checkpoint)\n",
        "    \n",
        "    model.eval()\n",
        "    with torch.no_grad():\n",
        "        test_acc = []\n",
        "\n",
        "        for _, (image_t, target_t) in enumerate(test_loder):\n",
        "            image_t = image_t.to(device)\n",
        "            target_t = target_t.to(device)#type(torch.LongTensor).to(device)\n",
        "            output_t = model(image_t)\n",
        "\n",
        "            # 배치내의 각 샘플마다\n",
        "            for idx in range(len(output_t)):\n",
        "                # 44개(단어 사이즈)로 짤라낸 후 계산\n",
        "                sliced = torch.cat(torch.split(output_t[idx], 44, dim=0)).reshape(7, 44)\n",
        "                predicted = sliced.argmax(1)\n",
        "\n",
        "                accuracy = sum(predicted == target_t[idx]).item() / 7\n",
        "                test_acc.append(accuracy)\n",
        "        test_acc_for_epoch.append(np.mean(test_acc))\n",
        "        print(f'epoch: {e+1}, test accuracy: {np.mean(test_acc)}')"
      ],
      "execution_count": 13,
      "outputs": [
        {
          "output_type": "stream",
          "text": [
            "81it [00:04, 19.53it/s]\n"
          ],
          "name": "stderr"
        },
        {
          "output_type": "stream",
          "text": [
            "epoch: 1, loss: 121.68402099609375, train accuracy: 0.10156767498344005\n"
          ],
          "name": "stdout"
        },
        {
          "output_type": "stream",
          "text": [
            "3it [00:00, 21.70it/s]"
          ],
          "name": "stderr"
        },
        {
          "output_type": "stream",
          "text": [
            "epoch: 1, test accuracy: 0.09259259259259259\n"
          ],
          "name": "stdout"
        },
        {
          "output_type": "stream",
          "text": [
            "81it [00:04, 19.46it/s]\n"
          ],
          "name": "stderr"
        },
        {
          "output_type": "stream",
          "text": [
            "epoch: 2, loss: 121.58126068115234, train accuracy: 0.10951644954736144\n"
          ],
          "name": "stdout"
        },
        {
          "output_type": "stream",
          "text": [
            "3it [00:00, 21.90it/s]"
          ],
          "name": "stderr"
        },
        {
          "output_type": "stream",
          "text": [
            "epoch: 2, test accuracy: 0.11022927689594354\n"
          ],
          "name": "stdout"
        },
        {
          "output_type": "stream",
          "text": [
            "81it [00:04, 19.27it/s]\n"
          ],
          "name": "stderr"
        },
        {
          "output_type": "stream",
          "text": [
            "epoch: 3, loss: 123.70365142822266, train accuracy: 0.105762861558843\n"
          ],
          "name": "stdout"
        },
        {
          "output_type": "stream",
          "text": [
            "3it [00:00, 22.07it/s]"
          ],
          "name": "stderr"
        },
        {
          "output_type": "stream",
          "text": [
            "epoch: 3, test accuracy: 0.12169312169312167\n"
          ],
          "name": "stdout"
        },
        {
          "output_type": "stream",
          "text": [
            "81it [00:04, 19.23it/s]\n"
          ],
          "name": "stderr"
        },
        {
          "output_type": "stream",
          "text": [
            "epoch: 4, loss: 117.55953979492188, train accuracy: 0.11724442481784057\n"
          ],
          "name": "stdout"
        },
        {
          "output_type": "stream",
          "text": [
            "3it [00:00, 21.17it/s]"
          ],
          "name": "stderr"
        },
        {
          "output_type": "stream",
          "text": [
            "epoch: 4, test accuracy: 0.10758377425044088\n"
          ],
          "name": "stdout"
        },
        {
          "output_type": "stream",
          "text": [
            "81it [00:04, 19.41it/s]\n"
          ],
          "name": "stderr"
        },
        {
          "output_type": "stream",
          "text": [
            "epoch: 5, loss: 120.90581512451172, train accuracy: 0.11923161845882091\n"
          ],
          "name": "stdout"
        },
        {
          "output_type": "stream",
          "text": [
            "3it [00:00, 21.72it/s]"
          ],
          "name": "stderr"
        },
        {
          "output_type": "stream",
          "text": [
            "epoch: 5, test accuracy: 0.1111111111111111\n"
          ],
          "name": "stdout"
        },
        {
          "output_type": "stream",
          "text": [
            "81it [00:04, 19.14it/s]\n"
          ],
          "name": "stderr"
        },
        {
          "output_type": "stream",
          "text": [
            "epoch: 6, loss: 118.44942474365234, train accuracy: 0.12320600574078162\n"
          ],
          "name": "stdout"
        },
        {
          "output_type": "stream",
          "text": [
            "3it [00:00, 21.68it/s]"
          ],
          "name": "stderr"
        },
        {
          "output_type": "stream",
          "text": [
            "epoch: 6, test accuracy: 0.1146384479717813\n"
          ],
          "name": "stdout"
        },
        {
          "output_type": "stream",
          "text": [
            "81it [00:04, 19.42it/s]\n"
          ],
          "name": "stderr"
        },
        {
          "output_type": "stream",
          "text": [
            "epoch: 7, loss: 126.06861877441406, train accuracy: 0.15168911459483328\n"
          ],
          "name": "stdout"
        },
        {
          "output_type": "stream",
          "text": [
            "3it [00:00, 21.00it/s]"
          ],
          "name": "stderr"
        },
        {
          "output_type": "stream",
          "text": [
            "epoch: 7, test accuracy: 0.12874779541446207\n"
          ],
          "name": "stdout"
        },
        {
          "output_type": "stream",
          "text": [
            "81it [00:04, 19.36it/s]\n"
          ],
          "name": "stderr"
        },
        {
          "output_type": "stream",
          "text": [
            "epoch: 8, loss: 119.4678726196289, train accuracy: 0.15279311106204457\n"
          ],
          "name": "stdout"
        },
        {
          "output_type": "stream",
          "text": [
            "3it [00:00, 21.40it/s]"
          ],
          "name": "stderr"
        },
        {
          "output_type": "stream",
          "text": [
            "epoch: 8, test accuracy: 0.1490299823633157\n"
          ],
          "name": "stdout"
        },
        {
          "output_type": "stream",
          "text": [
            "81it [00:04, 18.84it/s]\n"
          ],
          "name": "stderr"
        },
        {
          "output_type": "stream",
          "text": [
            "epoch: 9, loss: 116.36797332763672, train accuracy: 0.17310664605873258\n"
          ],
          "name": "stdout"
        },
        {
          "output_type": "stream",
          "text": [
            "3it [00:00, 21.72it/s]"
          ],
          "name": "stderr"
        },
        {
          "output_type": "stream",
          "text": [
            "epoch: 9, test accuracy: 0.1728395061728395\n"
          ],
          "name": "stdout"
        },
        {
          "output_type": "stream",
          "text": [
            "81it [00:04, 19.08it/s]\n"
          ],
          "name": "stderr"
        },
        {
          "output_type": "stream",
          "text": [
            "epoch: 10, loss: 113.35293579101562, train accuracy: 0.20512254360786047\n"
          ],
          "name": "stdout"
        },
        {
          "output_type": "stream",
          "text": [
            "3it [00:00, 21.27it/s]"
          ],
          "name": "stderr"
        },
        {
          "output_type": "stream",
          "text": [
            "epoch: 10, test accuracy: 0.20017636684303344\n"
          ],
          "name": "stdout"
        },
        {
          "output_type": "stream",
          "text": [
            "81it [00:04, 19.41it/s]\n"
          ],
          "name": "stderr"
        },
        {
          "output_type": "stream",
          "text": [
            "epoch: 11, loss: 104.76676940917969, train accuracy: 0.22411128284389487\n"
          ],
          "name": "stdout"
        },
        {
          "output_type": "stream",
          "text": [
            "3it [00:00, 21.47it/s]"
          ],
          "name": "stderr"
        },
        {
          "output_type": "stream",
          "text": [
            "epoch: 11, test accuracy: 0.22398589065255728\n"
          ],
          "name": "stdout"
        },
        {
          "output_type": "stream",
          "text": [
            "81it [00:04, 19.46it/s]\n"
          ],
          "name": "stderr"
        },
        {
          "output_type": "stream",
          "text": [
            "epoch: 12, loss: 99.98631286621094, train accuracy: 0.2695959372930006\n"
          ],
          "name": "stdout"
        },
        {
          "output_type": "stream",
          "text": [
            "3it [00:00, 21.97it/s]"
          ],
          "name": "stderr"
        },
        {
          "output_type": "stream",
          "text": [
            "epoch: 12, test accuracy: 0.2530864197530864\n"
          ],
          "name": "stdout"
        },
        {
          "output_type": "stream",
          "text": [
            "81it [00:04, 19.50it/s]\n"
          ],
          "name": "stderr"
        },
        {
          "output_type": "stream",
          "text": [
            "epoch: 13, loss: 98.20549774169922, train accuracy: 0.292779863104438\n"
          ],
          "name": "stdout"
        },
        {
          "output_type": "stream",
          "text": [
            "3it [00:00, 21.88it/s]"
          ],
          "name": "stderr"
        },
        {
          "output_type": "stream",
          "text": [
            "epoch: 13, test accuracy: 0.3024691358024691\n"
          ],
          "name": "stdout"
        },
        {
          "output_type": "stream",
          "text": [
            "81it [00:04, 19.79it/s]\n"
          ],
          "name": "stderr"
        },
        {
          "output_type": "stream",
          "text": [
            "epoch: 14, loss: 94.99600982666016, train accuracy: 0.338485316846986\n"
          ],
          "name": "stdout"
        },
        {
          "output_type": "stream",
          "text": [
            "3it [00:00, 21.14it/s]"
          ],
          "name": "stderr"
        },
        {
          "output_type": "stream",
          "text": [
            "epoch: 14, test accuracy: 0.32010582010582006\n"
          ],
          "name": "stdout"
        },
        {
          "output_type": "stream",
          "text": [
            "81it [00:04, 19.71it/s]\n"
          ],
          "name": "stderr"
        },
        {
          "output_type": "stream",
          "text": [
            "epoch: 15, loss: 83.58032989501953, train accuracy: 0.3671892249944799\n"
          ],
          "name": "stdout"
        },
        {
          "output_type": "stream",
          "text": [
            "3it [00:00, 22.02it/s]"
          ],
          "name": "stderr"
        },
        {
          "output_type": "stream",
          "text": [
            "epoch: 15, test accuracy: 0.3571428571428571\n"
          ],
          "name": "stdout"
        },
        {
          "output_type": "stream",
          "text": [
            "81it [00:04, 19.80it/s]\n"
          ],
          "name": "stderr"
        },
        {
          "output_type": "stream",
          "text": [
            "epoch: 16, loss: 83.47272491455078, train accuracy: 0.3981011260763965\n"
          ],
          "name": "stdout"
        },
        {
          "output_type": "stream",
          "text": [
            "3it [00:00, 22.19it/s]"
          ],
          "name": "stderr"
        },
        {
          "output_type": "stream",
          "text": [
            "epoch: 16, test accuracy: 0.37477954144620806\n"
          ],
          "name": "stdout"
        },
        {
          "output_type": "stream",
          "text": [
            "81it [00:04, 19.62it/s]\n"
          ],
          "name": "stderr"
        },
        {
          "output_type": "stream",
          "text": [
            "epoch: 17, loss: 75.9728012084961, train accuracy: 0.4257010377566791\n"
          ],
          "name": "stdout"
        },
        {
          "output_type": "stream",
          "text": [
            "3it [00:00, 21.14it/s]"
          ],
          "name": "stderr"
        },
        {
          "output_type": "stream",
          "text": [
            "epoch: 17, test accuracy: 0.39153439153439146\n"
          ],
          "name": "stdout"
        },
        {
          "output_type": "stream",
          "text": [
            "81it [00:04, 19.56it/s]\n"
          ],
          "name": "stderr"
        },
        {
          "output_type": "stream",
          "text": [
            "epoch: 18, loss: 81.37164306640625, train accuracy: 0.4521969529697505\n"
          ],
          "name": "stdout"
        },
        {
          "output_type": "stream",
          "text": [
            "3it [00:00, 22.03it/s]"
          ],
          "name": "stderr"
        },
        {
          "output_type": "stream",
          "text": [
            "epoch: 18, test accuracy: 0.45326278659611985\n"
          ],
          "name": "stdout"
        },
        {
          "output_type": "stream",
          "text": [
            "81it [00:04, 19.62it/s]\n"
          ],
          "name": "stderr"
        },
        {
          "output_type": "stream",
          "text": [
            "epoch: 19, loss: 91.79598236083984, train accuracy: 0.4714064914992271\n"
          ],
          "name": "stdout"
        },
        {
          "output_type": "stream",
          "text": [
            "3it [00:00, 22.28it/s]"
          ],
          "name": "stderr"
        },
        {
          "output_type": "stream",
          "text": [
            "epoch: 19, test accuracy: 0.4091710758377425\n"
          ],
          "name": "stdout"
        },
        {
          "output_type": "stream",
          "text": [
            "81it [00:04, 19.70it/s]\n"
          ],
          "name": "stderr"
        },
        {
          "output_type": "stream",
          "text": [
            "epoch: 20, loss: 77.36308288574219, train accuracy: 0.5089423713844115\n"
          ],
          "name": "stdout"
        },
        {
          "output_type": "stream",
          "text": [
            "3it [00:00, 21.56it/s]"
          ],
          "name": "stderr"
        },
        {
          "output_type": "stream",
          "text": [
            "epoch: 20, test accuracy: 0.474426807760141\n"
          ],
          "name": "stdout"
        },
        {
          "output_type": "stream",
          "text": [
            "81it [00:04, 19.50it/s]\n"
          ],
          "name": "stderr"
        },
        {
          "output_type": "stream",
          "text": [
            "epoch: 21, loss: 72.791015625, train accuracy: 0.5285935085007728\n"
          ],
          "name": "stdout"
        },
        {
          "output_type": "stream",
          "text": [
            "3it [00:00, 21.91it/s]"
          ],
          "name": "stderr"
        },
        {
          "output_type": "stream",
          "text": [
            "epoch: 21, test accuracy: 0.43915343915343913\n"
          ],
          "name": "stdout"
        },
        {
          "output_type": "stream",
          "text": [
            "81it [00:04, 19.21it/s]\n"
          ],
          "name": "stderr"
        },
        {
          "output_type": "stream",
          "text": [
            "epoch: 22, loss: 91.5900650024414, train accuracy: 0.5564142194744977\n"
          ],
          "name": "stdout"
        },
        {
          "output_type": "stream",
          "text": [
            "3it [00:00, 20.08it/s]"
          ],
          "name": "stderr"
        },
        {
          "output_type": "stream",
          "text": [
            "epoch: 22, test accuracy: 0.49382716049382713\n"
          ],
          "name": "stdout"
        },
        {
          "output_type": "stream",
          "text": [
            "81it [00:04, 18.75it/s]\n"
          ],
          "name": "stderr"
        },
        {
          "output_type": "stream",
          "text": [
            "epoch: 23, loss: 56.367435455322266, train accuracy: 0.5873261205564142\n"
          ],
          "name": "stdout"
        },
        {
          "output_type": "stream",
          "text": [
            "3it [00:00, 21.73it/s]"
          ],
          "name": "stderr"
        },
        {
          "output_type": "stream",
          "text": [
            "epoch: 23, test accuracy: 0.5423280423280423\n"
          ],
          "name": "stdout"
        },
        {
          "output_type": "stream",
          "text": [
            "81it [00:04, 19.40it/s]\n"
          ],
          "name": "stderr"
        },
        {
          "output_type": "stream",
          "text": [
            "epoch: 24, loss: 52.27854537963867, train accuracy: 0.6089644513137558\n"
          ],
          "name": "stdout"
        },
        {
          "output_type": "stream",
          "text": [
            "3it [00:00, 21.72it/s]"
          ],
          "name": "stderr"
        },
        {
          "output_type": "stream",
          "text": [
            "epoch: 24, test accuracy: 0.5529100529100528\n"
          ],
          "name": "stdout"
        },
        {
          "output_type": "stream",
          "text": [
            "81it [00:04, 19.65it/s]\n"
          ],
          "name": "stderr"
        },
        {
          "output_type": "stream",
          "text": [
            "epoch: 25, loss: 60.095096588134766, train accuracy: 0.6268491940825789\n"
          ],
          "name": "stdout"
        },
        {
          "output_type": "stream",
          "text": [
            "3it [00:00, 19.75it/s]"
          ],
          "name": "stderr"
        },
        {
          "output_type": "stream",
          "text": [
            "epoch: 25, test accuracy: 0.5220458553791886\n"
          ],
          "name": "stdout"
        },
        {
          "output_type": "stream",
          "text": [
            "81it [00:04, 19.18it/s]\n"
          ],
          "name": "stderr"
        },
        {
          "output_type": "stream",
          "text": [
            "epoch: 26, loss: 53.60676193237305, train accuracy: 0.6429675425038639\n"
          ],
          "name": "stdout"
        },
        {
          "output_type": "stream",
          "text": [
            "3it [00:00, 21.79it/s]"
          ],
          "name": "stderr"
        },
        {
          "output_type": "stream",
          "text": [
            "epoch: 26, test accuracy: 0.5793650793650794\n"
          ],
          "name": "stdout"
        },
        {
          "output_type": "stream",
          "text": [
            "81it [00:04, 19.38it/s]\n"
          ],
          "name": "stderr"
        },
        {
          "output_type": "stream",
          "text": [
            "epoch: 27, loss: 54.506126403808594, train accuracy: 0.6694634577169353\n"
          ],
          "name": "stdout"
        },
        {
          "output_type": "stream",
          "text": [
            "3it [00:00, 21.27it/s]"
          ],
          "name": "stderr"
        },
        {
          "output_type": "stream",
          "text": [
            "epoch: 27, test accuracy: 0.6119929453262787\n"
          ],
          "name": "stdout"
        },
        {
          "output_type": "stream",
          "text": [
            "81it [00:04, 19.28it/s]\n"
          ],
          "name": "stderr"
        },
        {
          "output_type": "stream",
          "text": [
            "epoch: 28, loss: 43.937042236328125, train accuracy: 0.6972841686906601\n"
          ],
          "name": "stdout"
        },
        {
          "output_type": "stream",
          "text": [
            "3it [00:00, 22.04it/s]"
          ],
          "name": "stderr"
        },
        {
          "output_type": "stream",
          "text": [
            "epoch: 28, test accuracy: 0.6172839506172839\n"
          ],
          "name": "stdout"
        },
        {
          "output_type": "stream",
          "text": [
            "81it [00:04, 19.72it/s]\n"
          ],
          "name": "stderr"
        },
        {
          "output_type": "stream",
          "text": [
            "epoch: 29, loss: 43.46247482299805, train accuracy: 0.7061161404283506\n"
          ],
          "name": "stdout"
        },
        {
          "output_type": "stream",
          "text": [
            "3it [00:00, 21.23it/s]"
          ],
          "name": "stderr"
        },
        {
          "output_type": "stream",
          "text": [
            "epoch: 29, test accuracy: 0.6225749559082892\n"
          ],
          "name": "stdout"
        },
        {
          "output_type": "stream",
          "text": [
            "81it [00:04, 19.43it/s]\n"
          ],
          "name": "stderr"
        },
        {
          "output_type": "stream",
          "text": [
            "epoch: 30, loss: 36.615299224853516, train accuracy: 0.7134025171119452\n"
          ],
          "name": "stdout"
        },
        {
          "output_type": "stream",
          "text": [
            "3it [00:00, 19.73it/s]"
          ],
          "name": "stderr"
        },
        {
          "output_type": "stream",
          "text": [
            "epoch: 30, test accuracy: 0.6216931216931217\n"
          ],
          "name": "stdout"
        },
        {
          "output_type": "stream",
          "text": [
            "81it [00:04, 19.52it/s]\n"
          ],
          "name": "stderr"
        },
        {
          "output_type": "stream",
          "text": [
            "epoch: 31, loss: 38.94622802734375, train accuracy: 0.7361448443364981\n"
          ],
          "name": "stdout"
        },
        {
          "output_type": "stream",
          "text": [
            "3it [00:00, 19.96it/s]"
          ],
          "name": "stderr"
        },
        {
          "output_type": "stream",
          "text": [
            "epoch: 31, test accuracy: 0.6578483245149911\n"
          ],
          "name": "stdout"
        },
        {
          "output_type": "stream",
          "text": [
            "81it [00:04, 19.51it/s]\n"
          ],
          "name": "stderr"
        },
        {
          "output_type": "stream",
          "text": [
            "epoch: 32, loss: 29.369606018066406, train accuracy: 0.7549127842790903\n"
          ],
          "name": "stdout"
        },
        {
          "output_type": "stream",
          "text": [
            "3it [00:00, 22.18it/s]"
          ],
          "name": "stderr"
        },
        {
          "output_type": "stream",
          "text": [
            "epoch: 32, test accuracy: 0.6428571428571428\n"
          ],
          "name": "stdout"
        },
        {
          "output_type": "stream",
          "text": [
            "81it [00:04, 19.72it/s]\n"
          ],
          "name": "stderr"
        },
        {
          "output_type": "stream",
          "text": [
            "epoch: 33, loss: 51.58988571166992, train accuracy: 0.7679399425921838\n"
          ],
          "name": "stdout"
        },
        {
          "output_type": "stream",
          "text": [
            "3it [00:00, 21.06it/s]"
          ],
          "name": "stderr"
        },
        {
          "output_type": "stream",
          "text": [
            "epoch: 33, test accuracy: 0.6622574955908289\n"
          ],
          "name": "stdout"
        },
        {
          "output_type": "stream",
          "text": [
            "81it [00:04, 19.46it/s]\n"
          ],
          "name": "stderr"
        },
        {
          "output_type": "stream",
          "text": [
            "epoch: 34, loss: 30.59123992919922, train accuracy: 0.7714727312872598\n"
          ],
          "name": "stdout"
        },
        {
          "output_type": "stream",
          "text": [
            "3it [00:00, 21.21it/s]"
          ],
          "name": "stderr"
        },
        {
          "output_type": "stream",
          "text": [
            "epoch: 34, test accuracy: 0.6851851851851851\n"
          ],
          "name": "stdout"
        },
        {
          "output_type": "stream",
          "text": [
            "81it [00:04, 19.79it/s]\n"
          ],
          "name": "stderr"
        },
        {
          "output_type": "stream",
          "text": [
            "epoch: 35, loss: 20.077808380126953, train accuracy: 0.7915654669905056\n"
          ],
          "name": "stdout"
        },
        {
          "output_type": "stream",
          "text": [
            "3it [00:00, 22.00it/s]"
          ],
          "name": "stderr"
        },
        {
          "output_type": "stream",
          "text": [
            "epoch: 35, test accuracy: 0.7098765432098766\n"
          ],
          "name": "stdout"
        },
        {
          "output_type": "stream",
          "text": [
            "81it [00:04, 19.82it/s]\n"
          ],
          "name": "stderr"
        },
        {
          "output_type": "stream",
          "text": [
            "epoch: 36, loss: 40.289306640625, train accuracy: 0.7844998896003532\n"
          ],
          "name": "stdout"
        },
        {
          "output_type": "stream",
          "text": [
            "3it [00:00, 21.31it/s]"
          ],
          "name": "stderr"
        },
        {
          "output_type": "stream",
          "text": [
            "epoch: 36, test accuracy: 0.6940035273368605\n"
          ],
          "name": "stdout"
        },
        {
          "output_type": "stream",
          "text": [
            "81it [00:04, 19.71it/s]\n"
          ],
          "name": "stderr"
        },
        {
          "output_type": "stream",
          "text": [
            "epoch: 37, loss: 21.60359001159668, train accuracy: 0.8107750055199822\n"
          ],
          "name": "stdout"
        },
        {
          "output_type": "stream",
          "text": [
            "3it [00:00, 21.75it/s]"
          ],
          "name": "stderr"
        },
        {
          "output_type": "stream",
          "text": [
            "epoch: 37, test accuracy: 0.7151675485008818\n"
          ],
          "name": "stdout"
        },
        {
          "output_type": "stream",
          "text": [
            "81it [00:04, 19.69it/s]\n"
          ],
          "name": "stderr"
        },
        {
          "output_type": "stream",
          "text": [
            "epoch: 38, loss: 46.31847381591797, train accuracy: 0.8107750055199822\n"
          ],
          "name": "stdout"
        },
        {
          "output_type": "stream",
          "text": [
            "3it [00:00, 19.79it/s]"
          ],
          "name": "stderr"
        },
        {
          "output_type": "stream",
          "text": [
            "epoch: 38, test accuracy: 0.6860670194003526\n"
          ],
          "name": "stdout"
        },
        {
          "output_type": "stream",
          "text": [
            "81it [00:04, 19.41it/s]\n"
          ],
          "name": "stderr"
        },
        {
          "output_type": "stream",
          "text": [
            "epoch: 39, loss: 22.40271759033203, train accuracy: 0.8240229631265179\n"
          ],
          "name": "stdout"
        },
        {
          "output_type": "stream",
          "text": [
            "3it [00:00, 19.30it/s]"
          ],
          "name": "stderr"
        },
        {
          "output_type": "stream",
          "text": [
            "epoch: 39, test accuracy: 0.7460317460317459\n"
          ],
          "name": "stdout"
        },
        {
          "output_type": "stream",
          "text": [
            "81it [00:04, 19.46it/s]\n"
          ],
          "name": "stderr"
        },
        {
          "output_type": "stream",
          "text": [
            "epoch: 40, loss: 25.609251022338867, train accuracy: 0.8319717376904393\n"
          ],
          "name": "stdout"
        },
        {
          "output_type": "stream",
          "text": [
            "3it [00:00, 22.34it/s]"
          ],
          "name": "stderr"
        },
        {
          "output_type": "stream",
          "text": [
            "epoch: 40, test accuracy: 0.7398589065255731\n"
          ],
          "name": "stdout"
        },
        {
          "output_type": "stream",
          "text": [
            "81it [00:04, 19.81it/s]\n"
          ],
          "name": "stderr"
        },
        {
          "output_type": "stream",
          "text": [
            "epoch: 41, loss: 32.578712463378906, train accuracy: 0.8449988960035325\n"
          ],
          "name": "stdout"
        },
        {
          "output_type": "stream",
          "text": [
            "3it [00:00, 22.11it/s]"
          ],
          "name": "stderr"
        },
        {
          "output_type": "stream",
          "text": [
            "epoch: 41, test accuracy: 0.738095238095238\n"
          ],
          "name": "stdout"
        },
        {
          "output_type": "stream",
          "text": [
            "81it [00:04, 19.33it/s]\n"
          ],
          "name": "stderr"
        },
        {
          "output_type": "stream",
          "text": [
            "epoch: 42, loss: 20.526559829711914, train accuracy: 0.8421285051887835\n"
          ],
          "name": "stdout"
        },
        {
          "output_type": "stream",
          "text": [
            "3it [00:00, 21.97it/s]"
          ],
          "name": "stderr"
        },
        {
          "output_type": "stream",
          "text": [
            "epoch: 42, test accuracy: 0.7495590828924161\n"
          ],
          "name": "stdout"
        },
        {
          "output_type": "stream",
          "text": [
            "81it [00:04, 19.85it/s]\n"
          ],
          "name": "stderr"
        },
        {
          "output_type": "stream",
          "text": [
            "epoch: 43, loss: 18.324167251586914, train accuracy: 0.8489732832854934\n"
          ],
          "name": "stdout"
        },
        {
          "output_type": "stream",
          "text": [
            "3it [00:00, 22.10it/s]"
          ],
          "name": "stderr"
        },
        {
          "output_type": "stream",
          "text": [
            "epoch: 43, test accuracy: 0.7566137566137565\n"
          ],
          "name": "stdout"
        },
        {
          "output_type": "stream",
          "text": [
            "81it [00:04, 19.55it/s]\n"
          ],
          "name": "stderr"
        },
        {
          "output_type": "stream",
          "text": [
            "epoch: 44, loss: 21.43955421447754, train accuracy: 0.8589092514903952\n"
          ],
          "name": "stdout"
        },
        {
          "output_type": "stream",
          "text": [
            "3it [00:00, 21.95it/s]"
          ],
          "name": "stderr"
        },
        {
          "output_type": "stream",
          "text": [
            "epoch: 44, test accuracy: 0.7425044091710757\n"
          ],
          "name": "stdout"
        },
        {
          "output_type": "stream",
          "text": [
            "81it [00:04, 19.41it/s]\n"
          ],
          "name": "stderr"
        },
        {
          "output_type": "stream",
          "text": [
            "epoch: 45, loss: 26.778348922729492, train accuracy: 0.8778979907264297\n"
          ],
          "name": "stdout"
        },
        {
          "output_type": "stream",
          "text": [
            "3it [00:00, 20.57it/s]"
          ],
          "name": "stderr"
        },
        {
          "output_type": "stream",
          "text": [
            "epoch: 45, test accuracy: 0.738095238095238\n"
          ],
          "name": "stdout"
        },
        {
          "output_type": "stream",
          "text": [
            "81it [00:04, 19.56it/s]\n"
          ],
          "name": "stderr"
        },
        {
          "output_type": "stream",
          "text": [
            "epoch: 46, loss: 16.000547409057617, train accuracy: 0.8739236034444688\n"
          ],
          "name": "stdout"
        },
        {
          "output_type": "stream",
          "text": [
            "3it [00:00, 22.16it/s]"
          ],
          "name": "stderr"
        },
        {
          "output_type": "stream",
          "text": [
            "epoch: 46, test accuracy: 0.7222222222222221\n"
          ],
          "name": "stdout"
        },
        {
          "output_type": "stream",
          "text": [
            "81it [00:04, 19.37it/s]\n"
          ],
          "name": "stderr"
        },
        {
          "output_type": "stream",
          "text": [
            "epoch: 47, loss: 15.783447265625, train accuracy: 0.8816515787149479\n"
          ],
          "name": "stdout"
        },
        {
          "output_type": "stream",
          "text": [
            "3it [00:00, 21.80it/s]"
          ],
          "name": "stderr"
        },
        {
          "output_type": "stream",
          "text": [
            "epoch: 47, test accuracy: 0.7848324514991182\n"
          ],
          "name": "stdout"
        },
        {
          "output_type": "stream",
          "text": [
            "81it [00:04, 19.76it/s]\n"
          ],
          "name": "stderr"
        },
        {
          "output_type": "stream",
          "text": [
            "epoch: 48, loss: 14.541253089904785, train accuracy: 0.8882755575182161\n"
          ],
          "name": "stdout"
        },
        {
          "output_type": "stream",
          "text": [
            "3it [00:00, 21.79it/s]"
          ],
          "name": "stderr"
        },
        {
          "output_type": "stream",
          "text": [
            "epoch: 48, test accuracy: 0.7777777777777777\n"
          ],
          "name": "stdout"
        },
        {
          "output_type": "stream",
          "text": [
            "81it [00:04, 19.56it/s]\n"
          ],
          "name": "stderr"
        },
        {
          "output_type": "stream",
          "text": [
            "epoch: 49, loss: 11.695083618164062, train accuracy: 0.8882755575182159\n"
          ],
          "name": "stdout"
        },
        {
          "output_type": "stream",
          "text": [
            "3it [00:00, 21.94it/s]"
          ],
          "name": "stderr"
        },
        {
          "output_type": "stream",
          "text": [
            "epoch: 49, test accuracy: 0.7839506172839505\n"
          ],
          "name": "stdout"
        },
        {
          "output_type": "stream",
          "text": [
            "81it [00:04, 19.34it/s]\n"
          ],
          "name": "stderr"
        },
        {
          "output_type": "stream",
          "text": [
            "epoch: 50, loss: 9.194028854370117, train accuracy: 0.8964451313755796\n"
          ],
          "name": "stdout"
        },
        {
          "output_type": "stream",
          "text": [
            "3it [00:00, 21.84it/s]"
          ],
          "name": "stderr"
        },
        {
          "output_type": "stream",
          "text": [
            "epoch: 50, test accuracy: 0.7962962962962963\n"
          ],
          "name": "stdout"
        },
        {
          "output_type": "stream",
          "text": [
            "81it [00:04, 19.79it/s]\n"
          ],
          "name": "stderr"
        },
        {
          "output_type": "stream",
          "text": [
            "epoch: 51, loss: 7.958564758300781, train accuracy: 0.9032899094722895\n"
          ],
          "name": "stdout"
        },
        {
          "output_type": "stream",
          "text": [
            "3it [00:00, 21.90it/s]"
          ],
          "name": "stderr"
        },
        {
          "output_type": "stream",
          "text": [
            "epoch: 51, test accuracy: 0.7786596119929452\n"
          ],
          "name": "stdout"
        },
        {
          "output_type": "stream",
          "text": [
            "81it [00:04, 19.33it/s]\n"
          ],
          "name": "stderr"
        },
        {
          "output_type": "stream",
          "text": [
            "epoch: 52, loss: 16.12725067138672, train accuracy: 0.9094722896886729\n"
          ],
          "name": "stdout"
        },
        {
          "output_type": "stream",
          "text": [
            "3it [00:00, 21.68it/s]"
          ],
          "name": "stderr"
        },
        {
          "output_type": "stream",
          "text": [
            "epoch: 52, test accuracy: 0.8095238095238095\n"
          ],
          "name": "stdout"
        },
        {
          "output_type": "stream",
          "text": [
            "81it [00:04, 19.62it/s]\n"
          ],
          "name": "stderr"
        },
        {
          "output_type": "stream",
          "text": [
            "epoch: 53, loss: 3.5635344982147217, train accuracy: 0.9107970854493265\n"
          ],
          "name": "stdout"
        },
        {
          "output_type": "stream",
          "text": [
            "3it [00:00, 21.63it/s]"
          ],
          "name": "stderr"
        },
        {
          "output_type": "stream",
          "text": [
            "epoch: 53, test accuracy: 0.7724867724867724\n"
          ],
          "name": "stdout"
        },
        {
          "output_type": "stream",
          "text": [
            "81it [00:04, 19.71it/s]\n"
          ],
          "name": "stderr"
        },
        {
          "output_type": "stream",
          "text": [
            "epoch: 54, loss: 10.374456405639648, train accuracy: 0.9107970854493266\n"
          ],
          "name": "stdout"
        },
        {
          "output_type": "stream",
          "text": [
            "3it [00:00, 21.66it/s]"
          ],
          "name": "stderr"
        },
        {
          "output_type": "stream",
          "text": [
            "epoch: 54, test accuracy: 0.8112874779541447\n"
          ],
          "name": "stdout"
        },
        {
          "output_type": "stream",
          "text": [
            "81it [00:04, 19.53it/s]\n"
          ],
          "name": "stderr"
        },
        {
          "output_type": "stream",
          "text": [
            "epoch: 55, loss: 19.698945999145508, train accuracy: 0.9240450430558623\n"
          ],
          "name": "stdout"
        },
        {
          "output_type": "stream",
          "text": [
            "3it [00:00, 21.80it/s]"
          ],
          "name": "stderr"
        },
        {
          "output_type": "stream",
          "text": [
            "epoch: 55, test accuracy: 0.8156966490299822\n"
          ],
          "name": "stdout"
        },
        {
          "output_type": "stream",
          "text": [
            "81it [00:04, 19.78it/s]\n"
          ],
          "name": "stderr"
        },
        {
          "output_type": "stream",
          "text": [
            "epoch: 56, loss: 15.164179801940918, train accuracy: 0.9200706557739015\n"
          ],
          "name": "stdout"
        },
        {
          "output_type": "stream",
          "text": [
            "3it [00:00, 19.57it/s]"
          ],
          "name": "stderr"
        },
        {
          "output_type": "stream",
          "text": [
            "epoch: 56, test accuracy: 0.7592592592592592\n"
          ],
          "name": "stdout"
        },
        {
          "output_type": "stream",
          "text": [
            "81it [00:04, 19.30it/s]\n"
          ],
          "name": "stderr"
        },
        {
          "output_type": "stream",
          "text": [
            "epoch: 57, loss: 4.9222941398620605, train accuracy: 0.9260322366968425\n"
          ],
          "name": "stdout"
        },
        {
          "output_type": "stream",
          "text": [
            "3it [00:00, 22.20it/s]"
          ],
          "name": "stderr"
        },
        {
          "output_type": "stream",
          "text": [
            "epoch: 57, test accuracy: 0.8262786596119928\n"
          ],
          "name": "stdout"
        },
        {
          "output_type": "stream",
          "text": [
            "81it [00:04, 19.69it/s]\n"
          ],
          "name": "stderr"
        },
        {
          "output_type": "stream",
          "text": [
            "epoch: 58, loss: 7.876769542694092, train accuracy: 0.9397217928902627\n"
          ],
          "name": "stdout"
        },
        {
          "output_type": "stream",
          "text": [
            "3it [00:00, 21.68it/s]"
          ],
          "name": "stderr"
        },
        {
          "output_type": "stream",
          "text": [
            "epoch: 58, test accuracy: 0.7874779541446207\n"
          ],
          "name": "stdout"
        },
        {
          "output_type": "stream",
          "text": [
            "81it [00:04, 19.53it/s]\n"
          ],
          "name": "stderr"
        },
        {
          "output_type": "stream",
          "text": [
            "epoch: 59, loss: 10.195291519165039, train accuracy: 0.9183042614263633\n"
          ],
          "name": "stdout"
        },
        {
          "output_type": "stream",
          "text": [
            "3it [00:00, 21.58it/s]"
          ],
          "name": "stderr"
        },
        {
          "output_type": "stream",
          "text": [
            "epoch: 59, test accuracy: 0.8156966490299823\n"
          ],
          "name": "stdout"
        },
        {
          "output_type": "stream",
          "text": [
            "81it [00:04, 19.47it/s]\n"
          ],
          "name": "stderr"
        },
        {
          "output_type": "stream",
          "text": [
            "epoch: 60, loss: 11.409324645996094, train accuracy: 0.9370722013689555\n"
          ],
          "name": "stdout"
        },
        {
          "output_type": "stream",
          "text": [
            "3it [00:00, 22.17it/s]"
          ],
          "name": "stderr"
        },
        {
          "output_type": "stream",
          "text": [
            "epoch: 60, test accuracy: 0.7962962962962963\n"
          ],
          "name": "stdout"
        },
        {
          "output_type": "stream",
          "text": [
            "81it [00:04, 19.55it/s]\n"
          ],
          "name": "stderr"
        },
        {
          "output_type": "stream",
          "text": [
            "epoch: 61, loss: 5.604814052581787, train accuracy: 0.9401633914771472\n"
          ],
          "name": "stdout"
        },
        {
          "output_type": "stream",
          "text": [
            "3it [00:00, 21.47it/s]"
          ],
          "name": "stderr"
        },
        {
          "output_type": "stream",
          "text": [
            "epoch: 61, test accuracy: 0.8095238095238096\n"
          ],
          "name": "stdout"
        },
        {
          "output_type": "stream",
          "text": [
            "81it [00:04, 19.43it/s]\n"
          ],
          "name": "stderr"
        },
        {
          "output_type": "stream",
          "text": [
            "epoch: 62, loss: 7.747602939605713, train accuracy: 0.9366306027820711\n"
          ],
          "name": "stdout"
        },
        {
          "output_type": "stream",
          "text": [
            "3it [00:00, 21.67it/s]"
          ],
          "name": "stderr"
        },
        {
          "output_type": "stream",
          "text": [
            "epoch: 62, test accuracy: 0.8174603174603173\n"
          ],
          "name": "stdout"
        },
        {
          "output_type": "stream",
          "text": [
            "81it [00:04, 19.58it/s]\n"
          ],
          "name": "stderr"
        },
        {
          "output_type": "stream",
          "text": [
            "epoch: 63, loss: 6.723905563354492, train accuracy: 0.9421505851181278\n"
          ],
          "name": "stdout"
        },
        {
          "output_type": "stream",
          "text": [
            "3it [00:00, 21.70it/s]"
          ],
          "name": "stderr"
        },
        {
          "output_type": "stream",
          "text": [
            "epoch: 63, test accuracy: 0.8174603174603176\n"
          ],
          "name": "stdout"
        },
        {
          "output_type": "stream",
          "text": [
            "81it [00:04, 19.20it/s]\n"
          ],
          "name": "stderr"
        },
        {
          "output_type": "stream",
          "text": [
            "epoch: 64, loss: 8.530359268188477, train accuracy: 0.9569441377787592\n"
          ],
          "name": "stdout"
        },
        {
          "output_type": "stream",
          "text": [
            "3it [00:00, 20.89it/s]"
          ],
          "name": "stderr"
        },
        {
          "output_type": "stream",
          "text": [
            "epoch: 64, test accuracy: 0.810405643738977\n"
          ],
          "name": "stdout"
        },
        {
          "output_type": "stream",
          "text": [
            "81it [00:04, 19.58it/s]\n"
          ],
          "name": "stderr"
        },
        {
          "output_type": "stream",
          "text": [
            "epoch: 65, loss: 4.057572841644287, train accuracy: 0.9368514020755133\n"
          ],
          "name": "stdout"
        },
        {
          "output_type": "stream",
          "text": [
            "3it [00:00, 22.10it/s]"
          ],
          "name": "stderr"
        },
        {
          "output_type": "stream",
          "text": [
            "epoch: 65, test accuracy: 0.7768959435626103\n"
          ],
          "name": "stdout"
        },
        {
          "output_type": "stream",
          "text": [
            "81it [00:04, 19.49it/s]\n"
          ],
          "name": "stderr"
        },
        {
          "output_type": "stream",
          "text": [
            "epoch: 66, loss: 8.071249961853027, train accuracy: 0.9556193420181056\n"
          ],
          "name": "stdout"
        },
        {
          "output_type": "stream",
          "text": [
            "3it [00:00, 21.87it/s]"
          ],
          "name": "stderr"
        },
        {
          "output_type": "stream",
          "text": [
            "epoch: 66, test accuracy: 0.8165784832451498\n"
          ],
          "name": "stdout"
        },
        {
          "output_type": "stream",
          "text": [
            "81it [00:04, 19.66it/s]\n"
          ],
          "name": "stderr"
        },
        {
          "output_type": "stream",
          "text": [
            "epoch: 67, loss: 14.849120140075684, train accuracy: 0.9531905497902408\n"
          ],
          "name": "stdout"
        },
        {
          "output_type": "stream",
          "text": [
            "3it [00:00, 21.77it/s]"
          ],
          "name": "stderr"
        },
        {
          "output_type": "stream",
          "text": [
            "epoch: 67, test accuracy: 0.7945326278659612\n"
          ],
          "name": "stdout"
        },
        {
          "output_type": "stream",
          "text": [
            "81it [00:04, 19.78it/s]\n"
          ],
          "name": "stderr"
        },
        {
          "output_type": "stream",
          "text": [
            "epoch: 68, loss: 3.106867790222168, train accuracy: 0.9452417752263192\n"
          ],
          "name": "stdout"
        },
        {
          "output_type": "stream",
          "text": [
            "3it [00:00, 21.93it/s]"
          ],
          "name": "stderr"
        },
        {
          "output_type": "stream",
          "text": [
            "epoch: 68, test accuracy: 0.8253968253968255\n"
          ],
          "name": "stdout"
        },
        {
          "output_type": "stream",
          "text": [
            "81it [00:04, 19.57it/s]\n"
          ],
          "name": "stderr"
        },
        {
          "output_type": "stream",
          "text": [
            "epoch: 69, loss: 4.588176250457764, train accuracy: 0.9642305144623537\n"
          ],
          "name": "stdout"
        },
        {
          "output_type": "stream",
          "text": [
            "3it [00:00, 21.61it/s]"
          ],
          "name": "stderr"
        },
        {
          "output_type": "stream",
          "text": [
            "epoch: 69, test accuracy: 0.8165784832451498\n"
          ],
          "name": "stdout"
        },
        {
          "output_type": "stream",
          "text": [
            "81it [00:04, 19.74it/s]\n"
          ],
          "name": "stderr"
        },
        {
          "output_type": "stream",
          "text": [
            "epoch: 70, loss: 5.6984663009643555, train accuracy: 0.9538529476705676\n"
          ],
          "name": "stdout"
        },
        {
          "output_type": "stream",
          "text": [
            "3it [00:00, 21.85it/s]"
          ],
          "name": "stderr"
        },
        {
          "output_type": "stream",
          "text": [
            "epoch: 70, test accuracy: 0.792768959435626\n"
          ],
          "name": "stdout"
        },
        {
          "output_type": "stream",
          "text": [
            "81it [00:04, 19.65it/s]\n"
          ],
          "name": "stderr"
        },
        {
          "output_type": "stream",
          "text": [
            "epoch: 71, loss: 11.421345710754395, train accuracy: 0.9518657540295872\n"
          ],
          "name": "stdout"
        },
        {
          "output_type": "stream",
          "text": [
            "3it [00:00, 21.43it/s]"
          ],
          "name": "stderr"
        },
        {
          "output_type": "stream",
          "text": [
            "epoch: 71, test accuracy: 0.8262786596119928\n"
          ],
          "name": "stdout"
        },
        {
          "output_type": "stream",
          "text": [
            "81it [00:04, 19.71it/s]\n"
          ],
          "name": "stderr"
        },
        {
          "output_type": "stream",
          "text": [
            "epoch: 72, loss: 5.875214576721191, train accuracy: 0.9613601236476044\n"
          ],
          "name": "stdout"
        },
        {
          "output_type": "stream",
          "text": [
            "3it [00:00, 21.54it/s]"
          ],
          "name": "stderr"
        },
        {
          "output_type": "stream",
          "text": [
            "epoch: 72, test accuracy: 0.8333333333333334\n"
          ],
          "name": "stdout"
        },
        {
          "output_type": "stream",
          "text": [
            "81it [00:04, 19.55it/s]\n"
          ],
          "name": "stderr"
        },
        {
          "output_type": "stream",
          "text": [
            "epoch: 73, loss: 2.7479360103607178, train accuracy: 0.9582689335394127\n"
          ],
          "name": "stdout"
        },
        {
          "output_type": "stream",
          "text": [
            "3it [00:00, 22.04it/s]"
          ],
          "name": "stderr"
        },
        {
          "output_type": "stream",
          "text": [
            "epoch: 73, test accuracy: 0.8412698412698412\n"
          ],
          "name": "stdout"
        },
        {
          "output_type": "stream",
          "text": [
            "81it [00:04, 19.33it/s]\n"
          ],
          "name": "stderr"
        },
        {
          "output_type": "stream",
          "text": [
            "epoch: 74, loss: 3.6704370975494385, train accuracy: 0.9693088982115257\n"
          ],
          "name": "stdout"
        },
        {
          "output_type": "stream",
          "text": [
            "3it [00:00, 21.29it/s]"
          ],
          "name": "stderr"
        },
        {
          "output_type": "stream",
          "text": [
            "epoch: 74, test accuracy: 0.8377425044091711\n"
          ],
          "name": "stdout"
        },
        {
          "output_type": "stream",
          "text": [
            "81it [00:04, 19.40it/s]\n"
          ],
          "name": "stderr"
        },
        {
          "output_type": "stream",
          "text": [
            "epoch: 75, loss: 3.5367534160614014, train accuracy: 0.9529697504967986\n"
          ],
          "name": "stdout"
        },
        {
          "output_type": "stream",
          "text": [
            "3it [00:00, 21.68it/s]"
          ],
          "name": "stderr"
        },
        {
          "output_type": "stream",
          "text": [
            "epoch: 75, test accuracy: 0.82010582010582\n"
          ],
          "name": "stdout"
        },
        {
          "output_type": "stream",
          "text": [
            "81it [00:04, 19.46it/s]\n"
          ],
          "name": "stderr"
        },
        {
          "output_type": "stream",
          "text": [
            "epoch: 76, loss: 4.7498345375061035, train accuracy: 0.9693088982115257\n"
          ],
          "name": "stdout"
        },
        {
          "output_type": "stream",
          "text": [
            "3it [00:00, 19.23it/s]"
          ],
          "name": "stderr"
        },
        {
          "output_type": "stream",
          "text": [
            "epoch: 76, test accuracy: 0.8386243386243385\n"
          ],
          "name": "stdout"
        },
        {
          "output_type": "stream",
          "text": [
            "81it [00:04, 19.26it/s]\n"
          ],
          "name": "stderr"
        },
        {
          "output_type": "stream",
          "text": [
            "epoch: 77, loss: 6.985103607177734, train accuracy: 0.9679841024508722\n"
          ],
          "name": "stdout"
        },
        {
          "output_type": "stream",
          "text": [
            "2it [00:00, 19.99it/s]"
          ],
          "name": "stderr"
        },
        {
          "output_type": "stream",
          "text": [
            "epoch: 77, test accuracy: 0.837742504409171\n"
          ],
          "name": "stdout"
        },
        {
          "output_type": "stream",
          "text": [
            "81it [00:04, 19.50it/s]\n"
          ],
          "name": "stderr"
        },
        {
          "output_type": "stream",
          "text": [
            "epoch: 78, loss: 11.206867218017578, train accuracy: 0.95606094060499\n"
          ],
          "name": "stdout"
        },
        {
          "output_type": "stream",
          "text": [
            "3it [00:00, 21.54it/s]"
          ],
          "name": "stderr"
        },
        {
          "output_type": "stream",
          "text": [
            "epoch: 78, test accuracy: 0.8192239858906526\n"
          ],
          "name": "stdout"
        },
        {
          "output_type": "stream",
          "text": [
            "81it [00:04, 19.43it/s]\n"
          ],
          "name": "stderr"
        },
        {
          "output_type": "stream",
          "text": [
            "epoch: 79, loss: 1.8863486051559448, train accuracy: 0.9741664826672554\n"
          ],
          "name": "stdout"
        },
        {
          "output_type": "stream",
          "text": [
            "3it [00:00, 21.50it/s]"
          ],
          "name": "stderr"
        },
        {
          "output_type": "stream",
          "text": [
            "epoch: 79, test accuracy: 0.8421516754850087\n"
          ],
          "name": "stdout"
        },
        {
          "output_type": "stream",
          "text": [
            "81it [00:04, 19.58it/s]\n"
          ],
          "name": "stderr"
        },
        {
          "output_type": "stream",
          "text": [
            "epoch: 80, loss: 11.400485038757324, train accuracy: 0.9708544932656215\n"
          ],
          "name": "stdout"
        },
        {
          "output_type": "stream",
          "text": [
            "2it [00:00, 19.88it/s]"
          ],
          "name": "stderr"
        },
        {
          "output_type": "stream",
          "text": [
            "epoch: 80, test accuracy: 0.8403880070546735\n"
          ],
          "name": "stdout"
        },
        {
          "output_type": "stream",
          "text": [
            "81it [00:04, 19.52it/s]\n"
          ],
          "name": "stderr"
        },
        {
          "output_type": "stream",
          "text": [
            "epoch: 81, loss: 4.334045886993408, train accuracy: 0.9657761095164495\n"
          ],
          "name": "stdout"
        },
        {
          "output_type": "stream",
          "text": [
            "3it [00:00, 21.98it/s]"
          ],
          "name": "stderr"
        },
        {
          "output_type": "stream",
          "text": [
            "epoch: 81, test accuracy: 0.8253968253968255\n"
          ],
          "name": "stdout"
        },
        {
          "output_type": "stream",
          "text": [
            "81it [00:04, 19.76it/s]\n"
          ],
          "name": "stderr"
        },
        {
          "output_type": "stream",
          "text": [
            "epoch: 82, loss: 5.980778694152832, train accuracy: 0.9719584897328329\n"
          ],
          "name": "stdout"
        },
        {
          "output_type": "stream",
          "text": [
            "3it [00:00, 21.53it/s]"
          ],
          "name": "stderr"
        },
        {
          "output_type": "stream",
          "text": [
            "epoch: 82, test accuracy: 0.8492063492063491\n"
          ],
          "name": "stdout"
        },
        {
          "output_type": "stream",
          "text": [
            "81it [00:04, 19.51it/s]\n"
          ],
          "name": "stderr"
        },
        {
          "output_type": "stream",
          "text": [
            "epoch: 83, loss: 10.37092113494873, train accuracy: 0.9688672996246412\n"
          ],
          "name": "stdout"
        },
        {
          "output_type": "stream",
          "text": [
            "3it [00:00, 21.61it/s]"
          ],
          "name": "stderr"
        },
        {
          "output_type": "stream",
          "text": [
            "epoch: 83, test accuracy: 0.8165784832451498\n"
          ],
          "name": "stdout"
        },
        {
          "output_type": "stream",
          "text": [
            "81it [00:04, 19.65it/s]\n"
          ],
          "name": "stderr"
        },
        {
          "output_type": "stream",
          "text": [
            "epoch: 84, loss: 3.5341105461120605, train accuracy: 0.9739456833738132\n"
          ],
          "name": "stdout"
        },
        {
          "output_type": "stream",
          "text": [
            "2it [00:00, 19.15it/s]"
          ],
          "name": "stderr"
        },
        {
          "output_type": "stream",
          "text": [
            "epoch: 84, test accuracy: 0.8430335097001763\n"
          ],
          "name": "stdout"
        },
        {
          "output_type": "stream",
          "text": [
            "81it [00:04, 19.40it/s]\n"
          ],
          "name": "stderr"
        },
        {
          "output_type": "stream",
          "text": [
            "epoch: 85, loss: 6.833345413208008, train accuracy: 0.9701920953852948\n"
          ],
          "name": "stdout"
        },
        {
          "output_type": "stream",
          "text": [
            "3it [00:00, 20.10it/s]"
          ],
          "name": "stderr"
        },
        {
          "output_type": "stream",
          "text": [
            "epoch: 85, test accuracy: 0.8245149911816577\n"
          ],
          "name": "stdout"
        },
        {
          "output_type": "stream",
          "text": [
            "81it [00:04, 19.50it/s]\n"
          ],
          "name": "stderr"
        },
        {
          "output_type": "stream",
          "text": [
            "epoch: 86, loss: 2.341500759124756, train accuracy: 0.977920070655774\n"
          ],
          "name": "stdout"
        },
        {
          "output_type": "stream",
          "text": [
            "3it [00:00, 22.05it/s]"
          ],
          "name": "stderr"
        },
        {
          "output_type": "stream",
          "text": [
            "epoch: 86, test accuracy: 0.8377425044091711\n"
          ],
          "name": "stdout"
        },
        {
          "output_type": "stream",
          "text": [
            "81it [00:04, 19.49it/s]\n"
          ],
          "name": "stderr"
        },
        {
          "output_type": "stream",
          "text": [
            "epoch: 87, loss: 4.165765285491943, train accuracy: 0.9712960918525061\n"
          ],
          "name": "stdout"
        },
        {
          "output_type": "stream",
          "text": [
            "3it [00:00, 21.21it/s]"
          ],
          "name": "stderr"
        },
        {
          "output_type": "stream",
          "text": [
            "epoch: 87, test accuracy: 0.8421516754850086\n"
          ],
          "name": "stdout"
        },
        {
          "output_type": "stream",
          "text": [
            "81it [00:04, 19.28it/s]\n"
          ],
          "name": "stderr"
        },
        {
          "output_type": "stream",
          "text": [
            "epoch: 88, loss: 2.3011152744293213, train accuracy: 0.9708544932656215\n"
          ],
          "name": "stdout"
        },
        {
          "output_type": "stream",
          "text": [
            "3it [00:00, 19.77it/s]"
          ],
          "name": "stderr"
        },
        {
          "output_type": "stream",
          "text": [
            "epoch: 88, test accuracy: 0.8333333333333334\n"
          ],
          "name": "stdout"
        },
        {
          "output_type": "stream",
          "text": [
            "81it [00:04, 19.39it/s]\n"
          ],
          "name": "stderr"
        },
        {
          "output_type": "stream",
          "text": [
            "epoch: 89, loss: 2.7479379177093506, train accuracy: 0.9768160741885626\n"
          ],
          "name": "stdout"
        },
        {
          "output_type": "stream",
          "text": [
            "3it [00:00, 21.66it/s]"
          ],
          "name": "stderr"
        },
        {
          "output_type": "stream",
          "text": [
            "epoch: 89, test accuracy: 0.8465608465608464\n"
          ],
          "name": "stdout"
        },
        {
          "output_type": "stream",
          "text": [
            "81it [00:04, 19.53it/s]\n"
          ],
          "name": "stderr"
        },
        {
          "output_type": "stream",
          "text": [
            "epoch: 90, loss: 5.835396766662598, train accuracy: 0.9697504967984104\n"
          ],
          "name": "stdout"
        },
        {
          "output_type": "stream",
          "text": [
            "3it [00:00, 21.07it/s]"
          ],
          "name": "stderr"
        },
        {
          "output_type": "stream",
          "text": [
            "epoch: 90, test accuracy: 0.8447971781305114\n"
          ],
          "name": "stdout"
        },
        {
          "output_type": "stream",
          "text": [
            "81it [00:04, 19.42it/s]\n"
          ],
          "name": "stderr"
        },
        {
          "output_type": "stream",
          "text": [
            "epoch: 91, loss: 2.513068437576294, train accuracy: 0.977920070655774\n"
          ],
          "name": "stdout"
        },
        {
          "output_type": "stream",
          "text": [
            "3it [00:00, 22.05it/s]"
          ],
          "name": "stderr"
        },
        {
          "output_type": "stream",
          "text": [
            "epoch: 91, test accuracy: 0.8606701940035273\n"
          ],
          "name": "stdout"
        },
        {
          "output_type": "stream",
          "text": [
            "81it [00:04, 19.33it/s]\n"
          ],
          "name": "stderr"
        },
        {
          "output_type": "stream",
          "text": [
            "epoch: 92, loss: 1.308592677116394, train accuracy: 0.98145285935085\n"
          ],
          "name": "stdout"
        },
        {
          "output_type": "stream",
          "text": [
            "3it [00:00, 21.80it/s]"
          ],
          "name": "stderr"
        },
        {
          "output_type": "stream",
          "text": [
            "epoch: 92, test accuracy: 0.8245149911816577\n"
          ],
          "name": "stdout"
        },
        {
          "output_type": "stream",
          "text": [
            "81it [00:04, 19.70it/s]\n"
          ],
          "name": "stderr"
        },
        {
          "output_type": "stream",
          "text": [
            "epoch: 93, loss: 1.275579571723938, train accuracy: 0.9774784720688896\n"
          ],
          "name": "stdout"
        },
        {
          "output_type": "stream",
          "text": [
            "3it [00:00, 22.19it/s]"
          ],
          "name": "stderr"
        },
        {
          "output_type": "stream",
          "text": [
            "epoch: 93, test accuracy: 0.8492063492063491\n"
          ],
          "name": "stdout"
        },
        {
          "output_type": "stream",
          "text": [
            "81it [00:04, 19.63it/s]\n"
          ],
          "name": "stderr"
        },
        {
          "output_type": "stream",
          "text": [
            "epoch: 94, loss: 6.38277006149292, train accuracy: 0.9695296975049679\n"
          ],
          "name": "stdout"
        },
        {
          "output_type": "stream",
          "text": [
            "3it [00:00, 20.84it/s]"
          ],
          "name": "stderr"
        },
        {
          "output_type": "stream",
          "text": [
            "epoch: 94, test accuracy: 0.8236331569664901\n"
          ],
          "name": "stdout"
        },
        {
          "output_type": "stream",
          "text": [
            "81it [00:04, 19.55it/s]\n"
          ],
          "name": "stderr"
        },
        {
          "output_type": "stream",
          "text": [
            "epoch: 95, loss: 5.421703338623047, train accuracy: 0.9728416869066019\n"
          ],
          "name": "stdout"
        },
        {
          "output_type": "stream",
          "text": [
            "3it [00:00, 22.01it/s]"
          ],
          "name": "stderr"
        },
        {
          "output_type": "stream",
          "text": [
            "epoch: 95, test accuracy: 0.843915343915344\n"
          ],
          "name": "stdout"
        },
        {
          "output_type": "stream",
          "text": [
            "81it [00:04, 19.22it/s]\n"
          ],
          "name": "stderr"
        },
        {
          "output_type": "stream",
          "text": [
            "epoch: 96, loss: 1.3816933631896973, train accuracy: 0.9829984544049459\n"
          ],
          "name": "stdout"
        },
        {
          "output_type": "stream",
          "text": [
            "3it [00:00, 22.04it/s]"
          ],
          "name": "stderr"
        },
        {
          "output_type": "stream",
          "text": [
            "epoch: 96, test accuracy: 0.8527336860670192\n"
          ],
          "name": "stdout"
        },
        {
          "output_type": "stream",
          "text": [
            "81it [00:04, 19.79it/s]\n"
          ],
          "name": "stderr"
        },
        {
          "output_type": "stream",
          "text": [
            "epoch: 97, loss: 0.5944080948829651, train accuracy: 0.9869728416869066\n"
          ],
          "name": "stdout"
        },
        {
          "output_type": "stream",
          "text": [
            "3it [00:00, 21.57it/s]"
          ],
          "name": "stderr"
        },
        {
          "output_type": "stream",
          "text": [
            "epoch: 97, test accuracy: 0.8659611992945325\n"
          ],
          "name": "stdout"
        },
        {
          "output_type": "stream",
          "text": [
            "81it [00:04, 19.55it/s]\n"
          ],
          "name": "stderr"
        },
        {
          "output_type": "stream",
          "text": [
            "epoch: 98, loss: 3.2426655292510986, train accuracy: 0.9748288805475823\n"
          ],
          "name": "stdout"
        },
        {
          "output_type": "stream",
          "text": [
            "3it [00:00, 21.93it/s]"
          ],
          "name": "stderr"
        },
        {
          "output_type": "stream",
          "text": [
            "epoch: 98, test accuracy: 0.8095238095238095\n"
          ],
          "name": "stdout"
        },
        {
          "output_type": "stream",
          "text": [
            "81it [00:04, 19.76it/s]\n"
          ],
          "name": "stderr"
        },
        {
          "output_type": "stream",
          "text": [
            "epoch: 99, loss: 3.3781003952026367, train accuracy: 0.9834400529918305\n"
          ],
          "name": "stdout"
        },
        {
          "output_type": "stream",
          "text": [
            "3it [00:00, 21.88it/s]"
          ],
          "name": "stderr"
        },
        {
          "output_type": "stream",
          "text": [
            "epoch: 99, test accuracy: 0.857142857142857\n"
          ],
          "name": "stdout"
        },
        {
          "output_type": "stream",
          "text": [
            "81it [00:04, 19.22it/s]\n"
          ],
          "name": "stderr"
        },
        {
          "output_type": "stream",
          "text": [
            "epoch: 100, loss: 9.641400337219238, train accuracy: 0.9858688452196953\n"
          ],
          "name": "stdout"
        },
        {
          "output_type": "stream",
          "text": [
            "3it [00:00, 21.98it/s]"
          ],
          "name": "stderr"
        },
        {
          "output_type": "stream",
          "text": [
            "epoch: 100, test accuracy: 0.834215167548501\n"
          ],
          "name": "stdout"
        },
        {
          "output_type": "stream",
          "text": [
            "81it [00:04, 19.57it/s]\n"
          ],
          "name": "stderr"
        },
        {
          "output_type": "stream",
          "text": [
            "epoch: 101, loss: 4.232768535614014, train accuracy: 0.9849856480459261\n"
          ],
          "name": "stdout"
        },
        {
          "output_type": "stream",
          "text": [
            "3it [00:00, 21.31it/s]"
          ],
          "name": "stderr"
        },
        {
          "output_type": "stream",
          "text": [
            "epoch: 101, test accuracy: 0.8051146384479717\n"
          ],
          "name": "stdout"
        },
        {
          "output_type": "stream",
          "text": [
            "81it [00:04, 19.67it/s]\n"
          ],
          "name": "stderr"
        },
        {
          "output_type": "stream",
          "text": [
            "epoch: 102, loss: 2.694211959838867, train accuracy: 0.9768160741885626\n"
          ],
          "name": "stdout"
        },
        {
          "output_type": "stream",
          "text": [
            "3it [00:00, 22.02it/s]"
          ],
          "name": "stderr"
        },
        {
          "output_type": "stream",
          "text": [
            "epoch: 102, test accuracy: 0.8624338624338623\n"
          ],
          "name": "stdout"
        },
        {
          "output_type": "stream",
          "text": [
            "81it [00:04, 19.67it/s]\n"
          ],
          "name": "stderr"
        },
        {
          "output_type": "stream",
          "text": [
            "epoch: 103, loss: 5.748403549194336, train accuracy: 0.9841024508721573\n"
          ],
          "name": "stdout"
        },
        {
          "output_type": "stream",
          "text": [
            "3it [00:00, 20.06it/s]"
          ],
          "name": "stderr"
        },
        {
          "output_type": "stream",
          "text": [
            "epoch: 103, test accuracy: 0.8386243386243385\n"
          ],
          "name": "stdout"
        },
        {
          "output_type": "stream",
          "text": [
            "81it [00:04, 19.46it/s]\n"
          ],
          "name": "stderr"
        },
        {
          "output_type": "stream",
          "text": [
            "epoch: 104, loss: 1.6204724311828613, train accuracy: 0.9849856480459265\n"
          ],
          "name": "stdout"
        },
        {
          "output_type": "stream",
          "text": [
            "3it [00:00, 20.10it/s]"
          ],
          "name": "stderr"
        },
        {
          "output_type": "stream",
          "text": [
            "epoch: 104, test accuracy: 0.8527336860670192\n"
          ],
          "name": "stdout"
        },
        {
          "output_type": "stream",
          "text": [
            "81it [00:04, 19.67it/s]\n"
          ],
          "name": "stderr"
        },
        {
          "output_type": "stream",
          "text": [
            "epoch: 105, loss: 0.3767976760864258, train accuracy: 0.9765952748951204\n"
          ],
          "name": "stdout"
        },
        {
          "output_type": "stream",
          "text": [
            "3it [00:00, 21.65it/s]"
          ],
          "name": "stderr"
        },
        {
          "output_type": "stream",
          "text": [
            "epoch: 105, test accuracy: 0.8483245149911814\n"
          ],
          "name": "stdout"
        },
        {
          "output_type": "stream",
          "text": [
            "81it [00:04, 19.58it/s]\n"
          ],
          "name": "stderr"
        },
        {
          "output_type": "stream",
          "text": [
            "epoch: 106, loss: 9.044451713562012, train accuracy: 0.9865312431000222\n"
          ],
          "name": "stdout"
        },
        {
          "output_type": "stream",
          "text": [
            "3it [00:00, 21.77it/s]"
          ],
          "name": "stderr"
        },
        {
          "output_type": "stream",
          "text": [
            "epoch: 106, test accuracy: 0.8518518518518516\n"
          ],
          "name": "stdout"
        },
        {
          "output_type": "stream",
          "text": [
            "81it [00:04, 19.52it/s]\n"
          ],
          "name": "stderr"
        },
        {
          "output_type": "stream",
          "text": [
            "epoch: 107, loss: 1.1533246040344238, train accuracy: 0.9865312431000219\n"
          ],
          "name": "stdout"
        },
        {
          "output_type": "stream",
          "text": [
            "3it [00:00, 21.37it/s]"
          ],
          "name": "stderr"
        },
        {
          "output_type": "stream",
          "text": [
            "epoch: 107, test accuracy: 0.8553791887125219\n"
          ],
          "name": "stdout"
        },
        {
          "output_type": "stream",
          "text": [
            "81it [00:04, 19.01it/s]\n"
          ],
          "name": "stderr"
        },
        {
          "output_type": "stream",
          "text": [
            "epoch: 108, loss: 3.969856023788452, train accuracy: 0.9803488628836389\n"
          ],
          "name": "stdout"
        },
        {
          "output_type": "stream",
          "text": [
            "3it [00:00, 20.68it/s]"
          ],
          "name": "stderr"
        },
        {
          "output_type": "stream",
          "text": [
            "epoch: 108, test accuracy: 0.857142857142857\n"
          ],
          "name": "stdout"
        },
        {
          "output_type": "stream",
          "text": [
            "81it [00:04, 19.46it/s]\n"
          ],
          "name": "stderr"
        },
        {
          "output_type": "stream",
          "text": [
            "epoch: 109, loss: 3.7852935791015625, train accuracy: 0.9799072642967542\n"
          ],
          "name": "stdout"
        },
        {
          "output_type": "stream",
          "text": [
            "3it [00:00, 21.96it/s]"
          ],
          "name": "stderr"
        },
        {
          "output_type": "stream",
          "text": [
            "epoch: 109, test accuracy: 0.8492063492063493\n"
          ],
          "name": "stdout"
        },
        {
          "output_type": "stream",
          "text": [
            "81it [00:04, 19.59it/s]\n"
          ],
          "name": "stderr"
        },
        {
          "output_type": "stream",
          "text": [
            "epoch: 110, loss: 0.3584519922733307, train accuracy: 0.9827776551115037\n"
          ],
          "name": "stdout"
        },
        {
          "output_type": "stream",
          "text": [
            "3it [00:00, 21.77it/s]"
          ],
          "name": "stderr"
        },
        {
          "output_type": "stream",
          "text": [
            "epoch: 110, test accuracy: 0.8633156966490299\n"
          ],
          "name": "stdout"
        },
        {
          "output_type": "stream",
          "text": [
            "81it [00:04, 19.47it/s]\n"
          ],
          "name": "stderr"
        },
        {
          "output_type": "stream",
          "text": [
            "epoch: 111, loss: 0.5847046375274658, train accuracy: 0.9902848310885406\n"
          ],
          "name": "stdout"
        },
        {
          "output_type": "stream",
          "text": [
            "3it [00:00, 22.21it/s]"
          ],
          "name": "stderr"
        },
        {
          "output_type": "stream",
          "text": [
            "epoch: 111, test accuracy: 0.8677248677248677\n"
          ],
          "name": "stdout"
        },
        {
          "output_type": "stream",
          "text": [
            "81it [00:04, 19.28it/s]\n"
          ],
          "name": "stderr"
        },
        {
          "output_type": "stream",
          "text": [
            "epoch: 112, loss: 27.395383834838867, train accuracy: 0.9807904614705234\n"
          ],
          "name": "stdout"
        },
        {
          "output_type": "stream",
          "text": [
            "3it [00:00, 21.98it/s]"
          ],
          "name": "stderr"
        },
        {
          "output_type": "stream",
          "text": [
            "epoch: 112, test accuracy: 0.818342151675485\n"
          ],
          "name": "stdout"
        },
        {
          "output_type": "stream",
          "text": [
            "81it [00:04, 19.80it/s]\n"
          ],
          "name": "stderr"
        },
        {
          "output_type": "stream",
          "text": [
            "epoch: 113, loss: 2.527515411376953, train accuracy: 0.9812320600574078\n"
          ],
          "name": "stdout"
        },
        {
          "output_type": "stream",
          "text": [
            "3it [00:00, 21.82it/s]"
          ],
          "name": "stderr"
        },
        {
          "output_type": "stream",
          "text": [
            "epoch: 113, test accuracy: 0.8562610229276897\n"
          ],
          "name": "stdout"
        },
        {
          "output_type": "stream",
          "text": [
            "81it [00:04, 19.62it/s]\n"
          ],
          "name": "stderr"
        },
        {
          "output_type": "stream",
          "text": [
            "epoch: 114, loss: 1.1818722486495972, train accuracy: 0.9909472289688672\n"
          ],
          "name": "stdout"
        },
        {
          "output_type": "stream",
          "text": [
            "3it [00:00, 22.13it/s]"
          ],
          "name": "stderr"
        },
        {
          "output_type": "stream",
          "text": [
            "epoch: 114, test accuracy: 0.8430335097001763\n"
          ],
          "name": "stdout"
        },
        {
          "output_type": "stream",
          "text": [
            "81it [00:04, 19.80it/s]\n"
          ],
          "name": "stderr"
        },
        {
          "output_type": "stream",
          "text": [
            "epoch: 115, loss: 2.0359230041503906, train accuracy: 0.9792448664164275\n"
          ],
          "name": "stdout"
        },
        {
          "output_type": "stream",
          "text": [
            "3it [00:00, 21.36it/s]"
          ],
          "name": "stderr"
        },
        {
          "output_type": "stream",
          "text": [
            "epoch: 115, test accuracy: 0.8544973544973546\n"
          ],
          "name": "stdout"
        },
        {
          "output_type": "stream",
          "text": [
            "81it [00:04, 19.30it/s]\n"
          ],
          "name": "stderr"
        },
        {
          "output_type": "stream",
          "text": [
            "epoch: 116, loss: 0.5879467725753784, train accuracy: 0.9929344226098477\n"
          ],
          "name": "stdout"
        },
        {
          "output_type": "stream",
          "text": [
            "3it [00:00, 22.14it/s]"
          ],
          "name": "stderr"
        },
        {
          "output_type": "stream",
          "text": [
            "epoch: 116, test accuracy: 0.8712522045855378\n"
          ],
          "name": "stdout"
        },
        {
          "output_type": "stream",
          "text": [
            "81it [00:04, 19.25it/s]\n"
          ],
          "name": "stderr"
        },
        {
          "output_type": "stream",
          "text": [
            "epoch: 117, loss: 19.029094696044922, train accuracy: 0.9827776551115037\n"
          ],
          "name": "stdout"
        },
        {
          "output_type": "stream",
          "text": [
            "3it [00:00, 22.00it/s]"
          ],
          "name": "stderr"
        },
        {
          "output_type": "stream",
          "text": [
            "epoch: 117, test accuracy: 0.847442680776014\n"
          ],
          "name": "stdout"
        },
        {
          "output_type": "stream",
          "text": [
            "81it [00:04, 19.36it/s]\n"
          ],
          "name": "stderr"
        },
        {
          "output_type": "stream",
          "text": [
            "epoch: 118, loss: 4.137151718139648, train accuracy: 0.9781408699492162\n"
          ],
          "name": "stdout"
        },
        {
          "output_type": "stream",
          "text": [
            "3it [00:00, 20.54it/s]"
          ],
          "name": "stderr"
        },
        {
          "output_type": "stream",
          "text": [
            "epoch: 118, test accuracy: 0.8447971781305114\n"
          ],
          "name": "stdout"
        },
        {
          "output_type": "stream",
          "text": [
            "81it [00:04, 19.23it/s]\n"
          ],
          "name": "stderr"
        },
        {
          "output_type": "stream",
          "text": [
            "epoch: 119, loss: 8.80519962310791, train accuracy: 0.9898432325016562\n"
          ],
          "name": "stdout"
        },
        {
          "output_type": "stream",
          "text": [
            "3it [00:00, 19.68it/s]"
          ],
          "name": "stderr"
        },
        {
          "output_type": "stream",
          "text": [
            "epoch: 119, test accuracy: 0.847442680776014\n"
          ],
          "name": "stdout"
        },
        {
          "output_type": "stream",
          "text": [
            "81it [00:04, 19.52it/s]\n"
          ],
          "name": "stderr"
        },
        {
          "output_type": "stream",
          "text": [
            "epoch: 120, loss: 0.46705761551856995, train accuracy: 0.9825568558180615\n"
          ],
          "name": "stdout"
        },
        {
          "output_type": "stream",
          "text": [
            "3it [00:00, 22.06it/s]"
          ],
          "name": "stderr"
        },
        {
          "output_type": "stream",
          "text": [
            "epoch: 120, test accuracy: 0.8633156966490299\n"
          ],
          "name": "stdout"
        },
        {
          "output_type": "stream",
          "text": [
            "81it [00:04, 19.53it/s]\n"
          ],
          "name": "stderr"
        },
        {
          "output_type": "stream",
          "text": [
            "epoch: 121, loss: 0.3148985207080841, train accuracy: 0.9900640317950983\n"
          ],
          "name": "stdout"
        },
        {
          "output_type": "stream",
          "text": [
            "3it [00:00, 21.90it/s]"
          ],
          "name": "stderr"
        },
        {
          "output_type": "stream",
          "text": [
            "epoch: 121, test accuracy: 0.8500881834215168\n"
          ],
          "name": "stdout"
        },
        {
          "output_type": "stream",
          "text": [
            "81it [00:04, 19.79it/s]\n"
          ],
          "name": "stderr"
        },
        {
          "output_type": "stream",
          "text": [
            "epoch: 122, loss: 1.3656868934631348, train accuracy: 0.9878560388606756\n"
          ],
          "name": "stdout"
        },
        {
          "output_type": "stream",
          "text": [
            "3it [00:00, 21.98it/s]"
          ],
          "name": "stderr"
        },
        {
          "output_type": "stream",
          "text": [
            "epoch: 122, test accuracy: 0.86331569664903\n"
          ],
          "name": "stdout"
        },
        {
          "output_type": "stream",
          "text": [
            "81it [00:04, 19.52it/s]\n"
          ],
          "name": "stderr"
        },
        {
          "output_type": "stream",
          "text": [
            "epoch: 123, loss: 0.22692734003067017, train accuracy: 0.9931552219032901\n"
          ],
          "name": "stdout"
        },
        {
          "output_type": "stream",
          "text": [
            "3it [00:00, 21.86it/s]"
          ],
          "name": "stderr"
        },
        {
          "output_type": "stream",
          "text": [
            "epoch: 123, test accuracy: 0.8774250440917105\n"
          ],
          "name": "stdout"
        },
        {
          "output_type": "stream",
          "text": [
            "81it [00:04, 19.71it/s]\n"
          ],
          "name": "stderr"
        },
        {
          "output_type": "stream",
          "text": [
            "epoch: 124, loss: 1.2361774444580078, train accuracy: 0.9825568558180615\n"
          ],
          "name": "stdout"
        },
        {
          "output_type": "stream",
          "text": [
            "3it [00:00, 21.52it/s]"
          ],
          "name": "stderr"
        },
        {
          "output_type": "stream",
          "text": [
            "epoch: 124, test accuracy: 0.8553791887125219\n"
          ],
          "name": "stdout"
        },
        {
          "output_type": "stream",
          "text": [
            "81it [00:04, 19.52it/s]\n"
          ],
          "name": "stderr"
        },
        {
          "output_type": "stream",
          "text": [
            "epoch: 125, loss: 2.1897470951080322, train accuracy: 0.9898432325016561\n"
          ],
          "name": "stdout"
        },
        {
          "output_type": "stream",
          "text": [
            "3it [00:00, 20.11it/s]"
          ],
          "name": "stderr"
        },
        {
          "output_type": "stream",
          "text": [
            "epoch: 125, test accuracy: 0.8659611992945325\n"
          ],
          "name": "stdout"
        },
        {
          "output_type": "stream",
          "text": [
            "81it [00:04, 19.51it/s]\n"
          ],
          "name": "stderr"
        },
        {
          "output_type": "stream",
          "text": [
            "epoch: 126, loss: 2.720451593399048, train accuracy: 0.9896224332082136\n"
          ],
          "name": "stdout"
        },
        {
          "output_type": "stream",
          "text": [
            "3it [00:00, 21.97it/s]"
          ],
          "name": "stderr"
        },
        {
          "output_type": "stream",
          "text": [
            "epoch: 126, test accuracy: 0.8730158730158731\n"
          ],
          "name": "stdout"
        },
        {
          "output_type": "stream",
          "text": [
            "81it [00:04, 19.31it/s]\n"
          ],
          "name": "stderr"
        },
        {
          "output_type": "stream",
          "text": [
            "epoch: 127, loss: 0.49501633644104004, train accuracy: 0.9827776551115037\n"
          ],
          "name": "stdout"
        },
        {
          "output_type": "stream",
          "text": [
            "3it [00:00, 22.10it/s]"
          ],
          "name": "stderr"
        },
        {
          "output_type": "stream",
          "text": [
            "epoch: 127, test accuracy: 0.8562610229276895\n"
          ],
          "name": "stdout"
        },
        {
          "output_type": "stream",
          "text": [
            "81it [00:04, 19.31it/s]\n"
          ],
          "name": "stderr"
        },
        {
          "output_type": "stream",
          "text": [
            "epoch: 128, loss: 0.5961345434188843, train accuracy: 0.9942592183705012\n"
          ],
          "name": "stdout"
        },
        {
          "output_type": "stream",
          "text": [
            "3it [00:00, 22.16it/s]"
          ],
          "name": "stderr"
        },
        {
          "output_type": "stream",
          "text": [
            "epoch: 128, test accuracy: 0.8562610229276895\n"
          ],
          "name": "stdout"
        },
        {
          "output_type": "stream",
          "text": [
            "81it [00:04, 19.69it/s]\n"
          ],
          "name": "stderr"
        },
        {
          "output_type": "stream",
          "text": [
            "epoch: 129, loss: 1.6913546323776245, train accuracy: 0.9841024508721571\n"
          ],
          "name": "stdout"
        },
        {
          "output_type": "stream",
          "text": [
            "3it [00:00, 21.60it/s]"
          ],
          "name": "stderr"
        },
        {
          "output_type": "stream",
          "text": [
            "epoch: 129, test accuracy: 0.8677248677248677\n"
          ],
          "name": "stdout"
        },
        {
          "output_type": "stream",
          "text": [
            "81it [00:04, 19.38it/s]\n"
          ],
          "name": "stderr"
        },
        {
          "output_type": "stream",
          "text": [
            "epoch: 130, loss: 0.3758549094200134, train accuracy: 0.9905056303819828\n"
          ],
          "name": "stdout"
        },
        {
          "output_type": "stream",
          "text": [
            "3it [00:00, 19.96it/s]"
          ],
          "name": "stderr"
        },
        {
          "output_type": "stream",
          "text": [
            "epoch: 130, test accuracy: 0.8774250440917105\n"
          ],
          "name": "stdout"
        },
        {
          "output_type": "stream",
          "text": [
            "81it [00:04, 19.58it/s]\n"
          ],
          "name": "stderr"
        },
        {
          "output_type": "stream",
          "text": [
            "epoch: 131, loss: 6.666873931884766, train accuracy: 0.988960035327887\n"
          ],
          "name": "stdout"
        },
        {
          "output_type": "stream",
          "text": [
            "3it [00:00, 21.72it/s]"
          ],
          "name": "stderr"
        },
        {
          "output_type": "stream",
          "text": [
            "epoch: 131, test accuracy: 0.8624338624338624\n"
          ],
          "name": "stdout"
        },
        {
          "output_type": "stream",
          "text": [
            "81it [00:04, 19.36it/s]\n"
          ],
          "name": "stderr"
        },
        {
          "output_type": "stream",
          "text": [
            "epoch: 132, loss: 0.9635158181190491, train accuracy: 0.9878560388606756\n"
          ],
          "name": "stdout"
        },
        {
          "output_type": "stream",
          "text": [
            "2it [00:00, 19.73it/s]"
          ],
          "name": "stderr"
        },
        {
          "output_type": "stream",
          "text": [
            "epoch: 132, test accuracy: 0.8686067019400353\n"
          ],
          "name": "stdout"
        },
        {
          "output_type": "stream",
          "text": [
            "81it [00:04, 19.41it/s]\n"
          ],
          "name": "stderr"
        },
        {
          "output_type": "stream",
          "text": [
            "epoch: 133, loss: 9.146249771118164, train accuracy: 0.9918304261426364\n"
          ],
          "name": "stdout"
        },
        {
          "output_type": "stream",
          "text": [
            "3it [00:00, 21.75it/s]"
          ],
          "name": "stderr"
        },
        {
          "output_type": "stream",
          "text": [
            "epoch: 133, test accuracy: 0.8694885361552028\n"
          ],
          "name": "stdout"
        },
        {
          "output_type": "stream",
          "text": [
            "81it [00:04, 19.75it/s]\n"
          ],
          "name": "stderr"
        },
        {
          "output_type": "stream",
          "text": [
            "epoch: 134, loss: 0.13030701875686646, train accuracy: 0.9847648487524839\n"
          ],
          "name": "stdout"
        },
        {
          "output_type": "stream",
          "text": [
            "3it [00:00, 21.95it/s]"
          ],
          "name": "stderr"
        },
        {
          "output_type": "stream",
          "text": [
            "epoch: 134, test accuracy: 0.86331569664903\n"
          ],
          "name": "stdout"
        },
        {
          "output_type": "stream",
          "text": [
            "81it [00:04, 19.76it/s]\n"
          ],
          "name": "stderr"
        },
        {
          "output_type": "stream",
          "text": [
            "epoch: 135, loss: 2.0798497200012207, train accuracy: 0.9929344226098477\n"
          ],
          "name": "stdout"
        },
        {
          "output_type": "stream",
          "text": [
            "3it [00:00, 21.57it/s]"
          ],
          "name": "stderr"
        },
        {
          "output_type": "stream",
          "text": [
            "epoch: 135, test accuracy: 0.8659611992945325\n"
          ],
          "name": "stdout"
        },
        {
          "output_type": "stream",
          "text": [
            "81it [00:04, 19.26it/s]\n"
          ],
          "name": "stderr"
        },
        {
          "output_type": "stream",
          "text": [
            "epoch: 136, loss: 1.0636088848114014, train accuracy: 0.9843232501655995\n"
          ],
          "name": "stdout"
        },
        {
          "output_type": "stream",
          "text": [
            "3it [00:00, 21.51it/s]"
          ],
          "name": "stderr"
        },
        {
          "output_type": "stream",
          "text": [
            "epoch: 136, test accuracy: 0.8765432098765432\n"
          ],
          "name": "stdout"
        },
        {
          "output_type": "stream",
          "text": [
            "81it [00:04, 19.35it/s]\n"
          ],
          "name": "stderr"
        },
        {
          "output_type": "stream",
          "text": [
            "epoch: 137, loss: 1.4074060916900635, train accuracy: 0.9902848310885406\n"
          ],
          "name": "stdout"
        },
        {
          "output_type": "stream",
          "text": [
            "3it [00:00, 20.33it/s]"
          ],
          "name": "stderr"
        },
        {
          "output_type": "stream",
          "text": [
            "epoch: 137, test accuracy: 0.880952380952381\n"
          ],
          "name": "stdout"
        },
        {
          "output_type": "stream",
          "text": [
            "81it [00:04, 19.45it/s]\n"
          ],
          "name": "stderr"
        },
        {
          "output_type": "stream",
          "text": [
            "epoch: 138, loss: 3.8280584812164307, train accuracy: 0.9927136233164054\n"
          ],
          "name": "stdout"
        },
        {
          "output_type": "stream",
          "text": [
            "3it [00:00, 21.87it/s]"
          ],
          "name": "stderr"
        },
        {
          "output_type": "stream",
          "text": [
            "epoch: 138, test accuracy: 0.8562610229276897\n"
          ],
          "name": "stdout"
        },
        {
          "output_type": "stream",
          "text": [
            "81it [00:04, 19.32it/s]\n"
          ],
          "name": "stderr"
        },
        {
          "output_type": "stream",
          "text": [
            "epoch: 139, loss: 3.8514835834503174, train accuracy: 0.9887392360344448\n"
          ],
          "name": "stdout"
        },
        {
          "output_type": "stream",
          "text": [
            "3it [00:00, 21.40it/s]"
          ],
          "name": "stderr"
        },
        {
          "output_type": "stream",
          "text": [
            "epoch: 139, test accuracy: 0.874779541446208\n"
          ],
          "name": "stdout"
        },
        {
          "output_type": "stream",
          "text": [
            "81it [00:04, 19.77it/s]\n"
          ],
          "name": "stderr"
        },
        {
          "output_type": "stream",
          "text": [
            "epoch: 140, loss: 4.798534393310547, train accuracy: 0.9827776551115037\n"
          ],
          "name": "stdout"
        },
        {
          "output_type": "stream",
          "text": [
            "3it [00:00, 21.17it/s]"
          ],
          "name": "stderr"
        },
        {
          "output_type": "stream",
          "text": [
            "epoch: 140, test accuracy: 0.8589065255731922\n"
          ],
          "name": "stdout"
        },
        {
          "output_type": "stream",
          "text": [
            "81it [00:04, 19.72it/s]\n"
          ],
          "name": "stderr"
        },
        {
          "output_type": "stream",
          "text": [
            "epoch: 141, loss: 0.24679842591285706, train accuracy: 0.9929344226098477\n"
          ],
          "name": "stdout"
        },
        {
          "output_type": "stream",
          "text": [
            "3it [00:00, 19.79it/s]"
          ],
          "name": "stderr"
        },
        {
          "output_type": "stream",
          "text": [
            "epoch: 141, test accuracy: 0.880952380952381\n"
          ],
          "name": "stdout"
        },
        {
          "output_type": "stream",
          "text": [
            "81it [00:04, 19.56it/s]\n"
          ],
          "name": "stderr"
        },
        {
          "output_type": "stream",
          "text": [
            "epoch: 142, loss: 4.43446159362793, train accuracy: 0.9894016339147714\n"
          ],
          "name": "stdout"
        },
        {
          "output_type": "stream",
          "text": [
            "3it [00:00, 21.27it/s]"
          ],
          "name": "stderr"
        },
        {
          "output_type": "stream",
          "text": [
            "epoch: 142, test accuracy: 0.8747795414462082\n"
          ],
          "name": "stdout"
        },
        {
          "output_type": "stream",
          "text": [
            "81it [00:04, 19.57it/s]\n"
          ],
          "name": "stderr"
        },
        {
          "output_type": "stream",
          "text": [
            "epoch: 143, loss: 2.7269866466522217, train accuracy: 0.9829984544049459\n"
          ],
          "name": "stdout"
        },
        {
          "output_type": "stream",
          "text": [
            "3it [00:00, 21.87it/s]"
          ],
          "name": "stderr"
        },
        {
          "output_type": "stream",
          "text": [
            "epoch: 143, test accuracy: 0.8668430335097002\n"
          ],
          "name": "stdout"
        },
        {
          "output_type": "stream",
          "text": [
            "81it [00:04, 19.44it/s]\n"
          ],
          "name": "stderr"
        },
        {
          "output_type": "stream",
          "text": [
            "epoch: 144, loss: 0.07494737952947617, train accuracy: 0.9955840141311549\n"
          ],
          "name": "stdout"
        },
        {
          "output_type": "stream",
          "text": [
            "3it [00:00, 21.90it/s]"
          ],
          "name": "stderr"
        },
        {
          "output_type": "stream",
          "text": [
            "epoch: 144, test accuracy: 0.8774250440917107\n"
          ],
          "name": "stdout"
        },
        {
          "output_type": "stream",
          "text": [
            "81it [00:04, 19.66it/s]\n"
          ],
          "name": "stderr"
        },
        {
          "output_type": "stream",
          "text": [
            "epoch: 145, loss: 0.10276709496974945, train accuracy: 0.9955840141311547\n"
          ],
          "name": "stdout"
        },
        {
          "output_type": "stream",
          "text": [
            "3it [00:00, 20.25it/s]"
          ],
          "name": "stderr"
        },
        {
          "output_type": "stream",
          "text": [
            "epoch: 145, test accuracy: 0.8597883597883598\n"
          ],
          "name": "stdout"
        },
        {
          "output_type": "stream",
          "text": [
            "81it [00:04, 19.58it/s]\n"
          ],
          "name": "stderr"
        },
        {
          "output_type": "stream",
          "text": [
            "epoch: 146, loss: 5.739408493041992, train accuracy: 0.9894016339147714\n"
          ],
          "name": "stdout"
        },
        {
          "output_type": "stream",
          "text": [
            "3it [00:00, 19.51it/s]"
          ],
          "name": "stderr"
        },
        {
          "output_type": "stream",
          "text": [
            "epoch: 146, test accuracy: 0.8783068783068783\n"
          ],
          "name": "stdout"
        },
        {
          "output_type": "stream",
          "text": [
            "81it [00:04, 19.52it/s]\n"
          ],
          "name": "stderr"
        },
        {
          "output_type": "stream",
          "text": [
            "epoch: 147, loss: 1.9143913984298706, train accuracy: 0.9905056303819828\n"
          ],
          "name": "stdout"
        },
        {
          "output_type": "stream",
          "text": [
            "3it [00:00, 21.60it/s]"
          ],
          "name": "stderr"
        },
        {
          "output_type": "stream",
          "text": [
            "epoch: 147, test accuracy: 0.8783068783068783\n"
          ],
          "name": "stdout"
        },
        {
          "output_type": "stream",
          "text": [
            "81it [00:04, 19.64it/s]\n"
          ],
          "name": "stderr"
        },
        {
          "output_type": "stream",
          "text": [
            "epoch: 148, loss: 0.28618890047073364, train accuracy: 0.9947008169573857\n"
          ],
          "name": "stdout"
        },
        {
          "output_type": "stream",
          "text": [
            "3it [00:00, 19.85it/s]"
          ],
          "name": "stderr"
        },
        {
          "output_type": "stream",
          "text": [
            "epoch: 148, test accuracy: 0.8844797178130511\n"
          ],
          "name": "stdout"
        },
        {
          "output_type": "stream",
          "text": [
            "81it [00:04, 19.35it/s]\n"
          ],
          "name": "stderr"
        },
        {
          "output_type": "stream",
          "text": [
            "epoch: 149, loss: 1.4272822141647339, train accuracy: 0.9898432325016562\n"
          ],
          "name": "stdout"
        },
        {
          "output_type": "stream",
          "text": [
            "3it [00:00, 21.92it/s]"
          ],
          "name": "stderr"
        },
        {
          "output_type": "stream",
          "text": [
            "epoch: 149, test accuracy: 0.8527336860670194\n"
          ],
          "name": "stdout"
        },
        {
          "output_type": "stream",
          "text": [
            "81it [00:04, 19.52it/s]\n"
          ],
          "name": "stderr"
        },
        {
          "output_type": "stream",
          "text": [
            "epoch: 150, loss: 0.35822054743766785, train accuracy: 0.9878560388606756\n"
          ],
          "name": "stdout"
        },
        {
          "output_type": "stream",
          "text": [
            "3it [00:00, 21.92it/s]"
          ],
          "name": "stderr"
        },
        {
          "output_type": "stream",
          "text": [
            "epoch: 150, test accuracy: 0.8738977072310404\n"
          ],
          "name": "stdout"
        },
        {
          "output_type": "stream",
          "text": [
            "81it [00:04, 19.52it/s]\n"
          ],
          "name": "stderr"
        },
        {
          "output_type": "stream",
          "text": [
            "epoch: 151, loss: 1.388149380683899, train accuracy: 0.9858688452196953\n"
          ],
          "name": "stdout"
        },
        {
          "output_type": "stream",
          "text": [
            "3it [00:00, 20.00it/s]"
          ],
          "name": "stderr"
        },
        {
          "output_type": "stream",
          "text": [
            "epoch: 151, test accuracy: 0.874779541446208\n"
          ],
          "name": "stdout"
        },
        {
          "output_type": "stream",
          "text": [
            "81it [00:04, 19.30it/s]\n"
          ],
          "name": "stderr"
        },
        {
          "output_type": "stream",
          "text": [
            "epoch: 152, loss: 1.0427770614624023, train accuracy: 0.9909472289688672\n"
          ],
          "name": "stdout"
        },
        {
          "output_type": "stream",
          "text": [
            "3it [00:00, 21.67it/s]"
          ],
          "name": "stderr"
        },
        {
          "output_type": "stream",
          "text": [
            "epoch: 152, test accuracy: 0.8580246913580247\n"
          ],
          "name": "stdout"
        },
        {
          "output_type": "stream",
          "text": [
            "81it [00:04, 19.36it/s]\n"
          ],
          "name": "stderr"
        },
        {
          "output_type": "stream",
          "text": [
            "epoch: 153, loss: 0.6396456360816956, train accuracy: 0.9916096268491942\n"
          ],
          "name": "stdout"
        },
        {
          "output_type": "stream",
          "text": [
            "3it [00:00, 21.96it/s]"
          ],
          "name": "stderr"
        },
        {
          "output_type": "stream",
          "text": [
            "epoch: 153, test accuracy: 0.8730158730158729\n"
          ],
          "name": "stdout"
        },
        {
          "output_type": "stream",
          "text": [
            "81it [00:04, 19.72it/s]\n"
          ],
          "name": "stderr"
        },
        {
          "output_type": "stream",
          "text": [
            "epoch: 154, loss: 0.3898448944091797, train accuracy: 0.9894016339147716\n"
          ],
          "name": "stdout"
        },
        {
          "output_type": "stream",
          "text": [
            "3it [00:00, 21.98it/s]"
          ],
          "name": "stderr"
        },
        {
          "output_type": "stream",
          "text": [
            "epoch: 154, test accuracy: 0.8800705467372133\n"
          ],
          "name": "stdout"
        },
        {
          "output_type": "stream",
          "text": [
            "81it [00:04, 19.72it/s]\n"
          ],
          "name": "stderr"
        },
        {
          "output_type": "stream",
          "text": [
            "epoch: 155, loss: 0.10490335524082184, train accuracy: 0.9960256127180395\n"
          ],
          "name": "stdout"
        },
        {
          "output_type": "stream",
          "text": [
            "3it [00:00, 19.79it/s]"
          ],
          "name": "stderr"
        },
        {
          "output_type": "stream",
          "text": [
            "epoch: 155, test accuracy: 0.8738977072310404\n"
          ],
          "name": "stdout"
        },
        {
          "output_type": "stream",
          "text": [
            "81it [00:04, 19.65it/s]\n"
          ],
          "name": "stderr"
        },
        {
          "output_type": "stream",
          "text": [
            "epoch: 156, loss: 1.6386359930038452, train accuracy: 0.9929344226098477\n"
          ],
          "name": "stdout"
        },
        {
          "output_type": "stream",
          "text": [
            "3it [00:00, 22.13it/s]"
          ],
          "name": "stderr"
        },
        {
          "output_type": "stream",
          "text": [
            "epoch: 156, test accuracy: 0.8589065255731922\n"
          ],
          "name": "stdout"
        },
        {
          "output_type": "stream",
          "text": [
            "81it [00:04, 19.70it/s]\n"
          ],
          "name": "stderr"
        },
        {
          "output_type": "stream",
          "text": [
            "epoch: 157, loss: 0.6065552830696106, train accuracy: 0.9894016339147716\n"
          ],
          "name": "stdout"
        },
        {
          "output_type": "stream",
          "text": [
            "3it [00:00, 19.71it/s]"
          ],
          "name": "stderr"
        },
        {
          "output_type": "stream",
          "text": [
            "epoch: 157, test accuracy: 0.8765432098765432\n"
          ],
          "name": "stdout"
        },
        {
          "output_type": "stream",
          "text": [
            "81it [00:04, 19.42it/s]\n"
          ],
          "name": "stderr"
        },
        {
          "output_type": "stream",
          "text": [
            "epoch: 158, loss: 4.755800724029541, train accuracy: 0.9882976374475602\n"
          ],
          "name": "stdout"
        },
        {
          "output_type": "stream",
          "text": [
            "3it [00:00, 21.77it/s]"
          ],
          "name": "stderr"
        },
        {
          "output_type": "stream",
          "text": [
            "epoch: 158, test accuracy: 0.8853615520282188\n"
          ],
          "name": "stdout"
        },
        {
          "output_type": "stream",
          "text": [
            "81it [00:04, 19.45it/s]\n"
          ],
          "name": "stderr"
        },
        {
          "output_type": "stream",
          "text": [
            "epoch: 159, loss: 0.13118651509284973, train accuracy: 0.9882976374475602\n"
          ],
          "name": "stdout"
        },
        {
          "output_type": "stream",
          "text": [
            "3it [00:00, 21.95it/s]"
          ],
          "name": "stderr"
        },
        {
          "output_type": "stream",
          "text": [
            "epoch: 159, test accuracy: 0.8703703703703703\n"
          ],
          "name": "stdout"
        },
        {
          "output_type": "stream",
          "text": [
            "81it [00:04, 19.42it/s]\n"
          ],
          "name": "stderr"
        },
        {
          "output_type": "stream",
          "text": [
            "epoch: 160, loss: 4.918859004974365, train accuracy: 0.9973504084786929\n"
          ],
          "name": "stdout"
        },
        {
          "output_type": "stream",
          "text": [
            "3it [00:00, 21.50it/s]"
          ],
          "name": "stderr"
        },
        {
          "output_type": "stream",
          "text": [
            "epoch: 160, test accuracy: 0.8827160493827161\n"
          ],
          "name": "stdout"
        },
        {
          "output_type": "stream",
          "text": [
            "81it [00:04, 19.67it/s]\n"
          ],
          "name": "stderr"
        },
        {
          "output_type": "stream",
          "text": [
            "epoch: 161, loss: 2.5567994117736816, train accuracy: 0.9913888275557519\n"
          ],
          "name": "stdout"
        },
        {
          "output_type": "stream",
          "text": [
            "3it [00:00, 20.69it/s]"
          ],
          "name": "stderr"
        },
        {
          "output_type": "stream",
          "text": [
            "epoch: 161, test accuracy: 0.8659611992945325\n"
          ],
          "name": "stdout"
        },
        {
          "output_type": "stream",
          "text": [
            "81it [00:04, 19.73it/s]\n"
          ],
          "name": "stderr"
        },
        {
          "output_type": "stream",
          "text": [
            "epoch: 162, loss: 0.448483407497406, train accuracy: 0.9942592183705012\n"
          ],
          "name": "stdout"
        },
        {
          "output_type": "stream",
          "text": [
            "3it [00:00, 22.00it/s]"
          ],
          "name": "stderr"
        },
        {
          "output_type": "stream",
          "text": [
            "epoch: 162, test accuracy: 0.8791887125220458\n"
          ],
          "name": "stdout"
        },
        {
          "output_type": "stream",
          "text": [
            "81it [00:04, 19.21it/s]\n"
          ],
          "name": "stderr"
        },
        {
          "output_type": "stream",
          "text": [
            "epoch: 163, loss: 2.2643918991088867, train accuracy: 0.9942592183705012\n"
          ],
          "name": "stdout"
        },
        {
          "output_type": "stream",
          "text": [
            "3it [00:00, 20.86it/s]"
          ],
          "name": "stderr"
        },
        {
          "output_type": "stream",
          "text": [
            "epoch: 163, test accuracy: 0.8703703703703703\n"
          ],
          "name": "stdout"
        },
        {
          "output_type": "stream",
          "text": [
            "81it [00:04, 19.42it/s]\n"
          ],
          "name": "stderr"
        },
        {
          "output_type": "stream",
          "text": [
            "epoch: 164, loss: 3.7315170764923096, train accuracy: 0.9909472289688672\n"
          ],
          "name": "stdout"
        },
        {
          "output_type": "stream",
          "text": [
            "3it [00:00, 21.55it/s]"
          ],
          "name": "stderr"
        },
        {
          "output_type": "stream",
          "text": [
            "epoch: 164, test accuracy: 0.8756613756613755\n"
          ],
          "name": "stdout"
        },
        {
          "output_type": "stream",
          "text": [
            "81it [00:04, 19.51it/s]\n"
          ],
          "name": "stderr"
        },
        {
          "output_type": "stream",
          "text": [
            "epoch: 165, loss: 0.9336467981338501, train accuracy: 0.9911680282623097\n"
          ],
          "name": "stdout"
        },
        {
          "output_type": "stream",
          "text": [
            "3it [00:00, 20.00it/s]"
          ],
          "name": "stderr"
        },
        {
          "output_type": "stream",
          "text": [
            "epoch: 165, test accuracy: 0.8765432098765432\n"
          ],
          "name": "stdout"
        },
        {
          "output_type": "stream",
          "text": [
            "81it [00:04, 19.63it/s]\n"
          ],
          "name": "stderr"
        },
        {
          "output_type": "stream",
          "text": [
            "epoch: 166, loss: 0.13538843393325806, train accuracy: 0.9962464120114817\n"
          ],
          "name": "stdout"
        },
        {
          "output_type": "stream",
          "text": [
            "3it [00:00, 22.03it/s]"
          ],
          "name": "stderr"
        },
        {
          "output_type": "stream",
          "text": [
            "epoch: 166, test accuracy: 0.8835978835978834\n"
          ],
          "name": "stdout"
        },
        {
          "output_type": "stream",
          "text": [
            "81it [00:04, 19.67it/s]\n"
          ],
          "name": "stderr"
        },
        {
          "output_type": "stream",
          "text": [
            "epoch: 167, loss: 4.138615131378174, train accuracy: 0.9953632148377125\n"
          ],
          "name": "stdout"
        },
        {
          "output_type": "stream",
          "text": [
            "3it [00:00, 22.16it/s]"
          ],
          "name": "stderr"
        },
        {
          "output_type": "stream",
          "text": [
            "epoch: 167, test accuracy: 0.8527336860670194\n"
          ],
          "name": "stdout"
        },
        {
          "output_type": "stream",
          "text": [
            "81it [00:04, 19.47it/s]\n"
          ],
          "name": "stderr"
        },
        {
          "output_type": "stream",
          "text": [
            "epoch: 168, loss: 1.4162780046463013, train accuracy: 0.9891808346213292\n"
          ],
          "name": "stdout"
        },
        {
          "output_type": "stream",
          "text": [
            "3it [00:00, 20.57it/s]"
          ],
          "name": "stderr"
        },
        {
          "output_type": "stream",
          "text": [
            "epoch: 168, test accuracy: 0.8712522045855379\n"
          ],
          "name": "stdout"
        },
        {
          "output_type": "stream",
          "text": [
            "81it [00:04, 19.70it/s]\n"
          ],
          "name": "stderr"
        },
        {
          "output_type": "stream",
          "text": [
            "epoch: 169, loss: 1.1155362129211426, train accuracy: 0.9896224332082136\n"
          ],
          "name": "stdout"
        },
        {
          "output_type": "stream",
          "text": [
            "3it [00:00, 22.31it/s]"
          ],
          "name": "stderr"
        },
        {
          "output_type": "stream",
          "text": [
            "epoch: 169, test accuracy: 0.8862433862433862\n"
          ],
          "name": "stdout"
        },
        {
          "output_type": "stream",
          "text": [
            "81it [00:04, 19.72it/s]\n"
          ],
          "name": "stderr"
        },
        {
          "output_type": "stream",
          "text": [
            "epoch: 170, loss: 2.341097354888916, train accuracy: 0.9971296091852505\n"
          ],
          "name": "stdout"
        },
        {
          "output_type": "stream",
          "text": [
            "3it [00:00, 21.97it/s]"
          ],
          "name": "stderr"
        },
        {
          "output_type": "stream",
          "text": [
            "epoch: 170, test accuracy: 0.8977072310405643\n"
          ],
          "name": "stdout"
        },
        {
          "output_type": "stream",
          "text": [
            "81it [00:04, 19.13it/s]\n"
          ],
          "name": "stderr"
        },
        {
          "output_type": "stream",
          "text": [
            "epoch: 171, loss: 2.1642613410949707, train accuracy: 0.9922720247295209\n"
          ],
          "name": "stdout"
        },
        {
          "output_type": "stream",
          "text": [
            "3it [00:00, 20.50it/s]"
          ],
          "name": "stderr"
        },
        {
          "output_type": "stream",
          "text": [
            "epoch: 171, test accuracy: 0.8765432098765432\n"
          ],
          "name": "stdout"
        },
        {
          "output_type": "stream",
          "text": [
            "81it [00:04, 19.59it/s]\n"
          ],
          "name": "stderr"
        },
        {
          "output_type": "stream",
          "text": [
            "epoch: 172, loss: 1.7873471975326538, train accuracy: 0.9887392360344448\n"
          ],
          "name": "stdout"
        },
        {
          "output_type": "stream",
          "text": [
            "3it [00:00, 22.27it/s]"
          ],
          "name": "stderr"
        },
        {
          "output_type": "stream",
          "text": [
            "epoch: 172, test accuracy: 0.8835978835978836\n"
          ],
          "name": "stdout"
        },
        {
          "output_type": "stream",
          "text": [
            "81it [00:04, 19.77it/s]\n"
          ],
          "name": "stderr"
        },
        {
          "output_type": "stream",
          "text": [
            "epoch: 173, loss: 1.5012556314468384, train accuracy: 0.9951424155442703\n"
          ],
          "name": "stdout"
        },
        {
          "output_type": "stream",
          "text": [
            "3it [00:00, 21.98it/s]"
          ],
          "name": "stderr"
        },
        {
          "output_type": "stream",
          "text": [
            "epoch: 173, test accuracy: 0.8721340388007054\n"
          ],
          "name": "stdout"
        },
        {
          "output_type": "stream",
          "text": [
            "81it [00:04, 19.83it/s]\n"
          ],
          "name": "stderr"
        },
        {
          "output_type": "stream",
          "text": [
            "epoch: 174, loss: 2.0623226165771484, train accuracy: 0.9876352395672334\n"
          ],
          "name": "stdout"
        },
        {
          "output_type": "stream",
          "text": [
            "3it [00:00, 20.77it/s]"
          ],
          "name": "stderr"
        },
        {
          "output_type": "stream",
          "text": [
            "epoch: 174, test accuracy: 0.879188712522046\n"
          ],
          "name": "stdout"
        },
        {
          "output_type": "stream",
          "text": [
            "81it [00:04, 19.68it/s]\n"
          ],
          "name": "stderr"
        },
        {
          "output_type": "stream",
          "text": [
            "epoch: 175, loss: 0.3333190381526947, train accuracy: 0.9894016339147714\n"
          ],
          "name": "stdout"
        },
        {
          "output_type": "stream",
          "text": [
            "3it [00:00, 21.55it/s]"
          ],
          "name": "stderr"
        },
        {
          "output_type": "stream",
          "text": [
            "epoch: 175, test accuracy: 0.8756613756613755\n"
          ],
          "name": "stdout"
        },
        {
          "output_type": "stream",
          "text": [
            "81it [00:04, 19.61it/s]\n"
          ],
          "name": "stderr"
        },
        {
          "output_type": "stream",
          "text": [
            "epoch: 176, loss: 0.13972409069538116, train accuracy: 0.9931552219032901\n"
          ],
          "name": "stdout"
        },
        {
          "output_type": "stream",
          "text": [
            "3it [00:00, 22.01it/s]"
          ],
          "name": "stderr"
        },
        {
          "output_type": "stream",
          "text": [
            "epoch: 176, test accuracy: 0.8888888888888888\n"
          ],
          "name": "stdout"
        },
        {
          "output_type": "stream",
          "text": [
            "81it [00:04, 19.32it/s]\n"
          ],
          "name": "stderr"
        },
        {
          "output_type": "stream",
          "text": [
            "epoch: 177, loss: 0.9326615333557129, train accuracy: 0.9960256127180394\n"
          ],
          "name": "stdout"
        },
        {
          "output_type": "stream",
          "text": [
            "3it [00:00, 21.46it/s]"
          ],
          "name": "stderr"
        },
        {
          "output_type": "stream",
          "text": [
            "epoch: 177, test accuracy: 0.8862433862433862\n"
          ],
          "name": "stdout"
        },
        {
          "output_type": "stream",
          "text": [
            "81it [00:04, 19.79it/s]\n"
          ],
          "name": "stderr"
        },
        {
          "output_type": "stream",
          "text": [
            "epoch: 178, loss: 3.19283127784729, train accuracy: 0.9918304261426364\n"
          ],
          "name": "stdout"
        },
        {
          "output_type": "stream",
          "text": [
            "2it [00:00, 19.38it/s]"
          ],
          "name": "stderr"
        },
        {
          "output_type": "stream",
          "text": [
            "epoch: 178, test accuracy: 0.8853615520282188\n"
          ],
          "name": "stdout"
        },
        {
          "output_type": "stream",
          "text": [
            "81it [00:04, 19.03it/s]\n"
          ],
          "name": "stderr"
        },
        {
          "output_type": "stream",
          "text": [
            "epoch: 179, loss: 0.13582918047904968, train accuracy: 0.9958048134245971\n"
          ],
          "name": "stdout"
        },
        {
          "output_type": "stream",
          "text": [
            "3it [00:00, 22.18it/s]"
          ],
          "name": "stderr"
        },
        {
          "output_type": "stream",
          "text": [
            "epoch: 179, test accuracy: 0.8765432098765432\n"
          ],
          "name": "stdout"
        },
        {
          "output_type": "stream",
          "text": [
            "81it [00:04, 19.40it/s]\n"
          ],
          "name": "stderr"
        },
        {
          "output_type": "stream",
          "text": [
            "epoch: 180, loss: 1.2975386381149292, train accuracy: 0.9887392360344448\n"
          ],
          "name": "stdout"
        },
        {
          "output_type": "stream",
          "text": [
            "3it [00:00, 21.32it/s]"
          ],
          "name": "stderr"
        },
        {
          "output_type": "stream",
          "text": [
            "epoch: 180, test accuracy: 0.8800705467372133\n"
          ],
          "name": "stdout"
        },
        {
          "output_type": "stream",
          "text": [
            "81it [00:04, 19.62it/s]\n"
          ],
          "name": "stderr"
        },
        {
          "output_type": "stream",
          "text": [
            "epoch: 181, loss: 0.3254077732563019, train accuracy: 0.9885184367410026\n"
          ],
          "name": "stdout"
        },
        {
          "output_type": "stream",
          "text": [
            "3it [00:00, 22.07it/s]"
          ],
          "name": "stderr"
        },
        {
          "output_type": "stream",
          "text": [
            "epoch: 181, test accuracy: 0.8862433862433862\n"
          ],
          "name": "stdout"
        },
        {
          "output_type": "stream",
          "text": [
            "81it [00:04, 19.53it/s]\n"
          ],
          "name": "stderr"
        },
        {
          "output_type": "stream",
          "text": [
            "epoch: 182, loss: 5.297599792480469, train accuracy: 0.9933760211967323\n"
          ],
          "name": "stdout"
        },
        {
          "output_type": "stream",
          "text": [
            "3it [00:00, 21.67it/s]"
          ],
          "name": "stderr"
        },
        {
          "output_type": "stream",
          "text": [
            "epoch: 182, test accuracy: 0.8844797178130511\n"
          ],
          "name": "stdout"
        },
        {
          "output_type": "stream",
          "text": [
            "81it [00:04, 19.33it/s]\n"
          ],
          "name": "stderr"
        },
        {
          "output_type": "stream",
          "text": [
            "epoch: 183, loss: 5.190472602844238, train accuracy: 0.9962464120114817\n"
          ],
          "name": "stdout"
        },
        {
          "output_type": "stream",
          "text": [
            "3it [00:00, 21.90it/s]"
          ],
          "name": "stderr"
        },
        {
          "output_type": "stream",
          "text": [
            "epoch: 183, test accuracy: 0.8659611992945325\n"
          ],
          "name": "stdout"
        },
        {
          "output_type": "stream",
          "text": [
            "81it [00:04, 19.46it/s]\n"
          ],
          "name": "stderr"
        },
        {
          "output_type": "stream",
          "text": [
            "epoch: 184, loss: 0.0759730413556099, train accuracy: 0.9902848310885406\n"
          ],
          "name": "stdout"
        },
        {
          "output_type": "stream",
          "text": [
            "3it [00:00, 22.24it/s]"
          ],
          "name": "stderr"
        },
        {
          "output_type": "stream",
          "text": [
            "epoch: 184, test accuracy: 0.8906525573192239\n"
          ],
          "name": "stdout"
        },
        {
          "output_type": "stream",
          "text": [
            "81it [00:04, 19.32it/s]\n"
          ],
          "name": "stderr"
        },
        {
          "output_type": "stream",
          "text": [
            "epoch: 185, loss: 0.548871636390686, train accuracy: 0.9973504084786929\n"
          ],
          "name": "stdout"
        },
        {
          "output_type": "stream",
          "text": [
            "3it [00:00, 21.82it/s]"
          ],
          "name": "stderr"
        },
        {
          "output_type": "stream",
          "text": [
            "epoch: 185, test accuracy: 0.8968253968253967\n"
          ],
          "name": "stdout"
        },
        {
          "output_type": "stream",
          "text": [
            "81it [00:04, 19.50it/s]\n"
          ],
          "name": "stderr"
        },
        {
          "output_type": "stream",
          "text": [
            "epoch: 186, loss: 3.562014102935791, train accuracy: 0.9905056303819828\n"
          ],
          "name": "stdout"
        },
        {
          "output_type": "stream",
          "text": [
            "3it [00:00, 22.09it/s]"
          ],
          "name": "stderr"
        },
        {
          "output_type": "stream",
          "text": [
            "epoch: 186, test accuracy: 0.8641975308641975\n"
          ],
          "name": "stdout"
        },
        {
          "output_type": "stream",
          "text": [
            "81it [00:04, 19.51it/s]\n"
          ],
          "name": "stderr"
        },
        {
          "output_type": "stream",
          "text": [
            "epoch: 187, loss: 5.007471084594727, train accuracy: 0.9918304261426364\n"
          ],
          "name": "stdout"
        },
        {
          "output_type": "stream",
          "text": [
            "3it [00:00, 21.79it/s]"
          ],
          "name": "stderr"
        },
        {
          "output_type": "stream",
          "text": [
            "epoch: 187, test accuracy: 0.8765432098765432\n"
          ],
          "name": "stdout"
        },
        {
          "output_type": "stream",
          "text": [
            "81it [00:04, 19.79it/s]\n"
          ],
          "name": "stderr"
        },
        {
          "output_type": "stream",
          "text": [
            "epoch: 188, loss: 0.8414362072944641, train accuracy: 0.9938176197836167\n"
          ],
          "name": "stdout"
        },
        {
          "output_type": "stream",
          "text": [
            "3it [00:00, 22.04it/s]"
          ],
          "name": "stderr"
        },
        {
          "output_type": "stream",
          "text": [
            "epoch: 188, test accuracy: 0.8950617283950617\n"
          ],
          "name": "stdout"
        },
        {
          "output_type": "stream",
          "text": [
            "81it [00:04, 19.21it/s]\n"
          ],
          "name": "stderr"
        },
        {
          "output_type": "stream",
          "text": [
            "epoch: 189, loss: 1.93122136592865, train accuracy: 0.9913888275557516\n"
          ],
          "name": "stdout"
        },
        {
          "output_type": "stream",
          "text": [
            "3it [00:00, 21.58it/s]"
          ],
          "name": "stderr"
        },
        {
          "output_type": "stream",
          "text": [
            "epoch: 189, test accuracy: 0.8827160493827161\n"
          ],
          "name": "stdout"
        },
        {
          "output_type": "stream",
          "text": [
            "81it [00:04, 19.28it/s]\n"
          ],
          "name": "stderr"
        },
        {
          "output_type": "stream",
          "text": [
            "epoch: 190, loss: 8.768939018249512, train accuracy: 0.9953632148377125\n"
          ],
          "name": "stdout"
        },
        {
          "output_type": "stream",
          "text": [
            "3it [00:00, 22.22it/s]"
          ],
          "name": "stderr"
        },
        {
          "output_type": "stream",
          "text": [
            "epoch: 190, test accuracy: 0.8800705467372133\n"
          ],
          "name": "stdout"
        },
        {
          "output_type": "stream",
          "text": [
            "81it [00:04, 19.50it/s]\n"
          ],
          "name": "stderr"
        },
        {
          "output_type": "stream",
          "text": [
            "epoch: 191, loss: 7.22905158996582, train accuracy: 0.9927136233164054\n"
          ],
          "name": "stdout"
        },
        {
          "output_type": "stream",
          "text": [
            "3it [00:00, 21.64it/s]"
          ],
          "name": "stderr"
        },
        {
          "output_type": "stream",
          "text": [
            "epoch: 191, test accuracy: 0.8738977072310407\n"
          ],
          "name": "stdout"
        },
        {
          "output_type": "stream",
          "text": [
            "81it [00:04, 19.47it/s]\n"
          ],
          "name": "stderr"
        },
        {
          "output_type": "stream",
          "text": [
            "epoch: 192, loss: 0.15734946727752686, train accuracy: 0.9931552219032901\n"
          ],
          "name": "stdout"
        },
        {
          "output_type": "stream",
          "text": [
            "3it [00:00, 22.15it/s]"
          ],
          "name": "stderr"
        },
        {
          "output_type": "stream",
          "text": [
            "epoch: 192, test accuracy: 0.8959435626102292\n"
          ],
          "name": "stdout"
        },
        {
          "output_type": "stream",
          "text": [
            "81it [00:04, 19.52it/s]\n"
          ],
          "name": "stderr"
        },
        {
          "output_type": "stream",
          "text": [
            "epoch: 193, loss: 0.38679543137550354, train accuracy: 0.9973504084786929\n"
          ],
          "name": "stdout"
        },
        {
          "output_type": "stream",
          "text": [
            "3it [00:00, 21.20it/s]"
          ],
          "name": "stderr"
        },
        {
          "output_type": "stream",
          "text": [
            "epoch: 193, test accuracy: 0.8915343915343916\n"
          ],
          "name": "stdout"
        },
        {
          "output_type": "stream",
          "text": [
            "81it [00:04, 19.74it/s]\n"
          ],
          "name": "stderr"
        },
        {
          "output_type": "stream",
          "text": [
            "epoch: 194, loss: 0.6817861795425415, train accuracy: 0.9924928240229631\n"
          ],
          "name": "stdout"
        },
        {
          "output_type": "stream",
          "text": [
            "3it [00:00, 21.65it/s]"
          ],
          "name": "stderr"
        },
        {
          "output_type": "stream",
          "text": [
            "epoch: 194, test accuracy: 0.8888888888888888\n"
          ],
          "name": "stdout"
        },
        {
          "output_type": "stream",
          "text": [
            "81it [00:04, 19.37it/s]\n"
          ],
          "name": "stderr"
        },
        {
          "output_type": "stream",
          "text": [
            "epoch: 195, loss: 3.9888482093811035, train accuracy: 0.9935968204901745\n"
          ],
          "name": "stdout"
        },
        {
          "output_type": "stream",
          "text": [
            "2it [00:00, 19.88it/s]"
          ],
          "name": "stderr"
        },
        {
          "output_type": "stream",
          "text": [
            "epoch: 195, test accuracy: 0.8871252204585538\n"
          ],
          "name": "stdout"
        },
        {
          "output_type": "stream",
          "text": [
            "81it [00:04, 19.59it/s]\n"
          ],
          "name": "stderr"
        },
        {
          "output_type": "stream",
          "text": [
            "epoch: 196, loss: 0.8172277808189392, train accuracy: 0.9927136233164053\n"
          ],
          "name": "stdout"
        },
        {
          "output_type": "stream",
          "text": [
            "3it [00:00, 21.82it/s]"
          ],
          "name": "stderr"
        },
        {
          "output_type": "stream",
          "text": [
            "epoch: 196, test accuracy: 0.8835978835978836\n"
          ],
          "name": "stdout"
        },
        {
          "output_type": "stream",
          "text": [
            "81it [00:04, 19.83it/s]\n"
          ],
          "name": "stderr"
        },
        {
          "output_type": "stream",
          "text": [
            "epoch: 197, loss: 1.7101441621780396, train accuracy: 0.9984544049459042\n"
          ],
          "name": "stdout"
        },
        {
          "output_type": "stream",
          "text": [
            "3it [00:00, 20.47it/s]"
          ],
          "name": "stderr"
        },
        {
          "output_type": "stream",
          "text": [
            "epoch: 197, test accuracy: 0.8941798941798942\n"
          ],
          "name": "stdout"
        },
        {
          "output_type": "stream",
          "text": [
            "81it [00:04, 19.36it/s]\n"
          ],
          "name": "stderr"
        },
        {
          "output_type": "stream",
          "text": [
            "epoch: 198, loss: 6.809539318084717, train accuracy: 0.9955840141311547\n"
          ],
          "name": "stdout"
        },
        {
          "output_type": "stream",
          "text": [
            "3it [00:00, 21.79it/s]"
          ],
          "name": "stderr"
        },
        {
          "output_type": "stream",
          "text": [
            "epoch: 198, test accuracy: 0.8703703703703703\n"
          ],
          "name": "stdout"
        },
        {
          "output_type": "stream",
          "text": [
            "81it [00:04, 19.37it/s]\n"
          ],
          "name": "stderr"
        },
        {
          "output_type": "stream",
          "text": [
            "epoch: 199, loss: 0.8815645575523376, train accuracy: 0.9902848310885406\n"
          ],
          "name": "stdout"
        },
        {
          "output_type": "stream",
          "text": [
            "3it [00:00, 19.06it/s]"
          ],
          "name": "stderr"
        },
        {
          "output_type": "stream",
          "text": [
            "epoch: 199, test accuracy: 0.8862433862433862\n"
          ],
          "name": "stdout"
        },
        {
          "output_type": "stream",
          "text": [
            "81it [00:04, 19.52it/s]\n"
          ],
          "name": "stderr"
        },
        {
          "output_type": "stream",
          "text": [
            "epoch: 200, loss: 0.6613346934318542, train accuracy: 0.9975712077721351\n",
            "epoch: 200, test accuracy: 0.8968253968253967\n"
          ],
          "name": "stdout"
        }
      ]
    },
    {
      "cell_type": "code",
      "metadata": {
        "id": "qt8-BX-5JWmw",
        "colab_type": "code",
        "colab": {
          "base_uri": "https://localhost:8080/",
          "height": 1000
        },
        "outputId": "54a3d7df-655a-46f9-d93c-235112d2ca39"
      },
      "source": [
        "#### Test for sampling\n",
        "\n",
        "def do_sample(data, vocab):\n",
        "    res = []\n",
        "    for i in data:\n",
        "        res.append(vocab.idx2word[i.item()])\n",
        "    return res\n",
        "\n",
        "model.eval()\n",
        "with torch.no_grad():\n",
        "    test_acc = []\n",
        "    idx_instance = 0\n",
        "    for _, (image, target) in tqdm(enumerate(test_loder)):\n",
        "        image = image.to(device)\n",
        "        target = target.to(device)#type(torch.LongTensor).to(device)\n",
        "        output_t = model(image)\n",
        "\n",
        "        # 배치내의 각 샘플마다\n",
        "        for idx in range(len(output_t)):\n",
        "            # 44개(단어 사이즈)로 짤라낸 후 계산\n",
        "            sliced = torch.cat(torch.split(output_t[idx], 44, dim=0)).reshape(7, 44) \n",
        "            predicted = sliced.argmax(1)\n",
        "\n",
        "            accuracy = sum(predicted == target[idx]).item() / 7\n",
        "            test_acc.append(accuracy)\n",
        "            print(f'{idx_instance+1}th target: {do_sample(target[idx], vocab)}')\n",
        "            print(f'{idx_instance+1}th predicted: {do_sample(predicted, vocab)}')\n",
        "            print()\n",
        "            print('========================================')\n",
        "            \n",
        "            idx_instance += 1\n",
        "    print(f'acc: {e}, accuracy: {np.mean(test_acc)}')"
      ],
      "execution_count": 17,
      "outputs": [
        {
          "output_type": "stream",
          "text": [
            "4it [00:00, 34.77it/s]"
          ],
          "name": "stderr"
        },
        {
          "output_type": "stream",
          "text": [
            "1th target: ['4', '8', '구', '0', '7', '4', '9']\n",
            "1th predicted: ['4', '8', '구', '0', '7', '4', '9']\n",
            "\n",
            "========================================\n",
            "2th target: ['0', '5', '누', '6', '1', '0', '9']\n",
            "2th predicted: ['0', '5', '두', '6', '1', '0', '9']\n",
            "\n",
            "========================================\n",
            "3th target: ['2', '4', '라', '6', '7', '9', '1']\n",
            "3th predicted: ['2', '4', '러', '6', '7', '9', '1']\n",
            "\n",
            "========================================\n",
            "4th target: ['3', '6', '로', '5', '6', '7', '4']\n",
            "4th predicted: ['3', '6', '로', '5', '6', '7', '4']\n",
            "\n",
            "========================================\n",
            "5th target: ['2', '3', '조', '7', '8', '8', '4']\n",
            "5th predicted: ['2', '3', '조', '7', '8', '8', '4']\n",
            "\n",
            "========================================\n",
            "6th target: ['0', '1', '도', '0', '9', '8', '2']\n",
            "6th predicted: ['0', '1', '도', '0', '9', '5', '2']\n",
            "\n",
            "========================================\n",
            "7th target: ['2', '1', '소', '2', '0', '7', '7']\n",
            "7th predicted: ['2', '1', '모', '2', '9', '6', '7']\n",
            "\n",
            "========================================\n",
            "8th target: ['6', '9', '모', '3', '1', '9', '8']\n",
            "8th predicted: ['6', '9', '더', '3', '1', '9', '8']\n",
            "\n",
            "========================================\n",
            "9th target: ['3', '0', '고', '0', '4', '5', '4']\n",
            "9th predicted: ['3', '0', '고', '0', '4', '5', '4']\n",
            "\n",
            "========================================\n",
            "10th target: ['1', '3', '루', '2', '4', '4', '7']\n",
            "10th predicted: ['1', '3', '로', '2', '4', '4', '7']\n",
            "\n",
            "========================================\n",
            "11th target: ['6', '1', '거', '4', '7', '6', '1']\n",
            "11th predicted: ['6', '1', '고', '4', '7', '6', '1']\n",
            "\n",
            "========================================\n",
            "12th target: ['4', '9', '고', '0', '3', '7', '0']\n",
            "12th predicted: ['4', '9', '거', '0', '3', '7', '0']\n",
            "\n",
            "========================================\n",
            "13th target: ['2', '9', '마', '0', '3', '2', '9']\n",
            "13th predicted: ['2', '9', '마', '0', '5', '2', '9']\n",
            "\n",
            "========================================\n",
            "14th target: ['0', '7', '노', '9', '0', '7', '6']\n",
            "14th predicted: ['0', '9', '호', '9', '0', '7', '6']\n",
            "\n",
            "========================================\n",
            "15th target: ['5', '8', '어', '8', '6', '3', '1']\n",
            "15th predicted: ['5', '8', '어', '8', '6', '3', '1']\n",
            "\n",
            "========================================\n",
            "16th target: ['2', '4', '고', '8', '3', '5', '3']\n",
            "16th predicted: ['2', '4', '거', '8', '3', '5', '3']\n",
            "\n",
            "========================================\n",
            "17th target: ['9', '3', '서', '3', '6', '1', '4']\n",
            "17th predicted: ['6', '3', '버', '3', '5', '1', '4']\n",
            "\n",
            "========================================\n",
            "18th target: ['5', '9', '어', '2', '7', '4', '9']\n",
            "18th predicted: ['5', '2', '머', '2', '7', '4', '9']\n",
            "\n",
            "========================================\n",
            "19th target: ['8', '1', '너', '0', '3', '6', '1']\n",
            "19th predicted: ['6', '1', '나', '0', '3', '6', '1']\n",
            "\n",
            "========================================\n",
            "20th target: ['2', '2', '노', '6', '5', '5', '7']\n",
            "20th predicted: ['2', '2', '도', '6', '5', '5', '7']\n",
            "\n",
            "========================================\n",
            "21th target: ['4', '9', '더', '7', '1', '1', '0']\n",
            "21th predicted: ['4', '9', '더', '7', '1', '1', '0']\n",
            "\n",
            "========================================\n",
            "22th target: ['5', '0', '더', '8', '1', '5', '7']\n",
            "22th predicted: ['5', '0', '더', '8', '1', '5', '7']\n",
            "\n",
            "========================================\n",
            "23th target: ['0', '9', '머', '5', '5', '4', '0']\n",
            "23th predicted: ['0', '9', '라', '5', '5', '4', '0']\n",
            "\n",
            "========================================\n",
            "24th target: ['3', '1', '로', '2', '6', '3', '6']\n",
            "24th predicted: ['3', '1', '로', '2', '6', '3', '6']\n",
            "\n",
            "========================================\n",
            "25th target: ['6', '7', '주', '2', '7', '7', '2']\n",
            "25th predicted: ['6', '7', '조', '3', '7', '7', '2']\n",
            "\n",
            "========================================\n",
            "26th target: ['6', '6', '구', '5', '7', '1', '4']\n",
            "26th predicted: ['6', '6', '구', '5', '7', '1', '4']\n",
            "\n",
            "========================================\n",
            "27th target: ['3', '5', '서', '5', '9', '7', '5']\n",
            "27th predicted: ['3', '5', '거', '5', '9', '7', '5']\n",
            "\n",
            "========================================\n",
            "28th target: ['1', '8', '보', '1', '9', '2', '3']\n",
            "28th predicted: ['1', '8', '보', '1', '9', '2', '3']\n",
            "\n",
            "========================================\n",
            "29th target: ['3', '6', '모', '8', '4', '5', '6']\n",
            "29th predicted: ['3', '6', '모', '8', '4', '5', '6']\n",
            "\n",
            "========================================\n",
            "30th target: ['1', '5', '나', '2', '4', '5', '5']\n",
            "30th predicted: ['1', '5', '더', '2', '4', '5', '5']\n",
            "\n",
            "========================================\n",
            "31th target: ['4', '0', '거', '2', '1', '0', '5']\n",
            "31th predicted: ['1', '0', '러', '3', '4', '0', '5']\n",
            "\n",
            "========================================\n",
            "32th target: ['1', '6', '거', '0', '8', '7', '2']\n",
            "32th predicted: ['1', '6', '거', '0', '8', '7', '2']\n",
            "\n",
            "========================================\n",
            "33th target: ['5', '5', '버', '8', '0', '9', '2']\n",
            "33th predicted: ['5', '5', '버', '8', '0', '9', '3']\n",
            "\n",
            "========================================\n",
            "34th target: ['6', '6', '고', '7', '1', '5', '1']\n",
            "34th predicted: ['6', '6', '고', '7', '1', '5', '1']\n",
            "\n",
            "========================================\n",
            "35th target: ['3', '0', '소', '2', '2', '0', '3']\n",
            "35th predicted: ['3', '0', '소', '2', '2', '0', '3']\n",
            "\n",
            "========================================\n",
            "36th target: ['3', '1', '로', '2', '5', '5', '9']\n",
            "36th predicted: ['3', '1', '로', '2', '5', '5', '9']\n",
            "\n",
            "========================================\n",
            "37th target: ['1', '2', '두', '6', '1', '1', '3']\n",
            "37th predicted: ['1', '2', '도', '6', '1', '1', '3']\n",
            "\n",
            "========================================\n",
            "38th target: ['4', '5', '누', '3', '7', '9', '1']\n",
            "38th predicted: ['4', '5', '누', '3', '7', '9', '1']\n",
            "\n",
            "========================================\n",
            "39th target: ['6', '1', '누', '9', '4', '2', '7']\n",
            "39th predicted: ['6', '1', '누', '9', '4', '2', '7']\n",
            "\n",
            "========================================\n",
            "40th target: ['3', '8', '호', '6', '0', '0', '2']\n",
            "40th predicted: ['3', '8', '저', '6', '0', '0', '2']\n",
            "\n",
            "========================================\n",
            "41th target: ['2', '6', '무', '6', '6', '8', '7']\n",
            "41th predicted: ['2', '6', '무', '6', '6', '8', '7']\n",
            "\n",
            "========================================\n",
            "42th target: ['6', '8', '주', '2', '1', '5', '0']\n",
            "42th predicted: ['6', '8', '도', '2', '1', '5', '0']\n",
            "\n",
            "========================================\n",
            "43th target: ['4', '0', '고', '2', '5', '2', '3']\n",
            "43th predicted: ['4', '0', '가', '2', '5', '2', '3']\n",
            "\n",
            "========================================\n",
            "44th target: ['0', '3', '부', '4', '5', '6', '8']\n",
            "44th predicted: ['0', '3', '부', '4', '5', '6', '8']\n",
            "\n",
            "========================================\n",
            "45th target: ['2', '1', '우', '6', '1', '7', '0']\n",
            "45th predicted: ['2', '1', '두', '6', '1', '7', '0']\n",
            "\n",
            "========================================\n",
            "46th target: ['3', '8', '마', '2', '4', '4', '5']\n",
            "46th predicted: ['3', '8', '어', '2', '4', '4', '5']\n",
            "\n",
            "========================================\n",
            "47th target: ['1', '8', '어', '1', '1', '2', '2']\n",
            "47th predicted: ['1', '5', '어', '1', '1', '2', '2']\n",
            "\n",
            "========================================\n",
            "48th target: ['2', '9', '머', '3', '2', '3', '8']\n",
            "48th predicted: ['2', '9', '머', '3', '2', '3', '8']\n",
            "\n",
            "========================================\n",
            "49th target: ['6', '8', '버', '0', '8', '6', '5']\n",
            "49th predicted: ['6', '8', '버', '0', '8', '6', '5']\n",
            "\n",
            "========================================\n",
            "50th target: ['1', '5', '도', '0', '7', '7', '3']\n",
            "50th predicted: ['1', '5', '도', '0', '7', '7', '3']\n",
            "\n",
            "========================================\n",
            "51th target: ['5', '8', '어', '8', '1', '7', '4']\n",
            "51th predicted: ['5', '8', '어', '8', '1', '7', '4']\n",
            "\n",
            "========================================\n",
            "52th target: ['1', '8', '라', '8', '2', '2', '1']\n",
            "52th predicted: ['1', '8', '라', '8', '2', '2', '1']\n",
            "\n",
            "========================================\n",
            "53th target: ['4', '6', '무', '3', '1', '7', '0']\n",
            "53th predicted: ['4', '6', '모', '3', '1', '7', '0']\n",
            "\n",
            "========================================\n",
            "54th target: ['2', '6', '어', '4', '2', '2', '9']\n",
            "54th predicted: ['2', '6', '마', '4', '2', '2', '9']\n",
            "\n",
            "========================================\n",
            "55th target: ['2', '4', '저', '8', '8', '7', '2']\n",
            "55th predicted: ['2', '4', '모', '8', '0', '7', '3']\n",
            "\n",
            "========================================\n",
            "56th target: ['9', '7', '소', '2', '4', '7', '4']\n",
            "56th predicted: ['6', '7', '소', '2', '4', '7', '4']\n",
            "\n",
            "========================================\n",
            "57th target: ['6', '7', '루', '4', '8', '3', '5']\n",
            "57th predicted: ['6', '7', '루', '4', '8', '3', '5']\n",
            "\n",
            "========================================\n",
            "58th target: ['2', '1', '도', '5', '4', '3', '1']\n",
            "58th predicted: ['2', '1', '누', '3', '1', '4', '1']\n",
            "\n",
            "========================================\n",
            "59th target: ['5', '5', '루', '9', '8', '3', '9']\n",
            "59th predicted: ['5', '5', '루', '9', '8', '3', '9']\n",
            "\n",
            "========================================\n",
            "60th target: ['6', '2', '머', '4', '0', '9', '6']\n",
            "60th predicted: ['6', '2', '머', '4', '0', '9', '6']\n",
            "\n",
            "========================================\n",
            "61th target: ['5', '0', '러', '9', '1', '3', '7']\n",
            "61th predicted: ['5', '0', '러', '9', '1', '2', '7']\n",
            "\n",
            "========================================\n"
          ],
          "name": "stdout"
        },
        {
          "output_type": "stream",
          "text": [
            "13it [00:00, 36.68it/s]"
          ],
          "name": "stderr"
        },
        {
          "output_type": "stream",
          "text": [
            "62th target: ['3', '1', '로', '2', '0', '0', '4']\n",
            "62th predicted: ['3', '1', '루', '2', '0', '0', '4']\n",
            "\n",
            "========================================\n",
            "63th target: ['6', '2', '머', '4', '9', '5', '7']\n",
            "63th predicted: ['6', '2', '머', '4', '9', '5', '7']\n",
            "\n",
            "========================================\n",
            "64th target: ['4', '2', '누', '7', '4', '0', '9']\n",
            "64th predicted: ['4', '2', '로', '7', '6', '0', '9']\n",
            "\n",
            "========================================\n",
            "65th target: ['6', '8', '버', '0', '9', '9', '5']\n",
            "65th predicted: ['3', '8', '버', '0', '9', '9', '5']\n",
            "\n",
            "========================================\n",
            "66th target: ['5', '7', '고', '4', '5', '1', '1']\n",
            "66th predicted: ['5', '7', '고', '4', '5', '1', '1']\n",
            "\n",
            "========================================\n",
            "67th target: ['3', '4', '노', '9', '3', '1', '9']\n",
            "67th predicted: ['3', '4', '노', '9', '3', '1', '9']\n",
            "\n",
            "========================================\n",
            "68th target: ['2', '4', '저', '8', '8', '9', '7']\n",
            "68th predicted: ['2', '4', '저', '8', '8', '9', '7']\n",
            "\n",
            "========================================\n",
            "69th target: ['7', '5', '하', '7', '2', '3', '6']\n",
            "69th predicted: ['2', '5', '오', '7', '2', '3', '6']\n",
            "\n",
            "========================================\n",
            "70th target: ['6', '1', '고', '3', '7', '7', '5']\n",
            "70th predicted: ['8', '1', '고', '3', '7', '7', '5']\n",
            "\n",
            "========================================\n",
            "71th target: ['2', '6', '소', '6', '6', '1', '9']\n",
            "71th predicted: ['2', '6', '소', '6', '6', '1', '9']\n",
            "\n",
            "========================================\n",
            "72th target: ['0', '6', '러', '9', '2', '0', '1']\n",
            "72th predicted: ['0', '6', '어', '9', '2', '0', '1']\n",
            "\n",
            "========================================\n",
            "73th target: ['2', '6', '머', '3', '9', '4', '3']\n",
            "73th predicted: ['2', '6', '마', '3', '9', '4', '3']\n",
            "\n",
            "========================================\n",
            "74th target: ['2', '8', '도', '5', '1', '0', '0']\n",
            "74th predicted: ['2', '8', '도', '5', '1', '0', '0']\n",
            "\n",
            "========================================\n",
            "75th target: ['2', '0', '무', '5', '7', '7', '4']\n",
            "75th predicted: ['2', '0', '무', '5', '7', '7', '4']\n",
            "\n",
            "========================================\n",
            "76th target: ['0', '9', '러', '2', '3', '7', '6']\n",
            "76th predicted: ['0', '9', '라', '2', '3', '7', '6']\n",
            "\n",
            "========================================\n",
            "77th target: ['5', '2', '구', '3', '9', '3', '5']\n",
            "77th predicted: ['5', '3', '구', '3', '9', '3', '5']\n",
            "\n",
            "========================================\n",
            "78th target: ['3', '3', '어', '2', '0', '7', '5']\n",
            "78th predicted: ['3', '3', '하', '2', '0', '7', '5']\n",
            "\n",
            "========================================\n",
            "79th target: ['5', '1', '조', '7', '7', '6', '4']\n",
            "79th predicted: ['5', '1', '조', '7', '7', '6', '4']\n",
            "\n",
            "========================================\n",
            "80th target: ['2', '6', '거', '0', '8', '1', '8']\n",
            "80th predicted: ['2', '6', '거', '0', '8', '1', '8']\n",
            "\n",
            "========================================\n",
            "81th target: ['4', '9', '가', '9', '2', '6', '7']\n",
            "81th predicted: ['4', '9', '고', '9', '2', '6', '7']\n",
            "\n",
            "========================================\n",
            "82th target: ['6', '5', '저', '5', '0', '4', '5']\n",
            "82th predicted: ['6', '5', '저', '8', '0', '4', '5']\n",
            "\n",
            "========================================\n",
            "83th target: ['7', '8', '수', '4', '9', '8', '8']\n",
            "83th predicted: ['1', '8', '주', '4', '9', '8', '8']\n",
            "\n",
            "========================================\n",
            "84th target: ['3', '0', '저', '8', '1', '5', '5']\n",
            "84th predicted: ['3', '0', '어', '8', '1', '5', '5']\n",
            "\n",
            "========================================\n",
            "85th target: ['2', '2', '러', '0', '9', '2', '3']\n",
            "85th predicted: ['2', '2', '라', '0', '9', '2', '3']\n",
            "\n",
            "========================================\n",
            "86th target: ['1', '0', '누', '5', '0', '5', '3']\n",
            "86th predicted: ['1', '0', '주', '5', '0', '5', '3']\n",
            "\n",
            "========================================\n",
            "87th target: ['4', '6', '하', '4', '0', '9', '5']\n",
            "87th predicted: ['4', '6', '다', '4', '0', '9', '5']\n",
            "\n",
            "========================================\n",
            "88th target: ['1', '5', '주', '8', '4', '4', '1']\n",
            "88th predicted: ['1', '2', '누', '8', '1', '4', '1']\n",
            "\n",
            "========================================\n",
            "89th target: ['2', '2', '주', '3', '8', '4', '4']\n",
            "89th predicted: ['2', '2', '주', '3', '8', '4', '4']\n",
            "\n",
            "========================================\n",
            "90th target: ['2', '5', '부', '3', '1', '9', '4']\n",
            "90th predicted: ['2', '5', '더', '3', '1', '9', '4']\n",
            "\n",
            "========================================\n",
            "91th target: ['0', '1', '두', '6', '1', '7', '3']\n",
            "91th predicted: ['0', '1', '두', '6', '1', '7', '3']\n",
            "\n",
            "========================================\n",
            "92th target: ['8', '0', '러', '6', '1', '5', '4']\n",
            "92th predicted: ['8', '0', '하', '6', '1', '5', '4']\n",
            "\n",
            "========================================\n",
            "93th target: ['6', '7', '주', '9', '1', '1', '3']\n",
            "93th predicted: ['6', '7', '도', '9', '1', '1', '3']\n",
            "\n",
            "========================================\n",
            "94th target: ['4', '3', '도', '9', '2', '7', '7']\n",
            "94th predicted: ['4', '3', '모', '9', '2', '7', '7']\n",
            "\n",
            "========================================\n",
            "95th target: ['4', '1', '조', '0', '8', '2', '0']\n",
            "95th predicted: ['4', '1', '구', '0', '8', '2', '0']\n",
            "\n",
            "========================================\n",
            "96th target: ['6', '1', '오', '4', '9', '5', '6']\n",
            "96th predicted: ['6', '1', '오', '4', '9', '5', '6']\n",
            "\n",
            "========================================\n",
            "97th target: ['3', '5', '버', '2', '6', '5', '5']\n",
            "97th predicted: ['3', '5', '버', '2', '6', '5', '5']\n",
            "\n",
            "========================================\n",
            "98th target: ['1', '3', '거', '0', '2', '7', '0']\n",
            "98th predicted: ['1', '3', '거', '0', '2', '7', '0']\n",
            "\n",
            "========================================\n",
            "99th target: ['4', '8', '조', '5', '2', '4', '3']\n",
            "99th predicted: ['4', '8', '조', '5', '3', '4', '3']\n",
            "\n",
            "========================================\n",
            "100th target: ['6', '0', '소', '9', '0', '5', '7']\n",
            "100th predicted: ['6', '0', '소', '9', '0', '5', '7']\n",
            "\n",
            "========================================\n",
            "101th target: ['2', '7', '모', '0', '4', '2', '5']\n",
            "101th predicted: ['2', '7', '모', '0', '4', '2', '5']\n",
            "\n",
            "========================================\n",
            "102th target: ['5', '5', '호', '1', '6', '7', '4']\n",
            "102th predicted: ['5', '5', '호', '1', '6', '7', '4']\n",
            "\n",
            "========================================\n",
            "103th target: ['3', '6', '모', '8', '3', '5', '1']\n",
            "103th predicted: ['3', '6', '모', '8', '3', '5', '1']\n",
            "\n",
            "========================================\n",
            "104th target: ['8', '6', '마', '0', '7', '2', '4']\n",
            "104th predicted: ['8', '6', '마', '0', '7', '2', '4']\n",
            "\n",
            "========================================\n",
            "105th target: ['4', '0', '호', '6', '8', '5', '7']\n",
            "105th predicted: ['4', '8', '무', '6', '8', '5', '7']\n",
            "\n",
            "========================================\n",
            "106th target: ['4', '5', '도', '6', '3', '4', '0']\n",
            "106th predicted: ['4', '5', '도', '6', '3', '4', '0']\n",
            "\n",
            "========================================\n",
            "107th target: ['7', '2', '버', '5', '7', '1', '4']\n",
            "107th predicted: ['1', '2', '보', '5', '7', '1', '4']\n",
            "\n",
            "========================================\n",
            "108th target: ['0', '4', '가', '2', '6', '7', '8']\n",
            "108th predicted: ['0', '4', '가', '2', '6', '7', '8']\n",
            "\n",
            "========================================\n",
            "109th target: ['1', '5', '노', '4', '4', '3', '6']\n",
            "109th predicted: ['1', '5', '도', '4', '4', '3', '6']\n",
            "\n",
            "========================================\n",
            "110th target: ['0', '5', '도', '7', '0', '6', '7']\n",
            "110th predicted: ['0', '5', '도', '7', '0', '6', '7']\n",
            "\n",
            "========================================\n",
            "111th target: ['2', '6', '소', '6', '6', '9', '5']\n",
            "111th predicted: ['2', '6', '소', '6', '6', '9', '5']\n",
            "\n",
            "========================================\n",
            "112th target: ['4', '5', '어', '1', '5', '0', '5']\n",
            "112th predicted: ['4', '5', '버', '1', '5', '0', '5']\n",
            "\n",
            "========================================\n",
            "113th target: ['2', '7', '나', '4', '1', '3', '7']\n",
            "113th predicted: ['2', '7', '나', '4', '1', '3', '7']\n",
            "\n",
            "========================================\n",
            "114th target: ['0', '9', '무', '3', '0', '5', '4']\n",
            "114th predicted: ['0', '9', '우', '3', '0', '5', '4']\n",
            "\n",
            "========================================\n",
            "115th target: ['6', '6', '수', '0', '5', '2', '3']\n",
            "115th predicted: ['6', '6', '누', '0', '3', '2', '3']\n",
            "\n",
            "========================================\n",
            "116th target: ['3', '3', '모', '3', '9', '7', '9']\n",
            "116th predicted: ['3', '3', '모', '3', '9', '7', '9']\n",
            "\n",
            "========================================\n",
            "117th target: ['5', '4', '오', '4', '3', '1', '6']\n",
            "117th predicted: ['5', '4', '오', '4', '3', '1', '6']\n",
            "\n",
            "========================================\n",
            "118th target: ['3', '7', '루', '5', '8', '0', '0']\n",
            "118th predicted: ['3', '7', '루', '5', '8', '0', '0']\n",
            "\n",
            "========================================\n",
            "119th target: ['6', '2', '소', '0', '5', '1', '8']\n",
            "119th predicted: ['6', '2', '소', '0', '5', '1', '8']\n",
            "\n",
            "========================================\n",
            "120th target: ['4', '3', '어', '0', '3', '6', '6']\n",
            "120th predicted: ['4', '3', '머', '0', '3', '6', '6']\n",
            "\n",
            "========================================\n",
            "121th target: ['4', '3', '러', '1', '5', '4', '8']\n",
            "121th predicted: ['4', '3', '러', '1', '5', '4', '8']\n",
            "\n",
            "========================================\n",
            "122th target: ['4', '0', '라', '7', '0', '7', '5']\n",
            "122th predicted: ['4', '0', '하', '7', '0', '7', '5']\n",
            "\n",
            "========================================\n",
            "123th target: ['4', '8', '오', '8', '3', '5', '9']\n",
            "123th predicted: ['4', '8', '오', '8', '3', '5', '9']\n",
            "\n",
            "========================================\n",
            "124th target: ['3', '6', '도', '7', '3', '7', '5']\n",
            "124th predicted: ['3', '6', '주', '1', '3', '7', '5']\n",
            "\n",
            "========================================\n",
            "125th target: ['2', '3', '거', '8', '5', '1', '6']\n",
            "125th predicted: ['2', '3', '거', '8', '5', '1', '6']\n",
            "\n",
            "========================================\n",
            "126th target: ['1', '2', '어', '7', '7', '9', '7']\n",
            "126th predicted: ['1', '2', '어', '7', '7', '9', '7']\n",
            "\n",
            "========================================\n",
            "127th target: ['6', '9', '누', '8', '4', '2', '9']\n",
            "127th predicted: ['6', '9', '누', '8', '4', '2', '9']\n",
            "\n",
            "========================================\n"
          ],
          "name": "stdout"
        },
        {
          "output_type": "stream",
          "text": [
            "21it [00:00, 40.50it/s]"
          ],
          "name": "stderr"
        },
        {
          "output_type": "stream",
          "text": [
            "128th target: ['5', '2', '가', '8', '0', '4', '4']\n",
            "128th predicted: ['5', '2', '거', '8', '0', '4', '4']\n",
            "\n",
            "========================================\n",
            "129th target: ['4', '7', '부', '7', '0', '7', '0']\n",
            "129th predicted: ['4', '7', '부', '7', '0', '7', '0']\n",
            "\n",
            "========================================\n",
            "130th target: ['3', '4', '소', '4', '9', '7', '4']\n",
            "130th predicted: ['3', '4', '소', '4', '9', '7', '4']\n",
            "\n",
            "========================================\n",
            "131th target: ['4', '8', '오', '2', '2', '2', '4']\n",
            "131th predicted: ['4', '8', '오', '2', '2', '2', '4']\n",
            "\n",
            "========================================\n",
            "132th target: ['3', '6', '루', '1', '4', '1', '2']\n",
            "132th predicted: ['3', '6', '루', '1', '3', '1', '2']\n",
            "\n",
            "========================================\n",
            "133th target: ['7', '3', '라', '7', '6', '7', '3']\n",
            "133th predicted: ['9', '3', '러', '7', '6', '7', '3']\n",
            "\n",
            "========================================\n",
            "134th target: ['5', '3', '거', '1', '3', '7', '5']\n",
            "134th predicted: ['5', '3', '러', '1', '3', '7', '5']\n",
            "\n",
            "========================================\n",
            "135th target: ['1', '9', '라', '0', '9', '1', '6']\n",
            "135th predicted: ['1', '9', '라', '0', '9', '1', '6']\n",
            "\n",
            "========================================\n",
            "136th target: ['3', '1', '우', '3', '0', '6', '9']\n",
            "136th predicted: ['3', '1', '우', '3', '0', '6', '9']\n",
            "\n",
            "========================================\n",
            "137th target: ['5', '3', '우', '1', '6', '6', '8']\n",
            "137th predicted: ['5', '3', '오', '1', '6', '6', '8']\n",
            "\n",
            "========================================\n",
            "138th target: ['1', '5', '호', '1', '5', '9', '0']\n",
            "138th predicted: ['1', '5', '도', '1', '5', '9', '0']\n",
            "\n",
            "========================================\n",
            "139th target: ['2', '5', '거', '9', '4', '9', '9']\n",
            "139th predicted: ['2', '5', '거', '9', '4', '9', '9']\n",
            "\n",
            "========================================\n",
            "140th target: ['5', '1', '두', '2', '1', '5', '9']\n",
            "140th predicted: ['5', '1', '두', '2', '1', '5', '9']\n",
            "\n",
            "========================================\n",
            "141th target: ['5', '7', '고', '4', '4', '3', '9']\n",
            "141th predicted: ['5', '7', '고', '4', '4', '3', '9']\n",
            "\n",
            "========================================\n",
            "142th target: ['3', '6', '고', '4', '6', '5', '3']\n",
            "142th predicted: ['3', '6', '고', '4', '6', '5', '3']\n",
            "\n",
            "========================================\n",
            "143th target: ['3', '0', '거', '0', '3', '5', '5']\n",
            "143th predicted: ['3', '0', '고', '0', '3', '5', '5']\n",
            "\n",
            "========================================\n",
            "144th target: ['5', '8', '소', '0', '3', '0', '7']\n",
            "144th predicted: ['5', '8', '소', '0', '3', '0', '7']\n",
            "\n",
            "========================================\n",
            "145th target: ['1', '0', '무', '1', '5', '9', '0']\n",
            "145th predicted: ['1', '0', '무', '1', '5', '9', '0']\n",
            "\n",
            "========================================\n",
            "146th target: ['3', '1', '구', '2', '3', '9', '0']\n",
            "146th predicted: ['3', '1', '구', '2', '3', '9', '0']\n",
            "\n",
            "========================================\n",
            "147th target: ['5', '1', '고', '9', '2', '7', '0']\n",
            "147th predicted: ['5', '1', '고', '9', '2', '7', '0']\n",
            "\n",
            "========================================\n",
            "148th target: ['0', '4', '하', '0', '4', '9', '3']\n",
            "148th predicted: ['0', '4', '머', '0', '4', '9', '3']\n",
            "\n",
            "========================================\n",
            "149th target: ['1', '6', '부', '8', '2', '1', '2']\n",
            "149th predicted: ['1', '6', '보', '8', '2', '1', '2']\n",
            "\n",
            "========================================\n",
            "150th target: ['1', '6', '마', '9', '7', '3', '1']\n",
            "150th predicted: ['1', '6', '어', '9', '7', '3', '1']\n",
            "\n",
            "========================================\n",
            "151th target: ['2', '2', '가', '7', '1', '6', '8']\n",
            "151th predicted: ['2', '2', '가', '7', '1', '6', '8']\n",
            "\n",
            "========================================\n",
            "152th target: ['2', '9', '조', '8', '0', '2', '5']\n",
            "152th predicted: ['2', '9', '조', '8', '0', '2', '5']\n",
            "\n",
            "========================================\n",
            "153th target: ['3', '7', '루', '0', '3', '4', '6']\n",
            "153th predicted: ['3', '7', '루', '0', '3', '4', '6']\n",
            "\n",
            "========================================\n",
            "154th target: ['6', '5', '러', '3', '0', '6', '5']\n",
            "154th predicted: ['6', '5', '라', '3', '0', '6', '5']\n",
            "\n",
            "========================================\n",
            "155th target: ['8', '3', '나', '9', '2', '2', '4']\n",
            "155th predicted: ['0', '3', '마', '9', '5', '2', '4']\n",
            "\n",
            "========================================\n",
            "156th target: ['5', '8', '수', '7', '0', '1', '8']\n",
            "156th predicted: ['5', '5', '우', '1', '6', '1', '8']\n",
            "\n",
            "========================================\n",
            "157th target: ['6', '3', '노', '6', '2', '1', '5']\n",
            "157th predicted: ['6', '3', '도', '6', '2', '1', '5']\n",
            "\n",
            "========================================\n",
            "158th target: ['1', '8', '라', '2', '8', '7', '2']\n",
            "158th predicted: ['1', '8', '라', '7', '8', '1', '2']\n",
            "\n",
            "========================================\n",
            "159th target: ['5', '8', '두', '9', '0', '6', '2']\n",
            "159th predicted: ['5', '8', '주', '9', '0', '6', '2']\n",
            "\n",
            "========================================\n",
            "160th target: ['6', '5', '구', '8', '3', '8', '1']\n",
            "160th predicted: ['6', '5', '구', '8', '3', '8', '1']\n",
            "\n",
            "========================================\n",
            "161th target: ['3', '5', '로', '2', '2', '4', '9']\n",
            "161th predicted: ['3', '5', '루', '2', '2', '4', '9']\n",
            "\n",
            "========================================\n",
            "162th target: ['6', '7', '러', '4', '2', '5', '9']\n",
            "162th predicted: ['6', '7', '라', '4', '2', '5', '9']\n",
            "\n",
            "========================================\n",
            "acc: 199, accuracy: 0.8968253968253967\n"
          ],
          "name": "stdout"
        },
        {
          "output_type": "stream",
          "text": [
            "\n"
          ],
          "name": "stderr"
        }
      ]
    },
    {
      "cell_type": "markdown",
      "metadata": {
        "id": "BNEeRgJEzrqd",
        "colab_type": "text"
      },
      "source": [
        "#### Conclusion\n",
        "\n",
        "- Image captioning 방법으로 시도했을 때 CNN에서 feature 학습을 잘 못한다.\n",
        "  - 해당 방법은 CNN부분을 pre-trained 네트워크를 사용해야할 것 같다.\n",
        "\n",
        "\n",
        "- Image captioning 대신 multi class 문제로 모델링\n",
        "  - CNN으로 추출한 feature vector를 단어 개수인 7 묶음 잘라서 분류.\n",
        "  - 각각의 data 당 7개의 label을 예측해야 하므로 sequential multi class 문제로 정의\n",
        "\n",
        "\n",
        "- 기존의 CNN구조로 문제를 해결하려했을 때...\n",
        "  - Model이 feature extraction을 잘 못함 -> deep 하게 만들어야 한다.\n",
        "\n",
        "\n",
        "- MobileNet은 작은 image도 매우 deep한 모델로 만들 수 있다.\n",
        "  - 현재 해결하려는 문제의 데이터셋이 작으므로 MobileNet 구조를 이용하였다. (Residual learning은 적용하지 않았다.)\n",
        "\n",
        "\n",
        "- MobileNet의 구조를 그대로 따라하니 엄청난 Overfitting 발생.\n",
        "  - Train acc = 99%, Test acc = 10%\n",
        "\n",
        "  - 이를 해결하기 위해 여러가지 방법 시도\n",
        "    1. classifier를 좀 길게 만들고 Dropout을 적용 -> Feature vector를 그대로 분류하는 데 사용하는 것이라 효과가 좋지 않은 것 같다.\n",
        "    2. Ooptimizer에 Momentum적용 -> 0.1 이상하면 학습 불안정\n",
        "    3. Model의 구조를 Compact하게 바꾸거나, 완전 Deep하게 구성 -> Compact하게 적용하니 어느정도의 overfitting을 피할 수 있었음. 반대로 Deep하게 구성하면 성능 저하\n",
        "\n",
        "\n",
        "- 모델을 Compact하게 구성하고 학습 파라미터를 적게 만들기 위해 flatten과정을 제외\n",
        "  - 대신 Adaptive average pooling으로 간단하게 구성\n",
        "  - compact한 모델에서 dropout을 하나 해주니 성능 향상"
      ]
    },
    {
      "cell_type": "markdown",
      "metadata": {
        "id": "pQGMz6IM9PtQ",
        "colab_type": "text"
      },
      "source": [
        "#### 결과"
      ]
    },
    {
      "cell_type": "code",
      "metadata": {
        "id": "ChkOgcmE9OA-",
        "colab_type": "code",
        "colab": {
          "base_uri": "https://localhost:8080/",
          "height": 53
        },
        "outputId": "ffd6b54c-f17a-44fc-93c5-d2131e904c88"
      },
      "source": [
        "print('Max train accuracy: ', np.max(train_acc_for_epoch))\n",
        "print('Max test accuracy: ', np.max(test_acc_for_epoch))"
      ],
      "execution_count": 18,
      "outputs": [
        {
          "output_type": "stream",
          "text": [
            "Max train accuracy:  0.9984544049459042\n",
            "Max test accuracy:  0.8977072310405643\n"
          ],
          "name": "stdout"
        }
      ]
    },
    {
      "cell_type": "code",
      "metadata": {
        "id": "QRIbqK1lzsdx",
        "colab_type": "code",
        "colab": {
          "base_uri": "https://localhost:8080/",
          "height": 475
        },
        "outputId": "ee887e44-1cec-4636-9745-266221db6129"
      },
      "source": [
        "fig, ax = plt.subplots(2, 1, figsize=(7,7))\n",
        "ax[0].plot(train_acc_for_epoch, color='red')\n",
        "ax[0].plot(test_acc_for_epoch, color='blue')\n",
        "ax[0].set_title('Train vs Test acc')\n",
        "ax[0].set_ylabel('Accuracy')\n",
        "ax[0].set_xlabel('Epoch')\n",
        "\n",
        "ax[1].plot(train_loss_for_epoch, color='red')\n",
        "ax[1].set_title('Train loss')\n",
        "ax[1].set_ylabel('Loss')\n",
        "ax[1].set_xlabel('Epoch')\n"
      ],
      "execution_count": 20,
      "outputs": [
        {
          "output_type": "execute_result",
          "data": {
            "text/plain": [
              "Text(0.5, 0, 'Epoch')"
            ]
          },
          "metadata": {
            "tags": []
          },
          "execution_count": 20
        },
        {
          "output_type": "display_data",
          "data": {
            "image/png": "[encoded data removed]",
            "text/plain": [
              "<Figure size 504x504 with 2 Axes>"
            ]
          },
          "metadata": {
            "tags": [],
            "needs_background": "light"
          }
        }
      ]
    },
    {
      "cell_type": "code",
      "metadata": {
        "id": "yqw4vw18NjlD",
        "colab_type": "code",
        "colab": {}
      },
      "source": [
        ""
      ],
      "execution_count": null,
      "outputs": []
    }
  ]
}