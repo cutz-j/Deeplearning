{
  "nbformat": 4,
  "nbformat_minor": 0,
  "metadata": {
    "colab": {
      "name": "softmax.ipynb",
      "provenance": [],
      "toc_visible": true
    },
    "kernelspec": {
      "name": "python3",
      "display_name": "Python 3"
    }
  },
  "cells": [
    {
      "cell_type": "code",
      "metadata": {
        "id": "tUr-EkO8m_uV",
        "colab_type": "code",
        "colab": {
          "base_uri": "https://localhost:8080/",
          "height": 35
        },
        "outputId": "3ee7fa24-a2fa-4a57-c519-aeb2217c20e1"
      },
      "source": [
        "from google.colab import drive\n",
        "from keras.datasets import mnist\n",
        "import random\n",
        "import numpy as np\n",
        "import matplotlib.pyplot as plt"
      ],
      "execution_count": 1,
      "outputs": [
        {
          "output_type": "stream",
          "text": [
            "Using TensorFlow backend.\n"
          ],
          "name": "stderr"
        }
      ]
    },
    {
      "cell_type": "code",
      "metadata": {
        "tags": [
          "pdf-ignore"
        ],
        "id": "1HyhnDQkm_ua",
        "colab_type": "code",
        "colab": {}
      },
      "source": [
        "%matplotlib inline\n",
        "plt.rcParams['figure.figsize'] = (10.0, 8.0) # set default size of plots\n",
        "plt.rcParams['image.interpolation'] = 'nearest'\n",
        "plt.rcParams['image.cmap'] = 'gray'\n",
        "\n",
        "%load_ext autoreload\n",
        "%autoreload 2"
      ],
      "execution_count": 2,
      "outputs": []
    },
    {
      "cell_type": "code",
      "metadata": {
        "tags": [
          "pdf-ignore"
        ],
        "id": "8oTNN7Mqm_ue",
        "colab_type": "code",
        "colab": {
          "base_uri": "https://localhost:8080/",
          "height": 197
        },
        "outputId": "3d4c810e-fdb0-4514-963c-345fc3c321c9"
      },
      "source": [
        "def get_MNIST_data(num_training=58000, num_validation=2000, num_test=1000, num_dev=500):\n",
        "    try:\n",
        "       del X_train, y_train\n",
        "       del X_test, y_test\n",
        "       print('Clear previously loaded data.')\n",
        "    except:\n",
        "       pass\n",
        "\n",
        "    (X_train, y_train), (X_test, y_test) = mnist.load_data()\n",
        "    \n",
        "    # subsample the data\n",
        "    mask = list(range(num_training, num_training + num_validation))\n",
        "    X_val = X_train[mask]\n",
        "    y_val = y_train[mask]\n",
        "    mask = list(range(num_training))\n",
        "    X_train = X_train[mask]\n",
        "    y_train = y_train[mask]\n",
        "    mask = list(range(num_test))\n",
        "    X_test = X_test[mask]\n",
        "    y_test = y_test[mask]\n",
        "    mask = np.random.choice(num_training, num_dev, replace=False)\n",
        "    X_dev = X_train[mask]\n",
        "    y_dev = y_train[mask]\n",
        "    \n",
        "    # Preprocessing: reshape the image data into rows\n",
        "    X_train = np.reshape(X_train, (X_train.shape[0], -1))\n",
        "    X_val = np.reshape(X_val, (X_val.shape[0], -1))\n",
        "    X_test = np.reshape(X_test, (X_test.shape[0], -1))\n",
        "    X_dev = np.reshape(X_dev, (X_dev.shape[0], -1))\n",
        "    \n",
        "    # Normalize the data: subtract the mean image\n",
        "    mean_image = np.mean(X_train, axis = 0)\n",
        "    X_train = X_train - mean_image\n",
        "    X_val = X_val - mean_image\n",
        "    X_test = X_test - mean_image\n",
        "    X_dev = X_dev - mean_image\n",
        "    \n",
        "    # add bias dimension and transform into columns\n",
        "    X_train = np.hstack([X_train, np.ones((X_train.shape[0], 1))])\n",
        "    X_val = np.hstack([X_val, np.ones((X_val.shape[0], 1))])\n",
        "    X_test = np.hstack([X_test, np.ones((X_test.shape[0], 1))])\n",
        "    X_dev = np.hstack([X_dev, np.ones((X_dev.shape[0], 1))])\n",
        "    \n",
        "    return X_train, y_train, X_val, y_val, X_test, y_test, X_dev, y_dev\n",
        "\n",
        "\n",
        "# Invoke the above function to get our data.\n",
        "X_train, y_train, X_val, y_val, X_test, y_test, X_dev, y_dev = get_MNIST_data()\n",
        "print('Train data shape: ', X_train.shape)\n",
        "print('Train labels shape: ', y_train.shape)\n",
        "print('Validation data shape: ', X_val.shape)\n",
        "print('Validation labels shape: ', y_val.shape)\n",
        "print('Test data shape: ', X_test.shape)\n",
        "print('Test labels shape: ', y_test.shape)\n",
        "print('dev data shape: ', X_dev.shape)\n",
        "print('dev labels shape: ', y_dev.shape)"
      ],
      "execution_count": 3,
      "outputs": [
        {
          "output_type": "stream",
          "text": [
            "Downloading data from https://s3.amazonaws.com/img-datasets/mnist.npz\n",
            "11493376/11490434 [==============================] - 2s 0us/step\n",
            "Train data shape:  (58000, 785)\n",
            "Train labels shape:  (58000,)\n",
            "Validation data shape:  (2000, 785)\n",
            "Validation labels shape:  (2000,)\n",
            "Test data shape:  (1000, 785)\n",
            "Test labels shape:  (1000,)\n",
            "dev data shape:  (500, 785)\n",
            "dev labels shape:  (500,)\n"
          ],
          "name": "stdout"
        }
      ]
    },
    {
      "cell_type": "markdown",
      "metadata": {
        "id": "I98Mwi48m_uh",
        "colab_type": "text"
      },
      "source": [
        "## Softmax Classifier"
      ]
    },
    {
      "cell_type": "code",
      "metadata": {
        "id": "SCKuB8vjzmZB",
        "colab_type": "code",
        "colab": {}
      },
      "source": [
        "from builtins import range\n",
        "import numpy as np\n",
        "from random import shuffle\n",
        "from past.builtins import xrange\n",
        "\n",
        "def softmax_loss_naive(W, X, y, reg):\n",
        "    loss = 0.0\n",
        "    dW = np.zeros_like(W)\n",
        "\n",
        "    num_train = X.shape[0]\n",
        "    num_classes = W.shape[1]\n",
        "   \n",
        "    for i in range(num_train):\n",
        "        scores = X[i].dot(W)\n",
        "        scores -= np.max(scores)\n",
        "        \n",
        "        sum_exp_s = np.sum(np.exp(scores))\n",
        "        exp_s = np.exp(scores[y[i]])\n",
        "        \n",
        "        softmax = exp_s / sum_exp_s\n",
        "        loss += -np.log(softmax)\n",
        "        \n",
        "        for j in range(num_classes):\n",
        "            dW[:,j] += np.exp(scores[j])/sum_exp_s * X[i] \n",
        "        dW[:,y[i]] -= (sum_exp_s - exp_s) / sum_exp_s * X[i]\n",
        "        \n",
        "    loss /= num_train\n",
        "    dW /= num_train\n",
        "    \n",
        "    loss += reg*np.sum(W*W)\n",
        "    dW += reg*2*W\n",
        "\n",
        "    return loss, dW\n",
        "\n",
        "\n",
        "def softmax_loss_vectorized(W, X, y, reg):\n",
        "    loss = 0.0\n",
        "    dW = np.zeros_like(W)\n",
        "\n",
        "    num_train = X.shape[0]\n",
        "    scores = X.dot(W)\n",
        "    \n",
        "    softmax = np.exp(scores)/np.exp(scores).sum(axis=1, keepdims=True)\n",
        "    loss = np.sum(-np.log(softmax[np.arange(num_train), y]))\n",
        "    \n",
        "    softmax[np.arange(num_train), y] -= 1\n",
        "    dW = X.T.dot(softmax)\n",
        "    \n",
        "    loss /= num_train\n",
        "    dW /= num_train\n",
        "    \n",
        "    loss += reg*np.sum(W*W)\n",
        "    dW += reg*2*W\n",
        "\n",
        "    return loss, dW"
      ],
      "execution_count": 4,
      "outputs": []
    },
    {
      "cell_type": "markdown",
      "metadata": {
        "id": "2zv8Q9s54cKV",
        "colab_type": "text"
      },
      "source": [
        "## Gradient check"
      ]
    },
    {
      "cell_type": "code",
      "metadata": {
        "id": "wiB_kHri2onP",
        "colab_type": "code",
        "colab": {}
      },
      "source": [
        "from __future__ import print_function\n",
        "from builtins import range\n",
        "from past.builtins import xrange\n",
        "\n",
        "import numpy as np\n",
        "from random import randrange\n",
        "\n",
        "def eval_numerical_gradient(f, x, verbose=True, h=0.00001):\n",
        "    fx = f(x) # evaluate function value at original point\n",
        "    grad = np.zeros_like(x)\n",
        "    # iterate over all indexes in x\n",
        "    it = np.nditer(x, flags=['multi_index'], op_flags=['readwrite'])\n",
        "    while not it.finished:\n",
        "\n",
        "        # evaluate function at x+h\n",
        "        ix = it.multi_index\n",
        "        oldval = x[ix]\n",
        "        x[ix] = oldval + h # increment by h\n",
        "        fxph = f(x) # evalute f(x + h)\n",
        "        x[ix] = oldval - h\n",
        "        fxmh = f(x) # evaluate f(x - h)\n",
        "        x[ix] = oldval # restore\n",
        "\n",
        "        grad[ix] = (fxph - fxmh) / (2 * h)\n",
        "        if verbose:\n",
        "            print(ix, grad[ix])\n",
        "        it.iternext() \n",
        "\n",
        "    return grad\n",
        "\n",
        "\n",
        "def eval_numerical_gradient_array(f, x, df, h=1e-5):\n",
        "    grad = np.zeros_like(x)\n",
        "    it = np.nditer(x, flags=['multi_index'], op_flags=['readwrite'])\n",
        "    while not it.finished:\n",
        "        ix = it.multi_index\n",
        "\n",
        "        oldval = x[ix]\n",
        "        x[ix] = oldval + h\n",
        "        pos = f(x).copy()\n",
        "        x[ix] = oldval - h\n",
        "        neg = f(x).copy()\n",
        "        x[ix] = oldval\n",
        "\n",
        "        grad[ix] = np.sum((pos - neg) * df) / (2 * h)\n",
        "        it.iternext()\n",
        "    return grad\n",
        "\n",
        "\n",
        "def eval_numerical_gradient_blobs(f, inputs, output, h=1e-5):\n",
        "    numeric_diffs = []\n",
        "    for input_blob in inputs:\n",
        "        diff = np.zeros_like(input_blob.diffs)\n",
        "        it = np.nditer(input_blob.vals, flags=['multi_index'],\n",
        "                       op_flags=['readwrite'])\n",
        "        while not it.finished:\n",
        "            idx = it.multi_index\n",
        "            orig = input_blob.vals[idx]\n",
        "\n",
        "            input_blob.vals[idx] = orig + h\n",
        "            f(*(inputs + (output,)))\n",
        "            pos = np.copy(output.vals)\n",
        "            input_blob.vals[idx] = orig - h\n",
        "            f(*(inputs + (output,)))\n",
        "            neg = np.copy(output.vals)\n",
        "            input_blob.vals[idx] = orig\n",
        "\n",
        "            diff[idx] = np.sum((pos - neg) * output.diffs) / (2.0 * h)\n",
        "\n",
        "            it.iternext()\n",
        "        numeric_diffs.append(diff)\n",
        "    return numeric_diffs\n",
        "\n",
        "\n",
        "def eval_numerical_gradient_net(net, inputs, output, h=1e-5):\n",
        "    return eval_numerical_gradient_blobs(lambda *args: net.forward(),\n",
        "                inputs, output, h=h)\n",
        "\n",
        "\n",
        "def grad_check_sparse(f, x, analytic_grad, num_checks=10, h=1e-5):\n",
        "    for i in range(num_checks):\n",
        "        ix = tuple([randrange(m) for m in x.shape])\n",
        "\n",
        "        oldval = x[ix]\n",
        "        x[ix] = oldval + h # increment by h\n",
        "        fxph = f(x) # evaluate f(x + h)\n",
        "        x[ix] = oldval - h # increment by h\n",
        "        fxmh = f(x) # evaluate f(x - h)\n",
        "        x[ix] = oldval # reset\n",
        "\n",
        "        grad_numerical = (fxph - fxmh) / (2 * h)\n",
        "        grad_analytic = analytic_grad[ix]\n",
        "        rel_error = (abs(grad_numerical - grad_analytic) /\n",
        "                    (abs(grad_numerical) + abs(grad_analytic)))\n",
        "        print('numerical: %f analytic: %f, relative error: %e'\n",
        "              %(grad_numerical, grad_analytic, rel_error))"
      ],
      "execution_count": 5,
      "outputs": []
    },
    {
      "cell_type": "markdown",
      "metadata": {
        "id": "phPICssN4hgC",
        "colab_type": "text"
      },
      "source": [
        "## SVM"
      ]
    },
    {
      "cell_type": "code",
      "metadata": {
        "id": "GgUCjGpW4jMs",
        "colab_type": "code",
        "colab": {}
      },
      "source": [
        "from builtins import range\n",
        "import numpy as np\n",
        "from random import shuffle\n",
        "from past.builtins import xrange\n",
        "\n",
        "def svm_loss_naive(W, X, y, reg):\n",
        "    dW = np.zeros(W.shape)\n",
        "\n",
        "    num_classes = W.shape[1]\n",
        "    num_train = X.shape[0]\n",
        "    loss = 0.0\n",
        "    for i in range(num_train):\n",
        "        scores = X[i].dot(W)\n",
        "        correct_class_score = scores[y[i]]\n",
        "        for j in range(num_classes):\n",
        "            if j == y[i]:\n",
        "                continue\n",
        "            margin = scores[j] - correct_class_score + 1\n",
        "            if margin > 0:\n",
        "                loss += margin\n",
        "                dW[:, j] += X[i, :]\n",
        "                dW[:, y[i]] -= X[i, :]\n",
        "\n",
        "    loss /= num_train\n",
        "    dW /= num_train\n",
        "\n",
        "    loss += reg * np.sum(W * W)\n",
        "    dW += 2*reg*W\n",
        "    \n",
        "    return loss, dW\n",
        "\n",
        "\n",
        "\n",
        "def svm_loss_vectorized(W, X, y, reg):\n",
        "    loss = 0.0\n",
        "    dW = np.zeros(W.shape)\n",
        "\n",
        "    scores = np.matmul(X,W)\n",
        "    correct_class_score = scores[range(X.shape[0]),y]\n",
        "    delta = np.ones(scores.shape)\n",
        "    delta[range(X.shape[0]),y] = 0\n",
        "    \n",
        "    margin = np.maximum(0, scores - np.reshape(correct_class_score, (correct_class_score.shape[0],1)) + delta)\n",
        "    loss += np.mean(np.sum(margin, axis=1))\n",
        "    loss += reg * np.sum(W*W)\n",
        "\n",
        "    margin_valid = np.zeros(margin.shape)\n",
        "    margin_valid [margin>0] = 1\n",
        "    margin_valid [range(X.shape[0]), y] = -np.sum(margin_valid, axis=1)\n",
        "    \n",
        "    dW = np.matmul(X.T, margin_valid) / X.shape[0]\n",
        "    dW += 2*reg*W\n",
        "\n",
        "    return loss, dW"
      ],
      "execution_count": 6,
      "outputs": []
    },
    {
      "cell_type": "markdown",
      "metadata": {
        "id": "mWU55o0K4V8V",
        "colab_type": "text"
      },
      "source": [
        "## Linear classifier"
      ]
    },
    {
      "cell_type": "code",
      "metadata": {
        "id": "qQihgRYC4Qhw",
        "colab_type": "code",
        "colab": {}
      },
      "source": [
        "from __future__ import print_function\n",
        "\n",
        "from builtins import range\n",
        "from builtins import object\n",
        "import numpy as np\n",
        "from past.builtins import xrange\n",
        "\n",
        "\n",
        "class LinearClassifier(object):\n",
        "\n",
        "    def __init__(self):\n",
        "        self.W = None\n",
        "\n",
        "    def train(self, X, y, learning_rate, reg, num_iters,\n",
        "              batch_size=200, verbose=False):\n",
        "        num_train, dim = X.shape\n",
        "        num_classes = np.max(y) + 1 \n",
        "        if self.W is None:\n",
        "            self.W = 0.001 * np.random.randn(dim, num_classes)\n",
        "\n",
        "        loss_history = []\n",
        "        for it in range(num_iters):\n",
        "            X_batch = None\n",
        "            y_batch = None\n",
        "\n",
        "            idxs = np.random.choice(num_train, batch_size)\n",
        "            X_batch = X[idxs]\n",
        "            y_batch = y[idxs]\n",
        "\n",
        "            loss, grad = self.loss(X_batch, y_batch, reg)\n",
        "            loss_history.append(loss)\n",
        "\n",
        "            self.W -= learning_rate * grad\n",
        "\n",
        "            if verbose and it % 100 == 0:\n",
        "                print('iteration %d / %d: loss %f' % (it, num_iters, loss))\n",
        "\n",
        "        return loss_history\n",
        "\n",
        "    def predict(self, X):\n",
        "        y_pred = np.zeros(X.shape[0])\n",
        "\n",
        "        y_pred = np.argmax(np.dot(X, self.W), axis=1)\n",
        "\n",
        "        return y_pred\n",
        "\n",
        "    def loss(self, X_batch, y_batch, reg):\n",
        "        pass\n",
        "\n",
        "class LinearSVM(LinearClassifier):\n",
        "    def loss(self, X_batch, y_batch, reg):\n",
        "        return svm_loss_vectorized(self.W, X_batch, y_batch, reg)\n",
        "\n",
        "\n",
        "class Softmax(LinearClassifier):\n",
        "    def loss(self, X_batch, y_batch, reg):\n",
        "        return softmax_loss_vectorized(self.W, X_batch, y_batch, reg)"
      ],
      "execution_count": 7,
      "outputs": []
    },
    {
      "cell_type": "code",
      "metadata": {
        "id": "3uj_xLjbm_ui",
        "colab_type": "code",
        "colab": {
          "base_uri": "https://localhost:8080/",
          "height": 53
        },
        "outputId": "9cb84812-7c98-457c-8d0e-f33f31a83d97"
      },
      "source": [
        "import time\n",
        "\n",
        "W = np.random.randn(785, 10) * 0.0001\n",
        "loss, grad = softmax_loss_naive(W, X_dev, y_dev, 0.0)\n",
        "\n",
        "print('loss: %f' % loss)\n",
        "print('sanity check: %f' % (-np.log(0.1)))"
      ],
      "execution_count": 8,
      "outputs": [
        {
          "output_type": "stream",
          "text": [
            "loss: 2.347953\n",
            "sanity check: 2.302585\n"
          ],
          "name": "stdout"
        }
      ]
    },
    {
      "cell_type": "code",
      "metadata": {
        "id": "PUeoocxqm_um",
        "colab_type": "code",
        "colab": {
          "base_uri": "https://localhost:8080/",
          "height": 377
        },
        "outputId": "260c8799-0327-46e0-8432-782a7cf7afab"
      },
      "source": [
        "loss, grad = softmax_loss_naive(W, X_dev, y_dev, 0.0)\n",
        "\n",
        "f = lambda w: softmax_loss_naive(w, X_dev, y_dev, 0.0)[0]\n",
        "grad_numerical = grad_check_sparse(f, W, grad, 10)\n",
        "\n",
        "loss, grad = softmax_loss_naive(W, X_dev, y_dev, 5e1)\n",
        "f = lambda w: softmax_loss_naive(w, X_dev, y_dev, 5e1)[0]\n",
        "grad_numerical = grad_check_sparse(f, W, grad, 10)"
      ],
      "execution_count": 9,
      "outputs": [
        {
          "output_type": "stream",
          "text": [
            "numerical: 1.484388 analytic: 1.125697, relative error: 1.374249e-01\n",
            "numerical: 0.000005 analytic: -0.000000, relative error: 1.000000e+00\n",
            "numerical: -0.000530 analytic: -0.001843, relative error: 5.530868e-01\n",
            "numerical: -1.243660 analytic: -1.117309, relative error: 5.351679e-02\n",
            "numerical: 2.972946 analytic: 2.581327, relative error: 7.050772e-02\n",
            "numerical: 0.866269 analytic: 0.892201, relative error: 1.474696e-02\n",
            "numerical: -0.000357 analytic: -0.001112, relative error: 5.141834e-01\n",
            "numerical: -5.050780 analytic: -4.384705, relative error: 7.059264e-02\n",
            "numerical: 0.000888 analytic: -0.000186, relative error: 1.000000e+00\n",
            "numerical: 0.014467 analytic: 0.004321, relative error: 5.400530e-01\n",
            "numerical: 1.091039 analytic: 0.916381, relative error: 8.700627e-02\n",
            "numerical: 0.715573 analytic: 0.663113, relative error: 3.805100e-02\n",
            "numerical: 0.585841 analytic: 0.536607, relative error: 4.386359e-02\n",
            "numerical: 0.013545 analytic: 0.013545, relative error: 1.909094e-10\n",
            "numerical: -0.011286 analytic: -0.011286, relative error: 6.435902e-10\n",
            "numerical: 4.665704 analytic: 4.230202, relative error: 4.895532e-02\n",
            "numerical: -3.584063 analytic: -3.251018, relative error: 4.872586e-02\n",
            "numerical: 6.550114 analytic: 5.912205, relative error: 5.118695e-02\n",
            "numerical: 0.702145 analytic: 0.638778, relative error: 4.725637e-02\n",
            "numerical: -0.017828 analytic: -0.018821, relative error: 2.709265e-02\n"
          ],
          "name": "stdout"
        }
      ]
    },
    {
      "cell_type": "code",
      "metadata": {
        "id": "_b5Ni97ym_uo",
        "colab_type": "code",
        "colab": {
          "base_uri": "https://localhost:8080/",
          "height": 89
        },
        "outputId": "69257121-c1e3-4de5-b5a6-3cef460a049b"
      },
      "source": [
        "tic = time.time()\n",
        "loss_naive, grad_naive = softmax_loss_naive(W, X_dev, y_dev, 0.000005)\n",
        "toc = time.time()\n",
        "print('naive loss: %e computed in %fs' % (loss_naive, toc - tic))\n",
        "\n",
        "tic = time.time()\n",
        "loss_vectorized, grad_vectorized = softmax_loss_vectorized(W, X_dev, y_dev, 0.000005)\n",
        "toc = time.time()\n",
        "print('vectorized loss: %e computed in %fs' % (loss_vectorized, toc - tic))\n",
        "\n",
        "grad_difference = np.linalg.norm(grad_naive - grad_vectorized, ord='fro')\n",
        "print('Loss difference: %f' % np.abs(loss_naive - loss_vectorized))\n",
        "print('Gradient difference: %f' % grad_difference)"
      ],
      "execution_count": 10,
      "outputs": [
        {
          "output_type": "stream",
          "text": [
            "naive loss: 2.347953e+00 computed in 0.061163s\n",
            "vectorized loss: 2.347953e+00 computed in 0.008963s\n",
            "Loss difference: 0.000000\n",
            "Gradient difference: 27.020745\n"
          ],
          "name": "stdout"
        }
      ]
    },
    {
      "cell_type": "code",
      "metadata": {
        "id": "tuning",
        "tags": [
          "code"
        ],
        "colab_type": "code",
        "colab": {
          "base_uri": "https://localhost:8080/",
          "height": 125
        },
        "outputId": "b38876db-7959-4a90-d916-587a8562522f"
      },
      "source": [
        "results = {}\n",
        "best_val = -1\n",
        "best_softmax = None\n",
        "\n",
        "learning_rates = [1e-5, 1e-6]\n",
        "regularization_strengths = [0, 1]\n",
        "\n",
        "for lr in learning_rates:\n",
        "  for reg in regularization_strengths:\n",
        "    softmax = Softmax()\n",
        "    loss = softmax.train(X_train, y_train, learning_rate=lr, reg=reg, \n",
        "                         num_iters=1500, verbose=False)\n",
        "    acc_train = np.mean(y_train == softmax.predict(X_train))\n",
        "    acc_val = np.mean(y_val == softmax.predict(X_val))\n",
        "\n",
        "    results[(lr, reg)] = (acc_train, acc_val)\n",
        "\n",
        "    if acc_val > best_val :\n",
        "      best_val = acc_val\n",
        "      best_softmax = softmax\n",
        "      best_lr = lr\n",
        "      best_reg = reg\n",
        "\n",
        "for lr, reg in sorted(results):\n",
        "    train_accuracy, val_accuracy = results[(lr, reg)]\n",
        "    print('lr %e reg %e train accuracy: %f val accuracy: %f' % (\n",
        "                lr, reg, train_accuracy, val_accuracy))\n",
        "    \n",
        "print('best validation accuracy achieved during cross-validation: %f' % best_val)\n",
        "print('best parameters for best validation accuracy> learning rate:',best_lr,' regularization strengths:',best_reg)"
      ],
      "execution_count": 11,
      "outputs": [
        {
          "output_type": "stream",
          "text": [
            "lr 1.000000e-06 reg 0.000000e+00 train accuracy: 0.882552 val accuracy: 0.922500\n",
            "lr 1.000000e-06 reg 1.000000e+00 train accuracy: 0.882207 val accuracy: 0.926000\n",
            "lr 1.000000e-05 reg 0.000000e+00 train accuracy: 0.914086 val accuracy: 0.940500\n",
            "lr 1.000000e-05 reg 1.000000e+00 train accuracy: 0.914207 val accuracy: 0.944500\n",
            "best validation accuracy achieved during cross-validation: 0.944500\n",
            "best parameters for best validation accuracy> learning rate: 1e-05  regularization strengths: 1\n"
          ],
          "name": "stdout"
        }
      ]
    },
    {
      "cell_type": "code",
      "metadata": {
        "id": "test",
        "colab_type": "code",
        "colab": {
          "base_uri": "https://localhost:8080/",
          "height": 35
        },
        "outputId": "94c2060d-4c7b-4700-8744-bd624807e72f"
      },
      "source": [
        "y_test_pred = best_softmax.predict(X_test)\n",
        "test_accuracy = np.mean(y_test == y_test_pred)\n",
        "print('softmax on raw pixels final test set accuracy: %f' % (test_accuracy, ))"
      ],
      "execution_count": 12,
      "outputs": [
        {
          "output_type": "stream",
          "text": [
            "softmax on raw pixels final test set accuracy: 0.902000\n"
          ],
          "name": "stdout"
        }
      ]
    },
    {
      "cell_type": "code",
      "metadata": {
        "id": "hB99qQjDm_uy",
        "colab_type": "code",
        "colab": {
          "base_uri": "https://localhost:8080/",
          "height": 380
        },
        "outputId": "82df5030-5a1a-4703-ee80-48f1df055ccf"
      },
      "source": [
        "w = best_softmax.W[:-1,:]\n",
        "w = w.reshape(28, 28, 10)\n",
        "\n",
        "w_min, w_max = np.min(w), np.max(w)\n",
        "\n",
        "classes = ['0', '1', '2', '3', '4', '5', '6', '7', '8', '9']\n",
        "for i in range(10):\n",
        "    plt.subplot(2, 5, i + 1)\n",
        "    \n",
        "    wimg = 255.0 * (w[:, :, i].squeeze() - w_min) / (w_max - w_min)\n",
        "    plt.imshow(wimg.astype('uint8'))\n",
        "    plt.axis('off')\n",
        "    plt.title(classes[i])"
      ],
      "execution_count": 13,
      "outputs": [
        {
          "output_type": "display_data",
          "data": {
            "image/png": "[encoded data removed]",
            "text/plain": [
              "<Figure size 720x576 with 10 Axes>"
            ]
          },
          "metadata": {
            "tags": [],
            "needs_background": "light"
          }
        }
      ]
    }
  ]
}