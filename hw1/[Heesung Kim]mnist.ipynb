{
  "nbformat": 4,
  "nbformat_minor": 0,
  "metadata": {
    "colab": {
      "name": "HW_MNIST.ipynb",
      "provenance": []
    },
    "kernelspec": {
      "name": "python3",
      "display_name": "Python 3"
    },
    "accelerator": "GPU"
  },
  "cells": [
    {
      "cell_type": "code",
      "metadata": {
        "id": "JqXYTYB_O3b0",
        "colab_type": "code",
        "colab": {
          "base_uri": "https://localhost:8080/",
          "height": 457
        },
        "outputId": "74750fe7-9c13-4053-c999-3f517529c9a8"
      },
      "source": [
        "%matplotlib inline\n",
        "\n",
        "import numpy as np                   \n",
        "import matplotlib.pyplot as plt     \n",
        "import random                     \n",
        "\n",
        "from keras.datasets import mnist    \n",
        "from keras.models import Sequential \n",
        "\n",
        "from keras.layers.core import Dense, Dropout, Activation\n",
        "from keras.utils import np_utils                      \n",
        "\n",
        "B=400# Batch size\n",
        "E=10 # num of epochs\n",
        "\n",
        "(X_train, y_train), (X_test, y_test) = mnist.load_data() ## MNIST data 6만, 1만\n",
        "\n",
        "X_train = X_train.reshape(60000, 784) # 784길이 벡터로 바꿈\n",
        "X_test = X_test.reshape(10000, 784)   # 784길이 벡터로 바꿈\n",
        "\n",
        "X_train = X_train.astype('float32')  \n",
        "X_test = X_test.astype('float32')\n",
        "\n",
        "X_train /= 255                        # 0~1 사이 값으로 normalize\n",
        "X_test /= 255\n",
        "\n",
        "nb_classes = 10 # 숫자 10개임\n",
        "\n",
        "Y_train = np_utils.to_categorical(y_train, nb_classes)\n",
        "Y_test = np_utils.to_categorical(y_test, nb_classes)\n",
        "\n",
        "model = Sequential()\n",
        "## first hidden layer\n",
        "model.add(Dense(512, input_shape=(784,)))  # input : 길이784 벡터\n",
        "model.add(Activation('relu')) ## fired -> 0\n",
        "model.add(Dropout(0.2))\n",
        "\n",
        "## second hiden layer\n",
        "model.add(Dense(512))\n",
        "model.add(Activation('relu'))\n",
        "model.add(Dropout(0.2))\n",
        "\n",
        "##output layer\n",
        "model.add(Dense(10))  #결과 : 10개!\n",
        "model.add(Activation('softmax'))  #가능한 결과에 대해 확률분포\n",
        "\n",
        "## compile\n",
        "model.compile(loss='categorical_crossentropy', optimizer='adam', metrics=['accuracy'])\n",
        "\n",
        "## train\n",
        "model.fit(X_train, Y_train,\n",
        "          batch_size=B, epochs=E,\n",
        "          verbose=1)  \n",
        "## evaluate\n",
        "print('Batch_Size=', B)\n",
        "print('Epochs=', E)\n",
        "score = model.evaluate(X_test, Y_test)\n",
        "print('loss:', score[0])\n",
        "print('acc:', score[1])"
      ],
      "execution_count": 3,
      "outputs": [
        {
          "output_type": "stream",
          "text": [
            "Epoch 1/10\n",
            "60000/60000 [==============================] - 1s 13us/step - loss: 0.3382 - accuracy: 0.9008\n",
            "Epoch 2/10\n",
            "60000/60000 [==============================] - 1s 11us/step - loss: 0.1262 - accuracy: 0.9621\n",
            "Epoch 3/10\n",
            "60000/60000 [==============================] - 1s 11us/step - loss: 0.0838 - accuracy: 0.9738\n",
            "Epoch 4/10\n",
            "60000/60000 [==============================] - 1s 11us/step - loss: 0.0633 - accuracy: 0.9801\n",
            "Epoch 5/10\n",
            "60000/60000 [==============================] - 1s 11us/step - loss: 0.0482 - accuracy: 0.9848\n",
            "Epoch 6/10\n",
            "60000/60000 [==============================] - 1s 11us/step - loss: 0.0418 - accuracy: 0.9860\n",
            "Epoch 7/10\n",
            "60000/60000 [==============================] - 1s 12us/step - loss: 0.0331 - accuracy: 0.9898\n",
            "Epoch 8/10\n",
            "60000/60000 [==============================] - 1s 11us/step - loss: 0.0291 - accuracy: 0.9906\n",
            "Epoch 9/10\n",
            "60000/60000 [==============================] - 1s 11us/step - loss: 0.0243 - accuracy: 0.9922\n",
            "Epoch 10/10\n",
            "60000/60000 [==============================] - 1s 11us/step - loss: 0.0225 - accuracy: 0.9925\n",
            "Batch_Size= 400\n",
            "Epochs= 10\n",
            "10000/10000 [==============================] - 1s 58us/step\n",
            "loss: 0.05950631806223864\n",
            "acc: 0.9836999773979187\n"
          ],
          "name": "stdout"
        }
      ]
    }
  ]
}