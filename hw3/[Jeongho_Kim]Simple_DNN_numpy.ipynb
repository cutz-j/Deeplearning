{
  "nbformat": 4,
  "nbformat_minor": 0,
  "metadata": {
    "colab": {
      "name": "DNN_numpy",
      "provenance": [],
      "collapsed_sections": []
    },
    "kernelspec": {
      "name": "python3",
      "display_name": "Python 3"
    }
  },
  "cells": [
    {
      "cell_type": "code",
      "metadata": {
        "id": "qP9xKbDtVXQn",
        "colab_type": "code",
        "colab": {}
      },
      "source": [
        "data_file = open(\"gdrive/My Drive/DL_study/3_week/mnist_train.csv\", \"r\") \n",
        "training_data = data_file.readlines()\n",
        "data_file.close()\n",
        "\n",
        "test_data_file = open(\"gdrive/My Drive/DL_study/3_week/mnist_test.csv\", \"r\")\n",
        "test_data = test_data_file.readlines()\n",
        "test_data_file.close()"
      ],
      "execution_count": 1,
      "outputs": []
    },
    {
      "cell_type": "code",
      "metadata": {
        "id": "7USCN2yEWljD",
        "colab_type": "code",
        "colab": {
          "base_uri": "https://localhost:8080/",
          "height": 53
        },
        "outputId": "0d31abb0-9baf-4756-8776-b0fac4271b75"
      },
      "source": [
        "print(\"num train data : {}\".format(len(training_data)))\n",
        "print(\"num test data : {}\".format(len(test_data)))"
      ],
      "execution_count": 3,
      "outputs": [
        {
          "output_type": "stream",
          "text": [
            "num train data : 60000\n",
            "num test data : 10000\n"
          ],
          "name": "stdout"
        }
      ]
    },
    {
      "cell_type": "code",
      "metadata": {
        "id": "7Z5CxiirVZDp",
        "colab_type": "code",
        "colab": {
          "base_uri": "https://localhost:8080/",
          "height": 283
        },
        "outputId": "a084be1f-e9bd-4a8d-db0c-f99c2daf7517"
      },
      "source": [
        "import matplotlib.pyplot as plt\n",
        "import numpy as np\n",
        "\n",
        "t = np.asfarray(training_data[0].split(\",\"))\n",
        "print(t.shape)\n",
        "n = t[1:].reshape(28,28)\n",
        "\n",
        "plt.imshow(n, cmap='gray')\n",
        "plt.show()"
      ],
      "execution_count": 4,
      "outputs": [
        {
          "output_type": "stream",
          "text": [
            "(785,)\n"
          ],
          "name": "stdout"
        },
        {
          "output_type": "display_data",
          "data": {
            "image/png": "[encoded data removed]",
            "text/plain": [
              "<Figure size 432x288 with 1 Axes>"
            ]
          },
          "metadata": {
            "tags": [],
            "needs_background": "light"
          }
        }
      ]
    },
    {
      "cell_type": "code",
      "metadata": {
        "id": "ITkeekJuYecR",
        "colab_type": "code",
        "colab": {
          "base_uri": "https://localhost:8080/",
          "height": 35
        },
        "outputId": "96d7a799-a29f-4925-8109-ff60ba1f8f99"
      },
      "source": [
        "asd = np.array([1,2,3,4], ndmin=2)\n",
        "print(asd)"
      ],
      "execution_count": 5,
      "outputs": [
        {
          "output_type": "stream",
          "text": [
            "[[1 2 3 4]]\n"
          ],
          "name": "stdout"
        }
      ]
    },
    {
      "cell_type": "code",
      "metadata": {
        "id": "DkPNqu-NVZwE",
        "colab_type": "code",
        "colab": {}
      },
      "source": [
        "class DeepNeuralNetwork:\n",
        "    def __init__(self, input_layers, hidden_layer_1, hidden_layer_2, hidden_layer_3, output_layers):\n",
        "        self.inputs = input_layers\n",
        "        self.hidden_1 = hidden_layer_1\n",
        "        self.hidden_2 = hidden_layer_2\n",
        "        self.hidden_3 = hidden_layer_3\n",
        "        self.outputs = output_layers\n",
        "        self.test_data = None\n",
        "\n",
        "        #weight initialized by normal distribution\n",
        "        self.w_ih = np.random.randn(self.inputs, self.hidden_1) / np.sqrt(self.inputs/2)\n",
        "        self.w_hh_12 = np.random.randn(self.hidden_1, self.hidden_2) / np.sqrt(self.hidden_1/2)\n",
        "        self.w_hh_23 = np.random.randn(self.hidden_2, self.hidden_3) / np.sqrt(self.hidden_2/2)\n",
        "        self.w_ho = np.random.randn(self.hidden_3, self.outputs) / np.sqrt(self.hidden_3/2)\n",
        "\n",
        "    def predict(self, x):\n",
        "        data = self.normalize(np.asfarray(x.split(',')))\n",
        "\n",
        "        data = data[1:]\n",
        "\n",
        "        #3 DNN_layer & softmax\n",
        "        layer_1 = self.sigmoid(np.dot(data, self.w_ih))\n",
        "        layer_2 = self.tanh(np.dot(layer_1, self.w_hh_12))\n",
        "        layer_3 = self.sigmoid(np.dot(layer_2, self.w_hh_23))\n",
        "        output = self.softmax(np.dot(layer_3, self.w_ho))\n",
        "        return output\n",
        "\n",
        "    def train(self, training_data, learning_rate, epoch):\n",
        "        for ech in range(0, epoch):\n",
        "            for i, x in enumerate(training_data):\n",
        "                target = np.array(np.zeros(self.outputs) + learning_rate, ndmin=2)\n",
        "                target[0][int(x[0])] = 1-learning_rate\n",
        "                #since training data is from csv file\n",
        "                x = self.normalize(np.asfarray(x.split(\",\")))\n",
        "\n",
        "                # feed-forward propagation\n",
        "                layer1 = self.sigmoid(np.dot(x[1:], self.w_ih))\n",
        "                layer2 = self.tanh(np.dot(layer1, self.w_hh_12))\n",
        "                layer3 = self.sigmoid(np.dot(layer2, self.w_hh_23))\n",
        "                layer4 = self.softmax(np.dot(layer3, self.w_ho))\n",
        "\n",
        "                # back propagation\n",
        "                layer4_reverse = (target - layer4)\n",
        "                layer3_reverse = layer4_reverse.dot(self.w_ho.T) * (layer3 * (1 - layer3))\n",
        "                layer2_reverse = layer3_reverse.dot(self.w_hh_23.T) * (1 - layer2) * (1 + layer2)\n",
        "                layer1_reverse = layer2_reverse.dot(self.w_hh_12.T) * (layer1 * (1 - layer1))\n",
        "\n",
        "                # weight update by using SGD\n",
        "                self.w_ho = self.w_ho + learning_rate * layer4_reverse.T.dot(np.array(layer3, ndmin=2)).T\n",
        "                self.w_hh_23 = self.w_hh_23 + learning_rate * layer3_reverse.T.dot(np.array(layer2, ndmin=2)).T\n",
        "                self.w_hh_12 = self.w_hh_12 + learning_rate * layer2_reverse.T.dot(np.array(layer1, ndmin=2)).T\n",
        "                self.w_ih = self.w_ih + learning_rate * layer1_reverse.T.dot(np.array(x[1:], ndmin=2)).T\n",
        "\n",
        "                if i % 10000 == 0 :\n",
        "                    self.print_accuracy()\n",
        "\n",
        "    def print_accuracy(self):\n",
        "        matched = 0\n",
        "\n",
        "        for x in self.test_data:\n",
        "            label = int(x[0])\n",
        "            predicted = np.argmax(self.predict(x))\n",
        "            if label == predicted :\n",
        "                matched = matched + 1\n",
        "        print('TEST accuracy : {0}'.format(matched/len(self.test_data)))\n",
        "\n",
        "    #sigmoid\n",
        "    def sigmoid(self, x):\n",
        "        return 1.0/(1.0 + np.exp(-x))\n",
        "\n",
        "    #feature scalingnormalize \n",
        "    def normalize(self, x):\n",
        "        return (x / 255.0) * 0.99 + 0.01\n",
        "    \n",
        "    #tanh\n",
        "    def tanh(self, x):\n",
        "        return (np.exp(x) - np.exp(-x))/(np.exp(x) + np.exp(-x))\n",
        "        \n",
        "    #softmax\n",
        "    def softmax(self, x):\n",
        "        e_x = np.exp(x - np.max(x))\n",
        "        return e_x / e_x.sum()"
      ],
      "execution_count": 6,
      "outputs": []
    },
    {
      "cell_type": "code",
      "metadata": {
        "id": "RwRJhjrcWKI1",
        "colab_type": "code",
        "colab": {
          "base_uri": "https://localhost:8080/",
          "height": 1000
        },
        "outputId": "81fd0459-3938-4f76-ed00-728a4165818f"
      },
      "source": [
        "network = DeepNeuralNetwork(784, 100, 100, 100, 10)\n",
        "network.test_data = test_data\n",
        "network.train(training_data, 0.01, 10)"
      ],
      "execution_count": 7,
      "outputs": [
        {
          "output_type": "stream",
          "text": [
            "TEST accuracy : 0.1135\n",
            "TEST accuracy : 0.8563\n",
            "TEST accuracy : 0.8776\n",
            "TEST accuracy : 0.8673\n",
            "TEST accuracy : 0.8932\n",
            "TEST accuracy : 0.9181\n",
            "TEST accuracy : 0.9162\n",
            "TEST accuracy : 0.9232\n",
            "TEST accuracy : 0.9249\n",
            "TEST accuracy : 0.8819\n",
            "TEST accuracy : 0.9247\n",
            "TEST accuracy : 0.9326\n",
            "TEST accuracy : 0.9403\n",
            "TEST accuracy : 0.9399\n",
            "TEST accuracy : 0.9358\n",
            "TEST accuracy : 0.8904\n",
            "TEST accuracy : 0.9437\n",
            "TEST accuracy : 0.9456\n",
            "TEST accuracy : 0.954\n",
            "TEST accuracy : 0.954\n",
            "TEST accuracy : 0.9488\n",
            "TEST accuracy : 0.937\n",
            "TEST accuracy : 0.9536\n",
            "TEST accuracy : 0.9528\n",
            "TEST accuracy : 0.9592\n",
            "TEST accuracy : 0.9579\n",
            "TEST accuracy : 0.9553\n",
            "TEST accuracy : 0.9477\n",
            "TEST accuracy : 0.9565\n",
            "TEST accuracy : 0.957\n",
            "TEST accuracy : 0.9588\n",
            "TEST accuracy : 0.96\n",
            "TEST accuracy : 0.9587\n",
            "TEST accuracy : 0.9541\n",
            "TEST accuracy : 0.9601\n",
            "TEST accuracy : 0.9598\n",
            "TEST accuracy : 0.9604\n",
            "TEST accuracy : 0.9632\n",
            "TEST accuracy : 0.9598\n",
            "TEST accuracy : 0.9583\n",
            "TEST accuracy : 0.9637\n",
            "TEST accuracy : 0.9608\n",
            "TEST accuracy : 0.9605\n",
            "TEST accuracy : 0.965\n",
            "TEST accuracy : 0.9604\n",
            "TEST accuracy : 0.9609\n",
            "TEST accuracy : 0.9659\n",
            "TEST accuracy : 0.9616\n",
            "TEST accuracy : 0.9616\n",
            "TEST accuracy : 0.9668\n",
            "TEST accuracy : 0.9622\n",
            "TEST accuracy : 0.9636\n",
            "TEST accuracy : 0.9665\n",
            "TEST accuracy : 0.9622\n",
            "TEST accuracy : 0.9624\n",
            "TEST accuracy : 0.9675\n",
            "TEST accuracy : 0.9636\n",
            "TEST accuracy : 0.9662\n",
            "TEST accuracy : 0.9674\n",
            "TEST accuracy : 0.963\n"
          ],
          "name": "stdout"
        }
      ]
    },
    {
      "cell_type": "code",
      "metadata": {
        "id": "LZjzvpBbXdhI",
        "colab_type": "code",
        "colab": {}
      },
      "source": [
        ""
      ],
      "execution_count": null,
      "outputs": []
    }
  ]
}