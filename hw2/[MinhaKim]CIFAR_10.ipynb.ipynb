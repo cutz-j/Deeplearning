{
  "nbformat": 4,
  "nbformat_minor": 0,
  "metadata": {
    "colab": {
      "name": "top1top5_week2.ipynb",
      "provenance": [],
      "collapsed_sections": []
    },
    "kernelspec": {
      "name": "python3",
      "display_name": "Python 3"
    }
  },
  "cells": [
    {
      "cell_type": "code",
      "metadata": {
        "id": "ZTpCTPRsfV5k",
        "colab_type": "code",
        "colab": {}
      },
      "source": [
        "from google.colab import drive\n",
        "drive.mount('./gdrive')"
      ],
      "execution_count": null,
      "outputs": []
    },
    {
      "cell_type": "code",
      "metadata": {
        "id": "MI8YvF8mn5Z0",
        "colab_type": "code",
        "colab": {}
      },
      "source": [
        "import tensorflow as tf\n",
        "import numpy as np\n",
        "from keras.layers import Flatten,Dense,Conv2D,MaxPooling2D,Dropout,BatchNormalization\n",
        "from keras import Sequential\n",
        "from keras.datasets import cifar10"
      ],
      "execution_count": null,
      "outputs": []
    },
    {
      "cell_type": "code",
      "metadata": {
        "id": "eK-B-RXzcHpv",
        "colab_type": "code",
        "colab": {
          "base_uri": "https://localhost:8080/",
          "height": 73
        },
        "outputId": "fcb84f28-3cfc-4dbf-a6ea-01ca5acec63a"
      },
      "source": [
        "(t_data, t_lab), (test_data, test_lab) = cifar10.load_data()\n",
        "t_data = t_data/255.0\n",
        "test_data=test_data/255.0\n",
        "print (\"Training data:\")\n",
        "print (\"Number of examples: \", X_train.shape[0])\n",
        "print (\"Number of examples:\", X_test.shape[0])"
      ],
      "execution_count": 56,
      "outputs": [
        {
          "output_type": "stream",
          "text": [
            "Training data:\n",
            "Number of examples:  50000\n",
            "Number of examples: 10000\n"
          ],
          "name": "stdout"
        }
      ]
    },
    {
      "cell_type": "code",
      "metadata": {
        "id": "CO-QCSandnqU",
        "colab_type": "code",
        "colab": {}
      },
      "source": [
        "# mnist = tf.keras.datasets.fashion_mnist\n",
        "# (t_data, t_lab), (test_data, test_lab) = mnist.load_data()"
      ],
      "execution_count": null,
      "outputs": []
    },
    {
      "cell_type": "markdown",
      "metadata": {
        "id": "vHcI8eVz8LDK",
        "colab_type": "text"
      },
      "source": [
        "Create Model-4layers"
      ]
    },
    {
      "cell_type": "code",
      "metadata": {
        "id": "T2jG2k7Q81ag",
        "colab_type": "code",
        "colab": {}
      },
      "source": [
        "\n",
        "model = Sequential([\n",
        "                    # Flatten(input_shape=(28,28)),\n",
        "                    Conv2D(32, (3,3), activation='relu',input_shape=(32,32,3)),\n",
        "                    BatchNormalization(),\n",
        "                    Conv2D(32, (3,3), activation='relu',input_shape=(32,32,3)),\n",
        "                    BatchNormalization(),\n",
        "                    MaxPooling2D((2,2)),\n",
        "                    Dropout(0.3),\n",
        "                    Flatten(input_shape=(32,32)),\n",
        "                    Dense(128, activation='relu'),\n",
        "                    Dense(10, activation='softmax')\n",
        "\n",
        "])\n",
        "\n",
        "model.compile(optimizer='adam',\n",
        "              loss='sparse_categorical_crossentropy',\n",
        "              metrics=['accuracy'])\n"
      ],
      "execution_count": null,
      "outputs": []
    },
    {
      "cell_type": "code",
      "metadata": {
        "id": "I_GisPAS9nSy",
        "colab_type": "code",
        "colab": {}
      },
      "source": [
        "# t_data = np.expand_dims(t_data, axis=3)\n",
        "t_data.reshape(50000,32,32,3)\n",
        "print(t_data.shape)\n",
        "model.fit(t_data, t_lab, epochs=9)\n",
        "from keras.models import load_model"
      ],
      "execution_count": null,
      "outputs": []
    },
    {
      "cell_type": "code",
      "metadata": {
        "id": "OEhPBSjhFwPR",
        "colab_type": "code",
        "colab": {}
      },
      "source": [
        "\n",
        "model.save('model_top1top2.h5')\n",
        "\n",
        "test_loss, test_acc = model.evaluate(t_data, t_lab, verbose=2)\n",
        "print(test_acc)"
      ],
      "execution_count": null,
      "outputs": []
    },
    {
      "cell_type": "markdown",
      "metadata": {
        "id": "bozPOZJ9WiSd",
        "colab_type": "text"
      },
      "source": [
        "top1 top5 accuracy"
      ]
    },
    {
      "cell_type": "code",
      "metadata": {
        "id": "jnqIKRD-WlQb",
        "colab_type": "code",
        "colab": {}
      },
      "source": [
        "from keras import backend as K\n",
        "import tensorflow as tf\n",
        "top_val, top_indices = K.get_session().run(tf.nn.top_k(_pred_test, k=5))"
      ],
      "execution_count": null,
      "outputs": []
    },
    {
      "cell_type": "code",
      "metadata": {
        "id": "I7JA3p5YWxyS",
        "colab_type": "code",
        "colab": {}
      },
      "source": [
        "top1 = 0.0\n",
        "top5 = 0.0    \n",
        "class_probs = model.predict(test_data)\n",
        "for i, l in enumerate(test_lab):\n",
        "    class_prob = class_probs[i]\n",
        "    top_values = (-class_prob).argsort()[:5]\n",
        "    if top_values[0] == l:\n",
        "        top1 += 1.0\n",
        "    if np.isin(np.array([l]), top_values):\n",
        "        top5 += 1.0\n",
        "\n",
        "print(\"top1 acc\", top1/len(test_lab))\n",
        "print(\"top5 acc\", top5/len(test_lab))"
      ],
      "execution_count": null,
      "outputs": []
    },
    {
      "cell_type": "code",
      "metadata": {
        "id": "ulGmCgcGY42n",
        "colab_type": "code",
        "colab": {}
      },
      "source": [
        ""
      ],
      "execution_count": null,
      "outputs": []
    }
  ]
}