{
  "nbformat": 4,
  "nbformat_minor": 0,
  "metadata": {
    "colab": {
      "name": "Graph&Confusion Matrix.ipynb",
      "provenance": [],
      "collapsed_sections": []
    },
    "kernelspec": {
      "name": "python3",
      "display_name": "Python 3"
    }
  },
  "cells": [
    {
      "cell_type": "code",
      "metadata": {
        "id": "rV44ReaR3hzy",
        "colab_type": "code",
        "colab": {
          "base_uri": "https://localhost:8080/",
          "height": 125
        },
        "outputId": "a16bf7be-1488-4a92-ec29-5fb097f5f7e7"
      },
      "source": [
        "from google.colab import drive\n",
        "drive.mount('./gdrive')"
      ],
      "execution_count": null,
      "outputs": [
        {
          "output_type": "stream",
          "text": [
            "Go to this URL in a browser: https://accounts.google.com/o/oauth2/auth?client_id=947318989803-6bn6qk8qdgf4n4g3pfee6491hc0brc4i.apps.googleusercontent.com&redirect_uri=urn%3aietf%3awg%3aoauth%3a2.0%3aoob&scope=email%20https%3a%2f%2fwww.googleapis.com%2fauth%2fdocs.test%20https%3a%2f%2fwww.googleapis.com%2fauth%2fdrive%20https%3a%2f%2fwww.googleapis.com%2fauth%2fdrive.photos.readonly%20https%3a%2f%2fwww.googleapis.com%2fauth%2fpeopleapi.readonly&response_type=code\n",
            "\n",
            "Enter your authorization code:\n",
            "··········\n",
            "Mounted at ./gdrive\n"
          ],
          "name": "stdout"
        }
      ]
    },
    {
      "cell_type": "code",
      "metadata": {
        "id": "ye0LRgkUbPq5",
        "colab_type": "code",
        "colab": {}
      },
      "source": [
        "!ls"
      ],
      "execution_count": null,
      "outputs": []
    },
    {
      "cell_type": "code",
      "metadata": {
        "id": "3euXHigubivw",
        "colab_type": "code",
        "colab": {
          "base_uri": "https://localhost:8080/",
          "height": 34
        },
        "outputId": "3c591091-e659-45e4-e237-f9c1cc967d2b"
      },
      "source": [
        "cd gdrive/My Drive/skk_CS231_study/"
      ],
      "execution_count": null,
      "outputs": [
        {
          "output_type": "stream",
          "text": [
            "/content/gdrive/My Drive/skk_CS231_study\n"
          ],
          "name": "stdout"
        }
      ]
    },
    {
      "cell_type": "code",
      "metadata": {
        "id": "rgKXrKnrZpbP",
        "colab_type": "code",
        "colab": {}
      },
      "source": [
        "\n",
        "import tensorflow as tf\n",
        "import numpy as np\n",
        "from keras.layers import Flatten,Dense,Conv2D,MaxPooling2D,Dropout,BatchNormalization\n",
        "from keras import Sequential\n",
        "from keras.datasets import cifar10"
      ],
      "execution_count": null,
      "outputs": []
    },
    {
      "cell_type": "code",
      "metadata": {
        "id": "FjN6q3BveilL",
        "colab_type": "code",
        "colab": {}
      },
      "source": [
        "import torch\n",
        "import os\n",
        "# os.environ['CUDA_VISIBLE_DEVICES'] = '0'\n",
        "import torch.nn as nn\n",
        "from torch.utils.data import Dataset, DataLoader\n",
        "import pandas as pd\n",
        "import numpy as np\n",
        "import torchvision.transforms as transforms\n",
        "import torchvision.datasets as dset\n",
        "# (t_data, t_lab), (test_data, test_lab) = mnist.load_data()"
      ],
      "execution_count": null,
      "outputs": []
    },
    {
      "cell_type": "code",
      "metadata": {
        "id": "ZxJ5B2rEfMCm",
        "colab_type": "code",
        "colab": {}
      },
      "source": [
        "class FashionMnist(Dataset):\n",
        "    def __init__(self, data_path, is_train=True):\n",
        "        filename = os.path.join(data_path, './fashion-mnist_train.csv' if is_train else 'fashion-mnist_test.csv')\n",
        "        assert os.path.exists(filename), 'File not found error'\n",
        "        self.is_train = is_train\n",
        "        self.data = pd.read_csv(filename)\n",
        "        self.data = self.data.sort_values(by=['label']).to_numpy(dtype=np.float32)\n",
        "        self.data_y = self.data[:, 0].astype(np.int)\n",
        "        self.data_x = self.data[:, 1:]\n",
        "        self.data_shape = (1,28,28)\n",
        "        self.transform = transforms.Compose(\n",
        "            [\n",
        "                # transforms.ToPILImage(),\n",
        "                #transforms.ToTensor(),\n",
        "                # transforms.ColorJitter(brightness=0.1, contrast=0.1, hue=0.1),\n",
        "                # # transforms.RandomHorizontalFlip(p=0.5),\n",
        "                # transforms.RandomVerticalFlip(p=0.5),\n",
        "                # transforms.RandomRotation(12),\n",
        "            ]\n",
        "        )\n",
        "\n",
        "    def __len__(self):\n",
        "        return len(self.data_y)\n",
        "\n",
        "    def __getitem__(self, index):\n",
        "        ret_x = np.reshape(self.data_x[index], self.data_shape)\n",
        "        # if self.is_train: # augmentation\n",
        "            # ret_x = self.transform(ret_x)\n",
        "        ret_x = self.transform(ret_x)\n",
        "        ret_y = self.data_y[index]\n",
        "        return {\n",
        "            'data_x': ret_x,\n",
        "            'data_y': ret_y\n",
        "        }"
      ],
      "execution_count": null,
      "outputs": []
    },
    {
      "cell_type": "code",
      "metadata": {
        "id": "OeA-FZNKTF2g",
        "colab_type": "code",
        "colab": {}
      },
      "source": [
        "\n",
        "# Dataset Class\n",
        "\n",
        "\n",
        "# Model Class\n",
        "class ConvBlock(nn.Module):\n",
        "    def __init__(self, in_channel, out_channel):\n",
        "        super(ConvBlock, self).__init__()\n",
        "        self.block = nn.Sequential(\n",
        "            nn.Conv2d(in_channel, out_channel, kernel_size=3, stride=1, padding=1),\n",
        "            nn.BatchNorm2d(out_channel),\n",
        "            nn.ReLU(),\n",
        "            nn.MaxPool2d(kernel_size=2)\n",
        "        )\n",
        "    \n",
        "    def forward(self, tensor):\n",
        "        return self.block(tensor)\n",
        "    \n",
        "class BasicModel(nn.Module):\n",
        "    def __init__(self, in_channel, num_classes):\n",
        "        super(BasicModel, self).__init__()\n",
        "        k = 32\n",
        "        self.block = nn.Sequential(\n",
        "            ConvBlock(in_channel, k),\n",
        "            ConvBlock(k, k*2),\n",
        "            ConvBlock(k*2, k*4),\n",
        "            ConvBlock(k*4, k*2)\n",
        "        )\n",
        "        self.linear = nn.Linear(k*2, num_classes)\n",
        "    \n",
        "    def forward(self, tensor):\n",
        "        out = self.block(tensor)\n",
        "        out = out.view(-1, out.size(1))\n",
        "        return self.linear(out)\n"
      ],
      "execution_count": null,
      "outputs": []
    },
    {
      "cell_type": "code",
      "metadata": {
        "id": "mYdWKMkQ-A9n",
        "colab_type": "code",
        "colab": {}
      },
      "source": [
        "batch_size = 256\n",
        "epoch = 12\n",
        "learning_rate = 0.001\n",
        "in_channel = 1\n",
        "num_classes = 10\n",
        "betas = (0.5, 0.999)\n",
        "\n",
        "device = 'cuda' if torch.cuda.is_available() else 'cpu'\n",
        "train_dataset = FashionMnist('./fashion_mnist', True)\n",
        "test_dataset = FashionMnist('./fashion_mnist', False)\n",
        "train_loader = DataLoader(train_dataset, batch_size=batch_size, drop_last=False, pin_memory=True, num_workers=4, shuffle=True)\n",
        "valid_loader = DataLoader(test_dataset, batch_size=batch_size, drop_last=False, pin_memory=True,\n",
        "                            num_workers=4)\n",
        "model = BasicModel(in_channel=in_channel, num_classes=num_classes).to(device)\n",
        "criterion = nn.CrossEntropyLoss().to(device) # Binary Cross Entropy Loss\n",
        "optim = torch.optim.SGD(model.parameters(), lr=0.001)\n",
        "# optim = torch.optim.Adam(model.parameters(), lr=0.001, betas=betas)\n",
        "avg_loss_list =[]\n",
        "avg_acc_list=[]\n",
        "avg_testloss_list=[]\n",
        "avg_testacc_list=[]"
      ],
      "execution_count": null,
      "outputs": []
    },
    {
      "cell_type": "markdown",
      "metadata": {
        "id": "eS7vsJVga-OH",
        "colab_type": "text"
      },
      "source": [
        "Train"
      ]
    },
    {
      "cell_type": "code",
      "metadata": {
        "id": "5PYaQqZBceAx",
        "colab_type": "code",
        "colab": {
          "base_uri": "https://localhost:8080/",
          "height": 477
        },
        "outputId": "7420fae8-780b-4d25-95e2-ebe2de95ed20"
      },
      "source": [
        "def main():\n",
        "    costs = []\n",
        "    total_batch = len(train_loader)\n",
        "    temp_img=[]\n",
        "    for ep in range(epoch):\n",
        "        # train\n",
        "        avg_loss = 0\n",
        "        avg_acc = 0\n",
        "        temp_cnt= 0\n",
        "        count = 0\n",
        "\n",
        "        total_cost = 0\n",
        "        for i, batch in enumerate(train_loader):\n",
        "            optim.zero_grad()\n",
        "            batch_x = batch['data_x'].to(device)\n",
        "            batch_y = batch['data_y'].to(device)\n",
        "            outputs = model(batch_x)\n",
        "            loss = criterion(outputs, batch_y)\n",
        "            avg_loss += loss.item()\n",
        "            \n",
        "            \n",
        "            # cal accuracy\n",
        "            _, index = torch.max(outputs, 1)\n",
        "            avg_acc += (index == batch_y).sum().float() / len(batch_y)\n",
        "            loss.backward()\n",
        "            optim.step()\n",
        "            \n",
        "            count+=1\n",
        "\n",
        "            temp_cnt +=1\n",
        "            if temp_cnt == 512 : break\n",
        "        avg_loss /= count\n",
        "        avg_acc /= count\n",
        "        avg_loss_list.append(avg_loss)\n",
        "        avg_acc_list.append(avg_acc)\n",
        "\n",
        "        # valid\n",
        "        with torch.no_grad():\n",
        "            avg_test_loss = 0\n",
        "            avg_test_acc = 0\n",
        "\n",
        "            count = 0\n",
        "            model.eval()\n",
        "            print(\"진입7\")\n",
        "            # device = torch.device(device + \":0\")\n",
        "            for i, batch in enumerate(valid_loader):\n",
        "                # print(\"진입8\")\n",
        "                optim.zero_grad()\n",
        "                batch_x = batch['data_x'].to(device)\n",
        "                batch_y = batch['data_y'].to(device)\n",
        "                output = model(batch_x)\n",
        "\n",
        "                loss = criterion(output, batch_y)\n",
        "                avg_test_loss += loss.item()\n",
        "\n",
        "                # cal accuracy\n",
        "                _, index = torch.max(output, 1)\n",
        "                avg_test_acc += (index == batch_y).sum().float() / len(batch_y)\n",
        "                count += 1\n",
        "\n",
        "            avg_test_loss /= count\n",
        "            avg_test_acc /= count\n",
        "            avg_testloss_list.append(avg_test_loss)\n",
        "            avg_testacc_list.append(avg_test_acc)\n",
        "            print(\"[Epoch:%03d] train loss: %.5f train accuracy: %.4f | valid loss: %.5f valid accuracy: %.4f\"\n",
        "                % (ep+1, avg_loss, avg_acc, avg_test_loss, avg_test_acc))\n",
        "            \n",
        "    torch.save(model.state_dict(), './fashion_model')\n",
        "    print(\"Training Done.\")\n",
        "\n",
        "\n",
        "\n",
        "if __name__ == \"__main__\":\n",
        "    main()\n",
        "    "
      ],
      "execution_count": null,
      "outputs": [
        {
          "output_type": "stream",
          "text": [
            "진입7\n",
            "[Epoch:001] train loss: 1.29466 train accuracy: 0.6417 | valid loss: 0.87543 valid accuracy: 0.7600\n",
            "진입7\n",
            "[Epoch:002] train loss: 0.66626 train accuracy: 0.7816 | valid loss: 0.57939 valid accuracy: 0.7874\n",
            "진입7\n",
            "[Epoch:003] train loss: 0.53455 train accuracy: 0.8121 | valid loss: 0.48942 valid accuracy: 0.8289\n",
            "진입7\n",
            "[Epoch:004] train loss: 0.48161 train accuracy: 0.8291 | valid loss: 0.50388 valid accuracy: 0.8092\n",
            "진입7\n",
            "[Epoch:005] train loss: 0.44850 train accuracy: 0.8414 | valid loss: 0.43732 valid accuracy: 0.8434\n",
            "진입7\n",
            "[Epoch:006] train loss: 0.42757 train accuracy: 0.8483 | valid loss: 0.42834 valid accuracy: 0.8450\n",
            "진입7\n",
            "[Epoch:007] train loss: 0.40990 train accuracy: 0.8541 | valid loss: 0.41466 valid accuracy: 0.8511\n",
            "진입7\n",
            "[Epoch:008] train loss: 0.39311 train accuracy: 0.8594 | valid loss: 0.38192 valid accuracy: 0.8649\n",
            "진입7\n",
            "[Epoch:009] train loss: 0.38306 train accuracy: 0.8629 | valid loss: 0.42968 valid accuracy: 0.8343\n",
            "진입7\n",
            "[Epoch:010] train loss: 0.36841 train accuracy: 0.8696 | valid loss: 0.51661 valid accuracy: 0.7976\n",
            "진입7\n",
            "[Epoch:011] train loss: 0.35992 train accuracy: 0.8716 | valid loss: 0.35528 valid accuracy: 0.8721\n",
            "진입7\n",
            "[Epoch:012] train loss: 0.35222 train accuracy: 0.8745 | valid loss: 0.34738 valid accuracy: 0.8751\n",
            "Training Done.\n"
          ],
          "name": "stdout"
        }
      ]
    },
    {
      "cell_type": "markdown",
      "metadata": {
        "id": "_95_D_pWbAe2",
        "colab_type": "text"
      },
      "source": [
        "View Acc/Loss Graph"
      ]
    },
    {
      "cell_type": "code",
      "metadata": {
        "id": "EfrZ3CTmNKAm",
        "colab_type": "code",
        "colab": {
          "base_uri": "https://localhost:8080/",
          "height": 279
        },
        "outputId": "dac174f6-7fbb-4bea-af0a-440af0573491"
      },
      "source": [
        "%matplotlib inline\n",
        "import matplotlib.pyplot as plt\n",
        "\n",
        "fig, loss_ax = plt.subplots()\n",
        "\n",
        "acc_ax = loss_ax.twinx()\n",
        "\n",
        "loss_ax.plot(avg_loss_list, 'y', label='train loss')\n",
        "loss_ax.plot(avg_testloss_list, 'r', label='val loss')\n",
        "\n",
        "acc_ax.plot(avg_acc_list, 'b', label='train acc')\n",
        "acc_ax.plot(avg_testacc_list, 'g', label='val acc')\n",
        "\n",
        "loss_ax.set_xlabel('epoch')\n",
        "loss_ax.set_ylabel('loss')\n",
        "acc_ax.set_ylabel('accuray')\n",
        "\n",
        "loss_ax.legend(loc='upper left')\n",
        "acc_ax.legend(loc='lower left')\n",
        "\n",
        "plt.show()"
      ],
      "execution_count": null,
      "outputs": [
        {
          "output_type": "display_data",
          "data": {
            "image/png": "[encoded data removed]",
            "text/plain": [
              "<Figure size 432x288 with 2 Axes>"
            ]
          },
          "metadata": {
            "tags": [],
            "needs_background": "light"
          }
        }
      ]
    },
    {
      "cell_type": "code",
      "metadata": {
        "id": "WVh831qO9HS9",
        "colab_type": "code",
        "colab": {
          "base_uri": "https://localhost:8080/",
          "height": 34
        },
        "outputId": "723f497e-cb70-41ce-c8cb-ead12d92ad5c"
      },
      "source": [
        "valid_loader_ = DataLoader(test_dataset, batch_size=10000, drop_last=False, pin_memory=True,\n",
        "                            num_workers=4)\n",
        "output=[]\n",
        "origin_pred = []\n",
        "print(valid_loader.dataset.data_y.shape)\n",
        "for _,batch in enumerate(valid_loader_):\n",
        "    \n",
        "    Y_pred = model(batch['data_x'].to(device))\n",
        "    # origin_pred = batch['']\n",
        "    break\n",
        "# print(valid_loader.dataset.data_y)\n",
        "# a = tf.convert_to_tensor(valid_loader.dataset.data_x)\n",
        "# output = model(a)"
      ],
      "execution_count": null,
      "outputs": [
        {
          "output_type": "stream",
          "text": [
            "(10000,)\n"
          ],
          "name": "stdout"
        }
      ]
    },
    {
      "cell_type": "markdown",
      "metadata": {
        "id": "Bom_ZlsEbIgO",
        "colab_type": "text"
      },
      "source": [
        "View Recall / Precision / Micro,Macro Score"
      ]
    },
    {
      "cell_type": "code",
      "metadata": {
        "id": "zL17s68RBMiQ",
        "colab_type": "code",
        "colab": {
          "base_uri": "https://localhost:8080/",
          "height": 52
        },
        "outputId": "27239228-fe00-4d84-a823-c123a5d7718d"
      },
      "source": [
        "_, index = torch.max(Y_pred, 1)\n",
        "print(Y_pred.shape)\n",
        "print(index.shape)"
      ],
      "execution_count": null,
      "outputs": [
        {
          "output_type": "stream",
          "text": [
            "torch.Size([10000, 10])\n",
            "torch.Size([10000])\n"
          ],
          "name": "stdout"
        }
      ]
    },
    {
      "cell_type": "code",
      "metadata": {
        "id": "fRLlpGVD9A1n",
        "colab_type": "code",
        "colab": {
          "base_uri": "https://localhost:8080/",
          "height": 175
        },
        "outputId": "8240ca20-f348-4cc2-e9f7-e85c72119e37"
      },
      "source": [
        "from sklearn.metrics import accuracy_score, recall_score, precision_score, f1_score, fbeta_score\n",
        "\n",
        "print(accuracy_score(valid_loader.dataset.data_y, index))\n",
        "print(recall_score(valid_loader.dataset.data_y, index,average='micro'))\n",
        "print(recall_score(valid_loader.dataset.data_y, index,average='macro',))\t# 0.42\n",
        "print(precision_score(valid_loader.dataset.data_y, index,average='micro'))\n",
        "print(precision_score(valid_loader.dataset.data_y, index,average='macro'))\n",
        "print(f1_score(valid_loader.dataset.data_y, index,average='micro'))\n",
        "print(f1_score(valid_loader.dataset.data_y, index,average='macro'))\n",
        "print(fbeta_score(valid_loader.dataset.data_y,index, beta=5,average='micro'))\n",
        "print(fbeta_score(valid_loader.dataset.data_y,index, beta=5,average='macro'))"
      ],
      "execution_count": null,
      "outputs": [
        {
          "output_type": "stream",
          "text": [
            "0.8751\n",
            "0.8751\n",
            "0.8751000000000001\n",
            "0.8751\n",
            "0.8768311570354872\n",
            "0.8751\n",
            "0.87505022102918\n",
            "0.8751000000000001\n",
            "0.8750327182517855\n"
          ],
          "name": "stdout"
        }
      ]
    },
    {
      "cell_type": "markdown",
      "metadata": {
        "id": "37C0bMPGa5zT",
        "colab_type": "text"
      },
      "source": [
        "Confusion Matrix"
      ]
    },
    {
      "cell_type": "code",
      "metadata": {
        "id": "8qWkpxx9KTYg",
        "colab_type": "code",
        "colab": {}
      },
      "source": [
        "from sklearn.metrics import confusion_matrix, classification_report\n",
        "import itertools\n",
        "\n",
        "def plot_confusion_matrix(cm, classes,\n",
        "                          normalize=False,\n",
        "                          title='Confusion matrix',\n",
        "                          cmap=plt.cm.Blues):\n",
        "    \n",
        "    plt.imshow(cm, interpolation='nearest', cmap=cmap)\n",
        "    plt.title(title)\n",
        "    plt.colorbar()\n",
        "    tick_marks = np.arange(len(classes))\n",
        "    plt.xticks(tick_marks, classes, rotation=90)\n",
        "    plt.yticks(tick_marks, classes)\n",
        "\n",
        "    if normalize:\n",
        "        cm = cm.astype('float') / cm.sum(axis=1)[:, np.newaxis]\n",
        "\n",
        "    thresh = cm.max() / 2.\n",
        "    for i, j in itertools.product(range(cm.shape[0]), range(cm.shape[1])):\n",
        "        plt.text(j, i, cm[i, j],\n",
        "                 horizontalalignment=\"center\",\n",
        "                 color=\"white\" if cm[i, j] > thresh else \"black\")\n",
        "\n",
        "    plt.tight_layout()\n",
        "    plt.ylabel('True label')\n",
        "    plt.xlabel('Predicted label')"
      ],
      "execution_count": null,
      "outputs": []
    },
    {
      "cell_type": "code",
      "metadata": {
        "id": "67505y11KaRF",
        "colab_type": "code",
        "colab": {
          "base_uri": "https://localhost:8080/",
          "height": 329
        },
        "outputId": "0557b9e2-ba87-4f60-ed71-bf55e10ea8ab"
      },
      "source": [
        "# Convert predictions classes to one hot vectors \n",
        "Y_pred_classes = np.argmax(Y_pred.detach().numpy(),axis = 1) \n",
        "# Convert validation observations to one hot vectors\n",
        "print(Y_pred_classes.shape)\n",
        "confusion_mtx = confusion_matrix(valid_loader.dataset.data_y, Y_pred_classes) \n",
        "# plot the confusion matrix\n",
        "plot_confusion_matrix(confusion_mtx, \n",
        "            classes = ['T-shirt/Top','Trouser','Pullover','Dress','Coat','Sandal','Shirt','Sneaker','Bag','Ankle Boot'])"
      ],
      "execution_count": null,
      "outputs": [
        {
          "output_type": "stream",
          "text": [
            "(10000,)\n"
          ],
          "name": "stdout"
        },
        {
          "output_type": "display_data",
          "data": {
            "image/png": "[encoded data removed]",
            "text/plain": [
              "<Figure size 432x288 with 2 Axes>"
            ]
          },
          "metadata": {
            "tags": [],
            "needs_background": "light"
          }
        }
      ]
    },
    {
      "cell_type": "markdown",
      "metadata": {
        "id": "jxWw0HBODM4S",
        "colab_type": "text"
      },
      "source": [
        "View Correct img / Incorrect img"
      ]
    },
    {
      "cell_type": "code",
      "metadata": {
        "id": "t8vh7raTC3e8",
        "colab_type": "code",
        "colab": {}
      },
      "source": [
        "# Mapping Classes\n",
        "clothing = {0 : 'T-shirt/top',\n",
        "            1 : 'Trouser',\n",
        "            2 : 'Pullover',\n",
        "            3 : 'Dress',\n",
        "            4 : 'Coat',\n",
        "            5 : 'Sandal',\n",
        "            6 : 'Shirt',\n",
        "            7 : 'Sneaker',\n",
        "            8 : 'Bag',\n",
        "            9 : 'Ankle boot'}"
      ],
      "execution_count": null,
      "outputs": []
    },
    {
      "cell_type": "code",
      "metadata": {
        "id": "Ik48dV2KbScc",
        "colab_type": "code",
        "colab": {}
      },
      "source": [
        "#예측이 정확하게 된 경우의 index 4개만 추출(map 보여주기 위해)\n",
        "correct = []\n",
        "for i in range(len(valid_loader.dataset.data_y)):\n",
        "    if(Y_pred_classes[i] == valid_loader.dataset.data_y[i]):\n",
        "        correct.append(i)\n",
        "    if(len(correct) == 4):\n",
        "        break"
      ],
      "execution_count": null,
      "outputs": []
    },
    {
      "cell_type": "code",
      "metadata": {
        "id": "Rcf_1vMuCSr2",
        "colab_type": "code",
        "colab": {
          "base_uri": "https://localhost:8080/",
          "height": 70
        },
        "outputId": "4d59cb22-4a7c-4852-a258-cb4d5c6488a4"
      },
      "source": [
        "print(Y_pred_classes)\n",
        "print(valid_loader.dataset.data_y)\n",
        "print(correct)"
      ],
      "execution_count": null,
      "outputs": [
        {
          "output_type": "stream",
          "text": [
            "[0 0 0 ... 7 9 9]\n",
            "[0 0 0 ... 9 9 9]\n",
            "[0, 1, 2, 3]\n"
          ],
          "name": "stdout"
        }
      ]
    },
    {
      "cell_type": "code",
      "metadata": {
        "id": "CG-WnS39Cp3k",
        "colab_type": "code",
        "colab": {
          "base_uri": "https://localhost:8080/",
          "height": 641
        },
        "outputId": "e714f4e9-8437-496e-9690-f27abfc20abb"
      },
      "source": [
        "fig, ax = plt.subplots(2,2, figsize=(12,6))\n",
        "fig.set_size_inches(10,10)\n",
        "x_test =valid_loader.dataset.data_x\n",
        "ax[0,0].imshow(x_test[correct[0]].reshape(28,28), cmap='gray')\n",
        "ax[0,0].set_title(\"Predicted Label : \" + str(clothing[Y_pred_classes[correct[0]]]) + \"\\n\"+\"Actual Label : \" + \n",
        "                 str(clothing[valid_loader.dataset.data_y[correct[0]]]))\n",
        "ax[0,1].imshow(x_test[correct[1]].reshape(28,28), cmap='gray')\n",
        "ax[0,1].set_title(\"Predicted Label : \" + str(clothing[Y_pred_classes[correct[1]]]) + \"\\n\"+\"Actual Label : \" + \n",
        "                 str(clothing[valid_loader.dataset.data_y[correct[1]]]))\n",
        "ax[1,0].imshow(x_test[correct[2]].reshape(28,28), cmap='gray')\n",
        "ax[1,0].set_title(\"Predicted Label : \" + str(clothing[Y_pred_classes[correct[2]]]) + \"\\n\"+\"Actual Label : \" + \n",
        "                 str(clothing[valid_loader.dataset.data_y[correct[2]]]))\n",
        "ax[1,1].imshow(x_test[correct[3]].reshape(28,28), cmap='gray')\n",
        "ax[1,1].set_title(\"Predicted Label : \" + str(clothing[Y_pred_classes[correct[3]]]) + \"\\n\"+\"Actual Label : \" + \n",
        "                 str(clothing[valid_loader.dataset.data_y[correct[3]]]))"
      ],
      "execution_count": null,
      "outputs": [
        {
          "output_type": "execute_result",
          "data": {
            "text/plain": [
              "Text(0.5, 1.0, 'Predicted Label : T-shirt/top\\nActual Label : T-shirt/top')"
            ]
          },
          "metadata": {
            "tags": []
          },
          "execution_count": 27
        },
        {
          "output_type": "display_data",
          "data": {
            "image/png": "[encoded data removed]",
            "text/plain": [
              "<Figure size 720x720 with 4 Axes>"
            ]
          },
          "metadata": {
            "tags": [],
            "needs_background": "light"
          }
        }
      ]
    },
    {
      "cell_type": "markdown",
      "metadata": {
        "id": "c_2BmjO3Y_8O",
        "colab_type": "text"
      },
      "source": [
        ""
      ]
    },
    {
      "cell_type": "markdown",
      "metadata": {
        "id": "SEilmAaVTLPU",
        "colab_type": "text"
      },
      "source": [
        ""
      ]
    }
  ]
}